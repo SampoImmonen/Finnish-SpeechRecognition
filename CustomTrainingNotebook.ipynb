{
 "cells": [
  {
   "cell_type": "markdown",
   "id": "fc0e4bda",
   "metadata": {},
   "source": [
    "# Training notebook for Huggingface XLSR-Wav2Vec2 Model\n",
    "## (https://huggingface.co/transformers/model_doc/wav2vec2.html)\n",
    "## Steps\n",
    "1. Data preprocessing and preparation\n",
    "2. Dataset class and dataloader\n",
    "3. Model preparation\n",
    "4. training Loop\n",
    "5. model evaluation with and without language model\n",
    "### Note old script based on (https://huggingface.co/blog/fine-tune-xlsr-wav2vec2)"
   ]
  },
  {
   "cell_type": "markdown",
   "id": "966e01f1",
   "metadata": {},
   "source": [
    "# Step 1 Dataprocessing\n",
    "- Data is assumed to be in csv format with columns (path, sentence)\n",
    "- we have from different sources (listed below)\n",
    "- some preprocessing has already been done for data from different sources"
   ]
  },
  {
   "cell_type": "code",
   "execution_count": 1,
   "id": "73ccca49",
   "metadata": {},
   "outputs": [
    {
     "name": "stdout",
     "output_type": "stream",
     "text": [
      "Training set contains 15920 Samples\n",
      "test set contains 1976 Samples\n"
     ]
    },
    {
     "data": {
      "text/html": [
       "<div>\n",
       "<style scoped>\n",
       "    .dataframe tbody tr th:only-of-type {\n",
       "        vertical-align: middle;\n",
       "    }\n",
       "\n",
       "    .dataframe tbody tr th {\n",
       "        vertical-align: top;\n",
       "    }\n",
       "\n",
       "    .dataframe thead th {\n",
       "        text-align: right;\n",
       "    }\n",
       "</style>\n",
       "<table border=\"1\" class=\"dataframe\">\n",
       "  <thead>\n",
       "    <tr style=\"text-align: right;\">\n",
       "      <th></th>\n",
       "      <th>path</th>\n",
       "      <th>sentence</th>\n",
       "    </tr>\n",
       "  </thead>\n",
       "  <tbody>\n",
       "    <tr>\n",
       "      <th>0</th>\n",
       "      <td>/home/sampo/.cache/huggingface/datasets/downlo...</td>\n",
       "      <td>Mitä nyt tekisimme?</td>\n",
       "    </tr>\n",
       "    <tr>\n",
       "      <th>1</th>\n",
       "      <td>/home/sampo/.cache/huggingface/datasets/downlo...</td>\n",
       "      <td>Äänestämme tämän vuoksi toisin kuin maataloude...</td>\n",
       "    </tr>\n",
       "    <tr>\n",
       "      <th>2</th>\n",
       "      <td>/home/sampo/.cache/huggingface/datasets/downlo...</td>\n",
       "      <td>Rupeatko remmiin, vai et?</td>\n",
       "    </tr>\n",
       "    <tr>\n",
       "      <th>3</th>\n",
       "      <td>/home/sampo/.cache/huggingface/datasets/downlo...</td>\n",
       "      <td>Äänestin näin ollen mietinnön puolesta.</td>\n",
       "    </tr>\n",
       "    <tr>\n",
       "      <th>4</th>\n",
       "      <td>/home/sampo/.cache/huggingface/datasets/downlo...</td>\n",
       "      <td>Kiitos, että tulitte ja opetitte meille viisau...</td>\n",
       "    </tr>\n",
       "  </tbody>\n",
       "</table>\n",
       "</div>"
      ],
      "text/plain": [
       "                                                path  \\\n",
       "0  /home/sampo/.cache/huggingface/datasets/downlo...   \n",
       "1  /home/sampo/.cache/huggingface/datasets/downlo...   \n",
       "2  /home/sampo/.cache/huggingface/datasets/downlo...   \n",
       "3  /home/sampo/.cache/huggingface/datasets/downlo...   \n",
       "4  /home/sampo/.cache/huggingface/datasets/downlo...   \n",
       "\n",
       "                                            sentence  \n",
       "0                                Mitä nyt tekisimme?  \n",
       "1  Äänestämme tämän vuoksi toisin kuin maataloude...  \n",
       "2                          Rupeatko remmiin, vai et?  \n",
       "3            Äänestin näin ollen mietinnön puolesta.  \n",
       "4  Kiitos, että tulitte ja opetitte meille viisau...  "
      ]
     },
     "execution_count": 1,
     "metadata": {},
     "output_type": "execute_result"
    }
   ],
   "source": [
    "from datasets import load_dataset, load_metric\n",
    "import pandas as pd\n",
    "\n",
    "#Set all sources of data\n",
    "commonvoice = \"data/commonvoice/train.csv\"\n",
    "singlespeaker = \"data/singlespeaker/train.csv\"\n",
    "speechcollector = \"data/speechcollector/train.csv\"\n",
    "voxpopuli = \"data/fi/train.csv\"\n",
    "#eduskunta_1 = \"data/eduskunnanpuheet/uudetpuheet/dev-eval/train.csv\"\n",
    "#eduskunta_2 = \"data/eduskunnanpuheet/uudetpuheet/2008-2016set/train.csv\"\n",
    "\n",
    "test1 = \"data/commonvoice/test.csv\"\n",
    "test2 = \"data/eduskunnanpuheet/uudetpuheet/dev-eval/test.csv\"\n",
    "\n",
    "train_df = pd.concat([pd.read_csv(commonvoice), pd.read_csv(singlespeaker), pd.read_csv(speechcollector), pd.read_csv(voxpopuli)])\n",
    "test_df = pd.concat([pd.read_csv(test1), pd.read_csv(test2)])\n",
    "test_small_df = pd.read_csv(test1)\n",
    "\n",
    "print(f\"Training set contains {len(train_df)} Samples\")\n",
    "print(f\"test set contains {len(test_df)} Samples\")\n",
    "train_df.head()"
   ]
  },
  {
   "cell_type": "markdown",
   "id": "c702d6d2",
   "metadata": {},
   "source": [
    "# Remove these specific characters and lower case transcriptions"
   ]
  },
  {
   "cell_type": "code",
   "execution_count": 2,
   "id": "6dcbb3dd",
   "metadata": {},
   "outputs": [
    {
     "data": {
      "text/html": [
       "<div>\n",
       "<style scoped>\n",
       "    .dataframe tbody tr th:only-of-type {\n",
       "        vertical-align: middle;\n",
       "    }\n",
       "\n",
       "    .dataframe tbody tr th {\n",
       "        vertical-align: top;\n",
       "    }\n",
       "\n",
       "    .dataframe thead th {\n",
       "        text-align: right;\n",
       "    }\n",
       "</style>\n",
       "<table border=\"1\" class=\"dataframe\">\n",
       "  <thead>\n",
       "    <tr style=\"text-align: right;\">\n",
       "      <th></th>\n",
       "      <th>path</th>\n",
       "      <th>sentence</th>\n",
       "    </tr>\n",
       "  </thead>\n",
       "  <tbody>\n",
       "    <tr>\n",
       "      <th>0</th>\n",
       "      <td>/home/sampo/.cache/huggingface/datasets/downlo...</td>\n",
       "      <td>mitä nyt tekisimme</td>\n",
       "    </tr>\n",
       "    <tr>\n",
       "      <th>1</th>\n",
       "      <td>/home/sampo/.cache/huggingface/datasets/downlo...</td>\n",
       "      <td>äänestämme tämän vuoksi toisin kuin maataloude...</td>\n",
       "    </tr>\n",
       "    <tr>\n",
       "      <th>2</th>\n",
       "      <td>/home/sampo/.cache/huggingface/datasets/downlo...</td>\n",
       "      <td>rupeatko remmiin vai et</td>\n",
       "    </tr>\n",
       "    <tr>\n",
       "      <th>3</th>\n",
       "      <td>/home/sampo/.cache/huggingface/datasets/downlo...</td>\n",
       "      <td>äänestin näin ollen mietinnön puolesta</td>\n",
       "    </tr>\n",
       "    <tr>\n",
       "      <th>4</th>\n",
       "      <td>/home/sampo/.cache/huggingface/datasets/downlo...</td>\n",
       "      <td>kiitos että tulitte ja opetitte meille viisaut...</td>\n",
       "    </tr>\n",
       "  </tbody>\n",
       "</table>\n",
       "</div>"
      ],
      "text/plain": [
       "                                                path  \\\n",
       "0  /home/sampo/.cache/huggingface/datasets/downlo...   \n",
       "1  /home/sampo/.cache/huggingface/datasets/downlo...   \n",
       "2  /home/sampo/.cache/huggingface/datasets/downlo...   \n",
       "3  /home/sampo/.cache/huggingface/datasets/downlo...   \n",
       "4  /home/sampo/.cache/huggingface/datasets/downlo...   \n",
       "\n",
       "                                            sentence  \n",
       "0                                mitä nyt tekisimme   \n",
       "1  äänestämme tämän vuoksi toisin kuin maataloude...  \n",
       "2                           rupeatko remmiin vai et   \n",
       "3            äänestin näin ollen mietinnön puolesta   \n",
       "4  kiitos että tulitte ja opetitte meille viisaut...  "
      ]
     },
     "execution_count": 2,
     "metadata": {},
     "output_type": "execute_result"
    }
   ],
   "source": [
    "import random\n",
    "import pandas as pd\n",
    "from IPython.display import display, HTML\n",
    "import re\n",
    "chars_to_ignore_regex = '[\\,\\?\\.\\!\\-\\;\\:\\\"\\“\\%\\‘\\”\\�\\'\\...\\…\\–\\é]'\n",
    "\n",
    "def custom_remove_special_characters(sent):\n",
    "    sent = re.sub(chars_to_ignore_regex, '', sent).lower() + \" \"\n",
    "    return sent\n",
    "\n",
    "train_df['sentence'] = train_df['sentence'].apply(custom_remove_special_characters)\n",
    "test_df['sentence'] = test_df['sentence'].apply(custom_remove_special_characters)\n",
    "test_small_df['sentence'] = test_small_df['sentence'].apply(custom_remove_special_characters)\n",
    "\n",
    "train_df.head()"
   ]
  },
  {
   "cell_type": "markdown",
   "id": "32e4c03b",
   "metadata": {},
   "source": [
    "# Create vocabulary of characters in the dataset\n",
    "- (if there are characters you dont want revise the regex in the previous step)"
   ]
  },
  {
   "cell_type": "code",
   "execution_count": 3,
   "id": "0a99b97d",
   "metadata": {},
   "outputs": [
    {
     "name": "stdout",
     "output_type": "stream",
     "text": [
      "{'ä': 0, ' ': 1, 'u': 2, 'v': 3, 'c': 4, 'm': 5, 'p': 6, 'r': 7, 'e': 8, 'k': 9, 'z': 10, 'a': 11, 'b': 12, 't': 13, 'q': 14, 'd': 15, 'w': 16, 's': 17, 'g': 18, 'x': 19, 'l': 20, 'i': 21, 'ö': 22, 'f': 23, 'j': 24, 'å': 25, 'n': 26, 'o': 27, 'y': 28, 'h': 29}\n"
     ]
    }
   ],
   "source": [
    "import itertools\n",
    "\n",
    "def get_chars(df):\n",
    "    return set(itertools.chain(*[list(x) for x in df['sentence'].values]))\n",
    "\n",
    "vocab_list = list(get_chars(train_df).union(get_chars(test_df)))\n",
    "vocab_dict = {v: k for k, v in enumerate(vocab_list)}\n",
    "print(vocab_dict)"
   ]
  },
  {
   "cell_type": "markdown",
   "id": "093735ec",
   "metadata": {},
   "source": [
    "# Add special tokens into the vocab and save"
   ]
  },
  {
   "cell_type": "code",
   "execution_count": 4,
   "id": "5fb69773",
   "metadata": {},
   "outputs": [],
   "source": [
    "vocab_dict[\"|\"] = vocab_dict[\" \"]\n",
    "del vocab_dict[\" \"]\n",
    "\n",
    "vocab_dict[\"[UNK]\"] = len(vocab_dict)\n",
    "vocab_dict[\"[PAD]\"] = len(vocab_dict)\n",
    "\n",
    "#for key in vocab_dict.keys():\n",
    "#    if key != \"[PAD]\":\n",
    "#        vocab_dict[key] +=1\n",
    "\n",
    "import json\n",
    "with open('vocab.json', 'w') as vocab_file:\n",
    "    json.dump(vocab_dict, vocab_file)"
   ]
  },
  {
   "cell_type": "markdown",
   "id": "b5da3076",
   "metadata": {},
   "source": [
    "# Create Hugginface Processor from vocab\n",
    "- Notice that voxpopuli model assumes clips are sampled at 16000Hz\n",
    "- used for preprocess, encode and decode inputs"
   ]
  },
  {
   "cell_type": "code",
   "execution_count": 5,
   "id": "7e525fdc",
   "metadata": {},
   "outputs": [],
   "source": [
    "from transformers import Wav2Vec2CTCTokenizer, Wav2Vec2FeatureExtractor, Wav2Vec2Processor\n",
    "\n",
    "tokenizer = Wav2Vec2CTCTokenizer(\"./vocab.json\", unk_token=\"[UNK]\", pad_token=\"[PAD]\", word_delimiter_token=\"|\")\n",
    "feature_extractor = Wav2Vec2FeatureExtractor(feature_size=1, sampling_rate=16000, padding_value=0.0, do_normalize=True, return_attention_mask=True)\n",
    "processor = Wav2Vec2Processor(feature_extractor=feature_extractor, tokenizer=tokenizer)"
   ]
  },
  {
   "cell_type": "markdown",
   "id": "2a449c7d",
   "metadata": {},
   "source": [
    "# PyTorch Dataset class and Dataloader\n",
    "- default mode loads and resamples audio files on the fly to save RAM\n",
    "- loading on the fly does not slow training much\n",
    "- training samples are sorted according to transcription length to reduce infinities on CTC Loss\n",
    "- If you dont sort the samples remember to change model flag ctc_zero_infinity to True\n",
    "- collate function handles padding and batching\n",
    "- audio files are very memory intensive peak VRAM comsumtion with batch_size = 4 is 18GB"
   ]
  },
  {
   "cell_type": "code",
   "execution_count": 11,
   "id": "84873442",
   "metadata": {},
   "outputs": [],
   "source": [
    "import torch\n",
    "import numpy as np\n",
    "from torch.utils.data import Dataset\n",
    "from torch.utils.data import DataLoader\n",
    "import torchaudio\n",
    "import librosa\n",
    "\n",
    "def resample(audio, source_sr, target_sr = 16000):\n",
    "    audio = librosa.resample(np.asarray(audio), source_sr, target_sr)\n",
    "    return audio\n",
    "\n",
    "\n",
    "class CTCDataset(Dataset):\n",
    "    \"\"\"\n",
    "    Dataset class used for Speech recognition with ctc loss\n",
    "    enables precomputing data as arrays or transforming on the fly\n",
    "    if dataset does not fit into ram\n",
    "    \"\"\"\n",
    "    def __init__(self, dataframe, processor, mode=\"otf\"):\n",
    "        \n",
    "        self.data = dataframe\n",
    "        self.data.sort_values(by=\"sentence\", key=lambda x: x.str.len(), inplace=True, ascending=False)\n",
    "        self.processor = processor\n",
    "        self.mode = mode\n",
    "        if mode!=\"otf\":\n",
    "            raise NotImplemented\n",
    "    \n",
    "    def _processaudio(self, path):\n",
    "        data, sr = torchaudio.load(path)\n",
    "        data = data[0].numpy()\n",
    "        data = resample(data, sr, 16000)\n",
    "        \n",
    "        return data\n",
    "    def __len__(self):\n",
    "        return len(self.data)\n",
    "    \n",
    "    def __getitem__(self, idx):     \n",
    "        if self.mode == 'otf':\n",
    "            sent = self.data.iloc[idx, 1]\n",
    "            data = self._processaudio(self.data.iloc[idx, 0])\n",
    "            return data, sent\n",
    "        \n",
    "    def _precompute(self):\n",
    "        pass\n",
    "    \n",
    "    def reorder_df(self):\n",
    "        pass\n",
    "        \n",
    "    \n",
    "def collate_fn_otf_train(batch):\n",
    "    \"\"\"\n",
    "    collate function used for training and loading audio data on the fly\n",
    "    \"\"\"\n",
    "    \n",
    "    lists = list(zip(*batch))\n",
    "    inputs = processor(lists[0], sampling_rate=16_000, return_tensors=\"pt\", padding=True, pad_to_multiple_of=8)\n",
    "    with processor.as_target_processor():\n",
    "        labels = processor(lists[1], padding=True, return_tensors=\"pt\", pad_to_multiple_of=8).input_ids\n",
    "    return inputs.input_values, inputs.attention_mask, labels\n",
    "\n",
    "def collate_fn_otf(batch):\n",
    "    \"\"\"\n",
    "    collate function used for training and loading audio data on the fly\n",
    "    \"\"\"\n",
    "    \n",
    "    lists = list(zip(*batch))\n",
    "    inputs = processor(lists[0], sampling_rate=16_000, return_tensors=\"pt\", padding=True)\n",
    "    with processor.as_target_processor():\n",
    "        labels = processor(lists[1], padding=True, return_tensors=\"pt\").input_ids\n",
    "    return inputs.input_values, inputs.attention_mask, labels\n",
    "\n",
    "\n",
    "\n",
    "trainset = CTCDataset(train_df, processor)\n",
    "testset = CTCDataset(test_df, processor)\n",
    "testset_small = CTCDataset(test_small_df, processor)\n",
    "\n",
    "trainloader = DataLoader(trainset, batch_size = 4, collate_fn = collate_fn_otf_train, num_workers=8)\n",
    "testloader = DataLoader(testset, batch_size=1, collate_fn = collate_fn_otf, num_workers=4)\n",
    "testloader_small = DataLoader(testset_small, batch_size=1, collate_fn = collate_fn_otf, num_workers=4)"
   ]
  },
  {
   "cell_type": "markdown",
   "id": "ae181cd2",
   "metadata": {},
   "source": [
    "# Load pretrained model from huggingface\n",
    "- currently using voxpopuli (https://github.com/facebookresearch/voxpopuli)"
   ]
  },
  {
   "cell_type": "code",
   "execution_count": 7,
   "id": "5614397c",
   "metadata": {},
   "outputs": [
    {
     "name": "stderr",
     "output_type": "stream",
     "text": [
      "Some weights of the model checkpoint at facebook/wav2vec2-large-100k-voxpopuli were not used when initializing Wav2Vec2ForCTC: ['quantizer.codevectors', 'quantizer.weight_proj.weight', 'quantizer.weight_proj.bias', 'project_q.weight', 'project_q.bias', 'project_hid.weight', 'project_hid.bias']\n",
      "- This IS expected if you are initializing Wav2Vec2ForCTC from the checkpoint of a model trained on another task or with another architecture (e.g. initializing a BertForSequenceClassification model from a BertForPreTraining model).\n",
      "- This IS NOT expected if you are initializing Wav2Vec2ForCTC from the checkpoint of a model that you expect to be exactly identical (initializing a BertForSequenceClassification model from a BertForSequenceClassification model).\n",
      "Some weights of Wav2Vec2ForCTC were not initialized from the model checkpoint at facebook/wav2vec2-large-100k-voxpopuli and are newly initialized: ['lm_head.weight', 'lm_head.bias']\n",
      "You should probably TRAIN this model on a down-stream task to be able to use it for predictions and inference.\n"
     ]
    }
   ],
   "source": [
    "from transformers import Wav2Vec2ForCTC\n",
    "\n",
    "model = Wav2Vec2ForCTC.from_pretrained(\n",
    "    \"facebook/wav2vec2-large-100k-voxpopuli\",\n",
    "    attention_dropout=0.1,\n",
    "    hidden_dropout=0.1,\n",
    "    feat_proj_dropout=0.0,\n",
    "    mask_time_prob=0.05,\n",
    "    layerdrop=0.1,\n",
    "    gradient_checkpointing=True,\n",
    "    ctc_loss_reduction=\"mean\",\n",
    "    pad_token_id=processor.tokenizer.pad_token_id,\n",
    "    vocab_size=len(processor.tokenizer),\n",
    "    ctc_zero_infinity=False\n",
    ")\n",
    "\n",
    "#Freeze the weights of the pretrained feature extractor\n",
    "model.freeze_feature_extractor()"
   ]
  },
  {
   "cell_type": "markdown",
   "id": "b91498ce",
   "metadata": {},
   "source": [
    "# see documentation of model to set parameters"
   ]
  },
  {
   "cell_type": "code",
   "execution_count": 8,
   "id": "67004fe7",
   "metadata": {},
   "outputs": [
    {
     "name": "stdout",
     "output_type": "stream",
     "text": [
      "Help on class Wav2Vec2ForCTC in module transformers.models.wav2vec2.modeling_wav2vec2:\n",
      "\n",
      "class Wav2Vec2ForCTC(Wav2Vec2PreTrainedModel)\n",
      " |  Wav2Vec2ForCTC(config)\n",
      " |  \n",
      " |  Wav2Vec2 Model with a `language modeling` head on top for Connectionist Temporal Classification (CTC). \n",
      " |  Wav2Vec2 was proposed in `wav2vec 2.0: A Framework for Self-Supervised Learning of Speech Representations\n",
      " |  <https://arxiv.org/abs/2006.11477>`__ by Alexei Baevski, Henry Zhou, Abdelrahman Mohamed, Michael Auli.\n",
      " |  \n",
      " |  This model inherits from :class:`~transformers.PreTrainedModel`. Check the superclass documentation for the generic\n",
      " |  methods the library implements for all its model (such as downloading or saving etc.).\n",
      " |  \n",
      " |  This model is a PyTorch `torch.nn.Module <https://pytorch.org/docs/stable/nn.html#torch.nn.Module>`_ sub-class. Use\n",
      " |  it as a regular PyTorch Module and refer to the PyTorch documentation for all matter related to general usage and\n",
      " |  behavior.\n",
      " |  \n",
      " |  Parameters:\n",
      " |      config (:class:`~transformers.Wav2Vec2Config`): Model configuration class with all the parameters of the model.\n",
      " |          Initializing with a config file does not load the weights associated with the model, only the\n",
      " |          configuration. Check out the :meth:`~transformers.PreTrainedModel.from_pretrained` method to load the model\n",
      " |          weights.\n",
      " |  \n",
      " |  Method resolution order:\n",
      " |      Wav2Vec2ForCTC\n",
      " |      Wav2Vec2PreTrainedModel\n",
      " |      transformers.modeling_utils.PreTrainedModel\n",
      " |      torch.nn.modules.module.Module\n",
      " |      transformers.modeling_utils.ModuleUtilsMixin\n",
      " |      transformers.generation_utils.GenerationMixin\n",
      " |      builtins.object\n",
      " |  \n",
      " |  Methods defined here:\n",
      " |  \n",
      " |  __init__(self, config)\n",
      " |      Initializes internal Module state, shared by both nn.Module and ScriptModule.\n",
      " |  \n",
      " |  forward(self, input_values, attention_mask=None, output_attentions=None, output_hidden_states=None, return_dict=None, labels=None)\n",
      " |      The :class:`~transformers.Wav2Vec2ForCTC` forward method, overrides the :func:`__call__` special method.\n",
      " |      \n",
      " |      .. note::\n",
      " |          Although the recipe for forward pass needs to be defined within this function, one should call the\n",
      " |          :class:`Module` instance afterwards instead of this since the former takes care of running the pre and post\n",
      " |          processing steps while the latter silently ignores them.\n",
      " |          \n",
      " |      Args:\n",
      " |          input_values (:obj:`torch.FloatTensor` of shape :obj:`(batch_size, sequence_length)`):\n",
      " |              Float values of input raw speech waveform. Values can be obtained by loading a `.flac` or `.wav` audio file\n",
      " |              into an array of type `List[float]` or a `numpy.ndarray`, *e.g.* via the soundfile library (`pip install\n",
      " |              soundfile`). To prepare the array into `input_values`, the :class:`~transformers.Wav2Vec2Processor` should\n",
      " |              be used for padding and conversion into a tensor of type `torch.FloatTensor`. See\n",
      " |              :meth:`transformers.Wav2Vec2Processor.__call__` for details.\n",
      " |          attention_mask (:obj:`torch.LongTensor` of shape :obj:`(batch_size, sequence_length)`, `optional`):\n",
      " |              Mask to avoid performing convolution and attention on padding token indices. Mask values selected in ``[0,\n",
      " |              1]``:\n",
      " |      \n",
      " |              - 1 for tokens that are **not masked**,\n",
      " |              - 0 for tokens that are **masked**.\n",
      " |      \n",
      " |              `What are attention masks? <../glossary.html#attention-mask>`__\n",
      " |      \n",
      " |              .. warning::\n",
      " |                  :obj:`attention_mask` should only be passed if the corresponding processor has\n",
      " |                  ``config.return_attention_mask == True``. For all models whose processor has\n",
      " |                  ``config.return_attention_mask == False``, such as `wav2vec2-base\n",
      " |                  <https://huggingface.co/facebook/wav2vec2-base-960h>`__, :obj:`attention_mask` should **not** be passed\n",
      " |                  to avoid degraded performance when doing batched inference. For such models :obj:`input_values` should\n",
      " |                  simply be padded with 0 and passed without :obj:`attention_mask`. Be aware that these models also yield\n",
      " |                  slightly different results depending on whether :obj:`input_values` is padded or not.\n",
      " |      \n",
      " |          output_attentions (:obj:`bool`, `optional`):\n",
      " |              Whether or not to return the attentions tensors of all attention layers. See ``attentions`` under returned\n",
      " |              tensors for more detail.\n",
      " |          output_hidden_states (:obj:`bool`, `optional`):\n",
      " |              Whether or not to return the hidden states of all layers. See ``hidden_states`` under returned tensors for\n",
      " |              more detail.\n",
      " |          return_dict (:obj:`bool`, `optional`):\n",
      " |              Whether or not to return a :class:`~transformers.file_utils.ModelOutput` instead of a plain tuple.\n",
      " |      \n",
      " |          labels (:obj:`torch.LongTensor` of shape :obj:`(batch_size, target_length)`, `optional`):\n",
      " |              Labels for connectionist temporal classification. Note that ``target_length`` has to be smaller or equal to\n",
      " |              the sequence length of the output logits. Indices are selected in ``[-100, 0, ..., config.vocab_size -\n",
      " |              1]``. All labels set to ``-100`` are ignored (masked), the loss is only computed for labels in ``[0, ...,\n",
      " |              config.vocab_size - 1]``.\n",
      " |      \n",
      " |      \n",
      " |      Returns:\n",
      " |          :class:`~transformers.modeling_outputs.BaseModelOutput` or :obj:`tuple(torch.FloatTensor)`: A :class:`~transformers.modeling_outputs.BaseModelOutput` (if\n",
      " |          ``return_dict=True`` is passed or when ``config.return_dict=True``) or a tuple of :obj:`torch.FloatTensor`\n",
      " |          comprising various elements depending on the configuration (:class:`~transformers.Wav2Vec2Config`) and inputs.\n",
      " |      \n",
      " |          - **last_hidden_state** (:obj:`torch.FloatTensor` of shape :obj:`(batch_size, sequence_length, hidden_size)`) -- Sequence of hidden-states at the output of the last layer of the model.\n",
      " |          - **hidden_states** (:obj:`tuple(torch.FloatTensor)`, `optional`, returned when ``output_hidden_states=True`` is passed or when ``config.output_hidden_states=True``) -- Tuple of :obj:`torch.FloatTensor` (one for the output of the embeddings + one for the output of each layer)\n",
      " |            of shape :obj:`(batch_size, sequence_length, hidden_size)`.\n",
      " |      \n",
      " |            Hidden-states of the model at the output of each layer plus the initial embedding outputs.\n",
      " |          - **attentions** (:obj:`tuple(torch.FloatTensor)`, `optional`, returned when ``output_attentions=True`` is passed or when ``config.output_attentions=True``) -- Tuple of :obj:`torch.FloatTensor` (one for each layer) of shape :obj:`(batch_size, num_heads,\n",
      " |            sequence_length, sequence_length)`.\n",
      " |      \n",
      " |            Attentions weights after the attention softmax, used to compute the weighted average in the self-attention\n",
      " |            heads.\n",
      " |      \n",
      " |      \n",
      " |          Example::\n",
      " |      \n",
      " |              >>> import torch\n",
      " |              >>> from transformers import Wav2Vec2Processor, Wav2Vec2ForCTC\n",
      " |              >>> from datasets import load_dataset\n",
      " |              >>> import soundfile as sf\n",
      " |      \n",
      " |              >>> processor = Wav2Vec2Processor.from_pretrained(\"facebook/wav2vec2-base-960h\")\n",
      " |              >>> model = Wav2Vec2ForCTC.from_pretrained(\"facebook/wav2vec2-base-960h\")\n",
      " |      \n",
      " |              >>> def map_to_array(batch):\n",
      " |              >>>     speech, _ = sf.read(batch[\"file\"])\n",
      " |              >>>     batch[\"speech\"] = speech\n",
      " |              >>>     return batch\n",
      " |      \n",
      " |              >>> ds = load_dataset(\"patrickvonplaten/librispeech_asr_dummy\", \"clean\", split=\"validation\")\n",
      " |              >>> ds = ds.map(map_to_array)\n",
      " |      \n",
      " |              >>> input_values = processor(ds[\"speech\"][0], return_tensors=\"pt\").input_values  # Batch size 1\n",
      " |              >>> logits = model(input_values).logits\n",
      " |              >>> predicted_ids = torch.argmax(logits, dim=-1)\n",
      " |      \n",
      " |              >>> transcription = processor.decode(predicted_ids[0])\n",
      " |      \n",
      " |              >>> # compute loss\n",
      " |              >>> target_transcription = \"A MAN SAID TO THE UNIVERSE SIR I EXIST\"\n",
      " |      \n",
      " |              >>> # wrap processor as target processor to encode labels\n",
      " |              >>> with processor.as_target_processor():\n",
      " |              >>>     labels = processor(transcription, return_tensors=\"pt\").input_ids\n",
      " |      \n",
      " |              >>> loss = model(input_values, labels=labels).loss\n",
      " |  \n",
      " |  freeze_feature_extractor(self)\n",
      " |      Calling this function will disable the gradient computation for the feature extractor so that its parameter\n",
      " |      will not be updated during training.\n",
      " |  \n",
      " |  ----------------------------------------------------------------------\n",
      " |  Data and other attributes inherited from Wav2Vec2PreTrainedModel:\n",
      " |  \n",
      " |  base_model_prefix = 'wav2vec2'\n",
      " |  \n",
      " |  config_class = <class 'transformers.models.wav2vec2.configuration_wav2...\n",
      " |      This is the configuration class to store the configuration of a :class:`~transformers.Wav2Vec2Model`. It is used to\n",
      " |      instantiate an Wav2Vec2 model according to the specified arguments, defining the model architecture. Instantiating\n",
      " |      a configuration with the defaults will yield a similar configuration to that of the Wav2Vec2\n",
      " |      `facebook/wav2vec2-base-960h <https://huggingface.co/facebook/wav2vec2-base-960h>`__ architecture.\n",
      " |      \n",
      " |      Configuration objects inherit from :class:`~transformers.PretrainedConfig` and can be used to control the model\n",
      " |      outputs. Read the documentation from :class:`~transformers.PretrainedConfig` for more information.\n",
      " |      \n",
      " |      \n",
      " |      Args:\n",
      " |          vocab_size (:obj:`int`, `optional`, defaults to 32):\n",
      " |              Vocabulary size of the Wav2Vec2 model. Defines the number of different tokens that can be represented by\n",
      " |              the :obj:`inputs_ids` passed when calling :class:`~transformers.Wav2Vec2Model` or\n",
      " |              :class:`~transformers.TFWav2Vec2Model`. Vocabulary size of the model. Defines the different tokens that can\n",
      " |              be represented by the `inputs_ids` passed to the forward method of :class:`~transformers.Wav2Vec2Model`.\n",
      " |          hidden_size (:obj:`int`, `optional`, defaults to 768):\n",
      " |              Dimensionality of the encoder layers and the pooler layer.\n",
      " |          num_hidden_layers (:obj:`int`, `optional`, defaults to 12):\n",
      " |              Number of hidden layers in the Transformer encoder.\n",
      " |          num_attention_heads (:obj:`int`, `optional`, defaults to 12):\n",
      " |              Number of attention heads for each attention layer in the Transformer encoder.\n",
      " |          intermediate_size (:obj:`int`, `optional`, defaults to 3072):\n",
      " |              Dimensionality of the \"intermediate\" (i.e., feed-forward) layer in the Transformer encoder.\n",
      " |          hidden_act (:obj:`str` or :obj:`function`, `optional`, defaults to :obj:`\"gelu\"`):\n",
      " |              The non-linear activation function (function or string) in the encoder and pooler. If string,\n",
      " |              :obj:`\"gelu\"`, :obj:`\"relu\"`, :obj:`\"selu\"` and :obj:`\"gelu_new\"` are supported.\n",
      " |          hidden_dropout_prob (:obj:`float`, `optional`, defaults to 0.1):\n",
      " |              The dropout probabilitiy for all fully connected layers in the embeddings, encoder, and pooler.\n",
      " |          attention_probs_dropout_prob (:obj:`float`, `optional`, defaults to 0.1):\n",
      " |              The dropout ratio for the attention probabilities.\n",
      " |          initializer_range (:obj:`float`, `optional`, defaults to 0.02):\n",
      " |              The standard deviation of the truncated_normal_initializer for initializing all weight matrices.\n",
      " |          layer_norm_eps (:obj:`float`, `optional`, defaults to 1e-12):\n",
      " |              The epsilon used by the layer normalization layers.\n",
      " |          feat_extract_norm (:obj:`str`, `optional`, defaults to :obj:`\"group\"`):\n",
      " |              The norm to be applied to 1D convolutional layers in feature extractor. One of :obj:`\"group\"` for group\n",
      " |              normalization of only the first 1D convolutional layer or :obj:`\"layer\"` for layer normalization of all 1D\n",
      " |              convolutional layers.\n",
      " |          feat_extract_dropout (:obj:`float`, `optional`, defaults to 0.0):\n",
      " |              The dropout probabilitiy for all 1D convolutional layers in feature extractor.\n",
      " |          feat_extract_activation (:obj:`str, `optional`, defaults to :obj:`\"gelu\"`):\n",
      " |              The non-linear activation function (function or string) in the 1D convolutional layers of the feature\n",
      " |              extractor. If string, :obj:`\"gelu\"`, :obj:`\"relu\"`, :obj:`\"selu\"` and :obj:`\"gelu_new\"` are supported.\n",
      " |          conv_dim (:obj:`Tuple[int]`, `optional`, defaults to :obj:`(512, 512, 512, 512, 512, 512, 512)`):\n",
      " |              A tuple of integers defining the number of input and output channels of each 1D convolutional layer in the\n",
      " |              feature extractor. The length of `conv_dim` defines the number of 1D convolutional layers.\n",
      " |          conv_stride (:obj:`Tuple[int]`, `optional`, defaults to :obj:`(5, 2, 2, 2, 2, 2, 2)`):\n",
      " |              A tuple of integers defining the stride of each 1D convolutional layer in the feature extractor. The length\n",
      " |              of `conv_stride` defines the number of convolutional layers and has to match the the length of `conv_dim`.\n",
      " |          conv_kernel (:obj:`Tuple[int]`, `optional`, defaults to :obj:`(10, 3, 3, 3, 3, 3, 3)`):\n",
      " |              A tuple of integers defining the kernel size of each 1D convolutional layer in the feature extractor. The\n",
      " |              length of `conv_kernel` defines the number of convolutional layers and has to match the the length of\n",
      " |              `conv_dim`.\n",
      " |          conv_bias (:obj:`bool`, `optional`, defaults to :obj:`False`):\n",
      " |              Whether the 1D convolutional layers have a bias.\n",
      " |          num_conv_pos_embeddings (:obj:`int`, `optional`, defaults to 128):\n",
      " |              Number of convolutional positional embeddings. Defines the kernel size of 1D convolutional positional\n",
      " |              embeddings layer.\n",
      " |          num_conv_pos_embedding_groups (:obj:`int`, `optional`, defaults to 16):\n",
      " |              Number of groups of 1D convolutional positional embeddings layer.\n",
      " |          do_stable_layer_norm (:obj:`bool`, `optional`, defaults to :obj:`False`):\n",
      " |              Whether do apply `stable` layer norm architecture of the Transformer encoder. ``do_stable_layer_norm is\n",
      " |              True`` corresponds to applying layer norm before the attention layer, whereas ``do_stable_layer_norm is\n",
      " |              False`` corresponds to applying layer norm after the attention layer.\n",
      " |          apply_spec_augment (:obj:`bool`, `optional`, defaults to :obj:`True`):\n",
      " |              Whether to apply *SpecAugment* data augmentation to the outputs of the feature extractor. For reference see\n",
      " |              `SpecAugment: A Simple Data Augmentation Method for Automatic Speech Recognition\n",
      " |              <https://arxiv.org/abs/1904.08779>`__.\n",
      " |          mask_time_prob (:obj:`float`, `optional`, defaults to 0.05):\n",
      " |              Propability of each feature vector along the time axis to be chosen as the start of the vector span to be\n",
      " |              masked. Approximately ``mask_time_prob * sequence_length // mask_time_length`` feature vectors will be\n",
      " |              masked along the time axis. This is only relevant if ``apply_spec_augment is True``.\n",
      " |          mask_time_length (:obj:`int`, `optional`, defaults to 10):\n",
      " |              Length of vector span along the time axis.\n",
      " |          mask_feature_prob (:obj:`float`, `optional`, defaults to 0.0):\n",
      " |              Propability of each feature vector along the feature axis to be chosen as the start of the vector span to\n",
      " |              be masked. Approximately ``mask_time_prob * hidden_size // mask_time_length`` feature vectors will be\n",
      " |              masked along the time axis. This is only relevant if ``apply_spec_augment is True``.\n",
      " |          mask_feature_length (:obj:`int`, `optional`, defaults to 10):\n",
      " |              Length of vector span along the feature axis.\n",
      " |          ctc_loss_reduction (:obj:`str`, `optional`, defaults to :obj:`\"sum\"`):\n",
      " |              Specifies the reduction to apply to the output of ``torch.nn.CTCLoss``. Only relevant when training an\n",
      " |              instance of :class:`~transformers.Wav2Vec2ForCTC`.\n",
      " |          ctc_zero_infinity (:obj:`bool`, `optional`, defaults to :obj:`False`):\n",
      " |              Whether to zero infinite losses and the associated gradients of ``torch.nn.CTCLoss``. Infinite losses\n",
      " |              mainly occur when the inputs are too short to be aligned to the targets. Only relevant when training an\n",
      " |              instance of :class:`~transformers.Wav2Vec2ForCTC`.\n",
      " |          gradient_checkpointing (:obj:`bool`, `optional`, defaults to :obj:`False`):\n",
      " |              If True, use gradient checkpointing to save memory at the expense of slower backward pass.\n",
      " |      \n",
      " |      Example::\n",
      " |      \n",
      " |          >>> from transformers import Wav2Vec2Model, Wav2Vec2Config\n",
      " |      \n",
      " |          >>> # Initializing a Wav2Vec2 facebook/wav2vec2-base-960h style configuration\n",
      " |          >>> configuration = Wav2Vec2Config()\n",
      " |      \n",
      " |          >>> # Initializing a model from the facebook/wav2vec2-base-960h style configuration\n",
      " |          >>> model = Wav2Vec2Model(configuration)\n",
      " |      \n",
      " |          >>> # Accessing the model configuration\n",
      " |          >>> configuration = model.config\n",
      " |  \n",
      " |  ----------------------------------------------------------------------\n",
      " |  Methods inherited from transformers.modeling_utils.PreTrainedModel:\n",
      " |  \n",
      " |  get_input_embeddings(self) -> torch.nn.modules.module.Module\n",
      " |      Returns the model's input embeddings.\n",
      " |      \n",
      " |      Returns:\n",
      " |          :obj:`nn.Module`: A torch module mapping vocabulary to hidden states.\n",
      " |  \n",
      " |  get_output_embeddings(self) -> torch.nn.modules.module.Module\n",
      " |      Returns the model's output embeddings.\n",
      " |      \n",
      " |      Returns:\n",
      " |          :obj:`nn.Module`: A torch module mapping hidden states to vocabulary.\n",
      " |  \n",
      " |  init_weights(self)\n",
      " |      Initializes and prunes weights if needed.\n",
      " |  \n",
      " |  prune_heads(self, heads_to_prune: Dict[int, List[int]])\n",
      " |      Prunes heads of the base model.\n",
      " |      \n",
      " |      Arguments:\n",
      " |          heads_to_prune (:obj:`Dict[int, List[int]]`):\n",
      " |              Dictionary with keys being selected layer indices (:obj:`int`) and associated values being the list of\n",
      " |              heads to prune in said layer (list of :obj:`int`). For instance {1: [0, 2], 2: [2, 3]} will prune heads\n",
      " |              0 and 2 on layer 1 and heads 2 and 3 on layer 2.\n",
      " |  \n",
      " |  resize_token_embeddings(self, new_num_tokens: Union[int, NoneType] = None) -> torch.nn.modules.sparse.Embedding\n",
      " |      Resizes input token embeddings matrix of the model if :obj:`new_num_tokens != config.vocab_size`.\n",
      " |      \n",
      " |      Takes care of tying weights embeddings afterwards if the model class has a :obj:`tie_weights()` method.\n",
      " |      \n",
      " |      Arguments:\n",
      " |          new_num_tokens (:obj:`int`, `optional`):\n",
      " |              The number of new tokens in the embedding matrix. Increasing the size will add newly initialized\n",
      " |              vectors at the end. Reducing the size will remove vectors from the end. If not provided or :obj:`None`,\n",
      " |              just returns a pointer to the input tokens :obj:`torch.nn.Embedding` module of the model without doing\n",
      " |              anything.\n",
      " |      \n",
      " |      Return:\n",
      " |          :obj:`torch.nn.Embedding`: Pointer to the input tokens Embeddings Module of the model.\n",
      " |  \n",
      " |  save_pretrained(self, save_directory: Union[str, os.PathLike], save_config: bool = True, state_dict: Union[dict, NoneType] = None, save_function: Callable = <function save at 0x7f50e72b4ca0>)\n",
      " |      Save a model and its configuration file to a directory, so that it can be re-loaded using the\n",
      " |      `:func:`~transformers.PreTrainedModel.from_pretrained`` class method.\n",
      " |      \n",
      " |      Arguments:\n",
      " |          save_directory (:obj:`str` or :obj:`os.PathLike`):\n",
      " |              Directory to which to save. Will be created if it doesn't exist.\n",
      " |          save_config (:obj:`bool`, `optional`, defaults to :obj:`True`):\n",
      " |              Whether or not to save the config of the model. Useful when in distributed training like TPUs and need\n",
      " |              to call this function on all processes. In this case, set :obj:`save_config=True` only on the main\n",
      " |              process to avoid race conditions.\n",
      " |          state_dict (nested dictionary of :obj:`torch.Tensor`):\n",
      " |              The state dictionary of the model to save. Will default to :obj:`self.state_dict()`, but can be used to\n",
      " |              only save parts of the model or if special precautions need to be taken when recovering the state\n",
      " |              dictionary of a model (like when using model parallelism).\n",
      " |          save_function (:obj:`Callable`):\n",
      " |              The function to use to save the state dictionary. Useful on distributed training like TPUs when one\n",
      " |              need to replace :obj:`torch.save` by another method.\n",
      " |  \n",
      " |  set_input_embeddings(self, value: torch.nn.modules.module.Module)\n",
      " |      Set model's input embeddings.\n",
      " |      \n",
      " |      Args:\n",
      " |          value (:obj:`nn.Module`): A module mapping vocabulary to hidden states.\n",
      " |  \n",
      " |  tie_weights(self)\n",
      " |      Tie the weights between the input embeddings and the output embeddings.\n",
      " |      \n",
      " |      If the :obj:`torchscript` flag is set in the configuration, can't handle parameter sharing so we are cloning\n",
      " |      the weights instead.\n",
      " |  \n",
      " |  ----------------------------------------------------------------------\n",
      " |  Class methods inherited from transformers.modeling_utils.PreTrainedModel:\n",
      " |  \n",
      " |  from_pretrained(pretrained_model_name_or_path: Union[str, os.PathLike, NoneType], *model_args, **kwargs) from builtins.type\n",
      " |      Instantiate a pretrained pytorch model from a pre-trained model configuration.\n",
      " |      \n",
      " |      The model is set in evaluation mode by default using ``model.eval()`` (Dropout modules are deactivated). To\n",
      " |      train the model, you should first set it back in training mode with ``model.train()``.\n",
      " |      \n",
      " |      The warning `Weights from XXX not initialized from pretrained model` means that the weights of XXX do not come\n",
      " |      pretrained with the rest of the model. It is up to you to train those weights with a downstream fine-tuning\n",
      " |      task.\n",
      " |      \n",
      " |      The warning `Weights from XXX not used in YYY` means that the layer XXX is not used by YYY, therefore those\n",
      " |      weights are discarded.\n",
      " |      \n",
      " |      Parameters:\n",
      " |          pretrained_model_name_or_path (:obj:`str` or :obj:`os.PathLike`, `optional`):\n",
      " |              Can be either:\n",
      " |      \n",
      " |                  - A string, the `model id` of a pretrained model hosted inside a model repo on huggingface.co.\n",
      " |                    Valid model ids can be located at the root-level, like ``bert-base-uncased``, or namespaced under\n",
      " |                    a user or organization name, like ``dbmdz/bert-base-german-cased``.\n",
      " |                  - A path to a `directory` containing model weights saved using\n",
      " |                    :func:`~transformers.PreTrainedModel.save_pretrained`, e.g., ``./my_model_directory/``.\n",
      " |                  - A path or url to a `tensorflow index checkpoint file` (e.g, ``./tf_model/model.ckpt.index``). In\n",
      " |                    this case, ``from_tf`` should be set to :obj:`True` and a configuration object should be provided\n",
      " |                    as ``config`` argument. This loading path is slower than converting the TensorFlow checkpoint in\n",
      " |                    a PyTorch model using the provided conversion scripts and loading the PyTorch model afterwards.\n",
      " |                  - :obj:`None` if you are both providing the configuration and state dictionary (resp. with keyword\n",
      " |                    arguments ``config`` and ``state_dict``).\n",
      " |          model_args (sequence of positional arguments, `optional`):\n",
      " |              All remaning positional arguments will be passed to the underlying model's ``__init__`` method.\n",
      " |          config (:obj:`Union[PretrainedConfig, str, os.PathLike]`, `optional`):\n",
      " |              Can be either:\n",
      " |      \n",
      " |                  - an instance of a class derived from :class:`~transformers.PretrainedConfig`,\n",
      " |                  - a string or path valid as input to :func:`~transformers.PretrainedConfig.from_pretrained`.\n",
      " |      \n",
      " |              Configuration for the model to use instead of an automatically loaded configuation. Configuration can\n",
      " |              be automatically loaded when:\n",
      " |      \n",
      " |                  - The model is a model provided by the library (loaded with the `model id` string of a pretrained\n",
      " |                    model).\n",
      " |                  - The model was saved using :func:`~transformers.PreTrainedModel.save_pretrained` and is reloaded\n",
      " |                    by supplying the save directory.\n",
      " |                  - The model is loaded by supplying a local directory as ``pretrained_model_name_or_path`` and a\n",
      " |                    configuration JSON file named `config.json` is found in the directory.\n",
      " |          state_dict (:obj:`Dict[str, torch.Tensor]`, `optional`):\n",
      " |              A state dictionary to use instead of a state dictionary loaded from saved weights file.\n",
      " |      \n",
      " |              This option can be used if you want to create a model from a pretrained configuration but load your own\n",
      " |              weights. In this case though, you should check if using\n",
      " |              :func:`~transformers.PreTrainedModel.save_pretrained` and\n",
      " |              :func:`~transformers.PreTrainedModel.from_pretrained` is not a simpler option.\n",
      " |          cache_dir (:obj:`Union[str, os.PathLike]`, `optional`):\n",
      " |              Path to a directory in which a downloaded pretrained model configuration should be cached if the\n",
      " |              standard cache should not be used.\n",
      " |          from_tf (:obj:`bool`, `optional`, defaults to :obj:`False`):\n",
      " |              Load the model weights from a TensorFlow checkpoint save file (see docstring of\n",
      " |              ``pretrained_model_name_or_path`` argument).\n",
      " |          force_download (:obj:`bool`, `optional`, defaults to :obj:`False`):\n",
      " |              Whether or not to force the (re-)download of the model weights and configuration files, overriding the\n",
      " |              cached versions if they exist.\n",
      " |          resume_download (:obj:`bool`, `optional`, defaults to :obj:`False`):\n",
      " |              Whether or not to delete incompletely received files. Will attempt to resume the download if such a\n",
      " |              file exists.\n",
      " |          proxies (:obj:`Dict[str, str], `optional`):\n",
      " |              A dictionary of proxy servers to use by protocol or endpoint, e.g., :obj:`{'http': 'foo.bar:3128',\n",
      " |              'http://hostname': 'foo.bar:4012'}`. The proxies are used on each request.\n",
      " |          output_loading_info(:obj:`bool`, `optional`, defaults to :obj:`False`):\n",
      " |              Whether ot not to also return a dictionary containing missing keys, unexpected keys and error messages.\n",
      " |          local_files_only(:obj:`bool`, `optional`, defaults to :obj:`False`):\n",
      " |              Whether or not to only look at local files (i.e., do not try to download the model).\n",
      " |          use_auth_token (:obj:`str` or `bool`, `optional`):\n",
      " |              The token to use as HTTP bearer authorization for remote files. If :obj:`True`, will use the token\n",
      " |              generated when running :obj:`transformers-cli login` (stored in :obj:`~/.huggingface`).\n",
      " |          revision(:obj:`str`, `optional`, defaults to :obj:`\"main\"`):\n",
      " |              The specific model version to use. It can be a branch name, a tag name, or a commit id, since we use a\n",
      " |              git-based system for storing models and other artifacts on huggingface.co, so ``revision`` can be any\n",
      " |              identifier allowed by git.\n",
      " |          mirror(:obj:`str`, `optional`, defaults to :obj:`None`):\n",
      " |              Mirror source to accelerate downloads in China. If you are from China and have an accessibility\n",
      " |              problem, you can set this option to resolve it. Note that we do not guarantee the timeliness or safety.\n",
      " |              Please refer to the mirror site for more information.\n",
      " |          kwargs (remaining dictionary of keyword arguments, `optional`):\n",
      " |              Can be used to update the configuration object (after it being loaded) and initiate the model (e.g.,\n",
      " |              :obj:`output_attentions=True`). Behaves differently depending on whether a ``config`` is provided or\n",
      " |              automatically loaded:\n",
      " |      \n",
      " |                  - If a configuration is provided with ``config``, ``**kwargs`` will be directly passed to the\n",
      " |                    underlying model's ``__init__`` method (we assume all relevant updates to the configuration have\n",
      " |                    already been done)\n",
      " |                  - If a configuration is not provided, ``kwargs`` will be first passed to the configuration class\n",
      " |                    initialization function (:func:`~transformers.PretrainedConfig.from_pretrained`). Each key of\n",
      " |                    ``kwargs`` that corresponds to a configuration attribute will be used to override said attribute\n",
      " |                    with the supplied ``kwargs`` value. Remaining keys that do not correspond to any configuration\n",
      " |                    attribute will be passed to the underlying model's ``__init__`` function.\n",
      " |      \n",
      " |      .. note::\n",
      " |      \n",
      " |          Passing :obj:`use_auth_token=True` is required when you want to use a private model.\n",
      " |      \n",
      " |      Examples::\n",
      " |      \n",
      " |          >>> from transformers import BertConfig, BertModel\n",
      " |          >>> # Download model and configuration from huggingface.co and cache.\n",
      " |          >>> model = BertModel.from_pretrained('bert-base-uncased')\n",
      " |          >>> # Model was saved using `save_pretrained('./test/saved_model/')` (for example purposes, not runnable).\n",
      " |          >>> model = BertModel.from_pretrained('./test/saved_model/')\n",
      " |          >>> # Update configuration during loading.\n",
      " |          >>> model = BertModel.from_pretrained('bert-base-uncased', output_attentions=True)\n",
      " |          >>> assert model.config.output_attentions == True\n",
      " |          >>> # Loading from a TF checkpoint file instead of a PyTorch model (slower, for example purposes, not runnable).\n",
      " |          >>> config = BertConfig.from_json_file('./tf_model/my_tf_model_config.json')\n",
      " |          >>> model = BertModel.from_pretrained('./tf_model/my_tf_checkpoint.ckpt.index', from_tf=True, config=config)\n",
      " |  \n",
      " |  ----------------------------------------------------------------------\n",
      " |  Readonly properties inherited from transformers.modeling_utils.PreTrainedModel:\n",
      " |  \n",
      " |  base_model\n",
      " |      :obj:`torch.nn.Module`: The main body of the model.\n",
      " |  \n",
      " |  dummy_inputs\n",
      " |      :obj:`Dict[str, torch.Tensor]`: Dummy inputs to do a forward pass in the network.\n",
      " |  \n",
      " |  ----------------------------------------------------------------------\n",
      " |  Data and other attributes inherited from transformers.modeling_utils.PreTrainedModel:\n",
      " |  \n",
      " |  is_parallelizable = False\n",
      " |  \n",
      " |  ----------------------------------------------------------------------\n",
      " |  Methods inherited from torch.nn.modules.module.Module:\n",
      " |  \n",
      " |  __call__ = _call_impl(self, *input, **kwargs)\n",
      " |  \n",
      " |  __delattr__(self, name)\n",
      " |      Implement delattr(self, name).\n",
      " |  \n",
      " |  __dir__(self)\n",
      " |      Default dir() implementation.\n",
      " |  \n",
      " |  __getattr__(self, name: str) -> Union[torch.Tensor, ForwardRef('Module')]\n",
      " |  \n",
      " |  __repr__(self)\n",
      " |      Return repr(self).\n",
      " |  \n",
      " |  __setattr__(self, name: str, value: Union[torch.Tensor, ForwardRef('Module')]) -> None\n",
      " |      Implement setattr(self, name, value).\n",
      " |  \n",
      " |  __setstate__(self, state)\n",
      " |  \n",
      " |  add_module(self, name: str, module: Union[ForwardRef('Module'), NoneType]) -> None\n",
      " |      Adds a child module to the current module.\n",
      " |      \n",
      " |      The module can be accessed as an attribute using the given name.\n",
      " |      \n",
      " |      Args:\n",
      " |          name (string): name of the child module. The child module can be\n",
      " |              accessed from this module using the given name\n",
      " |          module (Module): child module to be added to the module.\n",
      " |  \n",
      " |  apply(self: ~T, fn: Callable[[ForwardRef('Module')], NoneType]) -> ~T\n",
      " |      Applies ``fn`` recursively to every submodule (as returned by ``.children()``)\n",
      " |      as well as self. Typical use includes initializing the parameters of a model\n",
      " |      (see also :ref:`nn-init-doc`).\n",
      " |      \n",
      " |      Args:\n",
      " |          fn (:class:`Module` -> None): function to be applied to each submodule\n",
      " |      \n",
      " |      Returns:\n",
      " |          Module: self\n",
      " |      \n",
      " |      Example::\n",
      " |      \n",
      " |          >>> @torch.no_grad()\n",
      " |          >>> def init_weights(m):\n",
      " |          >>>     print(m)\n",
      " |          >>>     if type(m) == nn.Linear:\n",
      " |          >>>         m.weight.fill_(1.0)\n",
      " |          >>>         print(m.weight)\n",
      " |          >>> net = nn.Sequential(nn.Linear(2, 2), nn.Linear(2, 2))\n",
      " |          >>> net.apply(init_weights)\n",
      " |          Linear(in_features=2, out_features=2, bias=True)\n",
      " |          Parameter containing:\n",
      " |          tensor([[ 1.,  1.],\n",
      " |                  [ 1.,  1.]])\n",
      " |          Linear(in_features=2, out_features=2, bias=True)\n",
      " |          Parameter containing:\n",
      " |          tensor([[ 1.,  1.],\n",
      " |                  [ 1.,  1.]])\n",
      " |          Sequential(\n",
      " |            (0): Linear(in_features=2, out_features=2, bias=True)\n",
      " |            (1): Linear(in_features=2, out_features=2, bias=True)\n",
      " |          )\n",
      " |          Sequential(\n",
      " |            (0): Linear(in_features=2, out_features=2, bias=True)\n",
      " |            (1): Linear(in_features=2, out_features=2, bias=True)\n",
      " |          )\n",
      " |  \n",
      " |  bfloat16(self: ~T) -> ~T\n",
      " |      Casts all floating point parameters and buffers to ``bfloat16`` datatype.\n",
      " |      \n",
      " |      Returns:\n",
      " |          Module: self\n",
      " |  \n",
      " |  buffers(self, recurse: bool = True) -> Iterator[torch.Tensor]\n",
      " |      Returns an iterator over module buffers.\n",
      " |      \n",
      " |      Args:\n",
      " |          recurse (bool): if True, then yields buffers of this module\n",
      " |              and all submodules. Otherwise, yields only buffers that\n",
      " |              are direct members of this module.\n",
      " |      \n",
      " |      Yields:\n",
      " |          torch.Tensor: module buffer\n",
      " |      \n",
      " |      Example::\n",
      " |      \n",
      " |          >>> for buf in model.buffers():\n",
      " |          >>>     print(type(buf), buf.size())\n",
      " |          <class 'torch.Tensor'> (20L,)\n",
      " |          <class 'torch.Tensor'> (20L, 1L, 5L, 5L)\n",
      " |  \n",
      " |  children(self) -> Iterator[ForwardRef('Module')]\n",
      " |      Returns an iterator over immediate children modules.\n",
      " |      \n",
      " |      Yields:\n",
      " |          Module: a child module\n",
      " |  \n",
      " |  cpu(self: ~T) -> ~T\n",
      " |      Moves all model parameters and buffers to the CPU.\n",
      " |      \n",
      " |      Returns:\n",
      " |          Module: self\n",
      " |  \n",
      " |  cuda(self: ~T, device: Union[int, torch.device, NoneType] = None) -> ~T\n",
      " |      Moves all model parameters and buffers to the GPU.\n",
      " |      \n",
      " |      This also makes associated parameters and buffers different objects. So\n",
      " |      it should be called before constructing optimizer if the module will\n",
      " |      live on GPU while being optimized.\n",
      " |      \n",
      " |      Args:\n",
      " |          device (int, optional): if specified, all parameters will be\n",
      " |              copied to that device\n",
      " |      \n",
      " |      Returns:\n",
      " |          Module: self\n",
      " |  \n",
      " |  double(self: ~T) -> ~T\n",
      " |      Casts all floating point parameters and buffers to ``double`` datatype.\n",
      " |      \n",
      " |      Returns:\n",
      " |          Module: self\n",
      " |  \n",
      " |  eval(self: ~T) -> ~T\n",
      " |      Sets the module in evaluation mode.\n",
      " |      \n",
      " |      This has any effect only on certain modules. See documentations of\n",
      " |      particular modules for details of their behaviors in training/evaluation\n",
      " |      mode, if they are affected, e.g. :class:`Dropout`, :class:`BatchNorm`,\n",
      " |      etc.\n",
      " |      \n",
      " |      This is equivalent with :meth:`self.train(False) <torch.nn.Module.train>`.\n",
      " |      \n",
      " |      Returns:\n",
      " |          Module: self\n",
      " |  \n",
      " |  extra_repr(self) -> str\n",
      " |      Set the extra representation of the module\n",
      " |      \n",
      " |      To print customized extra information, you should re-implement\n",
      " |      this method in your own modules. Both single-line and multi-line\n",
      " |      strings are acceptable.\n",
      " |  \n",
      " |  float(self: ~T) -> ~T\n",
      " |      Casts all floating point parameters and buffers to float datatype.\n",
      " |      \n",
      " |      Returns:\n",
      " |          Module: self\n",
      " |  \n",
      " |  half(self: ~T) -> ~T\n",
      " |      Casts all floating point parameters and buffers to ``half`` datatype.\n",
      " |      \n",
      " |      Returns:\n",
      " |          Module: self\n",
      " |  \n",
      " |  load_state_dict(self, state_dict: 'OrderedDict[str, Tensor]', strict: bool = True)\n",
      " |      Copies parameters and buffers from :attr:`state_dict` into\n",
      " |      this module and its descendants. If :attr:`strict` is ``True``, then\n",
      " |      the keys of :attr:`state_dict` must exactly match the keys returned\n",
      " |      by this module's :meth:`~torch.nn.Module.state_dict` function.\n",
      " |      \n",
      " |      Args:\n",
      " |          state_dict (dict): a dict containing parameters and\n",
      " |              persistent buffers.\n",
      " |          strict (bool, optional): whether to strictly enforce that the keys\n",
      " |              in :attr:`state_dict` match the keys returned by this module's\n",
      " |              :meth:`~torch.nn.Module.state_dict` function. Default: ``True``\n",
      " |      \n",
      " |      Returns:\n",
      " |          ``NamedTuple`` with ``missing_keys`` and ``unexpected_keys`` fields:\n",
      " |              * **missing_keys** is a list of str containing the missing keys\n",
      " |              * **unexpected_keys** is a list of str containing the unexpected keys\n",
      " |  \n",
      " |  modules(self) -> Iterator[ForwardRef('Module')]\n",
      " |      Returns an iterator over all modules in the network.\n",
      " |      \n",
      " |      Yields:\n",
      " |          Module: a module in the network\n",
      " |      \n",
      " |      Note:\n",
      " |          Duplicate modules are returned only once. In the following\n",
      " |          example, ``l`` will be returned only once.\n",
      " |      \n",
      " |      Example::\n",
      " |      \n",
      " |          >>> l = nn.Linear(2, 2)\n",
      " |          >>> net = nn.Sequential(l, l)\n",
      " |          >>> for idx, m in enumerate(net.modules()):\n",
      " |                  print(idx, '->', m)\n",
      " |      \n",
      " |          0 -> Sequential(\n",
      " |            (0): Linear(in_features=2, out_features=2, bias=True)\n",
      " |            (1): Linear(in_features=2, out_features=2, bias=True)\n",
      " |          )\n",
      " |          1 -> Linear(in_features=2, out_features=2, bias=True)\n",
      " |  \n",
      " |  named_buffers(self, prefix: str = '', recurse: bool = True) -> Iterator[Tuple[str, torch.Tensor]]\n",
      " |      Returns an iterator over module buffers, yielding both the\n",
      " |      name of the buffer as well as the buffer itself.\n",
      " |      \n",
      " |      Args:\n",
      " |          prefix (str): prefix to prepend to all buffer names.\n",
      " |          recurse (bool): if True, then yields buffers of this module\n",
      " |              and all submodules. Otherwise, yields only buffers that\n",
      " |              are direct members of this module.\n",
      " |      \n",
      " |      Yields:\n",
      " |          (string, torch.Tensor): Tuple containing the name and buffer\n",
      " |      \n",
      " |      Example::\n",
      " |      \n",
      " |          >>> for name, buf in self.named_buffers():\n",
      " |          >>>    if name in ['running_var']:\n",
      " |          >>>        print(buf.size())\n",
      " |  \n",
      " |  named_children(self) -> Iterator[Tuple[str, ForwardRef('Module')]]\n",
      " |      Returns an iterator over immediate children modules, yielding both\n",
      " |      the name of the module as well as the module itself.\n",
      " |      \n",
      " |      Yields:\n",
      " |          (string, Module): Tuple containing a name and child module\n",
      " |      \n",
      " |      Example::\n",
      " |      \n",
      " |          >>> for name, module in model.named_children():\n",
      " |          >>>     if name in ['conv4', 'conv5']:\n",
      " |          >>>         print(module)\n",
      " |  \n",
      " |  named_modules(self, memo: Union[Set[ForwardRef('Module')], NoneType] = None, prefix: str = '')\n",
      " |      Returns an iterator over all modules in the network, yielding\n",
      " |      both the name of the module as well as the module itself.\n",
      " |      \n",
      " |      Yields:\n",
      " |          (string, Module): Tuple of name and module\n",
      " |      \n",
      " |      Note:\n",
      " |          Duplicate modules are returned only once. In the following\n",
      " |          example, ``l`` will be returned only once.\n",
      " |      \n",
      " |      Example::\n",
      " |      \n",
      " |          >>> l = nn.Linear(2, 2)\n",
      " |          >>> net = nn.Sequential(l, l)\n",
      " |          >>> for idx, m in enumerate(net.named_modules()):\n",
      " |                  print(idx, '->', m)\n",
      " |      \n",
      " |          0 -> ('', Sequential(\n",
      " |            (0): Linear(in_features=2, out_features=2, bias=True)\n",
      " |            (1): Linear(in_features=2, out_features=2, bias=True)\n",
      " |          ))\n",
      " |          1 -> ('0', Linear(in_features=2, out_features=2, bias=True))\n",
      " |  \n",
      " |  named_parameters(self, prefix: str = '', recurse: bool = True) -> Iterator[Tuple[str, torch.nn.parameter.Parameter]]\n",
      " |      Returns an iterator over module parameters, yielding both the\n",
      " |      name of the parameter as well as the parameter itself.\n",
      " |      \n",
      " |      Args:\n",
      " |          prefix (str): prefix to prepend to all parameter names.\n",
      " |          recurse (bool): if True, then yields parameters of this module\n",
      " |              and all submodules. Otherwise, yields only parameters that\n",
      " |              are direct members of this module.\n",
      " |      \n",
      " |      Yields:\n",
      " |          (string, Parameter): Tuple containing the name and parameter\n",
      " |      \n",
      " |      Example::\n",
      " |      \n",
      " |          >>> for name, param in self.named_parameters():\n",
      " |          >>>    if name in ['bias']:\n",
      " |          >>>        print(param.size())\n",
      " |  \n",
      " |  parameters(self, recurse: bool = True) -> Iterator[torch.nn.parameter.Parameter]\n",
      " |      Returns an iterator over module parameters.\n",
      " |      \n",
      " |      This is typically passed to an optimizer.\n",
      " |      \n",
      " |      Args:\n",
      " |          recurse (bool): if True, then yields parameters of this module\n",
      " |              and all submodules. Otherwise, yields only parameters that\n",
      " |              are direct members of this module.\n",
      " |      \n",
      " |      Yields:\n",
      " |          Parameter: module parameter\n",
      " |      \n",
      " |      Example::\n",
      " |      \n",
      " |          >>> for param in model.parameters():\n",
      " |          >>>     print(type(param), param.size())\n",
      " |          <class 'torch.Tensor'> (20L,)\n",
      " |          <class 'torch.Tensor'> (20L, 1L, 5L, 5L)\n",
      " |  \n",
      " |  register_backward_hook(self, hook: Callable[[ForwardRef('Module'), Union[Tuple[torch.Tensor, ...], torch.Tensor], Union[Tuple[torch.Tensor, ...], torch.Tensor]], Union[NoneType, torch.Tensor]]) -> torch.utils.hooks.RemovableHandle\n",
      " |      Registers a backward hook on the module.\n",
      " |      \n",
      " |      This function is deprecated in favor of :meth:`nn.Module.register_full_backward_hook` and\n",
      " |      the behavior of this function will change in future versions.\n",
      " |      \n",
      " |      Returns:\n",
      " |          :class:`torch.utils.hooks.RemovableHandle`:\n",
      " |              a handle that can be used to remove the added hook by calling\n",
      " |              ``handle.remove()``\n",
      " |  \n",
      " |  register_buffer(self, name: str, tensor: Union[torch.Tensor, NoneType], persistent: bool = True) -> None\n",
      " |      Adds a buffer to the module.\n",
      " |      \n",
      " |      This is typically used to register a buffer that should not to be\n",
      " |      considered a model parameter. For example, BatchNorm's ``running_mean``\n",
      " |      is not a parameter, but is part of the module's state. Buffers, by\n",
      " |      default, are persistent and will be saved alongside parameters. This\n",
      " |      behavior can be changed by setting :attr:`persistent` to ``False``. The\n",
      " |      only difference between a persistent buffer and a non-persistent buffer\n",
      " |      is that the latter will not be a part of this module's\n",
      " |      :attr:`state_dict`.\n",
      " |      \n",
      " |      Buffers can be accessed as attributes using given names.\n",
      " |      \n",
      " |      Args:\n",
      " |          name (string): name of the buffer. The buffer can be accessed\n",
      " |              from this module using the given name\n",
      " |          tensor (Tensor): buffer to be registered.\n",
      " |          persistent (bool): whether the buffer is part of this module's\n",
      " |              :attr:`state_dict`.\n",
      " |      \n",
      " |      Example::\n",
      " |      \n",
      " |          >>> self.register_buffer('running_mean', torch.zeros(num_features))\n",
      " |  \n",
      " |  register_forward_hook(self, hook: Callable[..., NoneType]) -> torch.utils.hooks.RemovableHandle\n",
      " |      Registers a forward hook on the module.\n",
      " |      \n",
      " |      The hook will be called every time after :func:`forward` has computed an output.\n",
      " |      It should have the following signature::\n",
      " |      \n",
      " |          hook(module, input, output) -> None or modified output\n",
      " |      \n",
      " |      The input contains only the positional arguments given to the module.\n",
      " |      Keyword arguments won't be passed to the hooks and only to the ``forward``.\n",
      " |      The hook can modify the output. It can modify the input inplace but\n",
      " |      it will not have effect on forward since this is called after\n",
      " |      :func:`forward` is called.\n",
      " |      \n",
      " |      Returns:\n",
      " |          :class:`torch.utils.hooks.RemovableHandle`:\n",
      " |              a handle that can be used to remove the added hook by calling\n",
      " |              ``handle.remove()``\n",
      " |  \n",
      " |  register_forward_pre_hook(self, hook: Callable[..., NoneType]) -> torch.utils.hooks.RemovableHandle\n",
      " |      Registers a forward pre-hook on the module.\n",
      " |      \n",
      " |      The hook will be called every time before :func:`forward` is invoked.\n",
      " |      It should have the following signature::\n",
      " |      \n",
      " |          hook(module, input) -> None or modified input\n",
      " |      \n",
      " |      The input contains only the positional arguments given to the module.\n",
      " |      Keyword arguments won't be passed to the hooks and only to the ``forward``.\n",
      " |      The hook can modify the input. User can either return a tuple or a\n",
      " |      single modified value in the hook. We will wrap the value into a tuple\n",
      " |      if a single value is returned(unless that value is already a tuple).\n",
      " |      \n",
      " |      Returns:\n",
      " |          :class:`torch.utils.hooks.RemovableHandle`:\n",
      " |              a handle that can be used to remove the added hook by calling\n",
      " |              ``handle.remove()``\n",
      " |  \n",
      " |  register_full_backward_hook(self, hook: Callable[[ForwardRef('Module'), Union[Tuple[torch.Tensor, ...], torch.Tensor], Union[Tuple[torch.Tensor, ...], torch.Tensor]], Union[NoneType, torch.Tensor]]) -> torch.utils.hooks.RemovableHandle\n",
      " |      Registers a backward hook on the module.\n",
      " |      \n",
      " |      The hook will be called every time the gradients with respect to module\n",
      " |      inputs are computed. The hook should have the following signature::\n",
      " |      \n",
      " |          hook(module, grad_input, grad_output) -> tuple(Tensor) or None\n",
      " |      \n",
      " |      The :attr:`grad_input` and :attr:`grad_output` are tuples that contain the gradients\n",
      " |      with respect to the inputs and outputs respectively. The hook should\n",
      " |      not modify its arguments, but it can optionally return a new gradient with\n",
      " |      respect to the input that will be used in place of :attr:`grad_input` in\n",
      " |      subsequent computations. :attr:`grad_input` will only correspond to the inputs given\n",
      " |      as positional arguments and all kwarg arguments are ignored. Entries\n",
      " |      in :attr:`grad_input` and :attr:`grad_output` will be ``None`` for all non-Tensor\n",
      " |      arguments.\n",
      " |      \n",
      " |      .. warning ::\n",
      " |          Modifying inputs or outputs inplace is not allowed when using backward hooks and\n",
      " |          will raise an error.\n",
      " |      \n",
      " |      Returns:\n",
      " |          :class:`torch.utils.hooks.RemovableHandle`:\n",
      " |              a handle that can be used to remove the added hook by calling\n",
      " |              ``handle.remove()``\n",
      " |  \n",
      " |  register_parameter(self, name: str, param: Union[torch.nn.parameter.Parameter, NoneType]) -> None\n",
      " |      Adds a parameter to the module.\n",
      " |      \n",
      " |      The parameter can be accessed as an attribute using given name.\n",
      " |      \n",
      " |      Args:\n",
      " |          name (string): name of the parameter. The parameter can be accessed\n",
      " |              from this module using the given name\n",
      " |          param (Parameter): parameter to be added to the module.\n",
      " |  \n",
      " |  requires_grad_(self: ~T, requires_grad: bool = True) -> ~T\n",
      " |      Change if autograd should record operations on parameters in this\n",
      " |      module.\n",
      " |      \n",
      " |      This method sets the parameters' :attr:`requires_grad` attributes\n",
      " |      in-place.\n",
      " |      \n",
      " |      This method is helpful for freezing part of the module for finetuning\n",
      " |      or training parts of a model individually (e.g., GAN training).\n",
      " |      \n",
      " |      Args:\n",
      " |          requires_grad (bool): whether autograd should record operations on\n",
      " |                                parameters in this module. Default: ``True``.\n",
      " |      \n",
      " |      Returns:\n",
      " |          Module: self\n",
      " |  \n",
      " |  share_memory(self: ~T) -> ~T\n",
      " |  \n",
      " |  state_dict(self, destination=None, prefix='', keep_vars=False)\n",
      " |      Returns a dictionary containing a whole state of the module.\n",
      " |      \n",
      " |      Both parameters and persistent buffers (e.g. running averages) are\n",
      " |      included. Keys are corresponding parameter and buffer names.\n",
      " |      \n",
      " |      Returns:\n",
      " |          dict:\n",
      " |              a dictionary containing a whole state of the module\n",
      " |      \n",
      " |      Example::\n",
      " |      \n",
      " |          >>> module.state_dict().keys()\n",
      " |          ['bias', 'weight']\n",
      " |  \n",
      " |  to(self, *args, **kwargs)\n",
      " |      Moves and/or casts the parameters and buffers.\n",
      " |      \n",
      " |      This can be called as\n",
      " |      \n",
      " |      .. function:: to(device=None, dtype=None, non_blocking=False)\n",
      " |      \n",
      " |      .. function:: to(dtype, non_blocking=False)\n",
      " |      \n",
      " |      .. function:: to(tensor, non_blocking=False)\n",
      " |      \n",
      " |      .. function:: to(memory_format=torch.channels_last)\n",
      " |      \n",
      " |      Its signature is similar to :meth:`torch.Tensor.to`, but only accepts\n",
      " |      floating point or complex :attr:`dtype`s. In addition, this method will\n",
      " |      only cast the floating point or complex parameters and buffers to :attr:`dtype`\n",
      " |      (if given). The integral parameters and buffers will be moved\n",
      " |      :attr:`device`, if that is given, but with dtypes unchanged. When\n",
      " |      :attr:`non_blocking` is set, it tries to convert/move asynchronously\n",
      " |      with respect to the host if possible, e.g., moving CPU Tensors with\n",
      " |      pinned memory to CUDA devices.\n",
      " |      \n",
      " |      See below for examples.\n",
      " |      \n",
      " |      .. note::\n",
      " |          This method modifies the module in-place.\n",
      " |      \n",
      " |      Args:\n",
      " |          device (:class:`torch.device`): the desired device of the parameters\n",
      " |              and buffers in this module\n",
      " |          dtype (:class:`torch.dtype`): the desired floating point or complex dtype of\n",
      " |              the parameters and buffers in this module\n",
      " |          tensor (torch.Tensor): Tensor whose dtype and device are the desired\n",
      " |              dtype and device for all parameters and buffers in this module\n",
      " |          memory_format (:class:`torch.memory_format`): the desired memory\n",
      " |              format for 4D parameters and buffers in this module (keyword\n",
      " |              only argument)\n",
      " |      \n",
      " |      Returns:\n",
      " |          Module: self\n",
      " |      \n",
      " |      Examples::\n",
      " |      \n",
      " |          >>> linear = nn.Linear(2, 2)\n",
      " |          >>> linear.weight\n",
      " |          Parameter containing:\n",
      " |          tensor([[ 0.1913, -0.3420],\n",
      " |                  [-0.5113, -0.2325]])\n",
      " |          >>> linear.to(torch.double)\n",
      " |          Linear(in_features=2, out_features=2, bias=True)\n",
      " |          >>> linear.weight\n",
      " |          Parameter containing:\n",
      " |          tensor([[ 0.1913, -0.3420],\n",
      " |                  [-0.5113, -0.2325]], dtype=torch.float64)\n",
      " |          >>> gpu1 = torch.device(\"cuda:1\")\n",
      " |          >>> linear.to(gpu1, dtype=torch.half, non_blocking=True)\n",
      " |          Linear(in_features=2, out_features=2, bias=True)\n",
      " |          >>> linear.weight\n",
      " |          Parameter containing:\n",
      " |          tensor([[ 0.1914, -0.3420],\n",
      " |                  [-0.5112, -0.2324]], dtype=torch.float16, device='cuda:1')\n",
      " |          >>> cpu = torch.device(\"cpu\")\n",
      " |          >>> linear.to(cpu)\n",
      " |          Linear(in_features=2, out_features=2, bias=True)\n",
      " |          >>> linear.weight\n",
      " |          Parameter containing:\n",
      " |          tensor([[ 0.1914, -0.3420],\n",
      " |                  [-0.5112, -0.2324]], dtype=torch.float16)\n",
      " |      \n",
      " |          >>> linear = nn.Linear(2, 2, bias=None).to(torch.cdouble)\n",
      " |          >>> linear.weight\n",
      " |          Parameter containing:\n",
      " |          tensor([[ 0.3741+0.j,  0.2382+0.j],\n",
      " |                  [ 0.5593+0.j, -0.4443+0.j]], dtype=torch.complex128)\n",
      " |          >>> linear(torch.ones(3, 2, dtype=torch.cdouble))\n",
      " |          tensor([[0.6122+0.j, 0.1150+0.j],\n",
      " |                  [0.6122+0.j, 0.1150+0.j],\n",
      " |                  [0.6122+0.j, 0.1150+0.j]], dtype=torch.complex128)\n",
      " |  \n",
      " |  train(self: ~T, mode: bool = True) -> ~T\n",
      " |      Sets the module in training mode.\n",
      " |      \n",
      " |      This has any effect only on certain modules. See documentations of\n",
      " |      particular modules for details of their behaviors in training/evaluation\n",
      " |      mode, if they are affected, e.g. :class:`Dropout`, :class:`BatchNorm`,\n",
      " |      etc.\n",
      " |      \n",
      " |      Args:\n",
      " |          mode (bool): whether to set training mode (``True``) or evaluation\n",
      " |                       mode (``False``). Default: ``True``.\n",
      " |      \n",
      " |      Returns:\n",
      " |          Module: self\n",
      " |  \n",
      " |  type(self: ~T, dst_type: Union[torch.dtype, str]) -> ~T\n",
      " |      Casts all parameters and buffers to :attr:`dst_type`.\n",
      " |      \n",
      " |      Args:\n",
      " |          dst_type (type or string): the desired type\n",
      " |      \n",
      " |      Returns:\n",
      " |          Module: self\n",
      " |  \n",
      " |  xpu(self: ~T, device: Union[int, torch.device, NoneType] = None) -> ~T\n",
      " |      Moves all model parameters and buffers to the XPU.\n",
      " |      \n",
      " |      This also makes associated parameters and buffers different objects. So\n",
      " |      it should be called before constructing optimizer if the module will\n",
      " |      live on XPU while being optimized.\n",
      " |      \n",
      " |      Arguments:\n",
      " |          device (int, optional): if specified, all parameters will be\n",
      " |              copied to that device\n",
      " |      \n",
      " |      Returns:\n",
      " |          Module: self\n",
      " |  \n",
      " |  zero_grad(self, set_to_none: bool = False) -> None\n",
      " |      Sets gradients of all model parameters to zero. See similar function\n",
      " |      under :class:`torch.optim.Optimizer` for more context.\n",
      " |      \n",
      " |      Args:\n",
      " |          set_to_none (bool): instead of setting to zero, set the grads to None.\n",
      " |              See :meth:`torch.optim.Optimizer.zero_grad` for details.\n",
      " |  \n",
      " |  ----------------------------------------------------------------------\n",
      " |  Data descriptors inherited from torch.nn.modules.module.Module:\n",
      " |  \n",
      " |  __dict__\n",
      " |      dictionary for instance variables (if defined)\n",
      " |  \n",
      " |  __weakref__\n",
      " |      list of weak references to the object (if defined)\n",
      " |  \n",
      " |  ----------------------------------------------------------------------\n",
      " |  Data and other attributes inherited from torch.nn.modules.module.Module:\n",
      " |  \n",
      " |  T_destination = ~T_destination\n",
      " |  \n",
      " |  __annotations__ = {'__call__': typing.Callable[..., typing.Any], '_is_...\n",
      " |  \n",
      " |  dump_patches = False\n",
      " |  \n",
      " |  ----------------------------------------------------------------------\n",
      " |  Methods inherited from transformers.modeling_utils.ModuleUtilsMixin:\n",
      " |  \n",
      " |  add_memory_hooks(self)\n",
      " |      Add a memory hook before and after each sub-module forward pass to record increase in memory consumption.\n",
      " |      \n",
      " |      Increase in memory consumption is stored in a :obj:`mem_rss_diff` attribute for each module and can be reset to\n",
      " |      zero with :obj:`model.reset_memory_hooks_state()`.\n",
      " |  \n",
      " |  estimate_tokens(self, input_dict: Dict[str, Union[torch.Tensor, Any]]) -> int\n",
      " |      Helper function to estimate the total number of tokens from the model inputs.\n",
      " |      \n",
      " |      Args:\n",
      " |          inputs (:obj:`dict`): The model inputs.\n",
      " |      \n",
      " |      Returns:\n",
      " |          :obj:`int`: The total number of tokens.\n",
      " |  \n",
      " |  floating_point_ops(self, input_dict: Dict[str, Union[torch.Tensor, Any]], exclude_embeddings: bool = True) -> int\n",
      " |      Get number of (optionally, non-embeddings) floating-point operations for the forward and backward passes of a\n",
      " |      batch with this transformer model. Default approximation neglects the quadratic dependency on the number of\n",
      " |      tokens (valid if :obj:`12 * d_model << sequence_length`) as laid out in `this paper\n",
      " |      <https://arxiv.org/pdf/2001.08361.pdf>`__ section 2.1. Should be overridden for transformers with parameter\n",
      " |      re-use e.g. Albert or Universal Transformers, or if doing long-range modeling with very high sequence lengths.\n",
      " |      \n",
      " |      Args:\n",
      " |          batch_size (:obj:`int`):\n",
      " |              The batch size for the forward pass.\n",
      " |      \n",
      " |          sequence_length (:obj:`int`):\n",
      " |              The number of tokens in each line of the batch.\n",
      " |      \n",
      " |          exclude_embeddings (:obj:`bool`, `optional`, defaults to :obj:`True`):\n",
      " |              Whether or not to count embedding and softmax operations.\n",
      " |      \n",
      " |      Returns:\n",
      " |          :obj:`int`: The number of floating-point operations.\n",
      " |  \n",
      " |  get_extended_attention_mask(self, attention_mask: torch.Tensor, input_shape: Tuple[int], device: <property object at 0x7f4ff236b180>) -> torch.Tensor\n",
      " |      Makes broadcastable attention and causal masks so that future and masked tokens are ignored.\n",
      " |      \n",
      " |      Arguments:\n",
      " |          attention_mask (:obj:`torch.Tensor`):\n",
      " |              Mask with ones indicating tokens to attend to, zeros for tokens to ignore.\n",
      " |          input_shape (:obj:`Tuple[int]`):\n",
      " |              The shape of the input to the model.\n",
      " |          device: (:obj:`torch.device`):\n",
      " |              The device of the input to the model.\n",
      " |      \n",
      " |      Returns:\n",
      " |          :obj:`torch.Tensor` The extended attention mask, with a the same dtype as :obj:`attention_mask.dtype`.\n",
      " |  \n",
      " |  get_head_mask(self, head_mask: Union[torch.Tensor, NoneType], num_hidden_layers: int, is_attention_chunked: bool = False) -> torch.Tensor\n",
      " |      Prepare the head mask if needed.\n",
      " |      \n",
      " |      Args:\n",
      " |          head_mask (:obj:`torch.Tensor` with shape :obj:`[num_heads]` or :obj:`[num_hidden_layers x num_heads]`, `optional`):\n",
      " |              The mask indicating if we should keep the heads or not (1.0 for keep, 0.0 for discard).\n",
      " |          num_hidden_layers (:obj:`int`):\n",
      " |              The number of hidden layers in the model.\n",
      " |          is_attention_chunked: (:obj:`bool`, `optional, defaults to :obj:`False`):\n",
      " |              Whether or not the attentions scores are computed by chunks or not.\n",
      " |      \n",
      " |      Returns:\n",
      " |          :obj:`torch.Tensor` with shape :obj:`[num_hidden_layers x batch x num_heads x seq_length x seq_length]` or\n",
      " |          list with :obj:`[None]` for each layer.\n",
      " |  \n",
      " |  invert_attention_mask(self, encoder_attention_mask: torch.Tensor) -> torch.Tensor\n",
      " |      Invert an attention mask (e.g., switches 0. and 1.).\n",
      " |      \n",
      " |      Args:\n",
      " |          encoder_attention_mask (:obj:`torch.Tensor`): An attention mask.\n",
      " |      \n",
      " |      Returns:\n",
      " |          :obj:`torch.Tensor`: The inverted attention mask.\n",
      " |  \n",
      " |  num_parameters(self, only_trainable: bool = False, exclude_embeddings: bool = False) -> int\n",
      " |      Get number of (optionally, trainable or non-embeddings) parameters in the module.\n",
      " |      \n",
      " |      Args:\n",
      " |          only_trainable (:obj:`bool`, `optional`, defaults to :obj:`False`):\n",
      " |              Whether or not to return only the number of trainable parameters\n",
      " |      \n",
      " |          exclude_embeddings (:obj:`bool`, `optional`, defaults to :obj:`False`):\n",
      " |              Whether or not to return only the number of non-embeddings parameters\n",
      " |      \n",
      " |      Returns:\n",
      " |          :obj:`int`: The number of parameters.\n",
      " |  \n",
      " |  reset_memory_hooks_state(self)\n",
      " |      Reset the :obj:`mem_rss_diff` attribute of each module (see\n",
      " |      :func:`~transformers.modeling_utils.ModuleUtilsMixin.add_memory_hooks`).\n",
      " |  \n",
      " |  ----------------------------------------------------------------------\n",
      " |  Readonly properties inherited from transformers.modeling_utils.ModuleUtilsMixin:\n",
      " |  \n",
      " |  device\n",
      " |      :obj:`torch.device`: The device on which the module is (assuming that all the module parameters are on the same\n",
      " |      device).\n",
      " |  \n",
      " |  dtype\n",
      " |      :obj:`torch.dtype`: The dtype of the module (assuming that all the module parameters have the same dtype).\n",
      " |  \n",
      " |  ----------------------------------------------------------------------\n",
      " |  Methods inherited from transformers.generation_utils.GenerationMixin:\n",
      " |  \n",
      " |  adjust_logits_during_generation(self, logits: torch.FloatTensor, **kwargs) -> torch.FloatTensor\n",
      " |      Implement in subclasses of :class:`~transformers.PreTrainedModel` for custom behavior to adjust the logits in\n",
      " |      the generate method.\n",
      " |  \n",
      " |  beam_sample(self, input_ids: torch.LongTensor, beam_scorer: transformers.generation_beam_search.BeamScorer, logits_processor: Union[transformers.generation_logits_process.LogitsProcessorList, NoneType] = None, stopping_criteria: Union[transformers.generation_stopping_criteria.StoppingCriteriaList, NoneType] = None, logits_warper: Union[transformers.generation_logits_process.LogitsProcessorList, NoneType] = None, max_length: Union[int, NoneType] = None, pad_token_id: Union[int, NoneType] = None, eos_token_id: Union[int, NoneType] = None, output_attentions: Union[bool, NoneType] = None, output_hidden_states: Union[bool, NoneType] = None, output_scores: Union[bool, NoneType] = None, return_dict_in_generate: Union[bool, NoneType] = None, **model_kwargs) -> Union[transformers.generation_utils.BeamSampleEncoderDecoderOutput, transformers.generation_utils.BeamSampleDecoderOnlyOutput, torch.LongTensor]\n",
      " |      Generates sequences for models with a language modeling head using beam search with multinomial sampling.\n",
      " |      \n",
      " |      Parameters:\n",
      " |      \n",
      " |          input_ids (:obj:`torch.LongTensor` of shape :obj:`(batch_size, sequence_length)`, `optional`):\n",
      " |              The sequence used as a prompt for the generation. If :obj:`None` the method initializes it as an empty\n",
      " |              :obj:`torch.LongTensor` of shape :obj:`(1,)`.\n",
      " |          beam_scorer (:obj:`BeamScorer`):\n",
      " |              A derived instance of :class:`~transformers.BeamScorer` that defines how beam hypotheses are\n",
      " |              constructed, stored and sorted during generation. For more information, the documentation of\n",
      " |              :class:`~transformers.BeamScorer` should be read.\n",
      " |          logits_processor (:obj:`LogitsProcessorList`, `optional`):\n",
      " |              An instance of :class:`~transformers.LogitsProcessorList`. List of instances of class derived from\n",
      " |              :class:`~transformers.LogitsProcessor` used to modify the prediction scores of the language modeling\n",
      " |              head applied at each generation step.\n",
      " |          stopping_criteria (:obj:`StoppingCriteriaList`, `optional`):\n",
      " |              An instance of :class:`~transformers.StoppingCriteriaList`. List of instances of class derived from\n",
      " |              :class:`~transformers.StoppingCriteria` used to tell if the generation loop should stop.\n",
      " |          logits_warper (:obj:`LogitsProcessorList`, `optional`):\n",
      " |              An instance of :class:`~transformers.LogitsProcessorList`. List of instances of class derived from\n",
      " |              :class:`~transformers.LogitsWarper` used to warp the prediction score distribution of the language\n",
      " |              modeling head applied before multinomial sampling at each generation step.\n",
      " |          max_length (:obj:`int`, `optional`, defaults to 20):\n",
      " |              The maximum length of the sequence to be generated.\n",
      " |          pad_token_id (:obj:`int`, `optional`):\n",
      " |              The id of the `padding` token.\n",
      " |          eos_token_id (:obj:`int`, `optional`):\n",
      " |              The id of the `end-of-sequence` token.\n",
      " |          output_attentions (:obj:`bool`, `optional`, defaults to `False`):\n",
      " |              Whether or not to return the attentions tensors of all attention layers. See ``attentions`` under\n",
      " |              returned tensors for more details.\n",
      " |          output_hidden_states (:obj:`bool`, `optional`, defaults to `False`):\n",
      " |              Whether or not to return trhe hidden states of all layers. See ``hidden_states`` under returned tensors\n",
      " |              for more details.\n",
      " |          output_scores (:obj:`bool`, `optional`, defaults to `False`):\n",
      " |              Whether or not to return the prediction scores. See ``scores`` under returned tensors for more details.\n",
      " |          return_dict_in_generate (:obj:`bool`, `optional`, defaults to `False`):\n",
      " |              Whether or not to return a :class:`~transformers.file_utils.ModelOutput` instead of a plain tuple.\n",
      " |          model_kwargs:\n",
      " |              Additional model specific kwargs will be forwarded to the :obj:`forward` function of the model. If\n",
      " |              model is an encoder-decoder model the kwargs should include :obj:`encoder_outputs`.\n",
      " |      \n",
      " |      Return:\n",
      " |          :class:`~transformers.generation_utils.BeamSampleDecoderOnlyOutput`,\n",
      " |          :class:`~transformers.generation_utils.BeamSampleEncoderDecoderOutput` or obj:`torch.LongTensor`: A\n",
      " |          :obj:`torch.LongTensor` containing the generated tokens (default behaviour) or a\n",
      " |          :class:`~transformers.generation_utils.BeamSampleDecoderOnlyOutput` if\n",
      " |          ``model.config.is_encoder_decoder=False`` and ``return_dict_in_generate=True`` or a\n",
      " |          :class:`~transformers.generation_utils.BeamSampleEncoderDecoderOutput` if\n",
      " |          ``model.config.is_encoder_decoder=True``.\n",
      " |      \n",
      " |      Examples::\n",
      " |      \n",
      " |          >>> from transformers import (\n",
      " |          ...     AutoTokenizer,\n",
      " |          ...     AutoModelForSeq2SeqLM,\n",
      " |          ...     LogitsProcessorList,\n",
      " |          ...     MinLengthLogitsProcessor,\n",
      " |          ...     TopKLogitsWarper,\n",
      " |          ...     TemperatureLogitsWarper,\n",
      " |          ...     BeamSearchScorer,\n",
      " |          ... )\n",
      " |          >>> import torch\n",
      " |      \n",
      " |          >>> tokenizer = AutoTokenizer.from_pretrained(\"t5-base\")\n",
      " |          >>> model = AutoModelForSeq2SeqLM.from_pretrained(\"t5-base\")\n",
      " |      \n",
      " |          >>> encoder_input_str = \"translate English to German: How old are you?\"\n",
      " |          >>> encoder_input_ids = tokenizer(encoder_input_str, return_tensors=\"pt\").input_ids\n",
      " |      \n",
      " |          >>> # lets run beam search using 3 beams\n",
      " |          >>> num_beams = 3\n",
      " |          >>> # define decoder start token ids\n",
      " |          >>> input_ids = torch.ones((num_beams, 1), device=model.device, dtype=torch.long)\n",
      " |          >>> input_ids = input_ids * model.config.decoder_start_token_id\n",
      " |      \n",
      " |          >>> # add encoder_outputs to model keyword arguments\n",
      " |          >>> model_kwargs = {\n",
      " |          ...     \"encoder_outputs\": model.get_encoder()(encoder_input_ids.repeat_interleave(num_beams, dim=0), return_dict=True)\n",
      " |          ... }\n",
      " |      \n",
      " |          >>> # instantiate beam scorer\n",
      " |          >>> beam_scorer = BeamSearchScorer(\n",
      " |          ...     batch_size=1,\n",
      " |          ...     max_length=model.config.max_length,\n",
      " |          ...     num_beams=num_beams,\n",
      " |          ...     device=model.device,\n",
      " |          ... )\n",
      " |      \n",
      " |          >>> # instantiate logits processors\n",
      " |          >>> logits_processor = LogitsProcessorList([\n",
      " |          ...     MinLengthLogitsProcessor(5, eos_token_id=model.config.eos_token_id)\n",
      " |          ... ])\n",
      " |          >>> # instantiate logits processors\n",
      " |          >>> logits_warper = LogitsProcessorList([\n",
      " |          ...     TopKLogitsWarper(50),\n",
      " |          ...     TemperatureLogitsWarper(0.7),\n",
      " |          ... ])\n",
      " |      \n",
      " |          >>> outputs = model.beam_sample(\n",
      " |          ...     input_ids, beam_scorer, logits_processor=logits_processor, logits_warper=logits_warper, **model_kwargs\n",
      " |          ... )\n",
      " |      \n",
      " |          >>> print(\"Generated:\", tokenizer.batch_decode(outputs, skip_special_tokens=True))\n",
      " |  \n",
      " |  beam_search(self, input_ids: torch.LongTensor, beam_scorer: transformers.generation_beam_search.BeamScorer, logits_processor: Union[transformers.generation_logits_process.LogitsProcessorList, NoneType] = None, stopping_criteria: Union[transformers.generation_stopping_criteria.StoppingCriteriaList, NoneType] = None, max_length: Union[int, NoneType] = None, pad_token_id: Union[int, NoneType] = None, eos_token_id: Union[int, NoneType] = None, output_attentions: Union[bool, NoneType] = None, output_hidden_states: Union[bool, NoneType] = None, output_scores: Union[bool, NoneType] = None, return_dict_in_generate: Union[bool, NoneType] = None, **model_kwargs) -> Union[transformers.generation_utils.BeamSearchEncoderDecoderOutput, transformers.generation_utils.BeamSearchDecoderOnlyOutput, torch.LongTensor]\n",
      " |      Generates sequences for models with a language modeling head using beam search decoding.\n",
      " |      \n",
      " |      Parameters:\n",
      " |      \n",
      " |          input_ids (:obj:`torch.LongTensor` of shape :obj:`(batch_size, sequence_length)`, `optional`):\n",
      " |              The sequence used as a prompt for the generation. If :obj:`None` the method initializes it as an empty\n",
      " |              :obj:`torch.LongTensor` of shape :obj:`(1,)`.\n",
      " |          beam_scorer (:obj:`BeamScorer`):\n",
      " |              An derived instance of :class:`~transformers.BeamScorer` that defines how beam hypotheses are\n",
      " |              constructed, stored and sorted during generation. For more information, the documentation of\n",
      " |              :class:`~transformers.BeamScorer` should be read.\n",
      " |          logits_processor (:obj:`LogitsProcessorList`, `optional`):\n",
      " |              An instance of :class:`~transformers.LogitsProcessorList`. List of instances of class derived from\n",
      " |              :class:`~transformers.LogitsProcessor` used to modify the prediction scores of the language modeling\n",
      " |              head applied at each generation step.\n",
      " |          stopping_criteria (:obj:`StoppingCriteriaList`, `optional`):\n",
      " |              An instance of :class:`~transformers.StoppingCriteriaList`. List of instances of class derived from\n",
      " |              :class:`~transformers.StoppingCriteria` used to tell if the generation loop should stop.\n",
      " |          max_length (:obj:`int`, `optional`, defaults to 20):\n",
      " |              The maximum length of the sequence to be generated.\n",
      " |          pad_token_id (:obj:`int`, `optional`):\n",
      " |              The id of the `padding` token.\n",
      " |          eos_token_id (:obj:`int`, `optional`):\n",
      " |              The id of the `end-of-sequence` token.\n",
      " |          output_attentions (:obj:`bool`, `optional`, defaults to `False`):\n",
      " |              Whether or not to return the attentions tensors of all attention layers. See ``attentions`` under\n",
      " |              returned tensors for more details.\n",
      " |          output_hidden_states (:obj:`bool`, `optional`, defaults to `False`):\n",
      " |              Whether or not to return trhe hidden states of all layers. See ``hidden_states`` under returned tensors\n",
      " |              for more details.\n",
      " |          output_scores (:obj:`bool`, `optional`, defaults to `False`):\n",
      " |              Whether or not to return the prediction scores. See ``scores`` under returned tensors for more details.\n",
      " |          return_dict_in_generate (:obj:`bool`, `optional`, defaults to `False`):\n",
      " |              Whether or not to return a :class:`~transformers.file_utils.ModelOutput` instead of a plain tuple.\n",
      " |          model_kwargs:\n",
      " |              Additional model specific kwargs will be forwarded to the :obj:`forward` function of the model. If\n",
      " |              model is an encoder-decoder model the kwargs should include :obj:`encoder_outputs`.\n",
      " |      \n",
      " |      Return:\n",
      " |          :class:`~transformers.generation_utilsBeamSearchDecoderOnlyOutput`,\n",
      " |          :class:`~transformers.generation_utils.BeamSearchEncoderDecoderOutput` or obj:`torch.LongTensor`: A\n",
      " |          :obj:`torch.LongTensor` containing the generated tokens (default behaviour) or a\n",
      " |          :class:`~transformers.generation_utils.BeamSearchDecoderOnlyOutput` if\n",
      " |          ``model.config.is_encoder_decoder=False`` and ``return_dict_in_generate=True`` or a\n",
      " |          :class:`~transformers.generation_utils.BeamSearchEncoderDecoderOutput` if\n",
      " |          ``model.config.is_encoder_decoder=True``.\n",
      " |      \n",
      " |      \n",
      " |      Examples::\n",
      " |      \n",
      " |          >>> from transformers import (\n",
      " |          ...    AutoTokenizer,\n",
      " |          ...    AutoModelForSeq2SeqLM,\n",
      " |          ...    LogitsProcessorList,\n",
      " |          ...    MinLengthLogitsProcessor,\n",
      " |          ...    BeamSearchScorer,\n",
      " |          ... )\n",
      " |          >>> import torch\n",
      " |      \n",
      " |          >>> tokenizer = AutoTokenizer.from_pretrained(\"t5-base\")\n",
      " |          >>> model = AutoModelForSeq2SeqLM.from_pretrained(\"t5-base\")\n",
      " |      \n",
      " |          >>> encoder_input_str = \"translate English to German: How old are you?\"\n",
      " |          >>> encoder_input_ids = tokenizer(encoder_input_str, return_tensors=\"pt\").input_ids\n",
      " |      \n",
      " |      \n",
      " |          >>> # lets run beam search using 3 beams\n",
      " |          >>> num_beams = 3\n",
      " |          >>> # define decoder start token ids\n",
      " |          >>> input_ids = torch.ones((num_beams, 1), device=model.device, dtype=torch.long)\n",
      " |          >>> input_ids = input_ids * model.config.decoder_start_token_id\n",
      " |      \n",
      " |          >>> # add encoder_outputs to model keyword arguments\n",
      " |          >>> model_kwargs = {\n",
      " |          ...     \"encoder_outputs\": model.get_encoder()(encoder_input_ids.repeat_interleave(num_beams, dim=0), return_dict=True)\n",
      " |          ... }\n",
      " |      \n",
      " |          >>> # instantiate beam scorer\n",
      " |          >>> beam_scorer = BeamSearchScorer(\n",
      " |          ...     batch_size=1,\n",
      " |          ...     max_length=model.config.max_length,\n",
      " |          ...     num_beams=num_beams,\n",
      " |          ...     device=model.device,\n",
      " |          ... )\n",
      " |      \n",
      " |          >>> # instantiate logits processors\n",
      " |          >>> logits_processor = LogitsProcessorList([\n",
      " |          ...     MinLengthLogitsProcessor(5, eos_token_id=model.config.eos_token_id),\n",
      " |          ... ])\n",
      " |      \n",
      " |          >>> outputs = model.beam_search(input_ids, beam_scorer, logits_processor=logits_processor, **model_kwargs)\n",
      " |      \n",
      " |          >>> print(\"Generated:\", tokenizer.batch_decode(outputs, skip_special_tokens=True))\n",
      " |  \n",
      " |  generate(self, input_ids: Union[torch.LongTensor, NoneType] = None, max_length: Union[int, NoneType] = None, min_length: Union[int, NoneType] = None, do_sample: Union[bool, NoneType] = None, early_stopping: Union[bool, NoneType] = None, num_beams: Union[int, NoneType] = None, temperature: Union[float, NoneType] = None, top_k: Union[int, NoneType] = None, top_p: Union[float, NoneType] = None, repetition_penalty: Union[float, NoneType] = None, bad_words_ids: Union[Iterable[int], NoneType] = None, bos_token_id: Union[int, NoneType] = None, pad_token_id: Union[int, NoneType] = None, eos_token_id: Union[int, NoneType] = None, length_penalty: Union[float, NoneType] = None, no_repeat_ngram_size: Union[int, NoneType] = None, encoder_no_repeat_ngram_size: Union[int, NoneType] = None, num_return_sequences: Union[int, NoneType] = None, max_time: Union[float, NoneType] = None, decoder_start_token_id: Union[int, NoneType] = None, use_cache: Union[bool, NoneType] = None, num_beam_groups: Union[int, NoneType] = None, diversity_penalty: Union[float, NoneType] = None, prefix_allowed_tokens_fn: Union[Callable[[int, torch.Tensor], List[int]], NoneType] = None, output_attentions: Union[bool, NoneType] = None, output_hidden_states: Union[bool, NoneType] = None, output_scores: Union[bool, NoneType] = None, return_dict_in_generate: Union[bool, NoneType] = None, forced_bos_token_id: Union[int, NoneType] = None, forced_eos_token_id: Union[int, NoneType] = None, **model_kwargs) -> Union[transformers.generation_utils.GreedySearchEncoderDecoderOutput, transformers.generation_utils.GreedySearchDecoderOnlyOutput, transformers.generation_utils.SampleEncoderDecoderOutput, transformers.generation_utils.SampleDecoderOnlyOutput, transformers.generation_utils.BeamSearchEncoderDecoderOutput, transformers.generation_utils.BeamSearchDecoderOnlyOutput, transformers.generation_utils.BeamSampleEncoderDecoderOutput, transformers.generation_utils.BeamSampleDecoderOnlyOutput, torch.LongTensor]\n",
      " |      Generates sequences for models with a language modeling head. The method currently supports greedy decoding,\n",
      " |      multinomial sampling, beam-search decoding, and beam-search multinomial sampling.\n",
      " |      \n",
      " |      Apart from :obj:`input_ids` and :obj:`attention_mask`, all the arguments below will default to the value of the\n",
      " |      attribute of the same name inside the :class:`~transformers.PretrainedConfig` of the model. The default values\n",
      " |      indicated are the default values of those config.\n",
      " |      \n",
      " |      Most of these parameters are explained in more detail in `this blog post\n",
      " |      <https://huggingface.co/blog/how-to-generate>`__.\n",
      " |      \n",
      " |      Parameters:\n",
      " |      \n",
      " |          input_ids (:obj:`torch.LongTensor` of shape :obj:`(batch_size, sequence_length)`, `optional`):\n",
      " |              The sequence used as a prompt for the generation. If :obj:`None` the method initializes it as an empty\n",
      " |              :obj:`torch.LongTensor` of shape :obj:`(1,)`.\n",
      " |          max_length (:obj:`int`, `optional`, defaults to 20):\n",
      " |              The maximum length of the sequence to be generated.\n",
      " |          min_length (:obj:`int`, `optional`, defaults to 10):\n",
      " |              The minimum length of the sequence to be generated.\n",
      " |          do_sample (:obj:`bool`, `optional`, defaults to :obj:`False`):\n",
      " |              Whether or not to use sampling ; use greedy decoding otherwise.\n",
      " |          early_stopping (:obj:`bool`, `optional`, defaults to :obj:`False`):\n",
      " |              Whether to stop the beam search when at least ``num_beams`` sentences are finished per batch or not.\n",
      " |          num_beams (:obj:`int`, `optional`, defaults to 1):\n",
      " |              Number of beams for beam search. 1 means no beam search.\n",
      " |          temperature (:obj:`float`, `optional`, defaults tp 1.0):\n",
      " |              The value used to module the next token probabilities.\n",
      " |          top_k (:obj:`int`, `optional`, defaults to 50):\n",
      " |              The number of highest probability vocabulary tokens to keep for top-k-filtering.\n",
      " |          top_p (:obj:`float`, `optional`, defaults to 1.0):\n",
      " |              If set to float < 1, only the most probable tokens with probabilities that add up to :obj:`top_p` or\n",
      " |              higher are kept for generation.\n",
      " |          repetition_penalty (:obj:`float`, `optional`, defaults to 1.0):\n",
      " |              The parameter for repetition penalty. 1.0 means no penalty. See `this paper\n",
      " |              <https://arxiv.org/pdf/1909.05858.pdf>`__ for more details.\n",
      " |          pad_token_id (:obj:`int`, `optional`):\n",
      " |              The id of the `padding` token.\n",
      " |          bos_token_id (:obj:`int`, `optional`):\n",
      " |              The id of the `beginning-of-sequence` token.\n",
      " |          eos_token_id (:obj:`int`, `optional`):\n",
      " |              The id of the `end-of-sequence` token.\n",
      " |          length_penalty (:obj:`float`, `optional`, defaults to 1.0):\n",
      " |              Exponential penalty to the length. 1.0 means no penalty. Set to values < 1.0 in order to encourage the\n",
      " |              model to generate shorter sequences, to a value > 1.0 in order to encourage the model to produce longer\n",
      " |              sequences.\n",
      " |          no_repeat_ngram_size (:obj:`int`, `optional`, defaults to 0):\n",
      " |              If set to int > 0, all ngrams of that size can only occur once.\n",
      " |          encoder_no_repeat_ngram_size (:obj:`int`, `optional`, defaults to 0):\n",
      " |              If set to int > 0, all ngrams of that size that occur in the ``encoder_input_ids`` cannot occur in the\n",
      " |              ``decoder_input_ids``.\n",
      " |          bad_words_ids(:obj:`List[List[int]]`, `optional`):\n",
      " |              List of token ids that are not allowed to be generated. In order to get the tokens of the words that\n",
      " |              should not appear in the generated text, use :obj:`tokenizer(bad_word,\n",
      " |              add_prefix_space=True).input_ids`.\n",
      " |          num_return_sequences(:obj:`int`, `optional`, defaults to 1):\n",
      " |              The number of independently computed returned sequences for each element in the batch.\n",
      " |          max_time(:obj:`float`, `optional`, defaults to None):\n",
      " |              The maximum amount of time you allow the computation to run for in seconds. generation will still\n",
      " |              finish the current pass after allocated time has been passed.\n",
      " |          attention_mask (:obj:`torch.LongTensor` of shape :obj:`(batch_size, sequence_length)`, `optional`):\n",
      " |              Mask to avoid performing attention on padding token indices. Mask values are in ``[0, 1]``, 1 for\n",
      " |              tokens that are not masked, and 0 for masked tokens. If not provided, will default to a tensor the same\n",
      " |              shape as :obj:`input_ids` that masks the pad token. `What are attention masks?\n",
      " |              <../glossary.html#attention-mask>`__\n",
      " |          decoder_start_token_id (:obj:`int`, `optional`):\n",
      " |              If an encoder-decoder model starts decoding with a different token than `bos`, the id of that token.\n",
      " |          use_cache: (:obj:`bool`, `optional`, defaults to :obj:`True`):\n",
      " |              Whether or not the model should use the past last key/values attentions (if applicable to the model) to\n",
      " |              speed up decoding.\n",
      " |          num_beam_groups (:obj:`int`, `optional`, defaults to 1):\n",
      " |              Number of groups to divide :obj:`num_beams` into in order to ensure diversity among different groups of\n",
      " |              beams. `this paper <https://arxiv.org/pdf/1610.02424.pdf>`__ for more details.\n",
      " |          diversity_penalty (:obj:`float`, `optional`, defaults to 0.0):\n",
      " |              This value is subtracted from a beam's score if it generates a token same as any beam from other group\n",
      " |              at a particular time. Note that :obj:`diversity_penalty` is only effective if ``group beam search`` is\n",
      " |              enabled.\n",
      " |          prefix_allowed_tokens_fn: (:obj:`Callable[[int, torch.Tensor], List[int]]`, `optional`):\n",
      " |              If provided, this function constraints the beam search to allowed tokens only at each step. If not\n",
      " |              provided no constraint is applied. This function takes 2 arguments :obj:`inputs_ids` and the batch ID\n",
      " |              :obj:`batch_id`. It has to return a list with the allowed tokens for the next generation step\n",
      " |              conditioned on the previously generated tokens :obj:`inputs_ids` and the batch ID :obj:`batch_id`. This\n",
      " |              argument is useful for constrained generation conditioned on the prefix, as described in\n",
      " |              `Autoregressive Entity Retrieval <https://arxiv.org/abs/2010.00904>`__.\n",
      " |          output_attentions (:obj:`bool`, `optional`, defaults to `False`):\n",
      " |              Whether or not to return the attentions tensors of all attention layers. See ``attentions`` under\n",
      " |              returned tensors for more details.\n",
      " |          output_hidden_states (:obj:`bool`, `optional`, defaults to `False`):\n",
      " |              Whether or not to return trhe hidden states of all layers. See ``hidden_states`` under returned tensors\n",
      " |              for more details.\n",
      " |          output_scores (:obj:`bool`, `optional`, defaults to `False`):\n",
      " |              Whether or not to return the prediction scores. See ``scores`` under returned tensors for more details.\n",
      " |          return_dict_in_generate (:obj:`bool`, `optional`, defaults to `False`):\n",
      " |              Whether or not to return a :class:`~transformers.file_utils.ModelOutput` instead of a plain tuple.\n",
      " |          forced_bos_token_id (:obj:`int`, `optional`):\n",
      " |              The id of the token to force as the first generated token after the :obj:`decoder_start_token_id`.\n",
      " |              Useful for multilingual models like :doc:`mBART <../model_doc/mbart>` where the first generated token\n",
      " |              needs to be the target language token.\n",
      " |          forced_eos_token_id (:obj:`int`, `optional`):\n",
      " |              The id of the token to force as the last generated token when :obj:`max_length` is reached.\n",
      " |      \n",
      " |          model_kwargs:\n",
      " |              Additional model specific kwargs will be forwarded to the :obj:`forward` function of the model. If the\n",
      " |              model is an encoder-decoder model, encoder specific kwargs should not be prefixed and decoder specific\n",
      " |              kwargs should be prefixed with `decoder_`.\n",
      " |      \n",
      " |      Return:\n",
      " |          :class:`~transformers.file_utils.ModelOutput` or :obj:`torch.LongTensor`: A\n",
      " |          :class:`~transformers.file_utils.ModelOutput` (if ``return_dict_in_generate=True`` or when\n",
      " |          ``config.return_dict_in_generate=True``) or a :obj:`torch.FloatTensor`.\n",
      " |      \n",
      " |              If the model is `not` an encoder-decoder model (``model.config.is_encoder_decoder=False``), the\n",
      " |              possible :class:`~transformers.file_utils.ModelOutput` types are:\n",
      " |      \n",
      " |                  - :class:`~transformers.generation_utils.GreedySearchDecoderOnlyOutput`,\n",
      " |                  - :class:`~transformers.generation_utils.SampleDecoderOnlyOutput`,\n",
      " |                  - :class:`~transformers.generation_utils.BeamSearchDecoderOnlyOutput`,\n",
      " |                  - :class:`~transformers.generation_utils.BeamSampleDecoderOnlyOutput`\n",
      " |      \n",
      " |              If the model is an encoder-decoder model (``model.config.is_encoder_decoder=True``), the possible\n",
      " |              :class:`~transformers.file_utils.ModelOutput` types are:\n",
      " |      \n",
      " |                  - :class:`~transformers.generation_utils.GreedySearchEncoderDecoderOutput`,\n",
      " |                  - :class:`~transformers.generation_utils.SampleEncoderDecoderOutput`,\n",
      " |                  - :class:`~transformers.generation_utils.BeamSearchEncoderDecoderOutput`,\n",
      " |                  - :class:`~transformers.generation_utils.BeamSampleEncoderDecoderOutput`\n",
      " |      \n",
      " |      Examples::\n",
      " |          >>> from transformers import AutoTokenizer, AutoModelForCausalLM, AutoModelForSeq2SeqLM\n",
      " |      \n",
      " |          >>> tokenizer = AutoTokenizer.from_pretrained(\"distilgpt2\")\n",
      " |          >>> model = AutoModelForCausalLM.from_pretrained(\"distilgpt2\")\n",
      " |          >>> # do greedy decoding without providing a prompt\n",
      " |          >>> outputs = model.generate(max_length=40)\n",
      " |          >>> print(\"Generated:\", tokenizer.decode(outputs[0], skip_special_tokens=True))\n",
      " |      \n",
      " |          >>> tokenizer = AutoTokenizer.from_pretrained(\"t5-base\")\n",
      " |          >>> model = AutoModelForSeq2SeqLM.from_pretrained(\"t5-base\")\n",
      " |          >>> document = (\n",
      " |          ... \"at least two people were killed in a suspected bomb attack on a passenger bus \"\n",
      " |          ... \"in the strife-torn southern philippines on monday , the military said.\"\n",
      " |          ... )\n",
      " |          >>> # encode input contex\n",
      " |          >>> input_ids = tokenizer(document, return_tensors=\"pt\").input_ids\n",
      " |          >>> # generate 3 independent sequences using beam search decoding (5 beams)\n",
      " |          >>> # with T5 encoder-decoder model conditioned on short news article.\n",
      " |          >>> outputs = model.generate(input_ids=input_ids, num_beams=5, num_return_sequences=3)\n",
      " |          >>> print(\"Generated:\", tokenizer.batch_decode(outputs, skip_special_tokens=True))\n",
      " |      \n",
      " |          >>> tokenizer = AutoTokenizer.from_pretrained(\"distilgpt2\")\n",
      " |          >>> model = AutoModelForCausalLM.from_pretrained(\"distilgpt2\")\n",
      " |          >>> input_context = \"The dog\"\n",
      " |          >>> # encode input context\n",
      " |          >>> input_ids = tokenizer(input_context, return_tensors=\"pt\").input_ids\n",
      " |          >>> # generate 3 candidates using sampling\n",
      " |          >>> outputs = model.generate(input_ids=input_ids, max_length=20, num_return_sequences=3, do_sample=True)\n",
      " |          >>> print(\"Generated:\", tokenizer.batch_decode(outputs, skip_special_tokens=True))\n",
      " |      \n",
      " |          >>> tokenizer = AutoTokenizer.from_pretrained(\"ctrl\")\n",
      " |          >>> model = AutoModelForCausalLM.from_pretrained(\"ctrl\")\n",
      " |          >>> # \"Legal\" is one of the control codes for ctrl\n",
      " |          >>> input_context = \"Legal My neighbor is\"\n",
      " |          >>> # encode input context\n",
      " |          >>> input_ids = tokenizer(input_context, return_tensors=\"pt\").input_ids\n",
      " |          >>> outputs = model.generate(input_ids=input_ids, max_length=20, repetition_penalty=1.2)\n",
      " |          >>> print(\"Generated:\", tokenizer.decode(outputs[0], skip_special_tokens=True))\n",
      " |      \n",
      " |          >>> tokenizer = AutoTokenizer.from_pretrained(\"gpt2\")\n",
      " |          >>> model = AutoModelForCausalLM.from_pretrained(\"gpt2\")\n",
      " |          >>> input_context = \"My cute dog\"\n",
      " |          >>> # get tokens of words that should not be generated\n",
      " |          >>> bad_words_ids = [tokenizer(bad_word, add_prefix_space=True).input_ids for bad_word in [\"idiot\", \"stupid\", \"shut up\"]]\n",
      " |          >>> # encode input context\n",
      " |          >>> input_ids = tokenizer(input_context, return_tensors=\"pt\").input_ids\n",
      " |          >>> # generate sequences without allowing bad_words to be generated\n",
      " |          >>> outputs = model.generate(input_ids=input_ids, max_length=20, do_sample=True, bad_words_ids=bad_words_ids)\n",
      " |          >>> print(\"Generated:\", tokenizer.decode(outputs[0], skip_special_tokens=True))\n",
      " |  \n",
      " |  greedy_search(self, input_ids: torch.LongTensor, logits_processor: Union[transformers.generation_logits_process.LogitsProcessorList, NoneType] = None, stopping_criteria: Union[transformers.generation_stopping_criteria.StoppingCriteriaList, NoneType] = None, max_length: Union[int, NoneType] = None, pad_token_id: Union[int, NoneType] = None, eos_token_id: Union[int, NoneType] = None, output_attentions: Union[bool, NoneType] = None, output_hidden_states: Union[bool, NoneType] = None, output_scores: Union[bool, NoneType] = None, return_dict_in_generate: Union[bool, NoneType] = None, **model_kwargs) -> Union[transformers.generation_utils.GreedySearchEncoderDecoderOutput, transformers.generation_utils.GreedySearchDecoderOnlyOutput, torch.LongTensor]\n",
      " |      Generates sequences for models with a language modeling head using greedy decoding.\n",
      " |      \n",
      " |      \n",
      " |      \n",
      " |      Parameters:\n",
      " |      \n",
      " |          input_ids (:obj:`torch.LongTensor` of shape :obj:`(batch_size, sequence_length)`, `optional`):\n",
      " |              The sequence used as a prompt for the generation. If :obj:`None` the method initializes it as an empty\n",
      " |              :obj:`torch.LongTensor` of shape :obj:`(1,)`.\n",
      " |          logits_processor (:obj:`LogitsProcessorList`, `optional`):\n",
      " |              An instance of :class:`~transformers.LogitsProcessorList`. List of instances of class derived from\n",
      " |              :class:`~transformers.LogitsProcessor` used to modify the prediction scores of the language modeling\n",
      " |              head applied at each generation step.\n",
      " |          stopping_criteria (:obj:`StoppingCriteriaList`, `optional`):\n",
      " |              An instance of :class:`~transformers.StoppingCriteriaList`. List of instances of class derived from\n",
      " |              :class:`~transformers.StoppingCriteria` used to tell if the generation loop should stop.\n",
      " |          max_length (:obj:`int`, `optional`, defaults to 20):\n",
      " |              The maximum length of the sequence to be generated.\n",
      " |          pad_token_id (:obj:`int`, `optional`):\n",
      " |              The id of the `padding` token.\n",
      " |          eos_token_id (:obj:`int`, `optional`):\n",
      " |              The id of the `end-of-sequence` token.\n",
      " |          output_attentions (:obj:`bool`, `optional`, defaults to `False`):\n",
      " |              Whether or not to return the attentions tensors of all attention layers. See ``attentions`` under\n",
      " |              returned tensors for more details.\n",
      " |          output_hidden_states (:obj:`bool`, `optional`, defaults to `False`):\n",
      " |              Whether or not to return trhe hidden states of all layers. See ``hidden_states`` under returned tensors\n",
      " |              for more details.\n",
      " |          output_scores (:obj:`bool`, `optional`, defaults to `False`):\n",
      " |              Whether or not to return the prediction scores. See ``scores`` under returned tensors for more details.\n",
      " |          return_dict_in_generate (:obj:`bool`, `optional`, defaults to `False`):\n",
      " |              Whether or not to return a :class:`~transformers.file_utils.ModelOutput` instead of a plain tuple.\n",
      " |          model_kwargs:\n",
      " |              Additional model specific keyword arguments will be forwarded to the :obj:`forward` function of the\n",
      " |              model. If model is an encoder-decoder model the kwargs should include :obj:`encoder_outputs`.\n",
      " |      \n",
      " |      Return:\n",
      " |          :class:`~transformers.generation_utils.GreedySearchDecoderOnlyOutput`,\n",
      " |          :class:`~transformers.generation_utils.GreedySearchEncoderDecoderOutput` or obj:`torch.LongTensor`: A\n",
      " |          :obj:`torch.LongTensor` containing the generated tokens (default behaviour) or a\n",
      " |          :class:`~transformers.generation_utils.GreedySearchDecoderOnlyOutput` if\n",
      " |          ``model.config.is_encoder_decoder=False`` and ``return_dict_in_generate=True`` or a\n",
      " |          :class:`~transformers.generation_utils.GreedySearchEncoderDecoderOutput` if\n",
      " |          ``model.config.is_encoder_decoder=True``.\n",
      " |      \n",
      " |      Examples::\n",
      " |      \n",
      " |          >>> from transformers import (\n",
      " |          ... AutoTokenizer,\n",
      " |          ... AutoModelForCausalLM,\n",
      " |          ... LogitsProcessorList,\n",
      " |          ... MinLengthLogitsProcessor,\n",
      " |          ... )\n",
      " |      \n",
      " |          >>> tokenizer = AutoTokenizer.from_pretrained(\"gpt2\")\n",
      " |          >>> model = AutoModelForCausalLM.from_pretrained(\"gpt2\")\n",
      " |      \n",
      " |          >>> # set pad_token_id to eos_token_id because GPT2 does not have a EOS token\n",
      " |          >>> model.config.pad_token_id = model.config.eos_token_id\n",
      " |      \n",
      " |          >>> input_prompt = \"Today is a beautiful day, and\"\n",
      " |          >>> input_ids = tokenizer(input_prompt, return_tensors=\"pt\").input_ids\n",
      " |      \n",
      " |          >>> # instantiate logits processors\n",
      " |          >>> logits_processor = LogitsProcessorList([\n",
      " |          ...     MinLengthLogitsProcessor(15, eos_token_id=model.config.eos_token_id),\n",
      " |          ... ])\n",
      " |      \n",
      " |          >>> outputs = model.greedy_search(input_ids, logits_processor=logits_processor)\n",
      " |      \n",
      " |          >>> print(\"Generated:\", tokenizer.batch_decode(outputs, skip_special_tokens=True))\n",
      " |  \n",
      " |  group_beam_search(self, input_ids: torch.LongTensor, beam_scorer: transformers.generation_beam_search.BeamScorer, logits_processor: Union[transformers.generation_logits_process.LogitsProcessorList, NoneType] = None, stopping_criteria: Union[transformers.generation_stopping_criteria.StoppingCriteriaList, NoneType] = None, max_length: Union[int, NoneType] = None, pad_token_id: Union[int, NoneType] = None, eos_token_id: Union[int, NoneType] = None, output_attentions: Union[bool, NoneType] = None, output_hidden_states: Union[bool, NoneType] = None, output_scores: Union[bool, NoneType] = None, return_dict_in_generate: Union[bool, NoneType] = None, **model_kwargs)\n",
      " |      Generates sequences for models with a language modeling head using beam search decoding.\n",
      " |      \n",
      " |      Parameters:\n",
      " |      \n",
      " |          input_ids (:obj:`torch.LongTensor` of shape :obj:`(batch_size, sequence_length)`, `optional`):\n",
      " |              The sequence used as a prompt for the generation. If :obj:`None` the method initializes it as an empty\n",
      " |              :obj:`torch.LongTensor` of shape :obj:`(1,)`.\n",
      " |          beam_scorer (:obj:`BeamScorer`):\n",
      " |              An derived instance of :class:`~transformers.BeamScorer` that defines how beam hypotheses are\n",
      " |              constructed, stored and sorted during generation. For more information, the documentation of\n",
      " |              :class:`~transformers.BeamScorer` should be read.\n",
      " |          logits_processor (:obj:`LogitsProcessorList`, `optional`):\n",
      " |              An instance of :class:`~transformers.LogitsProcessorList`. List of instances of class derived from\n",
      " |              :class:`~transformers.LogitsProcessor` used to modify the prediction scores of the language modeling\n",
      " |              head applied at each generation step.\n",
      " |          stopping_criteria (:obj:`StoppingCriteriaList`, `optional`):\n",
      " |              An instance of :class:`~transformers.StoppingCriteriaList`. List of instances of class derived from\n",
      " |              :class:`~transformers.StoppingCriteria` used to tell if the generation loop should stop.\n",
      " |          max_length (:obj:`int`, `optional`, defaults to 20):\n",
      " |              The maximum length of the sequence to be generated.\n",
      " |          pad_token_id (:obj:`int`, `optional`):\n",
      " |              The id of the `padding` token.\n",
      " |          eos_token_id (:obj:`int`, `optional`):\n",
      " |              The id of the `end-of-sequence` token.\n",
      " |          output_attentions (:obj:`bool`, `optional`, defaults to `False`):\n",
      " |              Whether or not to return the attentions tensors of all attention layers. See ``attentions`` under\n",
      " |              returned tensors for more details.\n",
      " |          output_hidden_states (:obj:`bool`, `optional`, defaults to `False`):\n",
      " |              Whether or not to return trhe hidden states of all layers. See ``hidden_states`` under returned tensors\n",
      " |              for more details.\n",
      " |          output_scores (:obj:`bool`, `optional`, defaults to `False`):\n",
      " |              Whether or not to return the prediction scores. See ``scores`` under returned tensors for more details.\n",
      " |          return_dict_in_generate (:obj:`bool`, `optional`, defaults to `False`):\n",
      " |              Whether or not to return a :class:`~transformers.file_utils.ModelOutput` instead of a plain tuple.\n",
      " |          model_kwargs:\n",
      " |              Additional model specific kwargs that will be forwarded to the :obj:`forward` function of the model. If\n",
      " |              model is an encoder-decoder model the kwargs should include :obj:`encoder_outputs`.\n",
      " |      \n",
      " |      Return:\n",
      " |          :class:`~transformers.generation_utils.BeamSearchDecoderOnlyOutput`,\n",
      " |          :class:`~transformers.generation_utils.BeamSearchEncoderDecoderOutput` or obj:`torch.LongTensor`: A\n",
      " |          :obj:`torch.LongTensor` containing the generated tokens (default behaviour) or a\n",
      " |          :class:`~transformers.generation_utils.BeamSearchDecoderOnlyOutput` if\n",
      " |          :class:`~transformers.generation_utils.BeamSearchDecoderOnlyOutput` if\n",
      " |          ``model.config.is_encoder_decoder=False`` and ``return_dict_in_generate=True`` or a\n",
      " |          :class:`~transformers.generation_utils.BeamSearchEncoderDecoderOutput` if\n",
      " |          ``model.config.is_encoder_decoder=True``.\n",
      " |      \n",
      " |      Examples::\n",
      " |      \n",
      " |          >>> from transformers import (\n",
      " |          ...    AutoTokenizer,\n",
      " |          ...    AutoModelForSeq2SeqLM,\n",
      " |          ...    LogitsProcessorList,\n",
      " |          ...    MinLengthLogitsProcessor,\n",
      " |          ...    HammingDiversityLogitsProcessor,\n",
      " |          ...    BeamSearchScorer,\n",
      " |          ... )\n",
      " |          >>> import torch\n",
      " |      \n",
      " |          >>> tokenizer = AutoTokenizer.from_pretrained(\"t5-base\")\n",
      " |          >>> model = AutoModelForSeq2SeqLM.from_pretrained(\"t5-base\")\n",
      " |      \n",
      " |          >>> encoder_input_str = \"translate English to German: How old are you?\"\n",
      " |          >>> encoder_input_ids = tokenizer(encoder_input_str, return_tensors=\"pt\").input_ids\n",
      " |      \n",
      " |      \n",
      " |          >>> # lets run diverse beam search using 6 beams\n",
      " |          >>> num_beams = 6\n",
      " |          >>> # define decoder start token ids\n",
      " |          >>> input_ids = torch.ones((num_beams, 1), device=model.device, dtype=torch.long)\n",
      " |          >>> input_ids = input_ids * model.config.decoder_start_token_id\n",
      " |      \n",
      " |          >>> # add encoder_outputs to model keyword arguments\n",
      " |          >>> model_kwargs = {\n",
      " |          ...     \"encoder_outputs\": model.get_encoder()(encoder_input_ids.repeat_interleave(num_beams, dim=0), return_dict=True)\n",
      " |          ... }\n",
      " |      \n",
      " |          >>> # instantiate beam scorer\n",
      " |          >>> beam_scorer = BeamSearchScorer(\n",
      " |          ...     batch_size=1,\n",
      " |          ...     max_length=model.config.max_length,\n",
      " |          ...     num_beams=num_beams,\n",
      " |          ...     device=model.device,\n",
      " |          ...     num_beam_groups=3\n",
      " |          ... )\n",
      " |      \n",
      " |          >>> # instantiate logits processors\n",
      " |          >>> logits_processor = LogitsProcessorList([\n",
      " |          ...     HammingDiversityLogitsProcessor(5.5, num_beams=6, num_beam_groups=3),\n",
      " |          ...     MinLengthLogitsProcessor(5, eos_token_id=model.config.eos_token_id),\n",
      " |          ... ])\n",
      " |      \n",
      " |          >>> outputs = model.group_beam_search(input_ids, beam_scorer, logits_processor=logits_processor, **model_kwargs)\n",
      " |      \n",
      " |          >>> print(\"Generated:\", tokenizer.batch_decode(outputs, skip_special_tokens=True))\n",
      " |  \n",
      " |  prepare_inputs_for_generation(self, input_ids: torch.LongTensor, **kwargs) -> Dict[str, Any]\n",
      " |      Implement in subclasses of :class:`~transformers.PreTrainedModel` for custom behavior to prepare inputs in the\n",
      " |      generate method.\n",
      " |  \n",
      " |  sample(self, input_ids: torch.LongTensor, logits_processor: Union[transformers.generation_logits_process.LogitsProcessorList, NoneType] = None, stopping_criteria: Union[transformers.generation_stopping_criteria.StoppingCriteriaList, NoneType] = None, logits_warper: Union[transformers.generation_logits_process.LogitsProcessorList, NoneType] = None, max_length: Union[int, NoneType] = None, pad_token_id: Union[int, NoneType] = None, eos_token_id: Union[int, NoneType] = None, output_attentions: Union[bool, NoneType] = None, output_hidden_states: Union[bool, NoneType] = None, output_scores: Union[bool, NoneType] = None, return_dict_in_generate: Union[bool, NoneType] = None, **model_kwargs) -> Union[transformers.generation_utils.SampleEncoderDecoderOutput, transformers.generation_utils.SampleDecoderOnlyOutput, torch.LongTensor]\n",
      " |      Generates sequences for models with a language modeling head using multinomial sampling.\n",
      " |      \n",
      " |      Parameters:\n",
      " |      \n",
      " |          input_ids (:obj:`torch.LongTensor` of shape :obj:`(batch_size, sequence_length)`, `optional`):\n",
      " |              The sequence used as a prompt for the generation. If :obj:`None` the method initializes it as an empty\n",
      " |              :obj:`torch.LongTensor` of shape :obj:`(1,)`.\n",
      " |          logits_processor (:obj:`LogitsProcessorList`, `optional`):\n",
      " |              An instance of :class:`~transformers.LogitsProcessorList`. List of instances of class derived from\n",
      " |              :class:`~transformers.LogitsProcessor` used to modify the prediction scores of the language modeling\n",
      " |              head applied at each generation step.\n",
      " |          stopping_criteria (:obj:`StoppingCriteriaList`, `optional`):\n",
      " |              An instance of :class:`~transformers.StoppingCriteriaList`. List of instances of class derived from\n",
      " |              :class:`~transformers.StoppingCriteria` used to tell if the generation loop should stop.\n",
      " |          logits_warper (:obj:`LogitsProcessorList`, `optional`):\n",
      " |              An instance of :class:`~transformers.LogitsProcessorList`. List of instances of class derived from\n",
      " |              :class:`~transformers.LogitsWarper` used to warp the prediction score distribution of the language\n",
      " |              modeling head applied before multinomial sampling at each generation step.\n",
      " |          max_length (:obj:`int`, `optional`, defaults to 20):\n",
      " |              The maximum length of the sequence to be generated.\n",
      " |          pad_token_id (:obj:`int`, `optional`):\n",
      " |              The id of the `padding` token.\n",
      " |          eos_token_id (:obj:`int`, `optional`):\n",
      " |              The id of the `end-of-sequence` token.\n",
      " |          output_attentions (:obj:`bool`, `optional`, defaults to `False`):\n",
      " |              Whether or not to return the attentions tensors of all attention layers. See ``attentions`` under\n",
      " |              returned tensors for more details.\n",
      " |          output_hidden_states (:obj:`bool`, `optional`, defaults to `False`):\n",
      " |              Whether or not to return trhe hidden states of all layers. See ``hidden_states`` under returned tensors\n",
      " |              for more details.\n",
      " |          output_scores (:obj:`bool`, `optional`, defaults to `False`):\n",
      " |              Whether or not to return the prediction scores. See ``scores`` under returned tensors for more details.\n",
      " |          return_dict_in_generate (:obj:`bool`, `optional`, defaults to `False`):\n",
      " |              Whether or not to return a :class:`~transformers.file_utils.ModelOutput` instead of a plain tuple.\n",
      " |          model_kwargs:\n",
      " |              Additional model specific kwargs will be forwarded to the :obj:`forward` function of the model. If\n",
      " |              model is an encoder-decoder model the kwargs should include :obj:`encoder_outputs`.\n",
      " |      \n",
      " |      Return:\n",
      " |          :class:`~transformers.generation_utils.SampleDecoderOnlyOutput`,\n",
      " |          :class:`~transformers.generation_utils.SampleEncoderDecoderOutput` or obj:`torch.LongTensor`: A\n",
      " |          :obj:`torch.LongTensor` containing the generated tokens (default behaviour) or a\n",
      " |          :class:`~transformers.generation_utils.SampleDecoderOnlyOutput` if\n",
      " |          ``model.config.is_encoder_decoder=False`` and ``return_dict_in_generate=True`` or a\n",
      " |          :class:`~transformers.generation_utils.SampleEncoderDecoderOutput` if\n",
      " |          ``model.config.is_encoder_decoder=True``.\n",
      " |      \n",
      " |      Examples::\n",
      " |      \n",
      " |          >>> from transformers import (\n",
      " |          ...    AutoTokenizer,\n",
      " |          ...    AutoModelForCausalLM,\n",
      " |          ...    LogitsProcessorList,\n",
      " |          ...    MinLengthLogitsProcessor,\n",
      " |          ...    TopKLogitsWarper,\n",
      " |          ...    TemperatureLogitsWarper,\n",
      " |          ... )\n",
      " |      \n",
      " |          >>> tokenizer = AutoTokenizer.from_pretrained(\"gpt2\")\n",
      " |          >>> model = AutoModelForCausalLM.from_pretrained(\"gpt2\")\n",
      " |      \n",
      " |          >>> # set pad_token_id to eos_token_id because GPT2 does not have a EOS token\n",
      " |          >>> model.config.pad_token_id = model.config.eos_token_id\n",
      " |      \n",
      " |          >>> input_prompt = \"Today is a beautiful day, and\"\n",
      " |          >>> input_ids = tokenizer(input_prompt, return_tensors=\"pt\").input_ids\n",
      " |      \n",
      " |          >>> # instantiate logits processors\n",
      " |          >>> logits_processor = LogitsProcessorList([\n",
      " |          ...     MinLengthLogitsProcessor(15, eos_token_id=model.config.eos_token_id),\n",
      " |          ... ])\n",
      " |          >>> # instantiate logits processors\n",
      " |          >>> logits_warper = LogitsProcessorList([\n",
      " |          ...     TopKLogitsWarper(50),\n",
      " |          ...     TemperatureLogitsWarper(0.7),\n",
      " |          ... ])\n",
      " |      \n",
      " |          >>> outputs = model.sample(input_ids, logits_processor=logits_processor, logits_warper=logits_warper)\n",
      " |      \n",
      " |          >>> print(\"Generated:\", tokenizer.batch_decode(outputs, skip_special_tokens=True))\n",
      "\n"
     ]
    }
   ],
   "source": [
    "help(Wav2Vec2ForCTC)"
   ]
  },
  {
   "cell_type": "markdown",
   "id": "a2c0250a",
   "metadata": {},
   "source": [
    "# Define utility functions for training"
   ]
  },
  {
   "cell_type": "code",
   "execution_count": 9,
   "id": "d81c21c9",
   "metadata": {},
   "outputs": [],
   "source": [
    "from datasets import load_metric\n",
    "from tqdm.notebook import tqdm\n",
    "\n",
    "\n",
    "def decode_output(logits):\n",
    "    pred_ids = torch.argmax(logits, dim=-1)\n",
    "    pred = processor.batch_decode(pred_ids)\n",
    "    return pred\n",
    "\n",
    "@torch.no_grad()\n",
    "def evaluation_func(model, dataloader, ref_sentences ,use_amp, device=\"cuda\"):\n",
    "    \"\"\"\n",
    "    return tuple (loss, wer)\n",
    "    \"\"\"\n",
    "    wer = load_metric(\"wer\")\n",
    "    \n",
    "    model.eval()\n",
    "    preds_amp = []\n",
    "    preds = []\n",
    "    losses_amp = []\n",
    "    losses = []\n",
    "        \n",
    "    for batch in tqdm(dataloader):\n",
    "        inputs, masks, labels = batch\n",
    "        \n",
    "        output = model(inputs.to(device), masks.to(device), labels = labels.to(device))\n",
    "        loss = output.loss.item()\n",
    "        \n",
    "        with torch.cuda.amp.autocast(enabled=use_amp):\n",
    "            output_amp = model(inputs.to(device), masks.to(device), labels = labels.to(device))\n",
    "            loss_amp = output_amp.loss.item()\n",
    "            \n",
    "        losses.append(loss)\n",
    "        losses_amp.append(loss_amp)\n",
    "        \n",
    "        logits_amp = output_amp.logits\n",
    "        logits = output.logits\n",
    "        \n",
    "        pred = decode_output(logits)\n",
    "        pred_amp = decode_output(logits_amp)\n",
    "        \n",
    "        preds.extend(pred)\n",
    "        preds_amp.extend(pred_amp)\n",
    "        \n",
    "    return sum(losses)/len(losses), sum(losses_amp)/len(losses_amp),wer.compute(predictions=preds, references=ref_sentences) ,wer.compute(predictions=preds_amp, references=ref_sentences) \n",
    "    \n",
    "def checkpoint_func(model, save_dir):\n",
    "    model.save_pretrained(save_directory=save_dir)\n",
    "    return\n",
    "\n",
    "def calculate_wer(preds, references):\n",
    "    wer = load_metric(\"wer\")\n",
    "    return 100*wer.compute(predictions=preds, references=references)\n",
    "\n",
    "def calculate_cer(preds, references):\n",
    "    cer = load_metric(\"cer\")\n",
    "    return 100*cer.compute(predictions=preds, references=references)\n",
    "    \n",
    "#evaluation_func(model, testloader, testset.data.sentence)\n",
    "#checkpoint_func(model, \"testi/\")"
   ]
  },
  {
   "cell_type": "markdown",
   "id": "5e5f9fd1",
   "metadata": {},
   "source": [
    "# set up parameters and training loop\n",
    "- losses, step_size and WER logged into tensorboard\n",
    "- note WER evaluation wer is obtained without language model\n",
    "- one epoch takes considerably less than tqdm estimates at first because samples are sorted from longest to shortest\n",
    "# Parameters to set\n",
    "- use_amp (use mixed precision training)\n",
    "- num_epochs\n",
    "- lr (initial learning rate)\n",
    "- step_interval (how many batches accumulated before gradient step)\n",
    "- eval_interval (how often is model evaluated)\n",
    "- save_dir (directoriy to save model)\n",
    "- device (use cuda or no)"
   ]
  },
  {
   "cell_type": "code",
   "execution_count": 9,
   "id": "1029bc97",
   "metadata": {},
   "outputs": [
    {
     "name": "stdout",
     "output_type": "stream",
     "text": [
      "starting training loop\n",
      "starting epoch: 1\n"
     ]
    },
    {
     "data": {
      "application/vnd.jupyter.widget-view+json": {
       "model_id": "cd261a6bb1dc4b939ba23c1f109aab30",
       "version_major": 2,
       "version_minor": 0
      },
      "text/plain": [
       "HBox(children=(FloatProgress(value=0.0, max=3980.0), HTML(value='')))"
      ]
     },
     "metadata": {},
     "output_type": "display_data"
    },
    {
     "data": {
      "application/vnd.jupyter.widget-view+json": {
       "model_id": "8c4c93251a3849a2aa3730a47143447e",
       "version_major": 2,
       "version_minor": 0
      },
      "text/plain": [
       "HBox(children=(FloatProgress(value=0.0, max=1976.0), HTML(value='')))"
      ]
     },
     "metadata": {},
     "output_type": "display_data"
    },
    {
     "name": "stdout",
     "output_type": "stream",
     "text": [
      "\n",
      "\n",
      "starting epoch: 2\n"
     ]
    },
    {
     "data": {
      "application/vnd.jupyter.widget-view+json": {
       "model_id": "7d8ab7c291634988844c3daaf278916b",
       "version_major": 2,
       "version_minor": 0
      },
      "text/plain": [
       "HBox(children=(FloatProgress(value=0.0, max=3980.0), HTML(value='')))"
      ]
     },
     "metadata": {},
     "output_type": "display_data"
    },
    {
     "data": {
      "application/vnd.jupyter.widget-view+json": {
       "model_id": "96f6f8be6a5e4d7cb7b76ee2333e7f24",
       "version_major": 2,
       "version_minor": 0
      },
      "text/plain": [
       "HBox(children=(FloatProgress(value=0.0, max=1976.0), HTML(value='')))"
      ]
     },
     "metadata": {},
     "output_type": "display_data"
    },
    {
     "name": "stdout",
     "output_type": "stream",
     "text": [
      "\n",
      "\n",
      "starting epoch: 3\n"
     ]
    },
    {
     "data": {
      "application/vnd.jupyter.widget-view+json": {
       "model_id": "ebc7ba4d4b734c18a26abdb60f6f37bc",
       "version_major": 2,
       "version_minor": 0
      },
      "text/plain": [
       "HBox(children=(FloatProgress(value=0.0, max=3980.0), HTML(value='')))"
      ]
     },
     "metadata": {},
     "output_type": "display_data"
    },
    {
     "data": {
      "application/vnd.jupyter.widget-view+json": {
       "model_id": "eab76b815fc44305a12d2e4124383706",
       "version_major": 2,
       "version_minor": 0
      },
      "text/plain": [
       "HBox(children=(FloatProgress(value=0.0, max=1976.0), HTML(value='')))"
      ]
     },
     "metadata": {},
     "output_type": "display_data"
    },
    {
     "name": "stdout",
     "output_type": "stream",
     "text": [
      "\n",
      "\n",
      "starting epoch: 4\n"
     ]
    },
    {
     "data": {
      "application/vnd.jupyter.widget-view+json": {
       "model_id": "85f141da1eae4d8f969f455b2cc5366a",
       "version_major": 2,
       "version_minor": 0
      },
      "text/plain": [
       "HBox(children=(FloatProgress(value=0.0, max=3980.0), HTML(value='')))"
      ]
     },
     "metadata": {},
     "output_type": "display_data"
    },
    {
     "data": {
      "application/vnd.jupyter.widget-view+json": {
       "model_id": "19f6ae6223eb4e42908e16a33d5008a4",
       "version_major": 2,
       "version_minor": 0
      },
      "text/plain": [
       "HBox(children=(FloatProgress(value=0.0, max=1976.0), HTML(value='')))"
      ]
     },
     "metadata": {},
     "output_type": "display_data"
    },
    {
     "name": "stdout",
     "output_type": "stream",
     "text": [
      "\n",
      "\n",
      "starting epoch: 5\n"
     ]
    },
    {
     "data": {
      "application/vnd.jupyter.widget-view+json": {
       "model_id": "432adf69976648bab0a8e269e56185b1",
       "version_major": 2,
       "version_minor": 0
      },
      "text/plain": [
       "HBox(children=(FloatProgress(value=0.0, max=3980.0), HTML(value='')))"
      ]
     },
     "metadata": {},
     "output_type": "display_data"
    },
    {
     "data": {
      "application/vnd.jupyter.widget-view+json": {
       "model_id": "e6e9bdbadde04666a2a8e769c01c55a1",
       "version_major": 2,
       "version_minor": 0
      },
      "text/plain": [
       "HBox(children=(FloatProgress(value=0.0, max=1976.0), HTML(value='')))"
      ]
     },
     "metadata": {},
     "output_type": "display_data"
    },
    {
     "name": "stdout",
     "output_type": "stream",
     "text": [
      "\n",
      "\n",
      "starting epoch: 6\n"
     ]
    },
    {
     "data": {
      "application/vnd.jupyter.widget-view+json": {
       "model_id": "99dbf2a6961141d19acc083bc7e0baee",
       "version_major": 2,
       "version_minor": 0
      },
      "text/plain": [
       "HBox(children=(FloatProgress(value=0.0, max=3980.0), HTML(value='')))"
      ]
     },
     "metadata": {},
     "output_type": "display_data"
    },
    {
     "data": {
      "application/vnd.jupyter.widget-view+json": {
       "model_id": "7ff9020993ee49298c64765032e6d41f",
       "version_major": 2,
       "version_minor": 0
      },
      "text/plain": [
       "HBox(children=(FloatProgress(value=0.0, max=1976.0), HTML(value='')))"
      ]
     },
     "metadata": {},
     "output_type": "display_data"
    },
    {
     "name": "stdout",
     "output_type": "stream",
     "text": [
      "\n",
      "\n",
      "starting epoch: 7\n"
     ]
    },
    {
     "data": {
      "application/vnd.jupyter.widget-view+json": {
       "model_id": "bcacc16440eb46c2b71f231d301f7202",
       "version_major": 2,
       "version_minor": 0
      },
      "text/plain": [
       "HBox(children=(FloatProgress(value=0.0, max=3980.0), HTML(value='')))"
      ]
     },
     "metadata": {},
     "output_type": "display_data"
    },
    {
     "data": {
      "application/vnd.jupyter.widget-view+json": {
       "model_id": "1ba25ca23a2b4f3a9f8c97f094e349e8",
       "version_major": 2,
       "version_minor": 0
      },
      "text/plain": [
       "HBox(children=(FloatProgress(value=0.0, max=1976.0), HTML(value='')))"
      ]
     },
     "metadata": {},
     "output_type": "display_data"
    },
    {
     "name": "stdout",
     "output_type": "stream",
     "text": [
      "\n",
      "\n",
      "starting epoch: 8\n"
     ]
    },
    {
     "data": {
      "application/vnd.jupyter.widget-view+json": {
       "model_id": "69c276c743c84a1dbd04067b9fc1fafc",
       "version_major": 2,
       "version_minor": 0
      },
      "text/plain": [
       "HBox(children=(FloatProgress(value=0.0, max=3980.0), HTML(value='')))"
      ]
     },
     "metadata": {},
     "output_type": "display_data"
    },
    {
     "data": {
      "application/vnd.jupyter.widget-view+json": {
       "model_id": "b2776abe085047549c07e1cef0cc6bb1",
       "version_major": 2,
       "version_minor": 0
      },
      "text/plain": [
       "HBox(children=(FloatProgress(value=0.0, max=1976.0), HTML(value='')))"
      ]
     },
     "metadata": {},
     "output_type": "display_data"
    },
    {
     "name": "stdout",
     "output_type": "stream",
     "text": [
      "\n",
      "\n",
      "starting epoch: 9\n"
     ]
    },
    {
     "data": {
      "application/vnd.jupyter.widget-view+json": {
       "model_id": "52e6dee716f94f1da4894fccdba859a5",
       "version_major": 2,
       "version_minor": 0
      },
      "text/plain": [
       "HBox(children=(FloatProgress(value=0.0, max=3980.0), HTML(value='')))"
      ]
     },
     "metadata": {},
     "output_type": "display_data"
    },
    {
     "data": {
      "application/vnd.jupyter.widget-view+json": {
       "model_id": "1ea3961e2e5f46aaa47c4890c55c3379",
       "version_major": 2,
       "version_minor": 0
      },
      "text/plain": [
       "HBox(children=(FloatProgress(value=0.0, max=1976.0), HTML(value='')))"
      ]
     },
     "metadata": {},
     "output_type": "display_data"
    },
    {
     "name": "stdout",
     "output_type": "stream",
     "text": [
      "\n",
      "\n",
      "starting epoch: 10\n"
     ]
    },
    {
     "data": {
      "application/vnd.jupyter.widget-view+json": {
       "model_id": "569c7a7965ae4f56b51b74270054710f",
       "version_major": 2,
       "version_minor": 0
      },
      "text/plain": [
       "HBox(children=(FloatProgress(value=0.0, max=3980.0), HTML(value='')))"
      ]
     },
     "metadata": {},
     "output_type": "display_data"
    },
    {
     "data": {
      "application/vnd.jupyter.widget-view+json": {
       "model_id": "7c255b956598484381a399ac90be9d17",
       "version_major": 2,
       "version_minor": 0
      },
      "text/plain": [
       "HBox(children=(FloatProgress(value=0.0, max=1976.0), HTML(value='')))"
      ]
     },
     "metadata": {},
     "output_type": "display_data"
    },
    {
     "name": "stdout",
     "output_type": "stream",
     "text": [
      "\n",
      "\n",
      "starting epoch: 11\n"
     ]
    },
    {
     "data": {
      "application/vnd.jupyter.widget-view+json": {
       "model_id": "e1d2c628dc5f47d5b31a66e720b7442e",
       "version_major": 2,
       "version_minor": 0
      },
      "text/plain": [
       "HBox(children=(FloatProgress(value=0.0, max=3980.0), HTML(value='')))"
      ]
     },
     "metadata": {},
     "output_type": "display_data"
    },
    {
     "data": {
      "application/vnd.jupyter.widget-view+json": {
       "model_id": "e63f7da61e7841ef9808bc3d63c556db",
       "version_major": 2,
       "version_minor": 0
      },
      "text/plain": [
       "HBox(children=(FloatProgress(value=0.0, max=1976.0), HTML(value='')))"
      ]
     },
     "metadata": {},
     "output_type": "display_data"
    },
    {
     "name": "stdout",
     "output_type": "stream",
     "text": [
      "\n",
      "\n",
      "starting epoch: 12\n"
     ]
    },
    {
     "data": {
      "application/vnd.jupyter.widget-view+json": {
       "model_id": "5e05d23599c94257962053aa430668a9",
       "version_major": 2,
       "version_minor": 0
      },
      "text/plain": [
       "HBox(children=(FloatProgress(value=0.0, max=3980.0), HTML(value='')))"
      ]
     },
     "metadata": {},
     "output_type": "display_data"
    },
    {
     "data": {
      "application/vnd.jupyter.widget-view+json": {
       "model_id": "8463f183ca2348eb87417b4095e20804",
       "version_major": 2,
       "version_minor": 0
      },
      "text/plain": [
       "HBox(children=(FloatProgress(value=0.0, max=1976.0), HTML(value='')))"
      ]
     },
     "metadata": {},
     "output_type": "display_data"
    },
    {
     "name": "stdout",
     "output_type": "stream",
     "text": [
      "\n",
      "\n",
      "starting epoch: 13\n"
     ]
    },
    {
     "data": {
      "application/vnd.jupyter.widget-view+json": {
       "model_id": "d43536300d734f57aeaafc50e9e8873d",
       "version_major": 2,
       "version_minor": 0
      },
      "text/plain": [
       "HBox(children=(FloatProgress(value=0.0, max=3980.0), HTML(value='')))"
      ]
     },
     "metadata": {},
     "output_type": "display_data"
    },
    {
     "data": {
      "application/vnd.jupyter.widget-view+json": {
       "model_id": "daac8bf50a0d4437880689bfad2a95fb",
       "version_major": 2,
       "version_minor": 0
      },
      "text/plain": [
       "HBox(children=(FloatProgress(value=0.0, max=1976.0), HTML(value='')))"
      ]
     },
     "metadata": {},
     "output_type": "display_data"
    },
    {
     "name": "stdout",
     "output_type": "stream",
     "text": [
      "\n",
      "\n",
      "starting epoch: 14\n"
     ]
    },
    {
     "data": {
      "application/vnd.jupyter.widget-view+json": {
       "model_id": "1de14fcda4a246f598208c144431b36d",
       "version_major": 2,
       "version_minor": 0
      },
      "text/plain": [
       "HBox(children=(FloatProgress(value=0.0, max=3980.0), HTML(value='')))"
      ]
     },
     "metadata": {},
     "output_type": "display_data"
    },
    {
     "data": {
      "application/vnd.jupyter.widget-view+json": {
       "model_id": "b147d025aa7e442895dc1152709680dd",
       "version_major": 2,
       "version_minor": 0
      },
      "text/plain": [
       "HBox(children=(FloatProgress(value=0.0, max=1976.0), HTML(value='')))"
      ]
     },
     "metadata": {},
     "output_type": "display_data"
    },
    {
     "name": "stdout",
     "output_type": "stream",
     "text": [
      "\n",
      "\n",
      "starting epoch: 15\n"
     ]
    },
    {
     "data": {
      "application/vnd.jupyter.widget-view+json": {
       "model_id": "91ec8c56383a4a9a897b748499fe8860",
       "version_major": 2,
       "version_minor": 0
      },
      "text/plain": [
       "HBox(children=(FloatProgress(value=0.0, max=3980.0), HTML(value='')))"
      ]
     },
     "metadata": {},
     "output_type": "display_data"
    },
    {
     "data": {
      "application/vnd.jupyter.widget-view+json": {
       "model_id": "86d568f038cd48f1a1892af26e3c9501",
       "version_major": 2,
       "version_minor": 0
      },
      "text/plain": [
       "HBox(children=(FloatProgress(value=0.0, max=1976.0), HTML(value='')))"
      ]
     },
     "metadata": {},
     "output_type": "display_data"
    },
    {
     "name": "stdout",
     "output_type": "stream",
     "text": [
      "\n",
      "\n",
      "starting epoch: 16\n"
     ]
    },
    {
     "data": {
      "application/vnd.jupyter.widget-view+json": {
       "model_id": "e808eac3c43b441392ab67889ac7c1c1",
       "version_major": 2,
       "version_minor": 0
      },
      "text/plain": [
       "HBox(children=(FloatProgress(value=0.0, max=3980.0), HTML(value='')))"
      ]
     },
     "metadata": {},
     "output_type": "display_data"
    },
    {
     "data": {
      "application/vnd.jupyter.widget-view+json": {
       "model_id": "1cbcd6746edc4750994ae703936c9ddd",
       "version_major": 2,
       "version_minor": 0
      },
      "text/plain": [
       "HBox(children=(FloatProgress(value=0.0, max=1976.0), HTML(value='')))"
      ]
     },
     "metadata": {},
     "output_type": "display_data"
    },
    {
     "name": "stdout",
     "output_type": "stream",
     "text": [
      "\n",
      "\n",
      "starting epoch: 17\n"
     ]
    },
    {
     "data": {
      "application/vnd.jupyter.widget-view+json": {
       "model_id": "1939914918b246fd92d7cfc28e4f0938",
       "version_major": 2,
       "version_minor": 0
      },
      "text/plain": [
       "HBox(children=(FloatProgress(value=0.0, max=3980.0), HTML(value='')))"
      ]
     },
     "metadata": {},
     "output_type": "display_data"
    },
    {
     "data": {
      "application/vnd.jupyter.widget-view+json": {
       "model_id": "b437382c3f994542b947e9c290eff5b5",
       "version_major": 2,
       "version_minor": 0
      },
      "text/plain": [
       "HBox(children=(FloatProgress(value=0.0, max=1976.0), HTML(value='')))"
      ]
     },
     "metadata": {},
     "output_type": "display_data"
    },
    {
     "name": "stdout",
     "output_type": "stream",
     "text": [
      "\n",
      "\n",
      "starting epoch: 18\n"
     ]
    },
    {
     "data": {
      "application/vnd.jupyter.widget-view+json": {
       "model_id": "48b5eef20c7a4bdd86596e0ea23499f3",
       "version_major": 2,
       "version_minor": 0
      },
      "text/plain": [
       "HBox(children=(FloatProgress(value=0.0, max=3980.0), HTML(value='')))"
      ]
     },
     "metadata": {},
     "output_type": "display_data"
    },
    {
     "data": {
      "application/vnd.jupyter.widget-view+json": {
       "model_id": "883ee370c6bb48cd83526de98ddb8c15",
       "version_major": 2,
       "version_minor": 0
      },
      "text/plain": [
       "HBox(children=(FloatProgress(value=0.0, max=1976.0), HTML(value='')))"
      ]
     },
     "metadata": {},
     "output_type": "display_data"
    },
    {
     "name": "stdout",
     "output_type": "stream",
     "text": [
      "\n",
      "\n",
      "starting epoch: 19\n"
     ]
    },
    {
     "data": {
      "application/vnd.jupyter.widget-view+json": {
       "model_id": "3fce69eeafde48f2b7380fda993a0299",
       "version_major": 2,
       "version_minor": 0
      },
      "text/plain": [
       "HBox(children=(FloatProgress(value=0.0, max=3980.0), HTML(value='')))"
      ]
     },
     "metadata": {},
     "output_type": "display_data"
    },
    {
     "data": {
      "application/vnd.jupyter.widget-view+json": {
       "model_id": "1e9ba03f01ff4c9ab97ebfa9120e5291",
       "version_major": 2,
       "version_minor": 0
      },
      "text/plain": [
       "HBox(children=(FloatProgress(value=0.0, max=1976.0), HTML(value='')))"
      ]
     },
     "metadata": {},
     "output_type": "display_data"
    },
    {
     "name": "stdout",
     "output_type": "stream",
     "text": [
      "\n",
      "\n",
      "starting epoch: 20\n"
     ]
    },
    {
     "data": {
      "application/vnd.jupyter.widget-view+json": {
       "model_id": "b1bfce3438034920a70f90601bbc8ba5",
       "version_major": 2,
       "version_minor": 0
      },
      "text/plain": [
       "HBox(children=(FloatProgress(value=0.0, max=3980.0), HTML(value='')))"
      ]
     },
     "metadata": {},
     "output_type": "display_data"
    },
    {
     "data": {
      "application/vnd.jupyter.widget-view+json": {
       "model_id": "b0cfa1fea87948629f3b419c0fd3bb27",
       "version_major": 2,
       "version_minor": 0
      },
      "text/plain": [
       "HBox(children=(FloatProgress(value=0.0, max=1976.0), HTML(value='')))"
      ]
     },
     "metadata": {},
     "output_type": "display_data"
    },
    {
     "name": "stdout",
     "output_type": "stream",
     "text": [
      "\n",
      "\n",
      "starting epoch: 21\n"
     ]
    },
    {
     "data": {
      "application/vnd.jupyter.widget-view+json": {
       "model_id": "bf457d390565446eadd0efe592999377",
       "version_major": 2,
       "version_minor": 0
      },
      "text/plain": [
       "HBox(children=(FloatProgress(value=0.0, max=3980.0), HTML(value='')))"
      ]
     },
     "metadata": {},
     "output_type": "display_data"
    },
    {
     "data": {
      "application/vnd.jupyter.widget-view+json": {
       "model_id": "ed78ac1c13fd4971b726f7871a452fe5",
       "version_major": 2,
       "version_minor": 0
      },
      "text/plain": [
       "HBox(children=(FloatProgress(value=0.0, max=1976.0), HTML(value='')))"
      ]
     },
     "metadata": {},
     "output_type": "display_data"
    },
    {
     "name": "stdout",
     "output_type": "stream",
     "text": [
      "\n",
      "\n",
      "starting epoch: 22\n"
     ]
    },
    {
     "data": {
      "application/vnd.jupyter.widget-view+json": {
       "model_id": "f5f84ad15c0445eeb3a82474f0f09157",
       "version_major": 2,
       "version_minor": 0
      },
      "text/plain": [
       "HBox(children=(FloatProgress(value=0.0, max=3980.0), HTML(value='')))"
      ]
     },
     "metadata": {},
     "output_type": "display_data"
    },
    {
     "data": {
      "application/vnd.jupyter.widget-view+json": {
       "model_id": "5b39f0ac8167429695c7cf8ad5f9ad26",
       "version_major": 2,
       "version_minor": 0
      },
      "text/plain": [
       "HBox(children=(FloatProgress(value=0.0, max=1976.0), HTML(value='')))"
      ]
     },
     "metadata": {},
     "output_type": "display_data"
    },
    {
     "name": "stdout",
     "output_type": "stream",
     "text": [
      "\n",
      "\n",
      "starting epoch: 23\n"
     ]
    },
    {
     "data": {
      "application/vnd.jupyter.widget-view+json": {
       "model_id": "3af3fd18b4484a2aafe063502c96b6d6",
       "version_major": 2,
       "version_minor": 0
      },
      "text/plain": [
       "HBox(children=(FloatProgress(value=0.0, max=3980.0), HTML(value='')))"
      ]
     },
     "metadata": {},
     "output_type": "display_data"
    },
    {
     "data": {
      "application/vnd.jupyter.widget-view+json": {
       "model_id": "26432fae61ab4ec08fdf5344252fd6e9",
       "version_major": 2,
       "version_minor": 0
      },
      "text/plain": [
       "HBox(children=(FloatProgress(value=0.0, max=1976.0), HTML(value='')))"
      ]
     },
     "metadata": {},
     "output_type": "display_data"
    },
    {
     "name": "stdout",
     "output_type": "stream",
     "text": [
      "\n",
      "\n",
      "starting epoch: 24\n"
     ]
    },
    {
     "data": {
      "application/vnd.jupyter.widget-view+json": {
       "model_id": "512968a19edf4ea791115a0fe3150e89",
       "version_major": 2,
       "version_minor": 0
      },
      "text/plain": [
       "HBox(children=(FloatProgress(value=0.0, max=3980.0), HTML(value='')))"
      ]
     },
     "metadata": {},
     "output_type": "display_data"
    },
    {
     "data": {
      "application/vnd.jupyter.widget-view+json": {
       "model_id": "7bac4a28d8c34adbad5c10f57f3d588d",
       "version_major": 2,
       "version_minor": 0
      },
      "text/plain": [
       "HBox(children=(FloatProgress(value=0.0, max=1976.0), HTML(value='')))"
      ]
     },
     "metadata": {},
     "output_type": "display_data"
    },
    {
     "name": "stdout",
     "output_type": "stream",
     "text": [
      "\n",
      "\n",
      "starting epoch: 25\n"
     ]
    },
    {
     "data": {
      "application/vnd.jupyter.widget-view+json": {
       "model_id": "a8a49439922b43668742257ebf4d0c9d",
       "version_major": 2,
       "version_minor": 0
      },
      "text/plain": [
       "HBox(children=(FloatProgress(value=0.0, max=3980.0), HTML(value='')))"
      ]
     },
     "metadata": {},
     "output_type": "display_data"
    },
    {
     "data": {
      "application/vnd.jupyter.widget-view+json": {
       "model_id": "3e1e3616c4214900bebd1b96b20b0419",
       "version_major": 2,
       "version_minor": 0
      },
      "text/plain": [
       "HBox(children=(FloatProgress(value=0.0, max=1976.0), HTML(value='')))"
      ]
     },
     "metadata": {},
     "output_type": "display_data"
    },
    {
     "name": "stdout",
     "output_type": "stream",
     "text": [
      "\n",
      "\n",
      "starting epoch: 26\n"
     ]
    },
    {
     "data": {
      "application/vnd.jupyter.widget-view+json": {
       "model_id": "15195cd1a16849da91bff782ff69c9c3",
       "version_major": 2,
       "version_minor": 0
      },
      "text/plain": [
       "HBox(children=(FloatProgress(value=0.0, max=3980.0), HTML(value='')))"
      ]
     },
     "metadata": {},
     "output_type": "display_data"
    },
    {
     "data": {
      "application/vnd.jupyter.widget-view+json": {
       "model_id": "a15bc51bf79e40d79425c62da7e09cf5",
       "version_major": 2,
       "version_minor": 0
      },
      "text/plain": [
       "HBox(children=(FloatProgress(value=0.0, max=1976.0), HTML(value='')))"
      ]
     },
     "metadata": {},
     "output_type": "display_data"
    },
    {
     "name": "stdout",
     "output_type": "stream",
     "text": [
      "\n",
      "\n",
      "starting epoch: 27\n"
     ]
    },
    {
     "data": {
      "application/vnd.jupyter.widget-view+json": {
       "model_id": "98b0d8dcb19a493091ab7370a223f208",
       "version_major": 2,
       "version_minor": 0
      },
      "text/plain": [
       "HBox(children=(FloatProgress(value=0.0, max=3980.0), HTML(value='')))"
      ]
     },
     "metadata": {},
     "output_type": "display_data"
    },
    {
     "data": {
      "application/vnd.jupyter.widget-view+json": {
       "model_id": "f86288cd3c23453ebbd56829115ad60b",
       "version_major": 2,
       "version_minor": 0
      },
      "text/plain": [
       "HBox(children=(FloatProgress(value=0.0, max=1976.0), HTML(value='')))"
      ]
     },
     "metadata": {},
     "output_type": "display_data"
    },
    {
     "name": "stdout",
     "output_type": "stream",
     "text": [
      "\n",
      "\n",
      "starting epoch: 28\n"
     ]
    },
    {
     "data": {
      "application/vnd.jupyter.widget-view+json": {
       "model_id": "12d4c897feca49f39b4e973fa3601d4e",
       "version_major": 2,
       "version_minor": 0
      },
      "text/plain": [
       "HBox(children=(FloatProgress(value=0.0, max=3980.0), HTML(value='')))"
      ]
     },
     "metadata": {},
     "output_type": "display_data"
    },
    {
     "data": {
      "application/vnd.jupyter.widget-view+json": {
       "model_id": "de82632128d043afa40de2d587611478",
       "version_major": 2,
       "version_minor": 0
      },
      "text/plain": [
       "HBox(children=(FloatProgress(value=0.0, max=1976.0), HTML(value='')))"
      ]
     },
     "metadata": {},
     "output_type": "display_data"
    },
    {
     "name": "stdout",
     "output_type": "stream",
     "text": [
      "\n",
      "\n",
      "starting epoch: 29\n"
     ]
    },
    {
     "data": {
      "application/vnd.jupyter.widget-view+json": {
       "model_id": "fafc3cf3cb0e45d892bb89930b7a7c64",
       "version_major": 2,
       "version_minor": 0
      },
      "text/plain": [
       "HBox(children=(FloatProgress(value=0.0, max=3980.0), HTML(value='')))"
      ]
     },
     "metadata": {},
     "output_type": "display_data"
    },
    {
     "data": {
      "application/vnd.jupyter.widget-view+json": {
       "model_id": "53b92cd8ce8f49e6899bb441adfe3cb3",
       "version_major": 2,
       "version_minor": 0
      },
      "text/plain": [
       "HBox(children=(FloatProgress(value=0.0, max=1976.0), HTML(value='')))"
      ]
     },
     "metadata": {},
     "output_type": "display_data"
    },
    {
     "name": "stdout",
     "output_type": "stream",
     "text": [
      "\n",
      "\n",
      "starting epoch: 30\n"
     ]
    },
    {
     "data": {
      "application/vnd.jupyter.widget-view+json": {
       "model_id": "1b26294b3bec4310ac759d975fcfe36a",
       "version_major": 2,
       "version_minor": 0
      },
      "text/plain": [
       "HBox(children=(FloatProgress(value=0.0, max=3980.0), HTML(value='')))"
      ]
     },
     "metadata": {},
     "output_type": "display_data"
    },
    {
     "data": {
      "application/vnd.jupyter.widget-view+json": {
       "model_id": "dca0bbefbb724a419726e29a88002128",
       "version_major": 2,
       "version_minor": 0
      },
      "text/plain": [
       "HBox(children=(FloatProgress(value=0.0, max=1976.0), HTML(value='')))"
      ]
     },
     "metadata": {},
     "output_type": "display_data"
    },
    {
     "name": "stdout",
     "output_type": "stream",
     "text": [
      "\n",
      "\n",
      "starting epoch: 31\n"
     ]
    },
    {
     "data": {
      "application/vnd.jupyter.widget-view+json": {
       "model_id": "c1134a2ffdd6432b893ae278a76fa979",
       "version_major": 2,
       "version_minor": 0
      },
      "text/plain": [
       "HBox(children=(FloatProgress(value=0.0, max=3980.0), HTML(value='')))"
      ]
     },
     "metadata": {},
     "output_type": "display_data"
    },
    {
     "data": {
      "application/vnd.jupyter.widget-view+json": {
       "model_id": "73810b13a86c4b158db71f3040a3e8dd",
       "version_major": 2,
       "version_minor": 0
      },
      "text/plain": [
       "HBox(children=(FloatProgress(value=0.0, max=1976.0), HTML(value='')))"
      ]
     },
     "metadata": {},
     "output_type": "display_data"
    },
    {
     "name": "stdout",
     "output_type": "stream",
     "text": [
      "\n",
      "\n",
      "starting epoch: 32\n"
     ]
    },
    {
     "data": {
      "application/vnd.jupyter.widget-view+json": {
       "model_id": "ca9683dea4874309bd36a909b2616004",
       "version_major": 2,
       "version_minor": 0
      },
      "text/plain": [
       "HBox(children=(FloatProgress(value=0.0, max=3980.0), HTML(value='')))"
      ]
     },
     "metadata": {},
     "output_type": "display_data"
    },
    {
     "data": {
      "application/vnd.jupyter.widget-view+json": {
       "model_id": "a2456801e80f476f834160bc5bf826b0",
       "version_major": 2,
       "version_minor": 0
      },
      "text/plain": [
       "HBox(children=(FloatProgress(value=0.0, max=1976.0), HTML(value='')))"
      ]
     },
     "metadata": {},
     "output_type": "display_data"
    },
    {
     "name": "stdout",
     "output_type": "stream",
     "text": [
      "\n",
      "\n",
      "starting epoch: 33\n"
     ]
    },
    {
     "data": {
      "application/vnd.jupyter.widget-view+json": {
       "model_id": "60271a7533344406bf93220de1845eb0",
       "version_major": 2,
       "version_minor": 0
      },
      "text/plain": [
       "HBox(children=(FloatProgress(value=0.0, max=3980.0), HTML(value='')))"
      ]
     },
     "metadata": {},
     "output_type": "display_data"
    },
    {
     "data": {
      "application/vnd.jupyter.widget-view+json": {
       "model_id": "eb43feb2b838469aa0819f7e1dcf7d59",
       "version_major": 2,
       "version_minor": 0
      },
      "text/plain": [
       "HBox(children=(FloatProgress(value=0.0, max=1976.0), HTML(value='')))"
      ]
     },
     "metadata": {},
     "output_type": "display_data"
    },
    {
     "name": "stdout",
     "output_type": "stream",
     "text": [
      "\n",
      "\n",
      "starting epoch: 34\n"
     ]
    },
    {
     "data": {
      "application/vnd.jupyter.widget-view+json": {
       "model_id": "86880c81d20f496eaaf81f456455383b",
       "version_major": 2,
       "version_minor": 0
      },
      "text/plain": [
       "HBox(children=(FloatProgress(value=0.0, max=3980.0), HTML(value='')))"
      ]
     },
     "metadata": {},
     "output_type": "display_data"
    },
    {
     "data": {
      "application/vnd.jupyter.widget-view+json": {
       "model_id": "be57f38353984352a3fd8b2746c60619",
       "version_major": 2,
       "version_minor": 0
      },
      "text/plain": [
       "HBox(children=(FloatProgress(value=0.0, max=1976.0), HTML(value='')))"
      ]
     },
     "metadata": {},
     "output_type": "display_data"
    },
    {
     "name": "stdout",
     "output_type": "stream",
     "text": [
      "\n",
      "\n",
      "starting epoch: 35\n"
     ]
    },
    {
     "data": {
      "application/vnd.jupyter.widget-view+json": {
       "model_id": "ef2c25d914b740c9a77940d2a8f92a8e",
       "version_major": 2,
       "version_minor": 0
      },
      "text/plain": [
       "HBox(children=(FloatProgress(value=0.0, max=3980.0), HTML(value='')))"
      ]
     },
     "metadata": {},
     "output_type": "display_data"
    },
    {
     "data": {
      "application/vnd.jupyter.widget-view+json": {
       "model_id": "20f4a74d393041b7800b8074b5dbd8c1",
       "version_major": 2,
       "version_minor": 0
      },
      "text/plain": [
       "HBox(children=(FloatProgress(value=0.0, max=1976.0), HTML(value='')))"
      ]
     },
     "metadata": {},
     "output_type": "display_data"
    },
    {
     "name": "stdout",
     "output_type": "stream",
     "text": [
      "\n",
      "\n",
      "starting epoch: 36\n"
     ]
    },
    {
     "data": {
      "application/vnd.jupyter.widget-view+json": {
       "model_id": "2000fb1e799343b5acdca8451db9d382",
       "version_major": 2,
       "version_minor": 0
      },
      "text/plain": [
       "HBox(children=(FloatProgress(value=0.0, max=3980.0), HTML(value='')))"
      ]
     },
     "metadata": {},
     "output_type": "display_data"
    },
    {
     "data": {
      "application/vnd.jupyter.widget-view+json": {
       "model_id": "b95d10d2f9c44c5fb4e1387c758cf862",
       "version_major": 2,
       "version_minor": 0
      },
      "text/plain": [
       "HBox(children=(FloatProgress(value=0.0, max=1976.0), HTML(value='')))"
      ]
     },
     "metadata": {},
     "output_type": "display_data"
    },
    {
     "name": "stdout",
     "output_type": "stream",
     "text": [
      "\n",
      "\n",
      "starting epoch: 37\n"
     ]
    },
    {
     "data": {
      "application/vnd.jupyter.widget-view+json": {
       "model_id": "d878e73770f748be8eb256ab0051a683",
       "version_major": 2,
       "version_minor": 0
      },
      "text/plain": [
       "HBox(children=(FloatProgress(value=0.0, max=3980.0), HTML(value='')))"
      ]
     },
     "metadata": {},
     "output_type": "display_data"
    },
    {
     "data": {
      "application/vnd.jupyter.widget-view+json": {
       "model_id": "64c0b163a41542a9a94eaf29fb9ef1c2",
       "version_major": 2,
       "version_minor": 0
      },
      "text/plain": [
       "HBox(children=(FloatProgress(value=0.0, max=1976.0), HTML(value='')))"
      ]
     },
     "metadata": {},
     "output_type": "display_data"
    },
    {
     "name": "stdout",
     "output_type": "stream",
     "text": [
      "\n",
      "\n",
      "starting epoch: 38\n"
     ]
    },
    {
     "data": {
      "application/vnd.jupyter.widget-view+json": {
       "model_id": "05409a07829d4697ba37ee8b9f4f92ae",
       "version_major": 2,
       "version_minor": 0
      },
      "text/plain": [
       "HBox(children=(FloatProgress(value=0.0, max=3980.0), HTML(value='')))"
      ]
     },
     "metadata": {},
     "output_type": "display_data"
    },
    {
     "data": {
      "application/vnd.jupyter.widget-view+json": {
       "model_id": "7908fb47f49a414e83f0e7cd3af8dd69",
       "version_major": 2,
       "version_minor": 0
      },
      "text/plain": [
       "HBox(children=(FloatProgress(value=0.0, max=1976.0), HTML(value='')))"
      ]
     },
     "metadata": {},
     "output_type": "display_data"
    },
    {
     "name": "stdout",
     "output_type": "stream",
     "text": [
      "\n",
      "\n",
      "starting epoch: 39\n"
     ]
    },
    {
     "data": {
      "application/vnd.jupyter.widget-view+json": {
       "model_id": "e68d5d618a244a75aef020be9767ede2",
       "version_major": 2,
       "version_minor": 0
      },
      "text/plain": [
       "HBox(children=(FloatProgress(value=0.0, max=3980.0), HTML(value='')))"
      ]
     },
     "metadata": {},
     "output_type": "display_data"
    },
    {
     "data": {
      "application/vnd.jupyter.widget-view+json": {
       "model_id": "c623f8ff89e44f539e87d0aa33638706",
       "version_major": 2,
       "version_minor": 0
      },
      "text/plain": [
       "HBox(children=(FloatProgress(value=0.0, max=1976.0), HTML(value='')))"
      ]
     },
     "metadata": {},
     "output_type": "display_data"
    },
    {
     "name": "stdout",
     "output_type": "stream",
     "text": [
      "\n",
      "\n",
      "starting epoch: 40\n"
     ]
    },
    {
     "data": {
      "application/vnd.jupyter.widget-view+json": {
       "model_id": "3bd5ce2b8b9149f4a9dae71f237adb6a",
       "version_major": 2,
       "version_minor": 0
      },
      "text/plain": [
       "HBox(children=(FloatProgress(value=0.0, max=3980.0), HTML(value='')))"
      ]
     },
     "metadata": {},
     "output_type": "display_data"
    },
    {
     "data": {
      "application/vnd.jupyter.widget-view+json": {
       "model_id": "d213fe0564c6448f88f4ce8211b921ff",
       "version_major": 2,
       "version_minor": 0
      },
      "text/plain": [
       "HBox(children=(FloatProgress(value=0.0, max=1976.0), HTML(value='')))"
      ]
     },
     "metadata": {},
     "output_type": "display_data"
    },
    {
     "name": "stdout",
     "output_type": "stream",
     "text": [
      "\n",
      "\n"
     ]
    },
    {
     "data": {
      "application/vnd.jupyter.widget-view+json": {
       "model_id": "33df08f284f74a95bca45ef18c77ff51",
       "version_major": 2,
       "version_minor": 0
      },
      "text/plain": [
       "HBox(children=(FloatProgress(value=0.0, max=1976.0), HTML(value='')))"
      ]
     },
     "metadata": {},
     "output_type": "display_data"
    },
    {
     "name": "stdout",
     "output_type": "stream",
     "text": [
      "\n",
      "training finished, best WER: 0.2428591480103867\n"
     ]
    }
   ],
   "source": [
    "import transformers\n",
    "from torch.utils.tensorboard import SummaryWriter\n",
    "writer = SummaryWriter()\n",
    "\n",
    "save_dir = \"test_run1\"\n",
    "device = \"cuda\"\n",
    "losses = []\n",
    "training_losses = []\n",
    "\n",
    "model.to(device)\n",
    "\n",
    "use_amp  = True\n",
    "num_epochs = 40\n",
    "lr = 0.00025\n",
    "step_interval = 2\n",
    "eval_interval = (len(trainloader)-1)/4.0\n",
    "#eval_interval = 10\n",
    "steps = 0\n",
    "\n",
    "#setup optimizer and scheduler\n",
    "optimizer = torch.optim.AdamW(model.parameters(), lr=lr)\n",
    "#scheduler = transformers.get_linear_schedule_with_warmup(optimizer, num_warmup_steps=200, num_training_steps=len(trainloader)*num_epochs/step_interval)\n",
    "scheduler = torch.optim.lr_scheduler.StepLR(optimizer, step_size = 4, gamma=0.5)\n",
    "\n",
    "\n",
    "scaler = torch.cuda.amp.GradScaler(enabled=use_amp)\n",
    "\n",
    "best_wer = 1.0\n",
    "eval_losses = []\n",
    "eval_wers = []\n",
    "eval_step = 0\n",
    "\n",
    "print(\"starting training loop\")\n",
    "for epoch in range(num_epochs):\n",
    "    print(f\"starting epoch: {epoch+1}\")\n",
    "    model.train()\n",
    "    losses = []\n",
    "    i = 0\n",
    "    for batch in tqdm(trainloader):\n",
    "        \n",
    "        inputs, masks, labels = batch\n",
    "        with torch.cuda.amp.autocast(enabled=use_amp):\n",
    "            output = model(inputs.to(device), masks.to(device), labels=labels.to(device))\n",
    "            loss = output.loss/step_interval\n",
    "        \n",
    "        scaler.scale(loss).backward()\n",
    "        #accumulate gradients for step_interval batches\n",
    "        if (i+1)%step_interval == 0:\n",
    "            #optimizer.step()\n",
    "            scaler.step(optimizer)\n",
    "            scaler.update()\n",
    "            #scheduler.step()\n",
    "            optimizer.zero_grad()\n",
    "            steps+=1\n",
    "        losses.append(output.loss.item())\n",
    "        #if i%30==0:\n",
    "        #    print(output.loss.item())\n",
    "        #evaluate model and save best WER\n",
    "        if (i+1)%eval_interval == 0:\n",
    "            eval_loss,eval_loss_amp, wer, wer_amp = evaluation_func(model, testloader, testset.data.sentence, use_amp, device)\n",
    "            \n",
    "            writer.add_scalar('eval/loss', eval_loss, eval_step)\n",
    "            writer.add_scalar('eval/wer', wer, eval_step)\n",
    "            writer.add_scalar('eval/loss_amp', eval_loss_amp, eval_step)\n",
    "            writer.add_scalar('eval/wer_amp', wer_amp, eval_step)\n",
    "            writer.add_scalar('lr', scheduler.get_last_lr()[0], eval_step)\n",
    "            eval_losses.append(eval_loss)\n",
    "            eval_wers.append(wer)\n",
    "            eval_step +=1\n",
    "            if wer < best_wer:\n",
    "                #save model with best test WER\n",
    "                checkpoint_func(model, save_dir)\n",
    "                best_wer = wer\n",
    "            else:\n",
    "                scheduler.step()\n",
    "            model.train()\n",
    "            \n",
    "        i+=1\n",
    "    #end of epoch\n",
    "    epoch_loss = sum(losses)/len(losses)\n",
    "    training_losses.append(epoch_loss)\n",
    "    writer.add_scalar('train/epoch_loss', epoch_loss, epoch)\n",
    "#check for final improvements\n",
    "eval_loss,eval_loss_amp, wer, wer_amp = evaluation_func(model, testloader, testset.data.sentence, use_amp, device)\n",
    "if wer < best_wer:\n",
    "    best_wer = wer\n",
    "    checkpoint_func(model, save_dir)\n",
    "print(f\"training finished, best WER: {best_wer}\")\n",
    "writer.close()"
   ]
  },
  {
   "cell_type": "markdown",
   "id": "32cc4c80",
   "metadata": {},
   "source": [
    "# Evaluation on models\n",
    "- SpeechRecognizer class takes directory of model files as input \n",
    "- evaluated with greedy decoding and with CTCBeamsearch using a Ngram language model"
   ]
  },
  {
   "cell_type": "code",
   "execution_count": 7,
   "id": "b351e8fb",
   "metadata": {},
   "outputs": [
    {
     "name": "stdout",
     "output_type": "stream",
     "text": [
      "Initializing Decoder\n",
      "Decoder ready\n"
     ]
    }
   ],
   "source": [
    "from SpeechRecognizer import SpeechRecognizer, CTCDecoder\n",
    "\n",
    "recognizer = SpeechRecognizer(\"best_model/\")\n",
    "labels, blank = recognizer.get_labels()\n",
    "lm_path = \"best_model/model2.bin\"\n",
    "decoder = CTCDecoder(labels, lm_path=lm_path, alpha=1.5, beta=0.8, blank_id=blank, beam_width=256, cutoff_top_n=15)"
   ]
  },
  {
   "cell_type": "code",
   "execution_count": 12,
   "id": "89041ba4",
   "metadata": {},
   "outputs": [
    {
     "name": "stderr",
     "output_type": "stream",
     "text": [
      "Couldn't find file locally at cer/cer.py, or remotely at https://raw.githubusercontent.com/huggingface/datasets/1.5.0/metrics/cer/cer.py.\n",
      "The file was picked from the master branch on github instead at https://raw.githubusercontent.com/huggingface/datasets/master/metrics/cer/cer.py.\n"
     ]
    },
    {
     "data": {
      "application/vnd.jupyter.widget-view+json": {
       "model_id": "e519b76b24cd4ad6a43133efa370f1ec",
       "version_major": 2,
       "version_minor": 0
      },
      "text/plain": [
       "HBox(children=(FloatProgress(value=0.0, max=1976.0), HTML(value='')))"
      ]
     },
     "metadata": {},
     "output_type": "display_data"
    },
    {
     "name": "stdout",
     "output_type": "stream",
     "text": [
      "\n"
     ]
    },
    {
     "name": "stderr",
     "output_type": "stream",
     "text": [
      "Couldn't find file locally at cer/cer.py, or remotely at https://raw.githubusercontent.com/huggingface/datasets/1.5.0/metrics/cer/cer.py.\n",
      "The file was picked from the master branch on github instead at https://raw.githubusercontent.com/huggingface/datasets/master/metrics/cer/cer.py.\n",
      "Couldn't find file locally at cer/cer.py, or remotely at https://raw.githubusercontent.com/huggingface/datasets/1.5.0/metrics/cer/cer.py.\n",
      "The file was picked from the master branch on github instead at https://raw.githubusercontent.com/huggingface/datasets/master/metrics/cer/cer.py.\n"
     ]
    },
    {
     "name": "stdout",
     "output_type": "stream",
     "text": [
      "stats for full testset\n",
      "lm stats:17.752122955996914 6.321402692746593,      no-lm stats:22.27524738578146 5.96821292049759\n"
     ]
    },
    {
     "data": {
      "application/vnd.jupyter.widget-view+json": {
       "model_id": "0501cccf0aad45a7bdef8287b93c143b",
       "version_major": 2,
       "version_minor": 0
      },
      "text/plain": [
       "HBox(children=(FloatProgress(value=0.0, max=428.0), HTML(value='')))"
      ]
     },
     "metadata": {},
     "output_type": "display_data"
    },
    {
     "name": "stdout",
     "output_type": "stream",
     "text": [
      "\n"
     ]
    },
    {
     "name": "stderr",
     "output_type": "stream",
     "text": [
      "Couldn't find file locally at cer/cer.py, or remotely at https://raw.githubusercontent.com/huggingface/datasets/1.5.0/metrics/cer/cer.py.\n",
      "The file was picked from the master branch on github instead at https://raw.githubusercontent.com/huggingface/datasets/master/metrics/cer/cer.py.\n",
      "Couldn't find file locally at cer/cer.py, or remotely at https://raw.githubusercontent.com/huggingface/datasets/1.5.0/metrics/cer/cer.py.\n",
      "The file was picked from the master branch on github instead at https://raw.githubusercontent.com/huggingface/datasets/master/metrics/cer/cer.py.\n"
     ]
    },
    {
     "name": "stdout",
     "output_type": "stream",
     "text": [
      "stats for small testset\n",
      "lm stats:8.896525391370751 1.9373555588336528,      no-lm stats:15.54028255059183 2.6995132025372475\n"
     ]
    }
   ],
   "source": [
    "wer = load_metric(\"wer\")\n",
    "cer = load_metric(\"cer\")\n",
    "device = \"cuda\"\n",
    "\n",
    "preds = []\n",
    "LMpreds = []\n",
    "\n",
    "with torch.no_grad():\n",
    "    for batch in tqdm(testloader):\n",
    "        inputs, masks, labels = batch\n",
    "        logits = recognizer.model(inputs.to(device), masks.to(device), ).logits\n",
    "        \n",
    "        #calculate no lm preds\n",
    "        pred_ids = torch.argmax(logits, dim=-1)\n",
    "        pred = recognizer.processor.batch_decode(pred_ids)\n",
    "        preds.append(pred[0])\n",
    "        \n",
    "        probs = logits.softmax(dim=2).cpu()\n",
    "        text = decoder.decode(probs)\n",
    "        LMpreds.append(text)\n",
    "    \n",
    "    lmwer = calculate_wer(LMpreds, testset.data.sentence)\n",
    "    wer_c = calculate_wer(preds, testset.data.sentence)\n",
    "    lmcer = calculate_cer(LMpreds, testset.data.sentence)\n",
    "    cer_c = calculate_cer(preds, testset.data.sentence)\n",
    "    print(\"stats for full testset\")\n",
    "    print(f\"lm stats:{lmwer} {lmcer},      no-lm stats:{wer_c} {cer_c}\")\n",
    "    \n",
    "    #calculate stats for small test set\n",
    "    LMpreds = []\n",
    "    preds = []\n",
    "    for batch in tqdm(testloader_small):\n",
    "        inputs, masks, labels = batch\n",
    "        logits = recognizer.model(inputs.to(device), masks.to(device)).logits\n",
    "\n",
    "        #calculate no lm preds\n",
    "        pred_ids = torch.argmax(logits, dim=-1)\n",
    "        pred = recognizer.processor.batch_decode(pred_ids)\n",
    "        preds.append(pred[0])\n",
    "\n",
    "        probs = logits.softmax(dim=2).cpu()\n",
    "        text = decoder.decode(probs)\n",
    "        LMpreds.append(text)\n",
    "    \n",
    "    lmwer = calculate_wer(LMpreds, testset_small.data.sentence)\n",
    "    wer_c = calculate_wer(preds, testset_small.data.sentence)\n",
    "    lmcer = calculate_cer(LMpreds, testset_small.data.sentence)\n",
    "    cer_c = calculate_cer(preds, testset_small.data.sentence)\n",
    "    print(\"stats for small testset\")\n",
    "    print(f\"lm stats:{lmwer} {lmcer},      no-lm stats:{wer_c} {cer_c}\")"
   ]
  },
  {
   "cell_type": "code",
   "execution_count": null,
   "id": "6543f57d",
   "metadata": {},
   "outputs": [],
   "source": []
  }
 ],
 "metadata": {
  "kernelspec": {
   "display_name": "Python 3",
   "language": "python",
   "name": "python3"
  },
  "language_info": {
   "codemirror_mode": {
    "name": "ipython",
    "version": 3
   },
   "file_extension": ".py",
   "mimetype": "text/x-python",
   "name": "python",
   "nbconvert_exporter": "python",
   "pygments_lexer": "ipython3",
   "version": "3.8.5"
  }
 },
 "nbformat": 4,
 "nbformat_minor": 5
}
