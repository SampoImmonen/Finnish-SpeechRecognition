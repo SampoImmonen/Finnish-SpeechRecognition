{
 "cells": [
  {
   "cell_type": "markdown",
   "id": "4334427c",
   "metadata": {},
   "source": [
    "# Data Wrangling\n",
    "\n",
    "## Transform all to into common format\n",
    "## csv with columns path, sentence"
   ]
  },
  {
   "cell_type": "code",
   "execution_count": 84,
   "id": "c5e54636",
   "metadata": {},
   "outputs": [],
   "source": [
    "import pandas as pd\n",
    "\n",
    "df = pd.read_csv(\"data/commonvoice/train.csv\")"
   ]
  },
  {
   "cell_type": "code",
   "execution_count": 85,
   "id": "894461f6",
   "metadata": {},
   "outputs": [
    {
     "data": {
      "text/html": [
       "<div>\n",
       "<style scoped>\n",
       "    .dataframe tbody tr th:only-of-type {\n",
       "        vertical-align: middle;\n",
       "    }\n",
       "\n",
       "    .dataframe tbody tr th {\n",
       "        vertical-align: top;\n",
       "    }\n",
       "\n",
       "    .dataframe thead th {\n",
       "        text-align: right;\n",
       "    }\n",
       "</style>\n",
       "<table border=\"1\" class=\"dataframe\">\n",
       "  <thead>\n",
       "    <tr style=\"text-align: right;\">\n",
       "      <th></th>\n",
       "      <th>Unnamed: 0</th>\n",
       "      <th>path</th>\n",
       "      <th>sentence</th>\n",
       "    </tr>\n",
       "  </thead>\n",
       "  <tbody>\n",
       "    <tr>\n",
       "      <th>0</th>\n",
       "      <td>0</td>\n",
       "      <td>/home/sampo/.cache/huggingface/datasets/downlo...</td>\n",
       "      <td>Mitä nyt tekisimme?</td>\n",
       "    </tr>\n",
       "    <tr>\n",
       "      <th>1</th>\n",
       "      <td>1</td>\n",
       "      <td>/home/sampo/.cache/huggingface/datasets/downlo...</td>\n",
       "      <td>Äänestämme tämän vuoksi toisin kuin maataloude...</td>\n",
       "    </tr>\n",
       "    <tr>\n",
       "      <th>2</th>\n",
       "      <td>2</td>\n",
       "      <td>/home/sampo/.cache/huggingface/datasets/downlo...</td>\n",
       "      <td>Rupeatko remmiin, vai et?</td>\n",
       "    </tr>\n",
       "    <tr>\n",
       "      <th>3</th>\n",
       "      <td>3</td>\n",
       "      <td>/home/sampo/.cache/huggingface/datasets/downlo...</td>\n",
       "      <td>Äänestin näin ollen mietinnön puolesta.</td>\n",
       "    </tr>\n",
       "    <tr>\n",
       "      <th>4</th>\n",
       "      <td>4</td>\n",
       "      <td>/home/sampo/.cache/huggingface/datasets/downlo...</td>\n",
       "      <td>Kiitos, että tulitte ja opetitte meille viisau...</td>\n",
       "    </tr>\n",
       "  </tbody>\n",
       "</table>\n",
       "</div>"
      ],
      "text/plain": [
       "   Unnamed: 0                                               path  \\\n",
       "0           0  /home/sampo/.cache/huggingface/datasets/downlo...   \n",
       "1           1  /home/sampo/.cache/huggingface/datasets/downlo...   \n",
       "2           2  /home/sampo/.cache/huggingface/datasets/downlo...   \n",
       "3           3  /home/sampo/.cache/huggingface/datasets/downlo...   \n",
       "4           4  /home/sampo/.cache/huggingface/datasets/downlo...   \n",
       "\n",
       "                                            sentence  \n",
       "0                                Mitä nyt tekisimme?  \n",
       "1  Äänestämme tämän vuoksi toisin kuin maataloude...  \n",
       "2                          Rupeatko remmiin, vai et?  \n",
       "3            Äänestin näin ollen mietinnön puolesta.  \n",
       "4  Kiitos, että tulitte ja opetitte meille viisau...  "
      ]
     },
     "execution_count": 85,
     "metadata": {},
     "output_type": "execute_result"
    }
   ],
   "source": [
    "df.head()"
   ]
  },
  {
   "cell_type": "code",
   "execution_count": 69,
   "id": "bc14b5fd",
   "metadata": {},
   "outputs": [],
   "source": [
    "\n",
    "def add_prefix(sent):\n",
    "    return \"data/eduskunnanpuheet/\"+sent\n",
    "\n",
    "df.path = df.path.apply(add_prefix)"
   ]
  },
  {
   "cell_type": "code",
   "execution_count": 19,
   "id": "d6e853c0",
   "metadata": {},
   "outputs": [],
   "source": [
    "df.to_csv(\"train.csv\",encoding=\"utf-8\")"
   ]
  },
  {
   "cell_type": "code",
   "execution_count": 27,
   "id": "9dd76f17",
   "metadata": {},
   "outputs": [
    {
     "data": {
      "text/html": [
       "<div>\n",
       "<style scoped>\n",
       "    .dataframe tbody tr th:only-of-type {\n",
       "        vertical-align: middle;\n",
       "    }\n",
       "\n",
       "    .dataframe tbody tr th {\n",
       "        vertical-align: top;\n",
       "    }\n",
       "\n",
       "    .dataframe thead th {\n",
       "        text-align: right;\n",
       "    }\n",
       "</style>\n",
       "<table border=\"1\" class=\"dataframe\">\n",
       "  <thead>\n",
       "    <tr style=\"text-align: right;\">\n",
       "      <th></th>\n",
       "      <th>path</th>\n",
       "      <th>sentence</th>\n",
       "    </tr>\n",
       "  </thead>\n",
       "  <tbody>\n",
       "    <tr>\n",
       "      <th>0</th>\n",
       "      <td>data/eduskunnanpuheet/session_2_SEG_01.wav</td>\n",
       "      <td>edustaja timo soini ja kolmekymmentäkuusi muut...</td>\n",
       "    </tr>\n",
       "    <tr>\n",
       "      <th>1</th>\n",
       "      <td>data/eduskunnanpuheet/session_2_SEG_02.wav</td>\n",
       "      <td>arvoisa herra puhemies eurokriisi alkoi kreika...</td>\n",
       "    </tr>\n",
       "    <tr>\n",
       "      <th>2</th>\n",
       "      <td>data/eduskunnanpuheet/session_2_SEG_03.wav</td>\n",
       "      <td>brysselissä tilastovääristelystä tiedettiin jo...</td>\n",
       "    </tr>\n",
       "    <tr>\n",
       "      <th>3</th>\n",
       "      <td>data/eduskunnanpuheet/session_2_SEG_04.wav</td>\n",
       "      <td>kreikan lainottaminen herätti keskustelua euro...</td>\n",
       "    </tr>\n",
       "    <tr>\n",
       "      <th>4</th>\n",
       "      <td>data/eduskunnanpuheet/session_2_SEG_05.wav</td>\n",
       "      <td>pankkien pelastaminen kävi kalliiksi niinpä he...</td>\n",
       "    </tr>\n",
       "  </tbody>\n",
       "</table>\n",
       "</div>"
      ],
      "text/plain": [
       "                                         path  \\\n",
       "0  data/eduskunnanpuheet/session_2_SEG_01.wav   \n",
       "1  data/eduskunnanpuheet/session_2_SEG_02.wav   \n",
       "2  data/eduskunnanpuheet/session_2_SEG_03.wav   \n",
       "3  data/eduskunnanpuheet/session_2_SEG_04.wav   \n",
       "4  data/eduskunnanpuheet/session_2_SEG_05.wav   \n",
       "\n",
       "                                            sentence  \n",
       "0  edustaja timo soini ja kolmekymmentäkuusi muut...  \n",
       "1  arvoisa herra puhemies eurokriisi alkoi kreika...  \n",
       "2  brysselissä tilastovääristelystä tiedettiin jo...  \n",
       "3  kreikan lainottaminen herätti keskustelua euro...  \n",
       "4  pankkien pelastaminen kävi kalliiksi niinpä he...  "
      ]
     },
     "execution_count": 27,
     "metadata": {},
     "output_type": "execute_result"
    }
   ],
   "source": [
    "df = pd.read_csv(\"train.csv\")\n",
    "df.head()"
   ]
  },
  {
   "cell_type": "code",
   "execution_count": 32,
   "id": "90ff314e",
   "metadata": {},
   "outputs": [
    {
     "data": {
      "text/plain": [
       "False"
      ]
     },
     "execution_count": 32,
     "metadata": {},
     "output_type": "execute_result"
    }
   ],
   "source": [
    "a = \"I.\"\n",
    "\n",
    "a == 'II.'"
   ]
  },
  {
   "cell_type": "code",
   "execution_count": 58,
   "id": "e7a0f81b",
   "metadata": {},
   "outputs": [
    {
     "data": {
      "text/plain": [
       "'siihen aikaan kun isä lampun osti sanoi hän äidille näinikään äiti hoi kuulehan '"
      ]
     },
     "execution_count": 58,
     "metadata": {},
     "output_type": "execute_result"
    }
   ],
   "source": [
    "chars_to_ignore_regex = '[\\,\\?\\.\\!\\-\\;\\:\\\"\\“\\%\\‘\\”\\�\\'\\...\\…\\–\\é\\\\\\I.\\\\\\II.\\\\\\III.\\\\\\IV.\\\\\\V.\\\\\\VI.\\\\\\VII.\\\\\\VIII.\\\\\\IX.\\\\\\X.]'\n",
    "import re\n",
    "\n",
    "def regex_fix(sent):\n",
    "    sent = re.sub(chars_to_ignore_regex, '', sent).lower() + \" \"\n",
    "    if sent[0] == ' ':\n",
    "        sent = sent[1:]\n",
    "    return sent\n",
    "\n",
    "def remove_special_characters(sent):\n",
    "    sent = re.sub(chars_to_ignore_regex, '', sent).lower() + \" \"\n",
    "    return sent\n",
    "regex_fix(df.iloc[0]['sentence'])"
   ]
  },
  {
   "cell_type": "code",
   "execution_count": 86,
   "id": "7d15ec8e",
   "metadata": {},
   "outputs": [],
   "source": [
    "df.to_csv(\"data/commonvoice/train.csv\", encoding=\"utf-8\", index=False, columns=['path', 'sentence'])"
   ]
  },
  {
   "cell_type": "code",
   "execution_count": 77,
   "id": "abe726e6",
   "metadata": {},
   "outputs": [
    {
     "data": {
      "text/html": [
       "<div>\n",
       "<style scoped>\n",
       "    .dataframe tbody tr th:only-of-type {\n",
       "        vertical-align: middle;\n",
       "    }\n",
       "\n",
       "    .dataframe tbody tr th {\n",
       "        vertical-align: top;\n",
       "    }\n",
       "\n",
       "    .dataframe thead th {\n",
       "        text-align: right;\n",
       "    }\n",
       "</style>\n",
       "<table border=\"1\" class=\"dataframe\">\n",
       "  <thead>\n",
       "    <tr style=\"text-align: right;\">\n",
       "      <th></th>\n",
       "      <th>path</th>\n",
       "      <th>sentence</th>\n",
       "    </tr>\n",
       "  </thead>\n",
       "  <tbody>\n",
       "    <tr>\n",
       "      <th>0</th>\n",
       "      <td>/home/sampo/.cache/huggingface/datasets/downlo...</td>\n",
       "      <td>Mitä nyt tekisimme?</td>\n",
       "    </tr>\n",
       "    <tr>\n",
       "      <th>1</th>\n",
       "      <td>/home/sampo/.cache/huggingface/datasets/downlo...</td>\n",
       "      <td>Äänestämme tämän vuoksi toisin kuin maataloude...</td>\n",
       "    </tr>\n",
       "    <tr>\n",
       "      <th>2</th>\n",
       "      <td>/home/sampo/.cache/huggingface/datasets/downlo...</td>\n",
       "      <td>Rupeatko remmiin, vai et?</td>\n",
       "    </tr>\n",
       "    <tr>\n",
       "      <th>3</th>\n",
       "      <td>/home/sampo/.cache/huggingface/datasets/downlo...</td>\n",
       "      <td>Äänestin näin ollen mietinnön puolesta.</td>\n",
       "    </tr>\n",
       "    <tr>\n",
       "      <th>4</th>\n",
       "      <td>/home/sampo/.cache/huggingface/datasets/downlo...</td>\n",
       "      <td>Kiitos, että tulitte ja opetitte meille viisau...</td>\n",
       "    </tr>\n",
       "    <tr>\n",
       "      <th>...</th>\n",
       "      <td>...</td>\n",
       "      <td>...</td>\n",
       "    </tr>\n",
       "    <tr>\n",
       "      <th>1019</th>\n",
       "      <td>/home/sampo/.cache/huggingface/datasets/downlo...</td>\n",
       "      <td>Ah, oma nimikkohytti.</td>\n",
       "    </tr>\n",
       "    <tr>\n",
       "      <th>1020</th>\n",
       "      <td>/home/sampo/.cache/huggingface/datasets/downlo...</td>\n",
       "      <td>Pääaukiolla oli käynnissä markkinat.</td>\n",
       "    </tr>\n",
       "    <tr>\n",
       "      <th>1021</th>\n",
       "      <td>/home/sampo/.cache/huggingface/datasets/downlo...</td>\n",
       "      <td>John peitti kädellä silmiään.</td>\n",
       "    </tr>\n",
       "    <tr>\n",
       "      <th>1022</th>\n",
       "      <td>/home/sampo/.cache/huggingface/datasets/downlo...</td>\n",
       "      <td>Annoin miehen päästä karkuun.</td>\n",
       "    </tr>\n",
       "    <tr>\n",
       "      <th>1023</th>\n",
       "      <td>/home/sampo/.cache/huggingface/datasets/downlo...</td>\n",
       "      <td>Raivo ymmärsi myös tilanteen eikä pahastunut s...</td>\n",
       "    </tr>\n",
       "  </tbody>\n",
       "</table>\n",
       "<p>1024 rows × 2 columns</p>\n",
       "</div>"
      ],
      "text/plain": [
       "                                                   path  \\\n",
       "0     /home/sampo/.cache/huggingface/datasets/downlo...   \n",
       "1     /home/sampo/.cache/huggingface/datasets/downlo...   \n",
       "2     /home/sampo/.cache/huggingface/datasets/downlo...   \n",
       "3     /home/sampo/.cache/huggingface/datasets/downlo...   \n",
       "4     /home/sampo/.cache/huggingface/datasets/downlo...   \n",
       "...                                                 ...   \n",
       "1019  /home/sampo/.cache/huggingface/datasets/downlo...   \n",
       "1020  /home/sampo/.cache/huggingface/datasets/downlo...   \n",
       "1021  /home/sampo/.cache/huggingface/datasets/downlo...   \n",
       "1022  /home/sampo/.cache/huggingface/datasets/downlo...   \n",
       "1023  /home/sampo/.cache/huggingface/datasets/downlo...   \n",
       "\n",
       "                                               sentence  \n",
       "0                                   Mitä nyt tekisimme?  \n",
       "1     Äänestämme tämän vuoksi toisin kuin maataloude...  \n",
       "2                             Rupeatko remmiin, vai et?  \n",
       "3               Äänestin näin ollen mietinnön puolesta.  \n",
       "4     Kiitos, että tulitte ja opetitte meille viisau...  \n",
       "...                                                 ...  \n",
       "1019                              Ah, oma nimikkohytti.  \n",
       "1020               Pääaukiolla oli käynnissä markkinat.  \n",
       "1021                      John peitti kädellä silmiään.  \n",
       "1022                      Annoin miehen päästä karkuun.  \n",
       "1023  Raivo ymmärsi myös tilanteen eikä pahastunut s...  \n",
       "\n",
       "[1024 rows x 2 columns]"
      ]
     },
     "execution_count": 77,
     "metadata": {},
     "output_type": "execute_result"
    }
   ],
   "source": [
    "pd.read_csv(\"data/commonvoice/train.csv\")"
   ]
  },
  {
   "cell_type": "code",
   "execution_count": 11,
   "id": "24c63ace",
   "metadata": {},
   "outputs": [
    {
     "name": "stdout",
     "output_type": "stream",
     "text": [
      "return files from dir: data/speechcollector/recordings/transcripts\n",
      "return files from dir: data/speechcollector/youtube/transcripts\n",
      "(609, 2)\n"
     ]
    },
    {
     "data": {
      "text/html": [
       "<div>\n",
       "<style scoped>\n",
       "    .dataframe tbody tr th:only-of-type {\n",
       "        vertical-align: middle;\n",
       "    }\n",
       "\n",
       "    .dataframe tbody tr th {\n",
       "        vertical-align: top;\n",
       "    }\n",
       "\n",
       "    .dataframe thead th {\n",
       "        text-align: right;\n",
       "    }\n",
       "</style>\n",
       "<table border=\"1\" class=\"dataframe\">\n",
       "  <thead>\n",
       "    <tr style=\"text-align: right;\">\n",
       "      <th></th>\n",
       "      <th>path</th>\n",
       "      <th>sentence</th>\n",
       "    </tr>\n",
       "  </thead>\n",
       "  <tbody>\n",
       "    <tr>\n",
       "      <th>0</th>\n",
       "      <td>data/speechcollector/youtube/audio/65b0abe4-bc...</td>\n",
       "      <td>kuten elämä itsessään myös mielenterveytemme m...</td>\n",
       "    </tr>\n",
       "    <tr>\n",
       "      <th>1</th>\n",
       "      <td>data/speechcollector/youtube/audio/ee7d7ae3-8e...</td>\n",
       "      <td>kiitos tota taustasta sen verran</td>\n",
       "    </tr>\n",
       "    <tr>\n",
       "      <th>2</th>\n",
       "      <td>data/speechcollector/youtube/audio/0acc691f-45...</td>\n",
       "      <td>joka kuoressa on säihkyvä helmi niin hieno ett...</td>\n",
       "    </tr>\n",
       "    <tr>\n",
       "      <th>3</th>\n",
       "      <td>data/speechcollector/youtube/audio/66f8140a-90...</td>\n",
       "      <td>kirja esimerksiks jääny kotiin tai läksyt on t...</td>\n",
       "    </tr>\n",
       "    <tr>\n",
       "      <th>4</th>\n",
       "      <td>data/speechcollector/youtube/audio/3b56b95b-e6...</td>\n",
       "      <td>oliks teil himassa silleen musiikkiperhe vai t...</td>\n",
       "    </tr>\n",
       "  </tbody>\n",
       "</table>\n",
       "</div>"
      ],
      "text/plain": [
       "                                                path  \\\n",
       "0  data/speechcollector/youtube/audio/65b0abe4-bc...   \n",
       "1  data/speechcollector/youtube/audio/ee7d7ae3-8e...   \n",
       "2  data/speechcollector/youtube/audio/0acc691f-45...   \n",
       "3  data/speechcollector/youtube/audio/66f8140a-90...   \n",
       "4  data/speechcollector/youtube/audio/3b56b95b-e6...   \n",
       "\n",
       "                                            sentence  \n",
       "0  kuten elämä itsessään myös mielenterveytemme m...  \n",
       "1                  kiitos tota taustasta sen verran   \n",
       "2  joka kuoressa on säihkyvä helmi niin hieno ett...  \n",
       "3  kirja esimerksiks jääny kotiin tai läksyt on t...  \n",
       "4  oliks teil himassa silleen musiikkiperhe vai t...  "
      ]
     },
     "execution_count": 11,
     "metadata": {},
     "output_type": "execute_result"
    }
   ],
   "source": [
    "import os\n",
    "import pandas as pd\n",
    "#remember to change\n",
    "base = \"data/speechcollector\"\n",
    "subdirs = [\"recordings\",\"youtube\"]\n",
    "\n",
    "def get_filenames(dir):\n",
    "    print(f\"return files from dir: {dir}\")\n",
    "    return [file for file in os.listdir(dir) if os.path.isfile(os.path.join(dir, file))]\n",
    "    \n",
    "def audiopath_from_textfile(filename, subdir):\n",
    "    name = filename.split('.')[0]\n",
    "    return os.path.join(subdir, \"audio/\",name+\".mp3\")\n",
    "\n",
    "#filenames = get_filenames(\"data/speechcollector/recordings/transcripts\")\n",
    "\n",
    "\n",
    "def csvfromfiles(dir):\n",
    "    \"\"\"\n",
    "    input subdir (recordings or youtube)\n",
    "    and return pandas dataframe with columns path, transcript\n",
    "    \"\"\"\n",
    "    \n",
    "    data = []\n",
    "    transcript_dir = os.path.join(dir, \"transcripts\")\n",
    "    filenames = get_filenames(transcript_dir)\n",
    "    for file in filenames:\n",
    "        \n",
    "        row = [0, 0]\n",
    "        filepath = os.path.join(transcript_dir, file)\n",
    "        with open(filepath, 'r') as f:\n",
    "            text = f.read()\n",
    "        audiopath = audiopath_from_textfile(file, dir)\n",
    "        row[0] = audiopath\n",
    "        row[1] = text\n",
    "        data.append(row)\n",
    "    return pd.DataFrame(data, columns = ['path', 'sentence']) \n",
    "        \n",
    "def create_csv(base, subdirs):\n",
    "    dfs = []\n",
    "    for subdir in subdirs:\n",
    "        dir = os.path.join(base, subdir)\n",
    "        dfs.append(csvfromfiles(dir))\n",
    "    df = pd.concat(dfs)\n",
    "    \n",
    "    csv_path = os.path.join(base,\"train.csv\")\n",
    "    print(f\"csv file saved as {csv_path}\")\n",
    "    df.to_csv(csv_path, encoding=\"utf-8\", index=False, columns=['path', 'sentence'])\n",
    "    return df\n",
    "    \n",
    "audiopath_from_textfile(filenames[0], os.path.join(base, \"recordings\"))\n",
    "\n",
    "#df = csvfromfiles(os.path.join(base, \"recordings\"))\n",
    "df = create_csv(base, subdirs)\n",
    "print(df.shape)\n",
    "df.head()"
   ]
  },
  {
   "cell_type": "code",
   "execution_count": 35,
   "id": "1295a0b5",
   "metadata": {},
   "outputs": [],
   "source": [
    "import torchaudio\n",
    "#id, normalized_text\n",
    "base = \"data/fi\"\n",
    "files = [\"asr_dev.tsv\", \"asr_test.tsv\", \"asr_train.tsv\"]\n",
    "df = pd.read_csv(os.path.join(base, files[0]), sep='\\t')\n",
    "#print(df.head())\n",
    "path = os.path.join(base,df.id[0][:4], df.id[0])+\".ogg\"\n",
    "#print(path)\n",
    "torchaudio.load(path)\n",
    "\n",
    "dfs = []\n",
    "for file in files:\n",
    "    data = []\n",
    "    df_path = os.path.join(base,file)\n",
    "    df = pd.read_csv(df_path, sep='\\t')\n",
    "    for index, row in df.iterrows():\n",
    "        r = [0,0]\n",
    "        audiopath = os.path.join(base,row['id'][:4], row['id'])+\".ogg\"\n",
    "        text = row['normalized_text']\n",
    "        r[0] = audiopath\n",
    "        r[1] = text\n",
    "        data.append(r)\n",
    "    dfs.append(pd.DataFrame(data, columns = ['path', 'sentence'])) \n",
    "    \n",
    "csv_df = pd.concat(dfs)\n",
    "csv_df.to_csv(os.path.join(base,\"train.csv\"), encoding=\"utf-8\", index=False, columns=['path', 'sentence'])\n",
    "    "
   ]
  },
  {
   "cell_type": "code",
   "execution_count": 37,
   "id": "094ab7a4",
   "metadata": {},
   "outputs": [
    {
     "data": {
      "text/plain": [
       "(9074, 2)"
      ]
     },
     "execution_count": 37,
     "metadata": {},
     "output_type": "execute_result"
    }
   ],
   "source": [
    "path = os.path.join(base,\"train.csv\")\n",
    "dd = pd.read_csv(path)\n",
    "dd.shape"
   ]
  }
 ],
 "metadata": {
  "kernelspec": {
   "display_name": "Python 3",
   "language": "python",
   "name": "python3"
  },
  "language_info": {
   "codemirror_mode": {
    "name": "ipython",
    "version": 3
   },
   "file_extension": ".py",
   "mimetype": "text/x-python",
   "name": "python",
   "nbconvert_exporter": "python",
   "pygments_lexer": "ipython3",
   "version": "3.8.5"
  }
 },
 "nbformat": 4,
 "nbformat_minor": 5
}
