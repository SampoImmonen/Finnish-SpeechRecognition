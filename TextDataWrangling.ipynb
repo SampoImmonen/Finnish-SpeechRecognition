{
 "cells": [
  {
   "cell_type": "markdown",
   "id": "951869fc",
   "metadata": {},
   "source": [
    "# Notebook to preprocess training text data for language modelling\n"
   ]
  },
  {
   "cell_type": "code",
   "execution_count": 14,
   "id": "ff328344",
   "metadata": {},
   "outputs": [],
   "source": [
    "import random\n",
    "import pandas as pd\n",
    "from IPython.display import display, HTML\n",
    "import re\n",
    "chars_to_ignore_regex = '[\\,\\?\\.\\!\\-\\;\\:\\\"\\“\\%\\‘\\”\\�\\'\\...\\…\\–\\é]'\n",
    "\n",
    "def remove_special_characters(sent):\n",
    "    sent = re.sub(chars_to_ignore_regex, '', sent).lower() + \" \"\n",
    "    return sent\n",
    "\n"
   ]
  },
  {
   "cell_type": "code",
   "execution_count": 3,
   "id": "06fe2117",
   "metadata": {},
   "outputs": [],
   "source": [
    "singlespeaker = \"data/singlespeaker/train.csv\"\n",
    "commonvoice = \"data/commonvoice/train.csv\"\n",
    "speechcollector = \"data/speechcollector/train.csv\"\n",
    "voxpopuli = \"data/fi/train.csv\"\n",
    "\n",
    "train_dfs = [singlespeaker, commonvoice, speechcollector, voxpopuli]\n",
    "\n",
    "dfs = []\n",
    "for df in train_dfs:\n",
    "    train_df = pd.read_csv(df)\n",
    "    dfs.append(train_df)\n",
    "training_data = pd.concat(dfs)"
   ]
  },
  {
   "cell_type": "code",
   "execution_count": 5,
   "id": "218bf203",
   "metadata": {},
   "outputs": [],
   "source": [
    "training_data = training_data['sentence']"
   ]
  },
  {
   "cell_type": "code",
   "execution_count": 15,
   "id": "45b1e106",
   "metadata": {},
   "outputs": [],
   "source": [
    "with open(\"data/cleaned_sentences.txt\", 'w') as f:\n",
    "    for df in dfs:\n",
    "        sentences = df['sentence']\n",
    "        for sent in sentences:\n",
    "            clean_sent = remove_special_characters(sent)\n",
    "            f.write(clean_sent+'\\n')"
   ]
  },
  {
   "cell_type": "code",
   "execution_count": 10,
   "id": "585b134e",
   "metadata": {},
   "outputs": [
    {
     "name": "stdout",
     "output_type": "stream",
     "text": [
      "0    siihen aikaan kun isä lampun osti sanoi hän äi...\n",
      "1    eiköhän ostettaisi lamppua meillekin mitä lamp...\n",
      "2    lamppuja joista yksi näyttää enemmän kuin kymm...\n",
      "3            jo ovat pappilaankin semmoisen ostaneet  \n",
      "4    onko se semmoinen että kun se keskellä huonett...\n",
      "Name: sentence, dtype: object\n"
     ]
    }
   ],
   "source": [
    "print(training_data.head(5))"
   ]
  },
  {
   "cell_type": "code",
   "execution_count": null,
   "id": "c714464b",
   "metadata": {},
   "outputs": [],
   "source": [
    "training_data.apply(remove_special_characters)"
   ]
  }
 ],
 "metadata": {
  "kernelspec": {
   "display_name": "Python 3",
   "language": "python",
   "name": "python3"
  },
  "language_info": {
   "codemirror_mode": {
    "name": "ipython",
    "version": 3
   },
   "file_extension": ".py",
   "mimetype": "text/x-python",
   "name": "python",
   "nbconvert_exporter": "python",
   "pygments_lexer": "ipython3",
   "version": "3.8.5"
  }
 },
 "nbformat": 4,
 "nbformat_minor": 5
}
