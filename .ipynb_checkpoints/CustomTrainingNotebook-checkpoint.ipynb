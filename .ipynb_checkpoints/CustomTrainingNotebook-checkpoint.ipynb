{
 "cells": [
  {
   "cell_type": "markdown",
   "id": "fc0e4bda",
   "metadata": {},
   "source": [
    "# Training notebook for Huggingface XLSR-Wav2Vec2 Model\n",
    "## (https://huggingface.co/transformers/model_doc/wav2vec2.html)\n",
    "## Steps\n",
    "1. Data preprocessing and preparation\n",
    "2. Dataset class and dataloader\n",
    "3. Model preparation\n",
    "4. training Loop\n",
    "### Note old script based on (https://huggingface.co/blog/fine-tune-xlsr-wav2vec2)"
   ]
  },
  {
   "cell_type": "markdown",
   "id": "966e01f1",
   "metadata": {},
   "source": [
    "# Step 1 Dataprocessing\n",
    "- Data is assumed to be in csv format with columns (path, sentence)\n",
    "- we have have from different sources (listed below)\n",
    "- some preprocessing has already been done for data from different sources"
   ]
  },
  {
   "cell_type": "code",
   "execution_count": 2,
   "id": "73ccca49",
   "metadata": {},
   "outputs": [
    {
     "name": "stdout",
     "output_type": "stream",
     "text": [
      "Training set contains 106443 Samples\n",
      "test set contains 1976 Samples\n"
     ]
    },
    {
     "data": {
      "text/html": [
       "<div>\n",
       "<style scoped>\n",
       "    .dataframe tbody tr th:only-of-type {\n",
       "        vertical-align: middle;\n",
       "    }\n",
       "\n",
       "    .dataframe tbody tr th {\n",
       "        vertical-align: top;\n",
       "    }\n",
       "\n",
       "    .dataframe thead th {\n",
       "        text-align: right;\n",
       "    }\n",
       "</style>\n",
       "<table border=\"1\" class=\"dataframe\">\n",
       "  <thead>\n",
       "    <tr style=\"text-align: right;\">\n",
       "      <th></th>\n",
       "      <th>path</th>\n",
       "      <th>sentence</th>\n",
       "    </tr>\n",
       "  </thead>\n",
       "  <tbody>\n",
       "    <tr>\n",
       "      <th>0</th>\n",
       "      <td>/home/sampo/.cache/huggingface/datasets/downlo...</td>\n",
       "      <td>Mitä nyt tekisimme?</td>\n",
       "    </tr>\n",
       "    <tr>\n",
       "      <th>1</th>\n",
       "      <td>/home/sampo/.cache/huggingface/datasets/downlo...</td>\n",
       "      <td>Äänestämme tämän vuoksi toisin kuin maataloude...</td>\n",
       "    </tr>\n",
       "    <tr>\n",
       "      <th>2</th>\n",
       "      <td>/home/sampo/.cache/huggingface/datasets/downlo...</td>\n",
       "      <td>Rupeatko remmiin, vai et?</td>\n",
       "    </tr>\n",
       "    <tr>\n",
       "      <th>3</th>\n",
       "      <td>/home/sampo/.cache/huggingface/datasets/downlo...</td>\n",
       "      <td>Äänestin näin ollen mietinnön puolesta.</td>\n",
       "    </tr>\n",
       "    <tr>\n",
       "      <th>4</th>\n",
       "      <td>/home/sampo/.cache/huggingface/datasets/downlo...</td>\n",
       "      <td>Kiitos, että tulitte ja opetitte meille viisau...</td>\n",
       "    </tr>\n",
       "  </tbody>\n",
       "</table>\n",
       "</div>"
      ],
      "text/plain": [
       "                                                path  \\\n",
       "0  /home/sampo/.cache/huggingface/datasets/downlo...   \n",
       "1  /home/sampo/.cache/huggingface/datasets/downlo...   \n",
       "2  /home/sampo/.cache/huggingface/datasets/downlo...   \n",
       "3  /home/sampo/.cache/huggingface/datasets/downlo...   \n",
       "4  /home/sampo/.cache/huggingface/datasets/downlo...   \n",
       "\n",
       "                                            sentence  \n",
       "0                                Mitä nyt tekisimme?  \n",
       "1  Äänestämme tämän vuoksi toisin kuin maataloude...  \n",
       "2                          Rupeatko remmiin, vai et?  \n",
       "3            Äänestin näin ollen mietinnön puolesta.  \n",
       "4  Kiitos, että tulitte ja opetitte meille viisau...  "
      ]
     },
     "execution_count": 2,
     "metadata": {},
     "output_type": "execute_result"
    }
   ],
   "source": [
    "from datasets import load_dataset, load_metric\n",
    "import pandas as pd\n",
    "\n",
    "#Set all sources of data\n",
    "commonvoice = \"data/commonvoice/train.csv\"\n",
    "singlespeaker = \"data/singlespeaker/train.csv\"\n",
    "speechcollector = \"data/speechcollector/train.csv\"\n",
    "voxpopuli = \"data/fi/train.csv\"\n",
    "eduskunta_1 = \"data/eduskunnanpuheet/uudetpuheet/dev-eval/train.csv\"\n",
    "eduskunta_2 = \"data/eduskunnanpuheet/uudetpuheet/2008-2016set/train.csv\"\n",
    "\n",
    "test1 = \"data/commonvoice/test.csv\"\n",
    "test2 = \"data/eduskunnanpuheet/uudetpuheet/dev-eval/test.csv\"\n",
    "\n",
    "train_df = pd.concat([pd.read_csv(commonvoice), pd.read_csv(singlespeaker), pd.read_csv(speechcollector), pd.read_csv(voxpopuli), pd.read_csv(eduskunta_1), pd.read_csv(eduskunta_2)])\n",
    "test_df = pd.concat([pd.read_csv(test1), pd.read_csv(test2)])\n",
    "\n",
    "print(f\"Training set contains {len(train_df)} Samples\")\n",
    "print(f\"test set contains {len(test_df)} Samples\")\n",
    "train_df.head()"
   ]
  },
  {
   "cell_type": "markdown",
   "id": "c702d6d2",
   "metadata": {},
   "source": [
    "# Remove these specific characters and lower case transcriptions"
   ]
  },
  {
   "cell_type": "code",
   "execution_count": 2,
   "id": "6dcbb3dd",
   "metadata": {},
   "outputs": [
    {
     "data": {
      "text/html": [
       "<div>\n",
       "<style scoped>\n",
       "    .dataframe tbody tr th:only-of-type {\n",
       "        vertical-align: middle;\n",
       "    }\n",
       "\n",
       "    .dataframe tbody tr th {\n",
       "        vertical-align: top;\n",
       "    }\n",
       "\n",
       "    .dataframe thead th {\n",
       "        text-align: right;\n",
       "    }\n",
       "</style>\n",
       "<table border=\"1\" class=\"dataframe\">\n",
       "  <thead>\n",
       "    <tr style=\"text-align: right;\">\n",
       "      <th></th>\n",
       "      <th>path</th>\n",
       "      <th>sentence</th>\n",
       "    </tr>\n",
       "  </thead>\n",
       "  <tbody>\n",
       "    <tr>\n",
       "      <th>0</th>\n",
       "      <td>/home/sampo/.cache/huggingface/datasets/downlo...</td>\n",
       "      <td>mitä nyt tekisimme</td>\n",
       "    </tr>\n",
       "    <tr>\n",
       "      <th>1</th>\n",
       "      <td>/home/sampo/.cache/huggingface/datasets/downlo...</td>\n",
       "      <td>äänestämme tämän vuoksi toisin kuin maataloude...</td>\n",
       "    </tr>\n",
       "    <tr>\n",
       "      <th>2</th>\n",
       "      <td>/home/sampo/.cache/huggingface/datasets/downlo...</td>\n",
       "      <td>rupeatko remmiin vai et</td>\n",
       "    </tr>\n",
       "    <tr>\n",
       "      <th>3</th>\n",
       "      <td>/home/sampo/.cache/huggingface/datasets/downlo...</td>\n",
       "      <td>äänestin näin ollen mietinnön puolesta</td>\n",
       "    </tr>\n",
       "    <tr>\n",
       "      <th>4</th>\n",
       "      <td>/home/sampo/.cache/huggingface/datasets/downlo...</td>\n",
       "      <td>kiitos että tulitte ja opetitte meille viisaut...</td>\n",
       "    </tr>\n",
       "  </tbody>\n",
       "</table>\n",
       "</div>"
      ],
      "text/plain": [
       "                                                path  \\\n",
       "0  /home/sampo/.cache/huggingface/datasets/downlo...   \n",
       "1  /home/sampo/.cache/huggingface/datasets/downlo...   \n",
       "2  /home/sampo/.cache/huggingface/datasets/downlo...   \n",
       "3  /home/sampo/.cache/huggingface/datasets/downlo...   \n",
       "4  /home/sampo/.cache/huggingface/datasets/downlo...   \n",
       "\n",
       "                                            sentence  \n",
       "0                                mitä nyt tekisimme   \n",
       "1  äänestämme tämän vuoksi toisin kuin maataloude...  \n",
       "2                           rupeatko remmiin vai et   \n",
       "3            äänestin näin ollen mietinnön puolesta   \n",
       "4  kiitos että tulitte ja opetitte meille viisaut...  "
      ]
     },
     "execution_count": 2,
     "metadata": {},
     "output_type": "execute_result"
    }
   ],
   "source": [
    "import random\n",
    "import pandas as pd\n",
    "from IPython.display import display, HTML\n",
    "import re\n",
    "chars_to_ignore_regex = '[\\,\\?\\.\\!\\-\\;\\:\\\"\\“\\%\\‘\\”\\�\\'\\...\\…\\–\\é]'\n",
    "\n",
    "def custom_remove_special_characters(sent):\n",
    "    sent = re.sub(chars_to_ignore_regex, '', sent).lower() + \" \"\n",
    "    return sent\n",
    "\n",
    "train_df['sentence'] = train_df['sentence'].apply(custom_remove_special_characters)\n",
    "test_df['sentence'] = test_df['sentence'].apply(custom_remove_special_characters)\n",
    "train_df.head()"
   ]
  },
  {
   "cell_type": "markdown",
   "id": "32e4c03b",
   "metadata": {},
   "source": [
    "# Create vocabulary of characters in the dataset\n",
    "- (if there are characters you dont want revise the regex in the previous step)"
   ]
  },
  {
   "cell_type": "code",
   "execution_count": 3,
   "id": "0a99b97d",
   "metadata": {},
   "outputs": [
    {
     "name": "stdout",
     "output_type": "stream",
     "text": [
      "{'q': 0, 'd': 1, 'g': 2, 'y': 3, 'l': 4, 'e': 5, 'j': 6, 'm': 7, 'a': 8, 'p': 9, 'f': 10, 'v': 11, 'h': 12, 'ä': 13, 't': 14, ' ': 15, 'n': 16, 'k': 17, 'r': 18, 'ö': 19, 'u': 20, 'z': 21, 's': 22, 'c': 23, 'b': 24, 'w': 25, 'i': 26, 'å': 27, 'x': 28, 'o': 29}\n"
     ]
    }
   ],
   "source": [
    "import itertools\n",
    "\n",
    "def get_chars(df):\n",
    "    return set(itertools.chain(*[list(x) for x in df['sentence'].values]))\n",
    "\n",
    "vocab_list = list(get_chars(train_df).union(get_chars(test_df)))\n",
    "vocab_dict = {v: k for k, v in enumerate(vocab_list)}\n",
    "print(vocab_dict)"
   ]
  },
  {
   "cell_type": "markdown",
   "id": "093735ec",
   "metadata": {},
   "source": [
    "# Add special tokens into the vocab and save"
   ]
  },
  {
   "cell_type": "code",
   "execution_count": 4,
   "id": "5fb69773",
   "metadata": {},
   "outputs": [],
   "source": [
    "vocab_dict[\"|\"] = vocab_dict[\" \"]\n",
    "del vocab_dict[\" \"]\n",
    "\n",
    "vocab_dict[\"[UNK]\"] = len(vocab_dict)\n",
    "vocab_dict[\"[PAD]\"] = len(vocab_dict)\n",
    "\n",
    "#for key in vocab_dict.keys():\n",
    "#    if key != \"[PAD]\":\n",
    "#        vocab_dict[key] +=1\n",
    "\n",
    "import json\n",
    "with open('vocab.json', 'w') as vocab_file:\n",
    "    json.dump(vocab_dict, vocab_file)"
   ]
  },
  {
   "cell_type": "markdown",
   "id": "b5da3076",
   "metadata": {},
   "source": [
    "# Create Hugginface Processor from vocab\n",
    "- Notice that voxpopuli model assumes clips are sampled at 16000Hz\n",
    "- used for preprocess, encode and decode inputs"
   ]
  },
  {
   "cell_type": "code",
   "execution_count": 5,
   "id": "7e525fdc",
   "metadata": {},
   "outputs": [],
   "source": [
    "from transformers import Wav2Vec2CTCTokenizer, Wav2Vec2FeatureExtractor, Wav2Vec2Processor\n",
    "\n",
    "tokenizer = Wav2Vec2CTCTokenizer(\"./vocab.json\", unk_token=\"[UNK]\", pad_token=\"[PAD]\", word_delimiter_token=\"|\")\n",
    "feature_extractor = Wav2Vec2FeatureExtractor(feature_size=1, sampling_rate=16000, padding_value=0.0, do_normalize=True, return_attention_mask=True)\n",
    "processor = Wav2Vec2Processor(feature_extractor=feature_extractor, tokenizer=tokenizer)"
   ]
  },
  {
   "cell_type": "markdown",
   "id": "2a449c7d",
   "metadata": {},
   "source": [
    "# PyTorch Dataset class and Dataloader\n",
    "- default mode loads and resamples audio files on the fly to save RAM\n",
    "- loading on the fly does not slow training much\n",
    "- training samples are sorted according to transcription length to reduce infinities on CTC Loss\n",
    "- If you dont sort the samples remember to change model flag ctc_zero_infinity to True\n",
    "- collate function handles padding and batching\n",
    "- audio files are very memory intensive peak VRAM comsumtion with batch_size = 4 is 18GB"
   ]
  },
  {
   "cell_type": "code",
   "execution_count": 6,
   "id": "84873442",
   "metadata": {},
   "outputs": [],
   "source": [
    "import torch\n",
    "import numpy as np\n",
    "from torch.utils.data import Dataset\n",
    "from torch.utils.data import DataLoader\n",
    "import torchaudio\n",
    "import librosa\n",
    "\n",
    "def resample(audio, source_sr, target_sr = 16000):\n",
    "    audio = librosa.resample(np.asarray(audio), source_sr, target_sr)\n",
    "    return audio\n",
    "\n",
    "\n",
    "class CTCDataset(Dataset):\n",
    "    \"\"\"\n",
    "    Dataset class used for Speech recognition with ctc loss\n",
    "    enables precomputing data as arrays or transforming on the fly\n",
    "    if dataset does not fit into ram\n",
    "    \"\"\"\n",
    "    def __init__(self, dataframe, processor, mode=\"otf\"):\n",
    "        \n",
    "        self.data = dataframe\n",
    "        self.data.sort_values(by=\"sentence\", key=lambda x: x.str.len(), inplace=True, ascending=False)\n",
    "        self.processor = processor\n",
    "        self.mode = mode\n",
    "        if mode!=\"otf\":\n",
    "            raise NotImplemented\n",
    "    \n",
    "    def _processaudio(self, path):\n",
    "        data, sr = torchaudio.load(path)\n",
    "        data = data[0].numpy()\n",
    "        data = resample(data, sr, 16000)\n",
    "        \n",
    "        return data\n",
    "    def __len__(self):\n",
    "        return len(self.data)\n",
    "    \n",
    "    def __getitem__(self, idx):     \n",
    "        if self.mode == 'otf':\n",
    "            sent = self.data.iloc[idx, 1]\n",
    "            data = self._processaudio(self.data.iloc[idx, 0])\n",
    "            return data, sent\n",
    "        \n",
    "    def _precompute(self):\n",
    "        pass\n",
    "    \n",
    "    def reorder_df(self):\n",
    "        pass\n",
    "        \n",
    "    \n",
    "def collate_fn_otf_train(batch):\n",
    "    \"\"\"\n",
    "    collate function used for training and loading audio data on the fly\n",
    "    \"\"\"\n",
    "    \n",
    "    lists = list(zip(*batch))\n",
    "    inputs = processor(lists[0], sampling_rate=16_000, return_tensors=\"pt\", padding=True, pad_to_multiple_of=8)\n",
    "    with processor.as_target_processor():\n",
    "        labels = processor(lists[1], padding=True, return_tensors=\"pt\", pad_to_multiple_of=8).input_ids\n",
    "    return inputs.input_values, inputs.attention_mask, labels\n",
    "\n",
    "def collate_fn_otf(batch):\n",
    "    \"\"\"\n",
    "    collate function used for training and loading audio data on the fly\n",
    "    \"\"\"\n",
    "    \n",
    "    lists = list(zip(*batch))\n",
    "    inputs = processor(lists[0], sampling_rate=16_000, return_tensors=\"pt\", padding=True)\n",
    "    with processor.as_target_processor():\n",
    "        labels = processor(lists[1], padding=True, return_tensors=\"pt\").input_ids\n",
    "    return inputs.input_values, inputs.attention_mask, labels\n",
    "\n",
    "\n",
    "\n",
    "trainset = CTCDataset(train_df, processor)\n",
    "testset = CTCDataset(test_df, processor)\n",
    "\n",
    "trainloader = DataLoader(trainset, batch_size = 4, collate_fn = collate_fn_otf_train, num_workers=8)\n",
    "testloader = DataLoader(testset, batch_size=1, collate_fn = collate_fn_otf, num_workers=4)\n"
   ]
  },
  {
   "cell_type": "markdown",
   "id": "ae181cd2",
   "metadata": {},
   "source": [
    "# Load pretrained model from huggingface\n",
    "- currently using voxpopuli (https://github.com/facebookresearch/voxpopuli)"
   ]
  },
  {
   "cell_type": "code",
   "execution_count": 7,
   "id": "5614397c",
   "metadata": {},
   "outputs": [
    {
     "name": "stderr",
     "output_type": "stream",
     "text": [
      "Some weights of Wav2Vec2ForCTC were not initialized from the model checkpoint at facebook/wav2vec2-large-100k-voxpopuli and are newly initialized: ['lm_head.weight', 'lm_head.bias']\n",
      "You should probably TRAIN this model on a down-stream task to be able to use it for predictions and inference.\n"
     ]
    }
   ],
   "source": [
    "from transformers import Wav2Vec2ForCTC\n",
    "\n",
    "model = Wav2Vec2ForCTC.from_pretrained(\n",
    "    \"facebook/wav2vec2-large-100k-voxpopuli\",\n",
    "    attention_dropout=0.1,\n",
    "    hidden_dropout=0.1,\n",
    "    feat_proj_dropout=0.0,\n",
    "    mask_time_prob=0.05,\n",
    "    layerdrop=0.1,\n",
    "    gradient_checkpointing=True,\n",
    "    ctc_loss_reduction=\"mean\",\n",
    "    pad_token_id=processor.tokenizer.pad_token_id,\n",
    "    vocab_size=len(processor.tokenizer),\n",
    "    ctc_zero_infinity=False\n",
    ")\n",
    "\n",
    "#Freeze the weights of the pretrained feature extractor\n",
    "model.freeze_feature_extractor()"
   ]
  },
  {
   "cell_type": "markdown",
   "id": "b91498ce",
   "metadata": {},
   "source": [
    "# see documentation of model to set parameters"
   ]
  },
  {
   "cell_type": "code",
   "execution_count": 8,
   "id": "67004fe7",
   "metadata": {},
   "outputs": [
    {
     "name": "stdout",
     "output_type": "stream",
     "text": [
      "Help on class Wav2Vec2ForCTC in module transformers.models.wav2vec2.modeling_wav2vec2:\n",
      "\n",
      "class Wav2Vec2ForCTC(Wav2Vec2PreTrainedModel)\n",
      " |  Wav2Vec2ForCTC(config)\n",
      " |  \n",
      " |  Wav2Vec2 Model with a `language modeling` head on top for Connectionist Temporal Classification (CTC). \n",
      " |  Wav2Vec2 was proposed in `wav2vec 2.0: A Framework for Self-Supervised Learning of Speech Representations\n",
      " |  <https://arxiv.org/abs/2006.11477>`__ by Alexei Baevski, Henry Zhou, Abdelrahman Mohamed, Michael Auli.\n",
      " |  \n",
      " |  This model inherits from :class:`~transformers.PreTrainedModel`. Check the superclass documentation for the generic\n",
      " |  methods the library implements for all its model (such as downloading or saving etc.).\n",
      " |  \n",
      " |  This model is a PyTorch `torch.nn.Module <https://pytorch.org/docs/stable/nn.html#torch.nn.Module>`_ sub-class. Use\n",
      " |  it as a regular PyTorch Module and refer to the PyTorch documentation for all matter related to general usage and\n",
      " |  behavior.\n",
      " |  \n",
      " |  Parameters:\n",
      " |      config (:class:`~transformers.Wav2Vec2Config`): Model configuration class with all the parameters of the model.\n",
      " |          Initializing with a config file does not load the weights associated with the model, only the\n",
      " |          configuration. Check out the :meth:`~transformers.PreTrainedModel.from_pretrained` method to load the model\n",
      " |          weights.\n",
      " |  \n",
      " |  Method resolution order:\n",
      " |      Wav2Vec2ForCTC\n",
      " |      Wav2Vec2PreTrainedModel\n",
      " |      transformers.modeling_utils.PreTrainedModel\n",
      " |      torch.nn.modules.module.Module\n",
      " |      transformers.modeling_utils.ModuleUtilsMixin\n",
      " |      transformers.generation_utils.GenerationMixin\n",
      " |      builtins.object\n",
      " |  \n",
      " |  Methods defined here:\n",
      " |  \n",
      " |  __init__(self, config)\n",
      " |      Initializes internal Module state, shared by both nn.Module and ScriptModule.\n",
      " |  \n",
      " |  forward(self, input_values, attention_mask=None, output_attentions=None, output_hidden_states=None, return_dict=None, labels=None)\n",
      " |      The :class:`~transformers.Wav2Vec2ForCTC` forward method, overrides the :func:`__call__` special method.\n",
      " |      \n",
      " |      .. note::\n",
      " |          Although the recipe for forward pass needs to be defined within this function, one should call the\n",
      " |          :class:`Module` instance afterwards instead of this since the former takes care of running the pre and post\n",
      " |          processing steps while the latter silently ignores them.\n",
      " |          \n",
      " |      Args:\n",
      " |          input_values (:obj:`torch.FloatTensor` of shape :obj:`(batch_size, sequence_length)`):\n",
      " |              Float values of input raw speech waveform. Values can be obtained by loading a `.flac` or `.wav` audio file\n",
      " |              into an array of type `List[float]` or a `numpy.ndarray`, *e.g.* via the soundfile library (`pip install\n",
      " |              soundfile`). To prepare the array into `input_values`, the :class:`~transformers.Wav2Vec2Processor` should\n",
      " |              be used for padding and conversion into a tensor of type `torch.FloatTensor`. See\n",
      " |              :meth:`transformers.Wav2Vec2Processor.__call__` for details.\n",
      " |          attention_mask (:obj:`torch.LongTensor` of shape :obj:`(batch_size, sequence_length)`, `optional`):\n",
      " |              Mask to avoid performing convolution and attention on padding token indices. Mask values selected in ``[0,\n",
      " |              1]``:\n",
      " |      \n",
      " |              - 1 for tokens that are **not masked**,\n",
      " |              - 0 for tokens that are **masked**.\n",
      " |      \n",
      " |              `What are attention masks? <../glossary.html#attention-mask>`__\n",
      " |      \n",
      " |              .. warning::\n",
      " |                  :obj:`attention_mask` should only be passed if the corresponding processor has\n",
      " |                  ``config.return_attention_mask == True``. For all models whose processor has\n",
      " |                  ``config.return_attention_mask == False``, such as `wav2vec2-base\n",
      " |                  <https://huggingface.co/facebook/wav2vec2-base-960h>`__, :obj:`attention_mask` should **not** be passed\n",
      " |                  to avoid degraded performance when doing batched inference. For such models :obj:`input_values` should\n",
      " |                  simply be padded with 0 and passed without :obj:`attention_mask`. Be aware that these models also yield\n",
      " |                  slightly different results depending on whether :obj:`input_values` is padded or not.\n",
      " |      \n",
      " |          output_attentions (:obj:`bool`, `optional`):\n",
      " |              Whether or not to return the attentions tensors of all attention layers. See ``attentions`` under returned\n",
      " |              tensors for more detail.\n",
      " |          output_hidden_states (:obj:`bool`, `optional`):\n",
      " |              Whether or not to return the hidden states of all layers. See ``hidden_states`` under returned tensors for\n",
      " |              more detail.\n",
      " |          return_dict (:obj:`bool`, `optional`):\n",
      " |              Whether or not to return a :class:`~transformers.file_utils.ModelOutput` instead of a plain tuple.\n",
      " |      \n",
      " |          labels (:obj:`torch.LongTensor` of shape :obj:`(batch_size, target_length)`, `optional`):\n",
      " |              Labels for connectionist temporal classification. Note that ``target_length`` has to be smaller or equal to\n",
      " |              the sequence length of the output logits. Indices are selected in ``[-100, 0, ..., config.vocab_size -\n",
      " |              1]``. All labels set to ``-100`` are ignored (masked), the loss is only computed for labels in ``[0, ...,\n",
      " |              config.vocab_size - 1]``.\n",
      " |      \n",
      " |      \n",
      " |      Returns:\n",
      " |          :class:`~transformers.modeling_outputs.BaseModelOutput` or :obj:`tuple(torch.FloatTensor)`: A :class:`~transformers.modeling_outputs.BaseModelOutput` (if\n",
      " |          ``return_dict=True`` is passed or when ``config.return_dict=True``) or a tuple of :obj:`torch.FloatTensor`\n",
      " |          comprising various elements depending on the configuration (:class:`~transformers.Wav2Vec2Config`) and inputs.\n",
      " |      \n",
      " |          - **last_hidden_state** (:obj:`torch.FloatTensor` of shape :obj:`(batch_size, sequence_length, hidden_size)`) -- Sequence of hidden-states at the output of the last layer of the model.\n",
      " |          - **hidden_states** (:obj:`tuple(torch.FloatTensor)`, `optional`, returned when ``output_hidden_states=True`` is passed or when ``config.output_hidden_states=True``) -- Tuple of :obj:`torch.FloatTensor` (one for the output of the embeddings + one for the output of each layer)\n",
      " |            of shape :obj:`(batch_size, sequence_length, hidden_size)`.\n",
      " |      \n",
      " |            Hidden-states of the model at the output of each layer plus the initial embedding outputs.\n",
      " |          - **attentions** (:obj:`tuple(torch.FloatTensor)`, `optional`, returned when ``output_attentions=True`` is passed or when ``config.output_attentions=True``) -- Tuple of :obj:`torch.FloatTensor` (one for each layer) of shape :obj:`(batch_size, num_heads,\n",
      " |            sequence_length, sequence_length)`.\n",
      " |      \n",
      " |            Attentions weights after the attention softmax, used to compute the weighted average in the self-attention\n",
      " |            heads.\n",
      " |      \n",
      " |      \n",
      " |          Example::\n",
      " |      \n",
      " |              >>> import torch\n",
      " |              >>> from transformers import Wav2Vec2Processor, Wav2Vec2ForCTC\n",
      " |              >>> from datasets import load_dataset\n",
      " |              >>> import soundfile as sf\n",
      " |      \n",
      " |              >>> processor = Wav2Vec2Processor.from_pretrained(\"facebook/wav2vec2-base-960h\")\n",
      " |              >>> model = Wav2Vec2ForCTC.from_pretrained(\"facebook/wav2vec2-base-960h\")\n",
      " |      \n",
      " |              >>> def map_to_array(batch):\n",
      " |              >>>     speech, _ = sf.read(batch[\"file\"])\n",
      " |              >>>     batch[\"speech\"] = speech\n",
      " |              >>>     return batch\n",
      " |      \n",
      " |              >>> ds = load_dataset(\"patrickvonplaten/librispeech_asr_dummy\", \"clean\", split=\"validation\")\n",
      " |              >>> ds = ds.map(map_to_array)\n",
      " |      \n",
      " |              >>> input_values = processor(ds[\"speech\"][0], return_tensors=\"pt\").input_values  # Batch size 1\n",
      " |              >>> logits = model(input_values).logits\n",
      " |              >>> predicted_ids = torch.argmax(logits, dim=-1)\n",
      " |      \n",
      " |              >>> transcription = processor.decode(predicted_ids[0])\n",
      " |      \n",
      " |              >>> # compute loss\n",
      " |              >>> target_transcription = \"A MAN SAID TO THE UNIVERSE SIR I EXIST\"\n",
      " |      \n",
      " |              >>> # wrap processor as target processor to encode labels\n",
      " |              >>> with processor.as_target_processor():\n",
      " |              >>>     labels = processor(transcription, return_tensors=\"pt\").input_ids\n",
      " |      \n",
      " |              >>> loss = model(input_values, labels=labels).loss\n",
      " |  \n",
      " |  freeze_feature_extractor(self)\n",
      " |      Calling this function will disable the gradient computation for the feature extractor so that its parameter\n",
      " |      will not be updated during training.\n",
      " |  \n",
      " |  ----------------------------------------------------------------------\n",
      " |  Data and other attributes inherited from Wav2Vec2PreTrainedModel:\n",
      " |  \n",
      " |  base_model_prefix = 'wav2vec2'\n",
      " |  \n",
      " |  config_class = <class 'transformers.models.wav2vec2.configuration_wav2...\n",
      " |      This is the configuration class to store the configuration of a :class:`~transformers.Wav2Vec2Model`. It is used to\n",
      " |      instantiate an Wav2Vec2 model according to the specified arguments, defining the model architecture. Instantiating\n",
      " |      a configuration with the defaults will yield a similar configuration to that of the Wav2Vec2\n",
      " |      `facebook/wav2vec2-base-960h <https://huggingface.co/facebook/wav2vec2-base-960h>`__ architecture.\n",
      " |      \n",
      " |      Configuration objects inherit from :class:`~transformers.PretrainedConfig` and can be used to control the model\n",
      " |      outputs. Read the documentation from :class:`~transformers.PretrainedConfig` for more information.\n",
      " |      \n",
      " |      \n",
      " |      Args:\n",
      " |          vocab_size (:obj:`int`, `optional`, defaults to 32):\n",
      " |              Vocabulary size of the Wav2Vec2 model. Defines the number of different tokens that can be represented by\n",
      " |              the :obj:`inputs_ids` passed when calling :class:`~transformers.Wav2Vec2Model` or\n",
      " |              :class:`~transformers.TFWav2Vec2Model`. Vocabulary size of the model. Defines the different tokens that can\n",
      " |              be represented by the `inputs_ids` passed to the forward method of :class:`~transformers.Wav2Vec2Model`.\n",
      " |          hidden_size (:obj:`int`, `optional`, defaults to 768):\n",
      " |              Dimensionality of the encoder layers and the pooler layer.\n",
      " |          num_hidden_layers (:obj:`int`, `optional`, defaults to 12):\n",
      " |              Number of hidden layers in the Transformer encoder.\n",
      " |          num_attention_heads (:obj:`int`, `optional`, defaults to 12):\n",
      " |              Number of attention heads for each attention layer in the Transformer encoder.\n",
      " |          intermediate_size (:obj:`int`, `optional`, defaults to 3072):\n",
      " |              Dimensionality of the \"intermediate\" (i.e., feed-forward) layer in the Transformer encoder.\n",
      " |          hidden_act (:obj:`str` or :obj:`function`, `optional`, defaults to :obj:`\"gelu\"`):\n",
      " |              The non-linear activation function (function or string) in the encoder and pooler. If string,\n",
      " |              :obj:`\"gelu\"`, :obj:`\"relu\"`, :obj:`\"selu\"` and :obj:`\"gelu_new\"` are supported.\n",
      " |          hidden_dropout_prob (:obj:`float`, `optional`, defaults to 0.1):\n",
      " |              The dropout probabilitiy for all fully connected layers in the embeddings, encoder, and pooler.\n",
      " |          attention_probs_dropout_prob (:obj:`float`, `optional`, defaults to 0.1):\n",
      " |              The dropout ratio for the attention probabilities.\n",
      " |          initializer_range (:obj:`float`, `optional`, defaults to 0.02):\n",
      " |              The standard deviation of the truncated_normal_initializer for initializing all weight matrices.\n",
      " |          layer_norm_eps (:obj:`float`, `optional`, defaults to 1e-12):\n",
      " |              The epsilon used by the layer normalization layers.\n",
      " |          feat_extract_norm (:obj:`str`, `optional`, defaults to :obj:`\"group\"`):\n",
      " |              The norm to be applied to 1D convolutional layers in feature extractor. One of :obj:`\"group\"` for group\n",
      " |              normalization of only the first 1D convolutional layer or :obj:`\"layer\"` for layer normalization of all 1D\n",
      " |              convolutional layers.\n",
      " |          feat_extract_dropout (:obj:`float`, `optional`, defaults to 0.0):\n",
      " |              The dropout probabilitiy for all 1D convolutional layers in feature extractor.\n",
      " |          feat_extract_activation (:obj:`str, `optional`, defaults to :obj:`\"gelu\"`):\n",
      " |              The non-linear activation function (function or string) in the 1D convolutional layers of the feature\n",
      " |              extractor. If string, :obj:`\"gelu\"`, :obj:`\"relu\"`, :obj:`\"selu\"` and :obj:`\"gelu_new\"` are supported.\n",
      " |          conv_dim (:obj:`Tuple[int]`, `optional`, defaults to :obj:`(512, 512, 512, 512, 512, 512, 512)`):\n",
      " |              A tuple of integers defining the number of input and output channels of each 1D convolutional layer in the\n",
      " |              feature extractor. The length of `conv_dim` defines the number of 1D convolutional layers.\n",
      " |          conv_stride (:obj:`Tuple[int]`, `optional`, defaults to :obj:`(5, 2, 2, 2, 2, 2, 2)`):\n",
      " |              A tuple of integers defining the stride of each 1D convolutional layer in the feature extractor. The length\n",
      " |              of `conv_stride` defines the number of convolutional layers and has to match the the length of `conv_dim`.\n",
      " |          conv_kernel (:obj:`Tuple[int]`, `optional`, defaults to :obj:`(10, 3, 3, 3, 3, 3, 3)`):\n",
      " |              A tuple of integers defining the kernel size of each 1D convolutional layer in the feature extractor. The\n",
      " |              length of `conv_kernel` defines the number of convolutional layers and has to match the the length of\n",
      " |              `conv_dim`.\n",
      " |          conv_bias (:obj:`bool`, `optional`, defaults to :obj:`False`):\n",
      " |              Whether the 1D convolutional layers have a bias.\n",
      " |          num_conv_pos_embeddings (:obj:`int`, `optional`, defaults to 128):\n",
      " |              Number of convolutional positional embeddings. Defines the kernel size of 1D convolutional positional\n",
      " |              embeddings layer.\n",
      " |          num_conv_pos_embedding_groups (:obj:`int`, `optional`, defaults to 16):\n",
      " |              Number of groups of 1D convolutional positional embeddings layer.\n",
      " |          do_stable_layer_norm (:obj:`bool`, `optional`, defaults to :obj:`False`):\n",
      " |              Whether do apply `stable` layer norm architecture of the Transformer encoder. ``do_stable_layer_norm is\n",
      " |              True`` corresponds to applying layer norm before the attention layer, whereas ``do_stable_layer_norm is\n",
      " |              False`` corresponds to applying layer norm after the attention layer.\n",
      " |          apply_spec_augment (:obj:`bool`, `optional`, defaults to :obj:`True`):\n",
      " |              Whether to apply *SpecAugment* data augmentation to the outputs of the feature extractor. For reference see\n",
      " |              `SpecAugment: A Simple Data Augmentation Method for Automatic Speech Recognition\n",
      " |              <https://arxiv.org/abs/1904.08779>`__.\n",
      " |          mask_time_prob (:obj:`float`, `optional`, defaults to 0.05):\n",
      " |              Propability of each feature vector along the time axis to be chosen as the start of the vector span to be\n",
      " |              masked. Approximately ``mask_time_prob * sequence_length // mask_time_length`` feature vectors will be\n",
      " |              masked along the time axis. This is only relevant if ``apply_spec_augment is True``.\n",
      " |          mask_time_length (:obj:`int`, `optional`, defaults to 10):\n",
      " |              Length of vector span along the time axis.\n",
      " |          mask_feature_prob (:obj:`float`, `optional`, defaults to 0.0):\n",
      " |              Propability of each feature vector along the feature axis to be chosen as the start of the vector span to\n",
      " |              be masked. Approximately ``mask_time_prob * hidden_size // mask_time_length`` feature vectors will be\n",
      " |              masked along the time axis. This is only relevant if ``apply_spec_augment is True``.\n",
      " |          mask_feature_length (:obj:`int`, `optional`, defaults to 10):\n",
      " |              Length of vector span along the feature axis.\n",
      " |          ctc_loss_reduction (:obj:`str`, `optional`, defaults to :obj:`\"sum\"`):\n",
      " |              Specifies the reduction to apply to the output of ``torch.nn.CTCLoss``. Only relevant when training an\n",
      " |              instance of :class:`~transformers.Wav2Vec2ForCTC`.\n",
      " |          ctc_zero_infinity (:obj:`bool`, `optional`, defaults to :obj:`False`):\n",
      " |              Whether to zero infinite losses and the associated gradients of ``torch.nn.CTCLoss``. Infinite losses\n",
      " |              mainly occur when the inputs are too short to be aligned to the targets. Only relevant when training an\n",
      " |              instance of :class:`~transformers.Wav2Vec2ForCTC`.\n",
      " |          gradient_checkpointing (:obj:`bool`, `optional`, defaults to :obj:`False`):\n",
      " |              If True, use gradient checkpointing to save memory at the expense of slower backward pass.\n",
      " |      \n",
      " |      Example::\n",
      " |      \n",
      " |          >>> from transformers import Wav2Vec2Model, Wav2Vec2Config\n",
      " |      \n",
      " |          >>> # Initializing a Wav2Vec2 facebook/wav2vec2-base-960h style configuration\n",
      " |          >>> configuration = Wav2Vec2Config()\n",
      " |      \n",
      " |          >>> # Initializing a model from the facebook/wav2vec2-base-960h style configuration\n",
      " |          >>> model = Wav2Vec2Model(configuration)\n",
      " |      \n",
      " |          >>> # Accessing the model configuration\n",
      " |          >>> configuration = model.config\n",
      " |  \n",
      " |  ----------------------------------------------------------------------\n",
      " |  Methods inherited from transformers.modeling_utils.PreTrainedModel:\n",
      " |  \n",
      " |  get_input_embeddings(self) -> torch.nn.modules.module.Module\n",
      " |      Returns the model's input embeddings.\n",
      " |      \n",
      " |      Returns:\n",
      " |          :obj:`nn.Module`: A torch module mapping vocabulary to hidden states.\n",
      " |  \n",
      " |  get_output_embeddings(self) -> torch.nn.modules.module.Module\n",
      " |      Returns the model's output embeddings.\n",
      " |      \n",
      " |      Returns:\n",
      " |          :obj:`nn.Module`: A torch module mapping hidden states to vocabulary.\n",
      " |  \n",
      " |  init_weights(self)\n",
      " |      Initializes and prunes weights if needed.\n",
      " |  \n",
      " |  prune_heads(self, heads_to_prune: Dict[int, List[int]])\n",
      " |      Prunes heads of the base model.\n",
      " |      \n",
      " |      Arguments:\n",
      " |          heads_to_prune (:obj:`Dict[int, List[int]]`):\n",
      " |              Dictionary with keys being selected layer indices (:obj:`int`) and associated values being the list of\n",
      " |              heads to prune in said layer (list of :obj:`int`). For instance {1: [0, 2], 2: [2, 3]} will prune heads\n",
      " |              0 and 2 on layer 1 and heads 2 and 3 on layer 2.\n",
      " |  \n",
      " |  resize_token_embeddings(self, new_num_tokens: Union[int, NoneType] = None) -> torch.nn.modules.sparse.Embedding\n",
      " |      Resizes input token embeddings matrix of the model if :obj:`new_num_tokens != config.vocab_size`.\n",
      " |      \n",
      " |      Takes care of tying weights embeddings afterwards if the model class has a :obj:`tie_weights()` method.\n",
      " |      \n",
      " |      Arguments:\n",
      " |          new_num_tokens (:obj:`int`, `optional`):\n",
      " |              The number of new tokens in the embedding matrix. Increasing the size will add newly initialized\n",
      " |              vectors at the end. Reducing the size will remove vectors from the end. If not provided or :obj:`None`,\n",
      " |              just returns a pointer to the input tokens :obj:`torch.nn.Embedding` module of the model without doing\n",
      " |              anything.\n",
      " |      \n",
      " |      Return:\n",
      " |          :obj:`torch.nn.Embedding`: Pointer to the input tokens Embeddings Module of the model.\n",
      " |  \n",
      " |  save_pretrained(self, save_directory: Union[str, os.PathLike], save_config: bool = True, state_dict: Union[dict, NoneType] = None, save_function: Callable = <function save at 0x7f50e72b4ca0>)\n",
      " |      Save a model and its configuration file to a directory, so that it can be re-loaded using the\n",
      " |      `:func:`~transformers.PreTrainedModel.from_pretrained`` class method.\n",
      " |      \n",
      " |      Arguments:\n",
      " |          save_directory (:obj:`str` or :obj:`os.PathLike`):\n",
      " |              Directory to which to save. Will be created if it doesn't exist.\n",
      " |          save_config (:obj:`bool`, `optional`, defaults to :obj:`True`):\n",
      " |              Whether or not to save the config of the model. Useful when in distributed training like TPUs and need\n",
      " |              to call this function on all processes. In this case, set :obj:`save_config=True` only on the main\n",
      " |              process to avoid race conditions.\n",
      " |          state_dict (nested dictionary of :obj:`torch.Tensor`):\n",
      " |              The state dictionary of the model to save. Will default to :obj:`self.state_dict()`, but can be used to\n",
      " |              only save parts of the model or if special precautions need to be taken when recovering the state\n",
      " |              dictionary of a model (like when using model parallelism).\n",
      " |          save_function (:obj:`Callable`):\n",
      " |              The function to use to save the state dictionary. Useful on distributed training like TPUs when one\n",
      " |              need to replace :obj:`torch.save` by another method.\n",
      " |  \n",
      " |  set_input_embeddings(self, value: torch.nn.modules.module.Module)\n",
      " |      Set model's input embeddings.\n",
      " |      \n",
      " |      Args:\n",
      " |          value (:obj:`nn.Module`): A module mapping vocabulary to hidden states.\n",
      " |  \n",
      " |  tie_weights(self)\n",
      " |      Tie the weights between the input embeddings and the output embeddings.\n",
      " |      \n",
      " |      If the :obj:`torchscript` flag is set in the configuration, can't handle parameter sharing so we are cloning\n",
      " |      the weights instead.\n",
      " |  \n",
      " |  ----------------------------------------------------------------------\n",
      " |  Class methods inherited from transformers.modeling_utils.PreTrainedModel:\n",
      " |  \n",
      " |  from_pretrained(pretrained_model_name_or_path: Union[str, os.PathLike, NoneType], *model_args, **kwargs) from builtins.type\n",
      " |      Instantiate a pretrained pytorch model from a pre-trained model configuration.\n",
      " |      \n",
      " |      The model is set in evaluation mode by default using ``model.eval()`` (Dropout modules are deactivated). To\n",
      " |      train the model, you should first set it back in training mode with ``model.train()``.\n",
      " |      \n",
      " |      The warning `Weights from XXX not initialized from pretrained model` means that the weights of XXX do not come\n",
      " |      pretrained with the rest of the model. It is up to you to train those weights with a downstream fine-tuning\n",
      " |      task.\n",
      " |      \n",
      " |      The warning `Weights from XXX not used in YYY` means that the layer XXX is not used by YYY, therefore those\n",
      " |      weights are discarded.\n",
      " |      \n",
      " |      Parameters:\n",
      " |          pretrained_model_name_or_path (:obj:`str` or :obj:`os.PathLike`, `optional`):\n",
      " |              Can be either:\n",
      " |      \n",
      " |                  - A string, the `model id` of a pretrained model hosted inside a model repo on huggingface.co.\n",
      " |                    Valid model ids can be located at the root-level, like ``bert-base-uncased``, or namespaced under\n",
      " |                    a user or organization name, like ``dbmdz/bert-base-german-cased``.\n",
      " |                  - A path to a `directory` containing model weights saved using\n",
      " |                    :func:`~transformers.PreTrainedModel.save_pretrained`, e.g., ``./my_model_directory/``.\n",
      " |                  - A path or url to a `tensorflow index checkpoint file` (e.g, ``./tf_model/model.ckpt.index``). In\n",
      " |                    this case, ``from_tf`` should be set to :obj:`True` and a configuration object should be provided\n",
      " |                    as ``config`` argument. This loading path is slower than converting the TensorFlow checkpoint in\n",
      " |                    a PyTorch model using the provided conversion scripts and loading the PyTorch model afterwards.\n",
      " |                  - :obj:`None` if you are both providing the configuration and state dictionary (resp. with keyword\n",
      " |                    arguments ``config`` and ``state_dict``).\n",
      " |          model_args (sequence of positional arguments, `optional`):\n",
      " |              All remaning positional arguments will be passed to the underlying model's ``__init__`` method.\n",
      " |          config (:obj:`Union[PretrainedConfig, str, os.PathLike]`, `optional`):\n",
      " |              Can be either:\n",
      " |      \n",
      " |                  - an instance of a class derived from :class:`~transformers.PretrainedConfig`,\n",
      " |                  - a string or path valid as input to :func:`~transformers.PretrainedConfig.from_pretrained`.\n",
      " |      \n",
      " |              Configuration for the model to use instead of an automatically loaded configuation. Configuration can\n",
      " |              be automatically loaded when:\n",
      " |      \n",
      " |                  - The model is a model provided by the library (loaded with the `model id` string of a pretrained\n",
      " |                    model).\n",
      " |                  - The model was saved using :func:`~transformers.PreTrainedModel.save_pretrained` and is reloaded\n",
      " |                    by supplying the save directory.\n",
      " |                  - The model is loaded by supplying a local directory as ``pretrained_model_name_or_path`` and a\n",
      " |                    configuration JSON file named `config.json` is found in the directory.\n",
      " |          state_dict (:obj:`Dict[str, torch.Tensor]`, `optional`):\n",
      " |              A state dictionary to use instead of a state dictionary loaded from saved weights file.\n",
      " |      \n",
      " |              This option can be used if you want to create a model from a pretrained configuration but load your own\n",
      " |              weights. In this case though, you should check if using\n",
      " |              :func:`~transformers.PreTrainedModel.save_pretrained` and\n",
      " |              :func:`~transformers.PreTrainedModel.from_pretrained` is not a simpler option.\n",
      " |          cache_dir (:obj:`Union[str, os.PathLike]`, `optional`):\n",
      " |              Path to a directory in which a downloaded pretrained model configuration should be cached if the\n",
      " |              standard cache should not be used.\n",
      " |          from_tf (:obj:`bool`, `optional`, defaults to :obj:`False`):\n",
      " |              Load the model weights from a TensorFlow checkpoint save file (see docstring of\n",
      " |              ``pretrained_model_name_or_path`` argument).\n",
      " |          force_download (:obj:`bool`, `optional`, defaults to :obj:`False`):\n",
      " |              Whether or not to force the (re-)download of the model weights and configuration files, overriding the\n",
      " |              cached versions if they exist.\n",
      " |          resume_download (:obj:`bool`, `optional`, defaults to :obj:`False`):\n",
      " |              Whether or not to delete incompletely received files. Will attempt to resume the download if such a\n",
      " |              file exists.\n",
      " |          proxies (:obj:`Dict[str, str], `optional`):\n",
      " |              A dictionary of proxy servers to use by protocol or endpoint, e.g., :obj:`{'http': 'foo.bar:3128',\n",
      " |              'http://hostname': 'foo.bar:4012'}`. The proxies are used on each request.\n",
      " |          output_loading_info(:obj:`bool`, `optional`, defaults to :obj:`False`):\n",
      " |              Whether ot not to also return a dictionary containing missing keys, unexpected keys and error messages.\n",
      " |          local_files_only(:obj:`bool`, `optional`, defaults to :obj:`False`):\n",
      " |              Whether or not to only look at local files (i.e., do not try to download the model).\n",
      " |          use_auth_token (:obj:`str` or `bool`, `optional`):\n",
      " |              The token to use as HTTP bearer authorization for remote files. If :obj:`True`, will use the token\n",
      " |              generated when running :obj:`transformers-cli login` (stored in :obj:`~/.huggingface`).\n",
      " |          revision(:obj:`str`, `optional`, defaults to :obj:`\"main\"`):\n",
      " |              The specific model version to use. It can be a branch name, a tag name, or a commit id, since we use a\n",
      " |              git-based system for storing models and other artifacts on huggingface.co, so ``revision`` can be any\n",
      " |              identifier allowed by git.\n",
      " |          mirror(:obj:`str`, `optional`, defaults to :obj:`None`):\n",
      " |              Mirror source to accelerate downloads in China. If you are from China and have an accessibility\n",
      " |              problem, you can set this option to resolve it. Note that we do not guarantee the timeliness or safety.\n",
      " |              Please refer to the mirror site for more information.\n",
      " |          kwargs (remaining dictionary of keyword arguments, `optional`):\n",
      " |              Can be used to update the configuration object (after it being loaded) and initiate the model (e.g.,\n",
      " |              :obj:`output_attentions=True`). Behaves differently depending on whether a ``config`` is provided or\n",
      " |              automatically loaded:\n",
      " |      \n",
      " |                  - If a configuration is provided with ``config``, ``**kwargs`` will be directly passed to the\n",
      " |                    underlying model's ``__init__`` method (we assume all relevant updates to the configuration have\n",
      " |                    already been done)\n",
      " |                  - If a configuration is not provided, ``kwargs`` will be first passed to the configuration class\n",
      " |                    initialization function (:func:`~transformers.PretrainedConfig.from_pretrained`). Each key of\n",
      " |                    ``kwargs`` that corresponds to a configuration attribute will be used to override said attribute\n",
      " |                    with the supplied ``kwargs`` value. Remaining keys that do not correspond to any configuration\n",
      " |                    attribute will be passed to the underlying model's ``__init__`` function.\n",
      " |      \n",
      " |      .. note::\n",
      " |      \n",
      " |          Passing :obj:`use_auth_token=True` is required when you want to use a private model.\n",
      " |      \n",
      " |      Examples::\n",
      " |      \n",
      " |          >>> from transformers import BertConfig, BertModel\n",
      " |          >>> # Download model and configuration from huggingface.co and cache.\n",
      " |          >>> model = BertModel.from_pretrained('bert-base-uncased')\n",
      " |          >>> # Model was saved using `save_pretrained('./test/saved_model/')` (for example purposes, not runnable).\n",
      " |          >>> model = BertModel.from_pretrained('./test/saved_model/')\n",
      " |          >>> # Update configuration during loading.\n",
      " |          >>> model = BertModel.from_pretrained('bert-base-uncased', output_attentions=True)\n",
      " |          >>> assert model.config.output_attentions == True\n",
      " |          >>> # Loading from a TF checkpoint file instead of a PyTorch model (slower, for example purposes, not runnable).\n",
      " |          >>> config = BertConfig.from_json_file('./tf_model/my_tf_model_config.json')\n",
      " |          >>> model = BertModel.from_pretrained('./tf_model/my_tf_checkpoint.ckpt.index', from_tf=True, config=config)\n",
      " |  \n",
      " |  ----------------------------------------------------------------------\n",
      " |  Readonly properties inherited from transformers.modeling_utils.PreTrainedModel:\n",
      " |  \n",
      " |  base_model\n",
      " |      :obj:`torch.nn.Module`: The main body of the model.\n",
      " |  \n",
      " |  dummy_inputs\n",
      " |      :obj:`Dict[str, torch.Tensor]`: Dummy inputs to do a forward pass in the network.\n",
      " |  \n",
      " |  ----------------------------------------------------------------------\n",
      " |  Data and other attributes inherited from transformers.modeling_utils.PreTrainedModel:\n",
      " |  \n",
      " |  is_parallelizable = False\n",
      " |  \n",
      " |  ----------------------------------------------------------------------\n",
      " |  Methods inherited from torch.nn.modules.module.Module:\n",
      " |  \n",
      " |  __call__ = _call_impl(self, *input, **kwargs)\n",
      " |  \n",
      " |  __delattr__(self, name)\n",
      " |      Implement delattr(self, name).\n",
      " |  \n",
      " |  __dir__(self)\n",
      " |      Default dir() implementation.\n",
      " |  \n",
      " |  __getattr__(self, name: str) -> Union[torch.Tensor, ForwardRef('Module')]\n",
      " |  \n",
      " |  __repr__(self)\n",
      " |      Return repr(self).\n",
      " |  \n",
      " |  __setattr__(self, name: str, value: Union[torch.Tensor, ForwardRef('Module')]) -> None\n",
      " |      Implement setattr(self, name, value).\n",
      " |  \n",
      " |  __setstate__(self, state)\n",
      " |  \n",
      " |  add_module(self, name: str, module: Union[ForwardRef('Module'), NoneType]) -> None\n",
      " |      Adds a child module to the current module.\n",
      " |      \n",
      " |      The module can be accessed as an attribute using the given name.\n",
      " |      \n",
      " |      Args:\n",
      " |          name (string): name of the child module. The child module can be\n",
      " |              accessed from this module using the given name\n",
      " |          module (Module): child module to be added to the module.\n",
      " |  \n",
      " |  apply(self: ~T, fn: Callable[[ForwardRef('Module')], NoneType]) -> ~T\n",
      " |      Applies ``fn`` recursively to every submodule (as returned by ``.children()``)\n",
      " |      as well as self. Typical use includes initializing the parameters of a model\n",
      " |      (see also :ref:`nn-init-doc`).\n",
      " |      \n",
      " |      Args:\n",
      " |          fn (:class:`Module` -> None): function to be applied to each submodule\n",
      " |      \n",
      " |      Returns:\n",
      " |          Module: self\n",
      " |      \n",
      " |      Example::\n",
      " |      \n",
      " |          >>> @torch.no_grad()\n",
      " |          >>> def init_weights(m):\n",
      " |          >>>     print(m)\n",
      " |          >>>     if type(m) == nn.Linear:\n",
      " |          >>>         m.weight.fill_(1.0)\n",
      " |          >>>         print(m.weight)\n",
      " |          >>> net = nn.Sequential(nn.Linear(2, 2), nn.Linear(2, 2))\n",
      " |          >>> net.apply(init_weights)\n",
      " |          Linear(in_features=2, out_features=2, bias=True)\n",
      " |          Parameter containing:\n",
      " |          tensor([[ 1.,  1.],\n",
      " |                  [ 1.,  1.]])\n",
      " |          Linear(in_features=2, out_features=2, bias=True)\n",
      " |          Parameter containing:\n",
      " |          tensor([[ 1.,  1.],\n",
      " |                  [ 1.,  1.]])\n",
      " |          Sequential(\n",
      " |            (0): Linear(in_features=2, out_features=2, bias=True)\n",
      " |            (1): Linear(in_features=2, out_features=2, bias=True)\n",
      " |          )\n",
      " |          Sequential(\n",
      " |            (0): Linear(in_features=2, out_features=2, bias=True)\n",
      " |            (1): Linear(in_features=2, out_features=2, bias=True)\n",
      " |          )\n",
      " |  \n",
      " |  bfloat16(self: ~T) -> ~T\n",
      " |      Casts all floating point parameters and buffers to ``bfloat16`` datatype.\n",
      " |      \n",
      " |      Returns:\n",
      " |          Module: self\n",
      " |  \n",
      " |  buffers(self, recurse: bool = True) -> Iterator[torch.Tensor]\n",
      " |      Returns an iterator over module buffers.\n",
      " |      \n",
      " |      Args:\n",
      " |          recurse (bool): if True, then yields buffers of this module\n",
      " |              and all submodules. Otherwise, yields only buffers that\n",
      " |              are direct members of this module.\n",
      " |      \n",
      " |      Yields:\n",
      " |          torch.Tensor: module buffer\n",
      " |      \n",
      " |      Example::\n",
      " |      \n",
      " |          >>> for buf in model.buffers():\n",
      " |          >>>     print(type(buf), buf.size())\n",
      " |          <class 'torch.Tensor'> (20L,)\n",
      " |          <class 'torch.Tensor'> (20L, 1L, 5L, 5L)\n",
      " |  \n",
      " |  children(self) -> Iterator[ForwardRef('Module')]\n",
      " |      Returns an iterator over immediate children modules.\n",
      " |      \n",
      " |      Yields:\n",
      " |          Module: a child module\n",
      " |  \n",
      " |  cpu(self: ~T) -> ~T\n",
      " |      Moves all model parameters and buffers to the CPU.\n",
      " |      \n",
      " |      Returns:\n",
      " |          Module: self\n",
      " |  \n",
      " |  cuda(self: ~T, device: Union[int, torch.device, NoneType] = None) -> ~T\n",
      " |      Moves all model parameters and buffers to the GPU.\n",
      " |      \n",
      " |      This also makes associated parameters and buffers different objects. So\n",
      " |      it should be called before constructing optimizer if the module will\n",
      " |      live on GPU while being optimized.\n",
      " |      \n",
      " |      Args:\n",
      " |          device (int, optional): if specified, all parameters will be\n",
      " |              copied to that device\n",
      " |      \n",
      " |      Returns:\n",
      " |          Module: self\n",
      " |  \n",
      " |  double(self: ~T) -> ~T\n",
      " |      Casts all floating point parameters and buffers to ``double`` datatype.\n",
      " |      \n",
      " |      Returns:\n",
      " |          Module: self\n",
      " |  \n",
      " |  eval(self: ~T) -> ~T\n",
      " |      Sets the module in evaluation mode.\n",
      " |      \n",
      " |      This has any effect only on certain modules. See documentations of\n",
      " |      particular modules for details of their behaviors in training/evaluation\n",
      " |      mode, if they are affected, e.g. :class:`Dropout`, :class:`BatchNorm`,\n",
      " |      etc.\n",
      " |      \n",
      " |      This is equivalent with :meth:`self.train(False) <torch.nn.Module.train>`.\n",
      " |      \n",
      " |      Returns:\n",
      " |          Module: self\n",
      " |  \n",
      " |  extra_repr(self) -> str\n",
      " |      Set the extra representation of the module\n",
      " |      \n",
      " |      To print customized extra information, you should re-implement\n",
      " |      this method in your own modules. Both single-line and multi-line\n",
      " |      strings are acceptable.\n",
      " |  \n",
      " |  float(self: ~T) -> ~T\n",
      " |      Casts all floating point parameters and buffers to float datatype.\n",
      " |      \n",
      " |      Returns:\n",
      " |          Module: self\n",
      " |  \n",
      " |  half(self: ~T) -> ~T\n",
      " |      Casts all floating point parameters and buffers to ``half`` datatype.\n",
      " |      \n",
      " |      Returns:\n",
      " |          Module: self\n",
      " |  \n",
      " |  load_state_dict(self, state_dict: 'OrderedDict[str, Tensor]', strict: bool = True)\n",
      " |      Copies parameters and buffers from :attr:`state_dict` into\n",
      " |      this module and its descendants. If :attr:`strict` is ``True``, then\n",
      " |      the keys of :attr:`state_dict` must exactly match the keys returned\n",
      " |      by this module's :meth:`~torch.nn.Module.state_dict` function.\n",
      " |      \n",
      " |      Args:\n",
      " |          state_dict (dict): a dict containing parameters and\n",
      " |              persistent buffers.\n",
      " |          strict (bool, optional): whether to strictly enforce that the keys\n",
      " |              in :attr:`state_dict` match the keys returned by this module's\n",
      " |              :meth:`~torch.nn.Module.state_dict` function. Default: ``True``\n",
      " |      \n",
      " |      Returns:\n",
      " |          ``NamedTuple`` with ``missing_keys`` and ``unexpected_keys`` fields:\n",
      " |              * **missing_keys** is a list of str containing the missing keys\n",
      " |              * **unexpected_keys** is a list of str containing the unexpected keys\n",
      " |  \n",
      " |  modules(self) -> Iterator[ForwardRef('Module')]\n",
      " |      Returns an iterator over all modules in the network.\n",
      " |      \n",
      " |      Yields:\n",
      " |          Module: a module in the network\n",
      " |      \n",
      " |      Note:\n",
      " |          Duplicate modules are returned only once. In the following\n",
      " |          example, ``l`` will be returned only once.\n",
      " |      \n",
      " |      Example::\n",
      " |      \n",
      " |          >>> l = nn.Linear(2, 2)\n",
      " |          >>> net = nn.Sequential(l, l)\n",
      " |          >>> for idx, m in enumerate(net.modules()):\n",
      " |                  print(idx, '->', m)\n",
      " |      \n",
      " |          0 -> Sequential(\n",
      " |            (0): Linear(in_features=2, out_features=2, bias=True)\n",
      " |            (1): Linear(in_features=2, out_features=2, bias=True)\n",
      " |          )\n",
      " |          1 -> Linear(in_features=2, out_features=2, bias=True)\n",
      " |  \n",
      " |  named_buffers(self, prefix: str = '', recurse: bool = True) -> Iterator[Tuple[str, torch.Tensor]]\n",
      " |      Returns an iterator over module buffers, yielding both the\n",
      " |      name of the buffer as well as the buffer itself.\n",
      " |      \n",
      " |      Args:\n",
      " |          prefix (str): prefix to prepend to all buffer names.\n",
      " |          recurse (bool): if True, then yields buffers of this module\n",
      " |              and all submodules. Otherwise, yields only buffers that\n",
      " |              are direct members of this module.\n",
      " |      \n",
      " |      Yields:\n",
      " |          (string, torch.Tensor): Tuple containing the name and buffer\n",
      " |      \n",
      " |      Example::\n",
      " |      \n",
      " |          >>> for name, buf in self.named_buffers():\n",
      " |          >>>    if name in ['running_var']:\n",
      " |          >>>        print(buf.size())\n",
      " |  \n",
      " |  named_children(self) -> Iterator[Tuple[str, ForwardRef('Module')]]\n",
      " |      Returns an iterator over immediate children modules, yielding both\n",
      " |      the name of the module as well as the module itself.\n",
      " |      \n",
      " |      Yields:\n",
      " |          (string, Module): Tuple containing a name and child module\n",
      " |      \n",
      " |      Example::\n",
      " |      \n",
      " |          >>> for name, module in model.named_children():\n",
      " |          >>>     if name in ['conv4', 'conv5']:\n",
      " |          >>>         print(module)\n",
      " |  \n",
      " |  named_modules(self, memo: Union[Set[ForwardRef('Module')], NoneType] = None, prefix: str = '')\n",
      " |      Returns an iterator over all modules in the network, yielding\n",
      " |      both the name of the module as well as the module itself.\n",
      " |      \n",
      " |      Yields:\n",
      " |          (string, Module): Tuple of name and module\n",
      " |      \n",
      " |      Note:\n",
      " |          Duplicate modules are returned only once. In the following\n",
      " |          example, ``l`` will be returned only once.\n",
      " |      \n",
      " |      Example::\n",
      " |      \n",
      " |          >>> l = nn.Linear(2, 2)\n",
      " |          >>> net = nn.Sequential(l, l)\n",
      " |          >>> for idx, m in enumerate(net.named_modules()):\n",
      " |                  print(idx, '->', m)\n",
      " |      \n",
      " |          0 -> ('', Sequential(\n",
      " |            (0): Linear(in_features=2, out_features=2, bias=True)\n",
      " |            (1): Linear(in_features=2, out_features=2, bias=True)\n",
      " |          ))\n",
      " |          1 -> ('0', Linear(in_features=2, out_features=2, bias=True))\n",
      " |  \n",
      " |  named_parameters(self, prefix: str = '', recurse: bool = True) -> Iterator[Tuple[str, torch.nn.parameter.Parameter]]\n",
      " |      Returns an iterator over module parameters, yielding both the\n",
      " |      name of the parameter as well as the parameter itself.\n",
      " |      \n",
      " |      Args:\n",
      " |          prefix (str): prefix to prepend to all parameter names.\n",
      " |          recurse (bool): if True, then yields parameters of this module\n",
      " |              and all submodules. Otherwise, yields only parameters that\n",
      " |              are direct members of this module.\n",
      " |      \n",
      " |      Yields:\n",
      " |          (string, Parameter): Tuple containing the name and parameter\n",
      " |      \n",
      " |      Example::\n",
      " |      \n",
      " |          >>> for name, param in self.named_parameters():\n",
      " |          >>>    if name in ['bias']:\n",
      " |          >>>        print(param.size())\n",
      " |  \n",
      " |  parameters(self, recurse: bool = True) -> Iterator[torch.nn.parameter.Parameter]\n",
      " |      Returns an iterator over module parameters.\n",
      " |      \n",
      " |      This is typically passed to an optimizer.\n",
      " |      \n",
      " |      Args:\n",
      " |          recurse (bool): if True, then yields parameters of this module\n",
      " |              and all submodules. Otherwise, yields only parameters that\n",
      " |              are direct members of this module.\n",
      " |      \n",
      " |      Yields:\n",
      " |          Parameter: module parameter\n",
      " |      \n",
      " |      Example::\n",
      " |      \n",
      " |          >>> for param in model.parameters():\n",
      " |          >>>     print(type(param), param.size())\n",
      " |          <class 'torch.Tensor'> (20L,)\n",
      " |          <class 'torch.Tensor'> (20L, 1L, 5L, 5L)\n",
      " |  \n",
      " |  register_backward_hook(self, hook: Callable[[ForwardRef('Module'), Union[Tuple[torch.Tensor, ...], torch.Tensor], Union[Tuple[torch.Tensor, ...], torch.Tensor]], Union[NoneType, torch.Tensor]]) -> torch.utils.hooks.RemovableHandle\n",
      " |      Registers a backward hook on the module.\n",
      " |      \n",
      " |      This function is deprecated in favor of :meth:`nn.Module.register_full_backward_hook` and\n",
      " |      the behavior of this function will change in future versions.\n",
      " |      \n",
      " |      Returns:\n",
      " |          :class:`torch.utils.hooks.RemovableHandle`:\n",
      " |              a handle that can be used to remove the added hook by calling\n",
      " |              ``handle.remove()``\n",
      " |  \n",
      " |  register_buffer(self, name: str, tensor: Union[torch.Tensor, NoneType], persistent: bool = True) -> None\n",
      " |      Adds a buffer to the module.\n",
      " |      \n",
      " |      This is typically used to register a buffer that should not to be\n",
      " |      considered a model parameter. For example, BatchNorm's ``running_mean``\n",
      " |      is not a parameter, but is part of the module's state. Buffers, by\n",
      " |      default, are persistent and will be saved alongside parameters. This\n",
      " |      behavior can be changed by setting :attr:`persistent` to ``False``. The\n",
      " |      only difference between a persistent buffer and a non-persistent buffer\n",
      " |      is that the latter will not be a part of this module's\n",
      " |      :attr:`state_dict`.\n",
      " |      \n",
      " |      Buffers can be accessed as attributes using given names.\n",
      " |      \n",
      " |      Args:\n",
      " |          name (string): name of the buffer. The buffer can be accessed\n",
      " |              from this module using the given name\n",
      " |          tensor (Tensor): buffer to be registered.\n",
      " |          persistent (bool): whether the buffer is part of this module's\n",
      " |              :attr:`state_dict`.\n",
      " |      \n",
      " |      Example::\n",
      " |      \n",
      " |          >>> self.register_buffer('running_mean', torch.zeros(num_features))\n",
      " |  \n",
      " |  register_forward_hook(self, hook: Callable[..., NoneType]) -> torch.utils.hooks.RemovableHandle\n",
      " |      Registers a forward hook on the module.\n",
      " |      \n",
      " |      The hook will be called every time after :func:`forward` has computed an output.\n",
      " |      It should have the following signature::\n",
      " |      \n",
      " |          hook(module, input, output) -> None or modified output\n",
      " |      \n",
      " |      The input contains only the positional arguments given to the module.\n",
      " |      Keyword arguments won't be passed to the hooks and only to the ``forward``.\n",
      " |      The hook can modify the output. It can modify the input inplace but\n",
      " |      it will not have effect on forward since this is called after\n",
      " |      :func:`forward` is called.\n",
      " |      \n",
      " |      Returns:\n",
      " |          :class:`torch.utils.hooks.RemovableHandle`:\n",
      " |              a handle that can be used to remove the added hook by calling\n",
      " |              ``handle.remove()``\n",
      " |  \n",
      " |  register_forward_pre_hook(self, hook: Callable[..., NoneType]) -> torch.utils.hooks.RemovableHandle\n",
      " |      Registers a forward pre-hook on the module.\n",
      " |      \n",
      " |      The hook will be called every time before :func:`forward` is invoked.\n",
      " |      It should have the following signature::\n",
      " |      \n",
      " |          hook(module, input) -> None or modified input\n",
      " |      \n",
      " |      The input contains only the positional arguments given to the module.\n",
      " |      Keyword arguments won't be passed to the hooks and only to the ``forward``.\n",
      " |      The hook can modify the input. User can either return a tuple or a\n",
      " |      single modified value in the hook. We will wrap the value into a tuple\n",
      " |      if a single value is returned(unless that value is already a tuple).\n",
      " |      \n",
      " |      Returns:\n",
      " |          :class:`torch.utils.hooks.RemovableHandle`:\n",
      " |              a handle that can be used to remove the added hook by calling\n",
      " |              ``handle.remove()``\n",
      " |  \n",
      " |  register_full_backward_hook(self, hook: Callable[[ForwardRef('Module'), Union[Tuple[torch.Tensor, ...], torch.Tensor], Union[Tuple[torch.Tensor, ...], torch.Tensor]], Union[NoneType, torch.Tensor]]) -> torch.utils.hooks.RemovableHandle\n",
      " |      Registers a backward hook on the module.\n",
      " |      \n",
      " |      The hook will be called every time the gradients with respect to module\n",
      " |      inputs are computed. The hook should have the following signature::\n",
      " |      \n",
      " |          hook(module, grad_input, grad_output) -> tuple(Tensor) or None\n",
      " |      \n",
      " |      The :attr:`grad_input` and :attr:`grad_output` are tuples that contain the gradients\n",
      " |      with respect to the inputs and outputs respectively. The hook should\n",
      " |      not modify its arguments, but it can optionally return a new gradient with\n",
      " |      respect to the input that will be used in place of :attr:`grad_input` in\n",
      " |      subsequent computations. :attr:`grad_input` will only correspond to the inputs given\n",
      " |      as positional arguments and all kwarg arguments are ignored. Entries\n",
      " |      in :attr:`grad_input` and :attr:`grad_output` will be ``None`` for all non-Tensor\n",
      " |      arguments.\n",
      " |      \n",
      " |      .. warning ::\n",
      " |          Modifying inputs or outputs inplace is not allowed when using backward hooks and\n",
      " |          will raise an error.\n",
      " |      \n",
      " |      Returns:\n",
      " |          :class:`torch.utils.hooks.RemovableHandle`:\n",
      " |              a handle that can be used to remove the added hook by calling\n",
      " |              ``handle.remove()``\n",
      " |  \n",
      " |  register_parameter(self, name: str, param: Union[torch.nn.parameter.Parameter, NoneType]) -> None\n",
      " |      Adds a parameter to the module.\n",
      " |      \n",
      " |      The parameter can be accessed as an attribute using given name.\n",
      " |      \n",
      " |      Args:\n",
      " |          name (string): name of the parameter. The parameter can be accessed\n",
      " |              from this module using the given name\n",
      " |          param (Parameter): parameter to be added to the module.\n",
      " |  \n",
      " |  requires_grad_(self: ~T, requires_grad: bool = True) -> ~T\n",
      " |      Change if autograd should record operations on parameters in this\n",
      " |      module.\n",
      " |      \n",
      " |      This method sets the parameters' :attr:`requires_grad` attributes\n",
      " |      in-place.\n",
      " |      \n",
      " |      This method is helpful for freezing part of the module for finetuning\n",
      " |      or training parts of a model individually (e.g., GAN training).\n",
      " |      \n",
      " |      Args:\n",
      " |          requires_grad (bool): whether autograd should record operations on\n",
      " |                                parameters in this module. Default: ``True``.\n",
      " |      \n",
      " |      Returns:\n",
      " |          Module: self\n",
      " |  \n",
      " |  share_memory(self: ~T) -> ~T\n",
      " |  \n",
      " |  state_dict(self, destination=None, prefix='', keep_vars=False)\n",
      " |      Returns a dictionary containing a whole state of the module.\n",
      " |      \n",
      " |      Both parameters and persistent buffers (e.g. running averages) are\n",
      " |      included. Keys are corresponding parameter and buffer names.\n",
      " |      \n",
      " |      Returns:\n",
      " |          dict:\n",
      " |              a dictionary containing a whole state of the module\n",
      " |      \n",
      " |      Example::\n",
      " |      \n",
      " |          >>> module.state_dict().keys()\n",
      " |          ['bias', 'weight']\n",
      " |  \n",
      " |  to(self, *args, **kwargs)\n",
      " |      Moves and/or casts the parameters and buffers.\n",
      " |      \n",
      " |      This can be called as\n",
      " |      \n",
      " |      .. function:: to(device=None, dtype=None, non_blocking=False)\n",
      " |      \n",
      " |      .. function:: to(dtype, non_blocking=False)\n",
      " |      \n",
      " |      .. function:: to(tensor, non_blocking=False)\n",
      " |      \n",
      " |      .. function:: to(memory_format=torch.channels_last)\n",
      " |      \n",
      " |      Its signature is similar to :meth:`torch.Tensor.to`, but only accepts\n",
      " |      floating point or complex :attr:`dtype`s. In addition, this method will\n",
      " |      only cast the floating point or complex parameters and buffers to :attr:`dtype`\n",
      " |      (if given). The integral parameters and buffers will be moved\n",
      " |      :attr:`device`, if that is given, but with dtypes unchanged. When\n",
      " |      :attr:`non_blocking` is set, it tries to convert/move asynchronously\n",
      " |      with respect to the host if possible, e.g., moving CPU Tensors with\n",
      " |      pinned memory to CUDA devices.\n",
      " |      \n",
      " |      See below for examples.\n",
      " |      \n",
      " |      .. note::\n",
      " |          This method modifies the module in-place.\n",
      " |      \n",
      " |      Args:\n",
      " |          device (:class:`torch.device`): the desired device of the parameters\n",
      " |              and buffers in this module\n",
      " |          dtype (:class:`torch.dtype`): the desired floating point or complex dtype of\n",
      " |              the parameters and buffers in this module\n",
      " |          tensor (torch.Tensor): Tensor whose dtype and device are the desired\n",
      " |              dtype and device for all parameters and buffers in this module\n",
      " |          memory_format (:class:`torch.memory_format`): the desired memory\n",
      " |              format for 4D parameters and buffers in this module (keyword\n",
      " |              only argument)\n",
      " |      \n",
      " |      Returns:\n",
      " |          Module: self\n",
      " |      \n",
      " |      Examples::\n",
      " |      \n",
      " |          >>> linear = nn.Linear(2, 2)\n",
      " |          >>> linear.weight\n",
      " |          Parameter containing:\n",
      " |          tensor([[ 0.1913, -0.3420],\n",
      " |                  [-0.5113, -0.2325]])\n",
      " |          >>> linear.to(torch.double)\n",
      " |          Linear(in_features=2, out_features=2, bias=True)\n",
      " |          >>> linear.weight\n",
      " |          Parameter containing:\n",
      " |          tensor([[ 0.1913, -0.3420],\n",
      " |                  [-0.5113, -0.2325]], dtype=torch.float64)\n",
      " |          >>> gpu1 = torch.device(\"cuda:1\")\n",
      " |          >>> linear.to(gpu1, dtype=torch.half, non_blocking=True)\n",
      " |          Linear(in_features=2, out_features=2, bias=True)\n",
      " |          >>> linear.weight\n",
      " |          Parameter containing:\n",
      " |          tensor([[ 0.1914, -0.3420],\n",
      " |                  [-0.5112, -0.2324]], dtype=torch.float16, device='cuda:1')\n",
      " |          >>> cpu = torch.device(\"cpu\")\n",
      " |          >>> linear.to(cpu)\n",
      " |          Linear(in_features=2, out_features=2, bias=True)\n",
      " |          >>> linear.weight\n",
      " |          Parameter containing:\n",
      " |          tensor([[ 0.1914, -0.3420],\n",
      " |                  [-0.5112, -0.2324]], dtype=torch.float16)\n",
      " |      \n",
      " |          >>> linear = nn.Linear(2, 2, bias=None).to(torch.cdouble)\n",
      " |          >>> linear.weight\n",
      " |          Parameter containing:\n",
      " |          tensor([[ 0.3741+0.j,  0.2382+0.j],\n",
      " |                  [ 0.5593+0.j, -0.4443+0.j]], dtype=torch.complex128)\n",
      " |          >>> linear(torch.ones(3, 2, dtype=torch.cdouble))\n",
      " |          tensor([[0.6122+0.j, 0.1150+0.j],\n",
      " |                  [0.6122+0.j, 0.1150+0.j],\n",
      " |                  [0.6122+0.j, 0.1150+0.j]], dtype=torch.complex128)\n",
      " |  \n",
      " |  train(self: ~T, mode: bool = True) -> ~T\n",
      " |      Sets the module in training mode.\n",
      " |      \n",
      " |      This has any effect only on certain modules. See documentations of\n",
      " |      particular modules for details of their behaviors in training/evaluation\n",
      " |      mode, if they are affected, e.g. :class:`Dropout`, :class:`BatchNorm`,\n",
      " |      etc.\n",
      " |      \n",
      " |      Args:\n",
      " |          mode (bool): whether to set training mode (``True``) or evaluation\n",
      " |                       mode (``False``). Default: ``True``.\n",
      " |      \n",
      " |      Returns:\n",
      " |          Module: self\n",
      " |  \n",
      " |  type(self: ~T, dst_type: Union[torch.dtype, str]) -> ~T\n",
      " |      Casts all parameters and buffers to :attr:`dst_type`.\n",
      " |      \n",
      " |      Args:\n",
      " |          dst_type (type or string): the desired type\n",
      " |      \n",
      " |      Returns:\n",
      " |          Module: self\n",
      " |  \n",
      " |  xpu(self: ~T, device: Union[int, torch.device, NoneType] = None) -> ~T\n",
      " |      Moves all model parameters and buffers to the XPU.\n",
      " |      \n",
      " |      This also makes associated parameters and buffers different objects. So\n",
      " |      it should be called before constructing optimizer if the module will\n",
      " |      live on XPU while being optimized.\n",
      " |      \n",
      " |      Arguments:\n",
      " |          device (int, optional): if specified, all parameters will be\n",
      " |              copied to that device\n",
      " |      \n",
      " |      Returns:\n",
      " |          Module: self\n",
      " |  \n",
      " |  zero_grad(self, set_to_none: bool = False) -> None\n",
      " |      Sets gradients of all model parameters to zero. See similar function\n",
      " |      under :class:`torch.optim.Optimizer` for more context.\n",
      " |      \n",
      " |      Args:\n",
      " |          set_to_none (bool): instead of setting to zero, set the grads to None.\n",
      " |              See :meth:`torch.optim.Optimizer.zero_grad` for details.\n",
      " |  \n",
      " |  ----------------------------------------------------------------------\n",
      " |  Data descriptors inherited from torch.nn.modules.module.Module:\n",
      " |  \n",
      " |  __dict__\n",
      " |      dictionary for instance variables (if defined)\n",
      " |  \n",
      " |  __weakref__\n",
      " |      list of weak references to the object (if defined)\n",
      " |  \n",
      " |  ----------------------------------------------------------------------\n",
      " |  Data and other attributes inherited from torch.nn.modules.module.Module:\n",
      " |  \n",
      " |  T_destination = ~T_destination\n",
      " |  \n",
      " |  __annotations__ = {'__call__': typing.Callable[..., typing.Any], '_is_...\n",
      " |  \n",
      " |  dump_patches = False\n",
      " |  \n",
      " |  ----------------------------------------------------------------------\n",
      " |  Methods inherited from transformers.modeling_utils.ModuleUtilsMixin:\n",
      " |  \n",
      " |  add_memory_hooks(self)\n",
      " |      Add a memory hook before and after each sub-module forward pass to record increase in memory consumption.\n",
      " |      \n",
      " |      Increase in memory consumption is stored in a :obj:`mem_rss_diff` attribute for each module and can be reset to\n",
      " |      zero with :obj:`model.reset_memory_hooks_state()`.\n",
      " |  \n",
      " |  estimate_tokens(self, input_dict: Dict[str, Union[torch.Tensor, Any]]) -> int\n",
      " |      Helper function to estimate the total number of tokens from the model inputs.\n",
      " |      \n",
      " |      Args:\n",
      " |          inputs (:obj:`dict`): The model inputs.\n",
      " |      \n",
      " |      Returns:\n",
      " |          :obj:`int`: The total number of tokens.\n",
      " |  \n",
      " |  floating_point_ops(self, input_dict: Dict[str, Union[torch.Tensor, Any]], exclude_embeddings: bool = True) -> int\n",
      " |      Get number of (optionally, non-embeddings) floating-point operations for the forward and backward passes of a\n",
      " |      batch with this transformer model. Default approximation neglects the quadratic dependency on the number of\n",
      " |      tokens (valid if :obj:`12 * d_model << sequence_length`) as laid out in `this paper\n",
      " |      <https://arxiv.org/pdf/2001.08361.pdf>`__ section 2.1. Should be overridden for transformers with parameter\n",
      " |      re-use e.g. Albert or Universal Transformers, or if doing long-range modeling with very high sequence lengths.\n",
      " |      \n",
      " |      Args:\n",
      " |          batch_size (:obj:`int`):\n",
      " |              The batch size for the forward pass.\n",
      " |      \n",
      " |          sequence_length (:obj:`int`):\n",
      " |              The number of tokens in each line of the batch.\n",
      " |      \n",
      " |          exclude_embeddings (:obj:`bool`, `optional`, defaults to :obj:`True`):\n",
      " |              Whether or not to count embedding and softmax operations.\n",
      " |      \n",
      " |      Returns:\n",
      " |          :obj:`int`: The number of floating-point operations.\n",
      " |  \n",
      " |  get_extended_attention_mask(self, attention_mask: torch.Tensor, input_shape: Tuple[int], device: <property object at 0x7f4ff236b180>) -> torch.Tensor\n",
      " |      Makes broadcastable attention and causal masks so that future and masked tokens are ignored.\n",
      " |      \n",
      " |      Arguments:\n",
      " |          attention_mask (:obj:`torch.Tensor`):\n",
      " |              Mask with ones indicating tokens to attend to, zeros for tokens to ignore.\n",
      " |          input_shape (:obj:`Tuple[int]`):\n",
      " |              The shape of the input to the model.\n",
      " |          device: (:obj:`torch.device`):\n",
      " |              The device of the input to the model.\n",
      " |      \n",
      " |      Returns:\n",
      " |          :obj:`torch.Tensor` The extended attention mask, with a the same dtype as :obj:`attention_mask.dtype`.\n",
      " |  \n",
      " |  get_head_mask(self, head_mask: Union[torch.Tensor, NoneType], num_hidden_layers: int, is_attention_chunked: bool = False) -> torch.Tensor\n",
      " |      Prepare the head mask if needed.\n",
      " |      \n",
      " |      Args:\n",
      " |          head_mask (:obj:`torch.Tensor` with shape :obj:`[num_heads]` or :obj:`[num_hidden_layers x num_heads]`, `optional`):\n",
      " |              The mask indicating if we should keep the heads or not (1.0 for keep, 0.0 for discard).\n",
      " |          num_hidden_layers (:obj:`int`):\n",
      " |              The number of hidden layers in the model.\n",
      " |          is_attention_chunked: (:obj:`bool`, `optional, defaults to :obj:`False`):\n",
      " |              Whether or not the attentions scores are computed by chunks or not.\n",
      " |      \n",
      " |      Returns:\n",
      " |          :obj:`torch.Tensor` with shape :obj:`[num_hidden_layers x batch x num_heads x seq_length x seq_length]` or\n",
      " |          list with :obj:`[None]` for each layer.\n",
      " |  \n",
      " |  invert_attention_mask(self, encoder_attention_mask: torch.Tensor) -> torch.Tensor\n",
      " |      Invert an attention mask (e.g., switches 0. and 1.).\n",
      " |      \n",
      " |      Args:\n",
      " |          encoder_attention_mask (:obj:`torch.Tensor`): An attention mask.\n",
      " |      \n",
      " |      Returns:\n",
      " |          :obj:`torch.Tensor`: The inverted attention mask.\n",
      " |  \n",
      " |  num_parameters(self, only_trainable: bool = False, exclude_embeddings: bool = False) -> int\n",
      " |      Get number of (optionally, trainable or non-embeddings) parameters in the module.\n",
      " |      \n",
      " |      Args:\n",
      " |          only_trainable (:obj:`bool`, `optional`, defaults to :obj:`False`):\n",
      " |              Whether or not to return only the number of trainable parameters\n",
      " |      \n",
      " |          exclude_embeddings (:obj:`bool`, `optional`, defaults to :obj:`False`):\n",
      " |              Whether or not to return only the number of non-embeddings parameters\n",
      " |      \n",
      " |      Returns:\n",
      " |          :obj:`int`: The number of parameters.\n",
      " |  \n",
      " |  reset_memory_hooks_state(self)\n",
      " |      Reset the :obj:`mem_rss_diff` attribute of each module (see\n",
      " |      :func:`~transformers.modeling_utils.ModuleUtilsMixin.add_memory_hooks`).\n",
      " |  \n",
      " |  ----------------------------------------------------------------------\n",
      " |  Readonly properties inherited from transformers.modeling_utils.ModuleUtilsMixin:\n",
      " |  \n",
      " |  device\n",
      " |      :obj:`torch.device`: The device on which the module is (assuming that all the module parameters are on the same\n",
      " |      device).\n",
      " |  \n",
      " |  dtype\n",
      " |      :obj:`torch.dtype`: The dtype of the module (assuming that all the module parameters have the same dtype).\n",
      " |  \n",
      " |  ----------------------------------------------------------------------\n",
      " |  Methods inherited from transformers.generation_utils.GenerationMixin:\n",
      " |  \n",
      " |  adjust_logits_during_generation(self, logits: torch.FloatTensor, **kwargs) -> torch.FloatTensor\n",
      " |      Implement in subclasses of :class:`~transformers.PreTrainedModel` for custom behavior to adjust the logits in\n",
      " |      the generate method.\n",
      " |  \n",
      " |  beam_sample(self, input_ids: torch.LongTensor, beam_scorer: transformers.generation_beam_search.BeamScorer, logits_processor: Union[transformers.generation_logits_process.LogitsProcessorList, NoneType] = None, stopping_criteria: Union[transformers.generation_stopping_criteria.StoppingCriteriaList, NoneType] = None, logits_warper: Union[transformers.generation_logits_process.LogitsProcessorList, NoneType] = None, max_length: Union[int, NoneType] = None, pad_token_id: Union[int, NoneType] = None, eos_token_id: Union[int, NoneType] = None, output_attentions: Union[bool, NoneType] = None, output_hidden_states: Union[bool, NoneType] = None, output_scores: Union[bool, NoneType] = None, return_dict_in_generate: Union[bool, NoneType] = None, **model_kwargs) -> Union[transformers.generation_utils.BeamSampleEncoderDecoderOutput, transformers.generation_utils.BeamSampleDecoderOnlyOutput, torch.LongTensor]\n",
      " |      Generates sequences for models with a language modeling head using beam search with multinomial sampling.\n",
      " |      \n",
      " |      Parameters:\n",
      " |      \n",
      " |          input_ids (:obj:`torch.LongTensor` of shape :obj:`(batch_size, sequence_length)`, `optional`):\n",
      " |              The sequence used as a prompt for the generation. If :obj:`None` the method initializes it as an empty\n",
      " |              :obj:`torch.LongTensor` of shape :obj:`(1,)`.\n",
      " |          beam_scorer (:obj:`BeamScorer`):\n",
      " |              A derived instance of :class:`~transformers.BeamScorer` that defines how beam hypotheses are\n",
      " |              constructed, stored and sorted during generation. For more information, the documentation of\n",
      " |              :class:`~transformers.BeamScorer` should be read.\n",
      " |          logits_processor (:obj:`LogitsProcessorList`, `optional`):\n",
      " |              An instance of :class:`~transformers.LogitsProcessorList`. List of instances of class derived from\n",
      " |              :class:`~transformers.LogitsProcessor` used to modify the prediction scores of the language modeling\n",
      " |              head applied at each generation step.\n",
      " |          stopping_criteria (:obj:`StoppingCriteriaList`, `optional`):\n",
      " |              An instance of :class:`~transformers.StoppingCriteriaList`. List of instances of class derived from\n",
      " |              :class:`~transformers.StoppingCriteria` used to tell if the generation loop should stop.\n",
      " |          logits_warper (:obj:`LogitsProcessorList`, `optional`):\n",
      " |              An instance of :class:`~transformers.LogitsProcessorList`. List of instances of class derived from\n",
      " |              :class:`~transformers.LogitsWarper` used to warp the prediction score distribution of the language\n",
      " |              modeling head applied before multinomial sampling at each generation step.\n",
      " |          max_length (:obj:`int`, `optional`, defaults to 20):\n",
      " |              The maximum length of the sequence to be generated.\n",
      " |          pad_token_id (:obj:`int`, `optional`):\n",
      " |              The id of the `padding` token.\n",
      " |          eos_token_id (:obj:`int`, `optional`):\n",
      " |              The id of the `end-of-sequence` token.\n",
      " |          output_attentions (:obj:`bool`, `optional`, defaults to `False`):\n",
      " |              Whether or not to return the attentions tensors of all attention layers. See ``attentions`` under\n",
      " |              returned tensors for more details.\n",
      " |          output_hidden_states (:obj:`bool`, `optional`, defaults to `False`):\n",
      " |              Whether or not to return trhe hidden states of all layers. See ``hidden_states`` under returned tensors\n",
      " |              for more details.\n",
      " |          output_scores (:obj:`bool`, `optional`, defaults to `False`):\n",
      " |              Whether or not to return the prediction scores. See ``scores`` under returned tensors for more details.\n",
      " |          return_dict_in_generate (:obj:`bool`, `optional`, defaults to `False`):\n",
      " |              Whether or not to return a :class:`~transformers.file_utils.ModelOutput` instead of a plain tuple.\n",
      " |          model_kwargs:\n",
      " |              Additional model specific kwargs will be forwarded to the :obj:`forward` function of the model. If\n",
      " |              model is an encoder-decoder model the kwargs should include :obj:`encoder_outputs`.\n",
      " |      \n",
      " |      Return:\n",
      " |          :class:`~transformers.generation_utils.BeamSampleDecoderOnlyOutput`,\n",
      " |          :class:`~transformers.generation_utils.BeamSampleEncoderDecoderOutput` or obj:`torch.LongTensor`: A\n",
      " |          :obj:`torch.LongTensor` containing the generated tokens (default behaviour) or a\n",
      " |          :class:`~transformers.generation_utils.BeamSampleDecoderOnlyOutput` if\n",
      " |          ``model.config.is_encoder_decoder=False`` and ``return_dict_in_generate=True`` or a\n",
      " |          :class:`~transformers.generation_utils.BeamSampleEncoderDecoderOutput` if\n",
      " |          ``model.config.is_encoder_decoder=True``.\n",
      " |      \n",
      " |      Examples::\n",
      " |      \n",
      " |          >>> from transformers import (\n",
      " |          ...     AutoTokenizer,\n",
      " |          ...     AutoModelForSeq2SeqLM,\n",
      " |          ...     LogitsProcessorList,\n",
      " |          ...     MinLengthLogitsProcessor,\n",
      " |          ...     TopKLogitsWarper,\n",
      " |          ...     TemperatureLogitsWarper,\n",
      " |          ...     BeamSearchScorer,\n",
      " |          ... )\n",
      " |          >>> import torch\n",
      " |      \n",
      " |          >>> tokenizer = AutoTokenizer.from_pretrained(\"t5-base\")\n",
      " |          >>> model = AutoModelForSeq2SeqLM.from_pretrained(\"t5-base\")\n",
      " |      \n",
      " |          >>> encoder_input_str = \"translate English to German: How old are you?\"\n",
      " |          >>> encoder_input_ids = tokenizer(encoder_input_str, return_tensors=\"pt\").input_ids\n",
      " |      \n",
      " |          >>> # lets run beam search using 3 beams\n",
      " |          >>> num_beams = 3\n",
      " |          >>> # define decoder start token ids\n",
      " |          >>> input_ids = torch.ones((num_beams, 1), device=model.device, dtype=torch.long)\n",
      " |          >>> input_ids = input_ids * model.config.decoder_start_token_id\n",
      " |      \n",
      " |          >>> # add encoder_outputs to model keyword arguments\n",
      " |          >>> model_kwargs = {\n",
      " |          ...     \"encoder_outputs\": model.get_encoder()(encoder_input_ids.repeat_interleave(num_beams, dim=0), return_dict=True)\n",
      " |          ... }\n",
      " |      \n",
      " |          >>> # instantiate beam scorer\n",
      " |          >>> beam_scorer = BeamSearchScorer(\n",
      " |          ...     batch_size=1,\n",
      " |          ...     max_length=model.config.max_length,\n",
      " |          ...     num_beams=num_beams,\n",
      " |          ...     device=model.device,\n",
      " |          ... )\n",
      " |      \n",
      " |          >>> # instantiate logits processors\n",
      " |          >>> logits_processor = LogitsProcessorList([\n",
      " |          ...     MinLengthLogitsProcessor(5, eos_token_id=model.config.eos_token_id)\n",
      " |          ... ])\n",
      " |          >>> # instantiate logits processors\n",
      " |          >>> logits_warper = LogitsProcessorList([\n",
      " |          ...     TopKLogitsWarper(50),\n",
      " |          ...     TemperatureLogitsWarper(0.7),\n",
      " |          ... ])\n",
      " |      \n",
      " |          >>> outputs = model.beam_sample(\n",
      " |          ...     input_ids, beam_scorer, logits_processor=logits_processor, logits_warper=logits_warper, **model_kwargs\n",
      " |          ... )\n",
      " |      \n",
      " |          >>> print(\"Generated:\", tokenizer.batch_decode(outputs, skip_special_tokens=True))\n",
      " |  \n",
      " |  beam_search(self, input_ids: torch.LongTensor, beam_scorer: transformers.generation_beam_search.BeamScorer, logits_processor: Union[transformers.generation_logits_process.LogitsProcessorList, NoneType] = None, stopping_criteria: Union[transformers.generation_stopping_criteria.StoppingCriteriaList, NoneType] = None, max_length: Union[int, NoneType] = None, pad_token_id: Union[int, NoneType] = None, eos_token_id: Union[int, NoneType] = None, output_attentions: Union[bool, NoneType] = None, output_hidden_states: Union[bool, NoneType] = None, output_scores: Union[bool, NoneType] = None, return_dict_in_generate: Union[bool, NoneType] = None, **model_kwargs) -> Union[transformers.generation_utils.BeamSearchEncoderDecoderOutput, transformers.generation_utils.BeamSearchDecoderOnlyOutput, torch.LongTensor]\n",
      " |      Generates sequences for models with a language modeling head using beam search decoding.\n",
      " |      \n",
      " |      Parameters:\n",
      " |      \n",
      " |          input_ids (:obj:`torch.LongTensor` of shape :obj:`(batch_size, sequence_length)`, `optional`):\n",
      " |              The sequence used as a prompt for the generation. If :obj:`None` the method initializes it as an empty\n",
      " |              :obj:`torch.LongTensor` of shape :obj:`(1,)`.\n",
      " |          beam_scorer (:obj:`BeamScorer`):\n",
      " |              An derived instance of :class:`~transformers.BeamScorer` that defines how beam hypotheses are\n",
      " |              constructed, stored and sorted during generation. For more information, the documentation of\n",
      " |              :class:`~transformers.BeamScorer` should be read.\n",
      " |          logits_processor (:obj:`LogitsProcessorList`, `optional`):\n",
      " |              An instance of :class:`~transformers.LogitsProcessorList`. List of instances of class derived from\n",
      " |              :class:`~transformers.LogitsProcessor` used to modify the prediction scores of the language modeling\n",
      " |              head applied at each generation step.\n",
      " |          stopping_criteria (:obj:`StoppingCriteriaList`, `optional`):\n",
      " |              An instance of :class:`~transformers.StoppingCriteriaList`. List of instances of class derived from\n",
      " |              :class:`~transformers.StoppingCriteria` used to tell if the generation loop should stop.\n",
      " |          max_length (:obj:`int`, `optional`, defaults to 20):\n",
      " |              The maximum length of the sequence to be generated.\n",
      " |          pad_token_id (:obj:`int`, `optional`):\n",
      " |              The id of the `padding` token.\n",
      " |          eos_token_id (:obj:`int`, `optional`):\n",
      " |              The id of the `end-of-sequence` token.\n",
      " |          output_attentions (:obj:`bool`, `optional`, defaults to `False`):\n",
      " |              Whether or not to return the attentions tensors of all attention layers. See ``attentions`` under\n",
      " |              returned tensors for more details.\n",
      " |          output_hidden_states (:obj:`bool`, `optional`, defaults to `False`):\n",
      " |              Whether or not to return trhe hidden states of all layers. See ``hidden_states`` under returned tensors\n",
      " |              for more details.\n",
      " |          output_scores (:obj:`bool`, `optional`, defaults to `False`):\n",
      " |              Whether or not to return the prediction scores. See ``scores`` under returned tensors for more details.\n",
      " |          return_dict_in_generate (:obj:`bool`, `optional`, defaults to `False`):\n",
      " |              Whether or not to return a :class:`~transformers.file_utils.ModelOutput` instead of a plain tuple.\n",
      " |          model_kwargs:\n",
      " |              Additional model specific kwargs will be forwarded to the :obj:`forward` function of the model. If\n",
      " |              model is an encoder-decoder model the kwargs should include :obj:`encoder_outputs`.\n",
      " |      \n",
      " |      Return:\n",
      " |          :class:`~transformers.generation_utilsBeamSearchDecoderOnlyOutput`,\n",
      " |          :class:`~transformers.generation_utils.BeamSearchEncoderDecoderOutput` or obj:`torch.LongTensor`: A\n",
      " |          :obj:`torch.LongTensor` containing the generated tokens (default behaviour) or a\n",
      " |          :class:`~transformers.generation_utils.BeamSearchDecoderOnlyOutput` if\n",
      " |          ``model.config.is_encoder_decoder=False`` and ``return_dict_in_generate=True`` or a\n",
      " |          :class:`~transformers.generation_utils.BeamSearchEncoderDecoderOutput` if\n",
      " |          ``model.config.is_encoder_decoder=True``.\n",
      " |      \n",
      " |      \n",
      " |      Examples::\n",
      " |      \n",
      " |          >>> from transformers import (\n",
      " |          ...    AutoTokenizer,\n",
      " |          ...    AutoModelForSeq2SeqLM,\n",
      " |          ...    LogitsProcessorList,\n",
      " |          ...    MinLengthLogitsProcessor,\n",
      " |          ...    BeamSearchScorer,\n",
      " |          ... )\n",
      " |          >>> import torch\n",
      " |      \n",
      " |          >>> tokenizer = AutoTokenizer.from_pretrained(\"t5-base\")\n",
      " |          >>> model = AutoModelForSeq2SeqLM.from_pretrained(\"t5-base\")\n",
      " |      \n",
      " |          >>> encoder_input_str = \"translate English to German: How old are you?\"\n",
      " |          >>> encoder_input_ids = tokenizer(encoder_input_str, return_tensors=\"pt\").input_ids\n",
      " |      \n",
      " |      \n",
      " |          >>> # lets run beam search using 3 beams\n",
      " |          >>> num_beams = 3\n",
      " |          >>> # define decoder start token ids\n",
      " |          >>> input_ids = torch.ones((num_beams, 1), device=model.device, dtype=torch.long)\n",
      " |          >>> input_ids = input_ids * model.config.decoder_start_token_id\n",
      " |      \n",
      " |          >>> # add encoder_outputs to model keyword arguments\n",
      " |          >>> model_kwargs = {\n",
      " |          ...     \"encoder_outputs\": model.get_encoder()(encoder_input_ids.repeat_interleave(num_beams, dim=0), return_dict=True)\n",
      " |          ... }\n",
      " |      \n",
      " |          >>> # instantiate beam scorer\n",
      " |          >>> beam_scorer = BeamSearchScorer(\n",
      " |          ...     batch_size=1,\n",
      " |          ...     max_length=model.config.max_length,\n",
      " |          ...     num_beams=num_beams,\n",
      " |          ...     device=model.device,\n",
      " |          ... )\n",
      " |      \n",
      " |          >>> # instantiate logits processors\n",
      " |          >>> logits_processor = LogitsProcessorList([\n",
      " |          ...     MinLengthLogitsProcessor(5, eos_token_id=model.config.eos_token_id),\n",
      " |          ... ])\n",
      " |      \n",
      " |          >>> outputs = model.beam_search(input_ids, beam_scorer, logits_processor=logits_processor, **model_kwargs)\n",
      " |      \n",
      " |          >>> print(\"Generated:\", tokenizer.batch_decode(outputs, skip_special_tokens=True))\n",
      " |  \n",
      " |  generate(self, input_ids: Union[torch.LongTensor, NoneType] = None, max_length: Union[int, NoneType] = None, min_length: Union[int, NoneType] = None, do_sample: Union[bool, NoneType] = None, early_stopping: Union[bool, NoneType] = None, num_beams: Union[int, NoneType] = None, temperature: Union[float, NoneType] = None, top_k: Union[int, NoneType] = None, top_p: Union[float, NoneType] = None, repetition_penalty: Union[float, NoneType] = None, bad_words_ids: Union[Iterable[int], NoneType] = None, bos_token_id: Union[int, NoneType] = None, pad_token_id: Union[int, NoneType] = None, eos_token_id: Union[int, NoneType] = None, length_penalty: Union[float, NoneType] = None, no_repeat_ngram_size: Union[int, NoneType] = None, encoder_no_repeat_ngram_size: Union[int, NoneType] = None, num_return_sequences: Union[int, NoneType] = None, max_time: Union[float, NoneType] = None, decoder_start_token_id: Union[int, NoneType] = None, use_cache: Union[bool, NoneType] = None, num_beam_groups: Union[int, NoneType] = None, diversity_penalty: Union[float, NoneType] = None, prefix_allowed_tokens_fn: Union[Callable[[int, torch.Tensor], List[int]], NoneType] = None, output_attentions: Union[bool, NoneType] = None, output_hidden_states: Union[bool, NoneType] = None, output_scores: Union[bool, NoneType] = None, return_dict_in_generate: Union[bool, NoneType] = None, forced_bos_token_id: Union[int, NoneType] = None, forced_eos_token_id: Union[int, NoneType] = None, **model_kwargs) -> Union[transformers.generation_utils.GreedySearchEncoderDecoderOutput, transformers.generation_utils.GreedySearchDecoderOnlyOutput, transformers.generation_utils.SampleEncoderDecoderOutput, transformers.generation_utils.SampleDecoderOnlyOutput, transformers.generation_utils.BeamSearchEncoderDecoderOutput, transformers.generation_utils.BeamSearchDecoderOnlyOutput, transformers.generation_utils.BeamSampleEncoderDecoderOutput, transformers.generation_utils.BeamSampleDecoderOnlyOutput, torch.LongTensor]\n",
      " |      Generates sequences for models with a language modeling head. The method currently supports greedy decoding,\n",
      " |      multinomial sampling, beam-search decoding, and beam-search multinomial sampling.\n",
      " |      \n",
      " |      Apart from :obj:`input_ids` and :obj:`attention_mask`, all the arguments below will default to the value of the\n",
      " |      attribute of the same name inside the :class:`~transformers.PretrainedConfig` of the model. The default values\n",
      " |      indicated are the default values of those config.\n",
      " |      \n",
      " |      Most of these parameters are explained in more detail in `this blog post\n",
      " |      <https://huggingface.co/blog/how-to-generate>`__.\n",
      " |      \n",
      " |      Parameters:\n",
      " |      \n",
      " |          input_ids (:obj:`torch.LongTensor` of shape :obj:`(batch_size, sequence_length)`, `optional`):\n",
      " |              The sequence used as a prompt for the generation. If :obj:`None` the method initializes it as an empty\n",
      " |              :obj:`torch.LongTensor` of shape :obj:`(1,)`.\n",
      " |          max_length (:obj:`int`, `optional`, defaults to 20):\n",
      " |              The maximum length of the sequence to be generated.\n",
      " |          min_length (:obj:`int`, `optional`, defaults to 10):\n",
      " |              The minimum length of the sequence to be generated.\n",
      " |          do_sample (:obj:`bool`, `optional`, defaults to :obj:`False`):\n",
      " |              Whether or not to use sampling ; use greedy decoding otherwise.\n",
      " |          early_stopping (:obj:`bool`, `optional`, defaults to :obj:`False`):\n",
      " |              Whether to stop the beam search when at least ``num_beams`` sentences are finished per batch or not.\n",
      " |          num_beams (:obj:`int`, `optional`, defaults to 1):\n",
      " |              Number of beams for beam search. 1 means no beam search.\n",
      " |          temperature (:obj:`float`, `optional`, defaults tp 1.0):\n",
      " |              The value used to module the next token probabilities.\n",
      " |          top_k (:obj:`int`, `optional`, defaults to 50):\n",
      " |              The number of highest probability vocabulary tokens to keep for top-k-filtering.\n",
      " |          top_p (:obj:`float`, `optional`, defaults to 1.0):\n",
      " |              If set to float < 1, only the most probable tokens with probabilities that add up to :obj:`top_p` or\n",
      " |              higher are kept for generation.\n",
      " |          repetition_penalty (:obj:`float`, `optional`, defaults to 1.0):\n",
      " |              The parameter for repetition penalty. 1.0 means no penalty. See `this paper\n",
      " |              <https://arxiv.org/pdf/1909.05858.pdf>`__ for more details.\n",
      " |          pad_token_id (:obj:`int`, `optional`):\n",
      " |              The id of the `padding` token.\n",
      " |          bos_token_id (:obj:`int`, `optional`):\n",
      " |              The id of the `beginning-of-sequence` token.\n",
      " |          eos_token_id (:obj:`int`, `optional`):\n",
      " |              The id of the `end-of-sequence` token.\n",
      " |          length_penalty (:obj:`float`, `optional`, defaults to 1.0):\n",
      " |              Exponential penalty to the length. 1.0 means no penalty. Set to values < 1.0 in order to encourage the\n",
      " |              model to generate shorter sequences, to a value > 1.0 in order to encourage the model to produce longer\n",
      " |              sequences.\n",
      " |          no_repeat_ngram_size (:obj:`int`, `optional`, defaults to 0):\n",
      " |              If set to int > 0, all ngrams of that size can only occur once.\n",
      " |          encoder_no_repeat_ngram_size (:obj:`int`, `optional`, defaults to 0):\n",
      " |              If set to int > 0, all ngrams of that size that occur in the ``encoder_input_ids`` cannot occur in the\n",
      " |              ``decoder_input_ids``.\n",
      " |          bad_words_ids(:obj:`List[List[int]]`, `optional`):\n",
      " |              List of token ids that are not allowed to be generated. In order to get the tokens of the words that\n",
      " |              should not appear in the generated text, use :obj:`tokenizer(bad_word,\n",
      " |              add_prefix_space=True).input_ids`.\n",
      " |          num_return_sequences(:obj:`int`, `optional`, defaults to 1):\n",
      " |              The number of independently computed returned sequences for each element in the batch.\n",
      " |          max_time(:obj:`float`, `optional`, defaults to None):\n",
      " |              The maximum amount of time you allow the computation to run for in seconds. generation will still\n",
      " |              finish the current pass after allocated time has been passed.\n",
      " |          attention_mask (:obj:`torch.LongTensor` of shape :obj:`(batch_size, sequence_length)`, `optional`):\n",
      " |              Mask to avoid performing attention on padding token indices. Mask values are in ``[0, 1]``, 1 for\n",
      " |              tokens that are not masked, and 0 for masked tokens. If not provided, will default to a tensor the same\n",
      " |              shape as :obj:`input_ids` that masks the pad token. `What are attention masks?\n",
      " |              <../glossary.html#attention-mask>`__\n",
      " |          decoder_start_token_id (:obj:`int`, `optional`):\n",
      " |              If an encoder-decoder model starts decoding with a different token than `bos`, the id of that token.\n",
      " |          use_cache: (:obj:`bool`, `optional`, defaults to :obj:`True`):\n",
      " |              Whether or not the model should use the past last key/values attentions (if applicable to the model) to\n",
      " |              speed up decoding.\n",
      " |          num_beam_groups (:obj:`int`, `optional`, defaults to 1):\n",
      " |              Number of groups to divide :obj:`num_beams` into in order to ensure diversity among different groups of\n",
      " |              beams. `this paper <https://arxiv.org/pdf/1610.02424.pdf>`__ for more details.\n",
      " |          diversity_penalty (:obj:`float`, `optional`, defaults to 0.0):\n",
      " |              This value is subtracted from a beam's score if it generates a token same as any beam from other group\n",
      " |              at a particular time. Note that :obj:`diversity_penalty` is only effective if ``group beam search`` is\n",
      " |              enabled.\n",
      " |          prefix_allowed_tokens_fn: (:obj:`Callable[[int, torch.Tensor], List[int]]`, `optional`):\n",
      " |              If provided, this function constraints the beam search to allowed tokens only at each step. If not\n",
      " |              provided no constraint is applied. This function takes 2 arguments :obj:`inputs_ids` and the batch ID\n",
      " |              :obj:`batch_id`. It has to return a list with the allowed tokens for the next generation step\n",
      " |              conditioned on the previously generated tokens :obj:`inputs_ids` and the batch ID :obj:`batch_id`. This\n",
      " |              argument is useful for constrained generation conditioned on the prefix, as described in\n",
      " |              `Autoregressive Entity Retrieval <https://arxiv.org/abs/2010.00904>`__.\n",
      " |          output_attentions (:obj:`bool`, `optional`, defaults to `False`):\n",
      " |              Whether or not to return the attentions tensors of all attention layers. See ``attentions`` under\n",
      " |              returned tensors for more details.\n",
      " |          output_hidden_states (:obj:`bool`, `optional`, defaults to `False`):\n",
      " |              Whether or not to return trhe hidden states of all layers. See ``hidden_states`` under returned tensors\n",
      " |              for more details.\n",
      " |          output_scores (:obj:`bool`, `optional`, defaults to `False`):\n",
      " |              Whether or not to return the prediction scores. See ``scores`` under returned tensors for more details.\n",
      " |          return_dict_in_generate (:obj:`bool`, `optional`, defaults to `False`):\n",
      " |              Whether or not to return a :class:`~transformers.file_utils.ModelOutput` instead of a plain tuple.\n",
      " |          forced_bos_token_id (:obj:`int`, `optional`):\n",
      " |              The id of the token to force as the first generated token after the :obj:`decoder_start_token_id`.\n",
      " |              Useful for multilingual models like :doc:`mBART <../model_doc/mbart>` where the first generated token\n",
      " |              needs to be the target language token.\n",
      " |          forced_eos_token_id (:obj:`int`, `optional`):\n",
      " |              The id of the token to force as the last generated token when :obj:`max_length` is reached.\n",
      " |      \n",
      " |          model_kwargs:\n",
      " |              Additional model specific kwargs will be forwarded to the :obj:`forward` function of the model. If the\n",
      " |              model is an encoder-decoder model, encoder specific kwargs should not be prefixed and decoder specific\n",
      " |              kwargs should be prefixed with `decoder_`.\n",
      " |      \n",
      " |      Return:\n",
      " |          :class:`~transformers.file_utils.ModelOutput` or :obj:`torch.LongTensor`: A\n",
      " |          :class:`~transformers.file_utils.ModelOutput` (if ``return_dict_in_generate=True`` or when\n",
      " |          ``config.return_dict_in_generate=True``) or a :obj:`torch.FloatTensor`.\n",
      " |      \n",
      " |              If the model is `not` an encoder-decoder model (``model.config.is_encoder_decoder=False``), the\n",
      " |              possible :class:`~transformers.file_utils.ModelOutput` types are:\n",
      " |      \n",
      " |                  - :class:`~transformers.generation_utils.GreedySearchDecoderOnlyOutput`,\n",
      " |                  - :class:`~transformers.generation_utils.SampleDecoderOnlyOutput`,\n",
      " |                  - :class:`~transformers.generation_utils.BeamSearchDecoderOnlyOutput`,\n",
      " |                  - :class:`~transformers.generation_utils.BeamSampleDecoderOnlyOutput`\n",
      " |      \n",
      " |              If the model is an encoder-decoder model (``model.config.is_encoder_decoder=True``), the possible\n",
      " |              :class:`~transformers.file_utils.ModelOutput` types are:\n",
      " |      \n",
      " |                  - :class:`~transformers.generation_utils.GreedySearchEncoderDecoderOutput`,\n",
      " |                  - :class:`~transformers.generation_utils.SampleEncoderDecoderOutput`,\n",
      " |                  - :class:`~transformers.generation_utils.BeamSearchEncoderDecoderOutput`,\n",
      " |                  - :class:`~transformers.generation_utils.BeamSampleEncoderDecoderOutput`\n",
      " |      \n",
      " |      Examples::\n",
      " |          >>> from transformers import AutoTokenizer, AutoModelForCausalLM, AutoModelForSeq2SeqLM\n",
      " |      \n",
      " |          >>> tokenizer = AutoTokenizer.from_pretrained(\"distilgpt2\")\n",
      " |          >>> model = AutoModelForCausalLM.from_pretrained(\"distilgpt2\")\n",
      " |          >>> # do greedy decoding without providing a prompt\n",
      " |          >>> outputs = model.generate(max_length=40)\n",
      " |          >>> print(\"Generated:\", tokenizer.decode(outputs[0], skip_special_tokens=True))\n",
      " |      \n",
      " |          >>> tokenizer = AutoTokenizer.from_pretrained(\"t5-base\")\n",
      " |          >>> model = AutoModelForSeq2SeqLM.from_pretrained(\"t5-base\")\n",
      " |          >>> document = (\n",
      " |          ... \"at least two people were killed in a suspected bomb attack on a passenger bus \"\n",
      " |          ... \"in the strife-torn southern philippines on monday , the military said.\"\n",
      " |          ... )\n",
      " |          >>> # encode input contex\n",
      " |          >>> input_ids = tokenizer(document, return_tensors=\"pt\").input_ids\n",
      " |          >>> # generate 3 independent sequences using beam search decoding (5 beams)\n",
      " |          >>> # with T5 encoder-decoder model conditioned on short news article.\n",
      " |          >>> outputs = model.generate(input_ids=input_ids, num_beams=5, num_return_sequences=3)\n",
      " |          >>> print(\"Generated:\", tokenizer.batch_decode(outputs, skip_special_tokens=True))\n",
      " |      \n",
      " |          >>> tokenizer = AutoTokenizer.from_pretrained(\"distilgpt2\")\n",
      " |          >>> model = AutoModelForCausalLM.from_pretrained(\"distilgpt2\")\n",
      " |          >>> input_context = \"The dog\"\n",
      " |          >>> # encode input context\n",
      " |          >>> input_ids = tokenizer(input_context, return_tensors=\"pt\").input_ids\n",
      " |          >>> # generate 3 candidates using sampling\n",
      " |          >>> outputs = model.generate(input_ids=input_ids, max_length=20, num_return_sequences=3, do_sample=True)\n",
      " |          >>> print(\"Generated:\", tokenizer.batch_decode(outputs, skip_special_tokens=True))\n",
      " |      \n",
      " |          >>> tokenizer = AutoTokenizer.from_pretrained(\"ctrl\")\n",
      " |          >>> model = AutoModelForCausalLM.from_pretrained(\"ctrl\")\n",
      " |          >>> # \"Legal\" is one of the control codes for ctrl\n",
      " |          >>> input_context = \"Legal My neighbor is\"\n",
      " |          >>> # encode input context\n",
      " |          >>> input_ids = tokenizer(input_context, return_tensors=\"pt\").input_ids\n",
      " |          >>> outputs = model.generate(input_ids=input_ids, max_length=20, repetition_penalty=1.2)\n",
      " |          >>> print(\"Generated:\", tokenizer.decode(outputs[0], skip_special_tokens=True))\n",
      " |      \n",
      " |          >>> tokenizer = AutoTokenizer.from_pretrained(\"gpt2\")\n",
      " |          >>> model = AutoModelForCausalLM.from_pretrained(\"gpt2\")\n",
      " |          >>> input_context = \"My cute dog\"\n",
      " |          >>> # get tokens of words that should not be generated\n",
      " |          >>> bad_words_ids = [tokenizer(bad_word, add_prefix_space=True).input_ids for bad_word in [\"idiot\", \"stupid\", \"shut up\"]]\n",
      " |          >>> # encode input context\n",
      " |          >>> input_ids = tokenizer(input_context, return_tensors=\"pt\").input_ids\n",
      " |          >>> # generate sequences without allowing bad_words to be generated\n",
      " |          >>> outputs = model.generate(input_ids=input_ids, max_length=20, do_sample=True, bad_words_ids=bad_words_ids)\n",
      " |          >>> print(\"Generated:\", tokenizer.decode(outputs[0], skip_special_tokens=True))\n",
      " |  \n",
      " |  greedy_search(self, input_ids: torch.LongTensor, logits_processor: Union[transformers.generation_logits_process.LogitsProcessorList, NoneType] = None, stopping_criteria: Union[transformers.generation_stopping_criteria.StoppingCriteriaList, NoneType] = None, max_length: Union[int, NoneType] = None, pad_token_id: Union[int, NoneType] = None, eos_token_id: Union[int, NoneType] = None, output_attentions: Union[bool, NoneType] = None, output_hidden_states: Union[bool, NoneType] = None, output_scores: Union[bool, NoneType] = None, return_dict_in_generate: Union[bool, NoneType] = None, **model_kwargs) -> Union[transformers.generation_utils.GreedySearchEncoderDecoderOutput, transformers.generation_utils.GreedySearchDecoderOnlyOutput, torch.LongTensor]\n",
      " |      Generates sequences for models with a language modeling head using greedy decoding.\n",
      " |      \n",
      " |      \n",
      " |      \n",
      " |      Parameters:\n",
      " |      \n",
      " |          input_ids (:obj:`torch.LongTensor` of shape :obj:`(batch_size, sequence_length)`, `optional`):\n",
      " |              The sequence used as a prompt for the generation. If :obj:`None` the method initializes it as an empty\n",
      " |              :obj:`torch.LongTensor` of shape :obj:`(1,)`.\n",
      " |          logits_processor (:obj:`LogitsProcessorList`, `optional`):\n",
      " |              An instance of :class:`~transformers.LogitsProcessorList`. List of instances of class derived from\n",
      " |              :class:`~transformers.LogitsProcessor` used to modify the prediction scores of the language modeling\n",
      " |              head applied at each generation step.\n",
      " |          stopping_criteria (:obj:`StoppingCriteriaList`, `optional`):\n",
      " |              An instance of :class:`~transformers.StoppingCriteriaList`. List of instances of class derived from\n",
      " |              :class:`~transformers.StoppingCriteria` used to tell if the generation loop should stop.\n",
      " |          max_length (:obj:`int`, `optional`, defaults to 20):\n",
      " |              The maximum length of the sequence to be generated.\n",
      " |          pad_token_id (:obj:`int`, `optional`):\n",
      " |              The id of the `padding` token.\n",
      " |          eos_token_id (:obj:`int`, `optional`):\n",
      " |              The id of the `end-of-sequence` token.\n",
      " |          output_attentions (:obj:`bool`, `optional`, defaults to `False`):\n",
      " |              Whether or not to return the attentions tensors of all attention layers. See ``attentions`` under\n",
      " |              returned tensors for more details.\n",
      " |          output_hidden_states (:obj:`bool`, `optional`, defaults to `False`):\n",
      " |              Whether or not to return trhe hidden states of all layers. See ``hidden_states`` under returned tensors\n",
      " |              for more details.\n",
      " |          output_scores (:obj:`bool`, `optional`, defaults to `False`):\n",
      " |              Whether or not to return the prediction scores. See ``scores`` under returned tensors for more details.\n",
      " |          return_dict_in_generate (:obj:`bool`, `optional`, defaults to `False`):\n",
      " |              Whether or not to return a :class:`~transformers.file_utils.ModelOutput` instead of a plain tuple.\n",
      " |          model_kwargs:\n",
      " |              Additional model specific keyword arguments will be forwarded to the :obj:`forward` function of the\n",
      " |              model. If model is an encoder-decoder model the kwargs should include :obj:`encoder_outputs`.\n",
      " |      \n",
      " |      Return:\n",
      " |          :class:`~transformers.generation_utils.GreedySearchDecoderOnlyOutput`,\n",
      " |          :class:`~transformers.generation_utils.GreedySearchEncoderDecoderOutput` or obj:`torch.LongTensor`: A\n",
      " |          :obj:`torch.LongTensor` containing the generated tokens (default behaviour) or a\n",
      " |          :class:`~transformers.generation_utils.GreedySearchDecoderOnlyOutput` if\n",
      " |          ``model.config.is_encoder_decoder=False`` and ``return_dict_in_generate=True`` or a\n",
      " |          :class:`~transformers.generation_utils.GreedySearchEncoderDecoderOutput` if\n",
      " |          ``model.config.is_encoder_decoder=True``.\n",
      " |      \n",
      " |      Examples::\n",
      " |      \n",
      " |          >>> from transformers import (\n",
      " |          ... AutoTokenizer,\n",
      " |          ... AutoModelForCausalLM,\n",
      " |          ... LogitsProcessorList,\n",
      " |          ... MinLengthLogitsProcessor,\n",
      " |          ... )\n",
      " |      \n",
      " |          >>> tokenizer = AutoTokenizer.from_pretrained(\"gpt2\")\n",
      " |          >>> model = AutoModelForCausalLM.from_pretrained(\"gpt2\")\n",
      " |      \n",
      " |          >>> # set pad_token_id to eos_token_id because GPT2 does not have a EOS token\n",
      " |          >>> model.config.pad_token_id = model.config.eos_token_id\n",
      " |      \n",
      " |          >>> input_prompt = \"Today is a beautiful day, and\"\n",
      " |          >>> input_ids = tokenizer(input_prompt, return_tensors=\"pt\").input_ids\n",
      " |      \n",
      " |          >>> # instantiate logits processors\n",
      " |          >>> logits_processor = LogitsProcessorList([\n",
      " |          ...     MinLengthLogitsProcessor(15, eos_token_id=model.config.eos_token_id),\n",
      " |          ... ])\n",
      " |      \n",
      " |          >>> outputs = model.greedy_search(input_ids, logits_processor=logits_processor)\n",
      " |      \n",
      " |          >>> print(\"Generated:\", tokenizer.batch_decode(outputs, skip_special_tokens=True))\n",
      " |  \n",
      " |  group_beam_search(self, input_ids: torch.LongTensor, beam_scorer: transformers.generation_beam_search.BeamScorer, logits_processor: Union[transformers.generation_logits_process.LogitsProcessorList, NoneType] = None, stopping_criteria: Union[transformers.generation_stopping_criteria.StoppingCriteriaList, NoneType] = None, max_length: Union[int, NoneType] = None, pad_token_id: Union[int, NoneType] = None, eos_token_id: Union[int, NoneType] = None, output_attentions: Union[bool, NoneType] = None, output_hidden_states: Union[bool, NoneType] = None, output_scores: Union[bool, NoneType] = None, return_dict_in_generate: Union[bool, NoneType] = None, **model_kwargs)\n",
      " |      Generates sequences for models with a language modeling head using beam search decoding.\n",
      " |      \n",
      " |      Parameters:\n",
      " |      \n",
      " |          input_ids (:obj:`torch.LongTensor` of shape :obj:`(batch_size, sequence_length)`, `optional`):\n",
      " |              The sequence used as a prompt for the generation. If :obj:`None` the method initializes it as an empty\n",
      " |              :obj:`torch.LongTensor` of shape :obj:`(1,)`.\n",
      " |          beam_scorer (:obj:`BeamScorer`):\n",
      " |              An derived instance of :class:`~transformers.BeamScorer` that defines how beam hypotheses are\n",
      " |              constructed, stored and sorted during generation. For more information, the documentation of\n",
      " |              :class:`~transformers.BeamScorer` should be read.\n",
      " |          logits_processor (:obj:`LogitsProcessorList`, `optional`):\n",
      " |              An instance of :class:`~transformers.LogitsProcessorList`. List of instances of class derived from\n",
      " |              :class:`~transformers.LogitsProcessor` used to modify the prediction scores of the language modeling\n",
      " |              head applied at each generation step.\n",
      " |          stopping_criteria (:obj:`StoppingCriteriaList`, `optional`):\n",
      " |              An instance of :class:`~transformers.StoppingCriteriaList`. List of instances of class derived from\n",
      " |              :class:`~transformers.StoppingCriteria` used to tell if the generation loop should stop.\n",
      " |          max_length (:obj:`int`, `optional`, defaults to 20):\n",
      " |              The maximum length of the sequence to be generated.\n",
      " |          pad_token_id (:obj:`int`, `optional`):\n",
      " |              The id of the `padding` token.\n",
      " |          eos_token_id (:obj:`int`, `optional`):\n",
      " |              The id of the `end-of-sequence` token.\n",
      " |          output_attentions (:obj:`bool`, `optional`, defaults to `False`):\n",
      " |              Whether or not to return the attentions tensors of all attention layers. See ``attentions`` under\n",
      " |              returned tensors for more details.\n",
      " |          output_hidden_states (:obj:`bool`, `optional`, defaults to `False`):\n",
      " |              Whether or not to return trhe hidden states of all layers. See ``hidden_states`` under returned tensors\n",
      " |              for more details.\n",
      " |          output_scores (:obj:`bool`, `optional`, defaults to `False`):\n",
      " |              Whether or not to return the prediction scores. See ``scores`` under returned tensors for more details.\n",
      " |          return_dict_in_generate (:obj:`bool`, `optional`, defaults to `False`):\n",
      " |              Whether or not to return a :class:`~transformers.file_utils.ModelOutput` instead of a plain tuple.\n",
      " |          model_kwargs:\n",
      " |              Additional model specific kwargs that will be forwarded to the :obj:`forward` function of the model. If\n",
      " |              model is an encoder-decoder model the kwargs should include :obj:`encoder_outputs`.\n",
      " |      \n",
      " |      Return:\n",
      " |          :class:`~transformers.generation_utils.BeamSearchDecoderOnlyOutput`,\n",
      " |          :class:`~transformers.generation_utils.BeamSearchEncoderDecoderOutput` or obj:`torch.LongTensor`: A\n",
      " |          :obj:`torch.LongTensor` containing the generated tokens (default behaviour) or a\n",
      " |          :class:`~transformers.generation_utils.BeamSearchDecoderOnlyOutput` if\n",
      " |          :class:`~transformers.generation_utils.BeamSearchDecoderOnlyOutput` if\n",
      " |          ``model.config.is_encoder_decoder=False`` and ``return_dict_in_generate=True`` or a\n",
      " |          :class:`~transformers.generation_utils.BeamSearchEncoderDecoderOutput` if\n",
      " |          ``model.config.is_encoder_decoder=True``.\n",
      " |      \n",
      " |      Examples::\n",
      " |      \n",
      " |          >>> from transformers import (\n",
      " |          ...    AutoTokenizer,\n",
      " |          ...    AutoModelForSeq2SeqLM,\n",
      " |          ...    LogitsProcessorList,\n",
      " |          ...    MinLengthLogitsProcessor,\n",
      " |          ...    HammingDiversityLogitsProcessor,\n",
      " |          ...    BeamSearchScorer,\n",
      " |          ... )\n",
      " |          >>> import torch\n",
      " |      \n",
      " |          >>> tokenizer = AutoTokenizer.from_pretrained(\"t5-base\")\n",
      " |          >>> model = AutoModelForSeq2SeqLM.from_pretrained(\"t5-base\")\n",
      " |      \n",
      " |          >>> encoder_input_str = \"translate English to German: How old are you?\"\n",
      " |          >>> encoder_input_ids = tokenizer(encoder_input_str, return_tensors=\"pt\").input_ids\n",
      " |      \n",
      " |      \n",
      " |          >>> # lets run diverse beam search using 6 beams\n",
      " |          >>> num_beams = 6\n",
      " |          >>> # define decoder start token ids\n",
      " |          >>> input_ids = torch.ones((num_beams, 1), device=model.device, dtype=torch.long)\n",
      " |          >>> input_ids = input_ids * model.config.decoder_start_token_id\n",
      " |      \n",
      " |          >>> # add encoder_outputs to model keyword arguments\n",
      " |          >>> model_kwargs = {\n",
      " |          ...     \"encoder_outputs\": model.get_encoder()(encoder_input_ids.repeat_interleave(num_beams, dim=0), return_dict=True)\n",
      " |          ... }\n",
      " |      \n",
      " |          >>> # instantiate beam scorer\n",
      " |          >>> beam_scorer = BeamSearchScorer(\n",
      " |          ...     batch_size=1,\n",
      " |          ...     max_length=model.config.max_length,\n",
      " |          ...     num_beams=num_beams,\n",
      " |          ...     device=model.device,\n",
      " |          ...     num_beam_groups=3\n",
      " |          ... )\n",
      " |      \n",
      " |          >>> # instantiate logits processors\n",
      " |          >>> logits_processor = LogitsProcessorList([\n",
      " |          ...     HammingDiversityLogitsProcessor(5.5, num_beams=6, num_beam_groups=3),\n",
      " |          ...     MinLengthLogitsProcessor(5, eos_token_id=model.config.eos_token_id),\n",
      " |          ... ])\n",
      " |      \n",
      " |          >>> outputs = model.group_beam_search(input_ids, beam_scorer, logits_processor=logits_processor, **model_kwargs)\n",
      " |      \n",
      " |          >>> print(\"Generated:\", tokenizer.batch_decode(outputs, skip_special_tokens=True))\n",
      " |  \n",
      " |  prepare_inputs_for_generation(self, input_ids: torch.LongTensor, **kwargs) -> Dict[str, Any]\n",
      " |      Implement in subclasses of :class:`~transformers.PreTrainedModel` for custom behavior to prepare inputs in the\n",
      " |      generate method.\n",
      " |  \n",
      " |  sample(self, input_ids: torch.LongTensor, logits_processor: Union[transformers.generation_logits_process.LogitsProcessorList, NoneType] = None, stopping_criteria: Union[transformers.generation_stopping_criteria.StoppingCriteriaList, NoneType] = None, logits_warper: Union[transformers.generation_logits_process.LogitsProcessorList, NoneType] = None, max_length: Union[int, NoneType] = None, pad_token_id: Union[int, NoneType] = None, eos_token_id: Union[int, NoneType] = None, output_attentions: Union[bool, NoneType] = None, output_hidden_states: Union[bool, NoneType] = None, output_scores: Union[bool, NoneType] = None, return_dict_in_generate: Union[bool, NoneType] = None, **model_kwargs) -> Union[transformers.generation_utils.SampleEncoderDecoderOutput, transformers.generation_utils.SampleDecoderOnlyOutput, torch.LongTensor]\n",
      " |      Generates sequences for models with a language modeling head using multinomial sampling.\n",
      " |      \n",
      " |      Parameters:\n",
      " |      \n",
      " |          input_ids (:obj:`torch.LongTensor` of shape :obj:`(batch_size, sequence_length)`, `optional`):\n",
      " |              The sequence used as a prompt for the generation. If :obj:`None` the method initializes it as an empty\n",
      " |              :obj:`torch.LongTensor` of shape :obj:`(1,)`.\n",
      " |          logits_processor (:obj:`LogitsProcessorList`, `optional`):\n",
      " |              An instance of :class:`~transformers.LogitsProcessorList`. List of instances of class derived from\n",
      " |              :class:`~transformers.LogitsProcessor` used to modify the prediction scores of the language modeling\n",
      " |              head applied at each generation step.\n",
      " |          stopping_criteria (:obj:`StoppingCriteriaList`, `optional`):\n",
      " |              An instance of :class:`~transformers.StoppingCriteriaList`. List of instances of class derived from\n",
      " |              :class:`~transformers.StoppingCriteria` used to tell if the generation loop should stop.\n",
      " |          logits_warper (:obj:`LogitsProcessorList`, `optional`):\n",
      " |              An instance of :class:`~transformers.LogitsProcessorList`. List of instances of class derived from\n",
      " |              :class:`~transformers.LogitsWarper` used to warp the prediction score distribution of the language\n",
      " |              modeling head applied before multinomial sampling at each generation step.\n",
      " |          max_length (:obj:`int`, `optional`, defaults to 20):\n",
      " |              The maximum length of the sequence to be generated.\n",
      " |          pad_token_id (:obj:`int`, `optional`):\n",
      " |              The id of the `padding` token.\n",
      " |          eos_token_id (:obj:`int`, `optional`):\n",
      " |              The id of the `end-of-sequence` token.\n",
      " |          output_attentions (:obj:`bool`, `optional`, defaults to `False`):\n",
      " |              Whether or not to return the attentions tensors of all attention layers. See ``attentions`` under\n",
      " |              returned tensors for more details.\n",
      " |          output_hidden_states (:obj:`bool`, `optional`, defaults to `False`):\n",
      " |              Whether or not to return trhe hidden states of all layers. See ``hidden_states`` under returned tensors\n",
      " |              for more details.\n",
      " |          output_scores (:obj:`bool`, `optional`, defaults to `False`):\n",
      " |              Whether or not to return the prediction scores. See ``scores`` under returned tensors for more details.\n",
      " |          return_dict_in_generate (:obj:`bool`, `optional`, defaults to `False`):\n",
      " |              Whether or not to return a :class:`~transformers.file_utils.ModelOutput` instead of a plain tuple.\n",
      " |          model_kwargs:\n",
      " |              Additional model specific kwargs will be forwarded to the :obj:`forward` function of the model. If\n",
      " |              model is an encoder-decoder model the kwargs should include :obj:`encoder_outputs`.\n",
      " |      \n",
      " |      Return:\n",
      " |          :class:`~transformers.generation_utils.SampleDecoderOnlyOutput`,\n",
      " |          :class:`~transformers.generation_utils.SampleEncoderDecoderOutput` or obj:`torch.LongTensor`: A\n",
      " |          :obj:`torch.LongTensor` containing the generated tokens (default behaviour) or a\n",
      " |          :class:`~transformers.generation_utils.SampleDecoderOnlyOutput` if\n",
      " |          ``model.config.is_encoder_decoder=False`` and ``return_dict_in_generate=True`` or a\n",
      " |          :class:`~transformers.generation_utils.SampleEncoderDecoderOutput` if\n",
      " |          ``model.config.is_encoder_decoder=True``.\n",
      " |      \n",
      " |      Examples::\n",
      " |      \n",
      " |          >>> from transformers import (\n",
      " |          ...    AutoTokenizer,\n",
      " |          ...    AutoModelForCausalLM,\n",
      " |          ...    LogitsProcessorList,\n",
      " |          ...    MinLengthLogitsProcessor,\n",
      " |          ...    TopKLogitsWarper,\n",
      " |          ...    TemperatureLogitsWarper,\n",
      " |          ... )\n",
      " |      \n",
      " |          >>> tokenizer = AutoTokenizer.from_pretrained(\"gpt2\")\n",
      " |          >>> model = AutoModelForCausalLM.from_pretrained(\"gpt2\")\n",
      " |      \n",
      " |          >>> # set pad_token_id to eos_token_id because GPT2 does not have a EOS token\n",
      " |          >>> model.config.pad_token_id = model.config.eos_token_id\n",
      " |      \n",
      " |          >>> input_prompt = \"Today is a beautiful day, and\"\n",
      " |          >>> input_ids = tokenizer(input_prompt, return_tensors=\"pt\").input_ids\n",
      " |      \n",
      " |          >>> # instantiate logits processors\n",
      " |          >>> logits_processor = LogitsProcessorList([\n",
      " |          ...     MinLengthLogitsProcessor(15, eos_token_id=model.config.eos_token_id),\n",
      " |          ... ])\n",
      " |          >>> # instantiate logits processors\n",
      " |          >>> logits_warper = LogitsProcessorList([\n",
      " |          ...     TopKLogitsWarper(50),\n",
      " |          ...     TemperatureLogitsWarper(0.7),\n",
      " |          ... ])\n",
      " |      \n",
      " |          >>> outputs = model.sample(input_ids, logits_processor=logits_processor, logits_warper=logits_warper)\n",
      " |      \n",
      " |          >>> print(\"Generated:\", tokenizer.batch_decode(outputs, skip_special_tokens=True))\n",
      "\n"
     ]
    }
   ],
   "source": [
    "help(Wav2Vec2ForCTC)"
   ]
  },
  {
   "cell_type": "markdown",
   "id": "a2c0250a",
   "metadata": {},
   "source": [
    "# Define utility functions for training"
   ]
  },
  {
   "cell_type": "code",
   "execution_count": 9,
   "id": "d81c21c9",
   "metadata": {},
   "outputs": [],
   "source": [
    "from datasets import load_metric\n",
    "from tqdm.notebook import tqdm\n",
    "\n",
    "\n",
    "def decode_output(logits):\n",
    "    pred_ids = torch.argmax(logits, dim=-1)\n",
    "    pred = processor.batch_decode(pred_ids)\n",
    "    return pred[0]\n",
    "\n",
    "@torch.no_grad()\n",
    "def evaluation_func(model, dataloader, ref_sentences ,use_amp, device=\"cuda\"):\n",
    "    \"\"\"\n",
    "    return tuple (loss, wer)\n",
    "    \"\"\"\n",
    "    wer = load_metric(\"wer\")\n",
    "    \n",
    "    model.eval()\n",
    "    preds_amp = []\n",
    "    preds = []\n",
    "    losses_amp = []\n",
    "    losses = []\n",
    "        \n",
    "    for batch in tqdm(dataloader):\n",
    "        inputs, masks, labels = batch\n",
    "        \n",
    "        output = model(inputs.to(device), masks.to(device), labels = labels.to(device))\n",
    "        loss = output.loss.item()\n",
    "        \n",
    "        with torch.cuda.amp.autocast(enabled=use_amp):\n",
    "            output_amp = model(inputs.to(device), masks.to(device), labels = labels.to(device))\n",
    "            loss_amp = output_amp.loss.item()\n",
    "            \n",
    "        losses.append(loss)\n",
    "        losses_amp.append(loss_amp)\n",
    "        \n",
    "        logits_amp = output_amp.logits\n",
    "        logits = output.logits\n",
    "        \n",
    "        pred = decode_output(logits)\n",
    "        pred_amp = decode_output(logits_amp)\n",
    "        \n",
    "        preds.append(pred)\n",
    "        preds_amp.append(pred_amp)\n",
    "        \n",
    "    return sum(losses)/len(losses), sum(losses_amp)/len(losses_amp),wer.compute(predictions=preds, references=ref_sentences) ,wer.compute(predictions=preds_amp, references=ref_sentences) \n",
    "    \n",
    "def checkpoint_func(model, save_dir):\n",
    "    model.save_pretrained(save_directory=save_dir)\n",
    "    return\n",
    "\n",
    "\n",
    "#evaluation_func(model, testloader, testset.data.sentence)\n",
    "#checkpoint_func(model, \"testi/\")"
   ]
  },
  {
   "cell_type": "markdown",
   "id": "5e5f9fd1",
   "metadata": {},
   "source": [
    "# set up parameters and training loop\n",
    "- losses, step_size and WER logged into tensorboard\n",
    "- note WER evaluation wer is obtained without language model\n",
    "- one epoch takes considerably less than tqdm estimates at first because samples are sorted from longest to shortest"
   ]
  },
  {
   "cell_type": "code",
   "execution_count": 12,
   "id": "1029bc97",
   "metadata": {},
   "outputs": [
    {
     "name": "stdout",
     "output_type": "stream",
     "text": [
      "starting training loop\n",
      "starting epoch: 1\n"
     ]
    },
    {
     "data": {
      "application/vnd.jupyter.widget-view+json": {
       "model_id": "80dc54ebdb50400cb6ea0336b1e12057",
       "version_major": 2,
       "version_minor": 0
      },
      "text/plain": [
       "HBox(children=(FloatProgress(value=0.0, max=3980.0), HTML(value='')))"
      ]
     },
     "metadata": {},
     "output_type": "display_data"
    },
    {
     "name": "stdout",
     "output_type": "stream",
     "text": [
      "5.858843803405762\n",
      "7.797380447387695\n",
      "7.684926986694336\n",
      "5.518434047698975\n",
      "3.99419903755188\n",
      "6.219414710998535\n",
      "3.1812806129455566\n",
      "2.941330909729004\n",
      "2.9052228927612305\n",
      "2.807572364807129\n",
      "2.8129589557647705\n",
      "2.8369622230529785\n",
      "2.8283865451812744\n",
      "2.72320556640625\n"
     ]
    },
    {
     "data": {
      "application/vnd.jupyter.widget-view+json": {
       "model_id": "1840e1797502449cbad6549556d644e3",
       "version_major": 2,
       "version_minor": 0
      },
      "text/plain": [
       "HBox(children=(FloatProgress(value=0.0, max=428.0), HTML(value='')))"
      ]
     },
     "metadata": {},
     "output_type": "display_data"
    },
    {
     "name": "stdout",
     "output_type": "stream",
     "text": [
      "\n",
      "2.839996576309204\n",
      "2.8279201984405518\n",
      "2.6942644119262695\n",
      "2.8068947792053223\n",
      "2.7283594608306885\n",
      "2.812673568725586\n",
      "2.7107510566711426\n",
      "2.85324764251709\n",
      "2.745150566101074\n",
      "2.849102020263672\n",
      "2.8087666034698486\n",
      "2.729599952697754\n",
      "2.8416390419006348\n"
     ]
    },
    {
     "data": {
      "application/vnd.jupyter.widget-view+json": {
       "model_id": "a96df2114e9346089044745915394e54",
       "version_major": 2,
       "version_minor": 0
      },
      "text/plain": [
       "HBox(children=(FloatProgress(value=0.0, max=428.0), HTML(value='')))"
      ]
     },
     "metadata": {},
     "output_type": "display_data"
    },
    {
     "name": "stdout",
     "output_type": "stream",
     "text": [
      "\n",
      "2.756880521774292\n",
      "2.6971254348754883\n",
      "2.878608226776123\n",
      "2.8405351638793945\n",
      "2.6057515144348145\n",
      "2.7973480224609375\n",
      "2.7345035076141357\n",
      "2.462458610534668\n",
      "2.3366775512695312\n",
      "2.442535161972046\n",
      "2.3021788597106934\n",
      "1.9663691520690918\n",
      "1.9234588146209717\n"
     ]
    },
    {
     "data": {
      "application/vnd.jupyter.widget-view+json": {
       "model_id": "75cd05768a014ffe8fe9c7923711bc34",
       "version_major": 2,
       "version_minor": 0
      },
      "text/plain": [
       "HBox(children=(FloatProgress(value=0.0, max=428.0), HTML(value='')))"
      ]
     },
     "metadata": {},
     "output_type": "display_data"
    },
    {
     "name": "stdout",
     "output_type": "stream",
     "text": [
      "\n",
      "1.6248788833618164\n",
      "1.1326515674591064\n",
      "0.8620301485061646\n",
      "0.8041617274284363\n",
      "0.7578226327896118\n",
      "1.3452996015548706\n",
      "0.44853538274765015\n",
      "0.7520885467529297\n",
      "0.5265997648239136\n",
      "0.4469468593597412\n",
      "1.4729619026184082\n",
      "0.26274579763412476\n",
      "0.8705237507820129\n",
      "0.4823071360588074\n"
     ]
    },
    {
     "data": {
      "application/vnd.jupyter.widget-view+json": {
       "model_id": "f8a9c603e5534ca4b07204a2815354fe",
       "version_major": 2,
       "version_minor": 0
      },
      "text/plain": [
       "HBox(children=(FloatProgress(value=0.0, max=428.0), HTML(value='')))"
      ]
     },
     "metadata": {},
     "output_type": "display_data"
    },
    {
     "name": "stdout",
     "output_type": "stream",
     "text": [
      "\n",
      "0.37300631403923035\n",
      "0.33751505613327026\n",
      "0.5621663928031921\n",
      "0.3844975531101227\n",
      "0.26316505670547485\n",
      "0.5790499448776245\n",
      "0.38351261615753174\n",
      "0.48735225200653076\n",
      "0.5135809183120728\n",
      "0.06608554720878601\n",
      "0.7848414182662964\n",
      "0.42876696586608887\n",
      "0.2893849313259125\n"
     ]
    },
    {
     "data": {
      "application/vnd.jupyter.widget-view+json": {
       "model_id": "6877001a0c9e4dfab680ccb4d452a2ca",
       "version_major": 2,
       "version_minor": 0
      },
      "text/plain": [
       "HBox(children=(FloatProgress(value=0.0, max=428.0), HTML(value='')))"
      ]
     },
     "metadata": {},
     "output_type": "display_data"
    },
    {
     "name": "stdout",
     "output_type": "stream",
     "text": [
      "\n",
      "0.28311702609062195\n",
      "0.32164469361305237\n",
      "0.8614224195480347\n",
      "0.5570911169052124\n",
      "0.1970493197441101\n",
      "0.11819645017385483\n",
      "0.22873561084270477\n",
      "0.10539290308952332\n",
      "0.088357113301754\n",
      "0.3873504400253296\n",
      "1.079738736152649\n",
      "0.5117307901382446\n",
      "0.16830945014953613\n"
     ]
    },
    {
     "data": {
      "application/vnd.jupyter.widget-view+json": {
       "model_id": "61195bfbfa874e2a8e716f97606f986d",
       "version_major": 2,
       "version_minor": 0
      },
      "text/plain": [
       "HBox(children=(FloatProgress(value=0.0, max=428.0), HTML(value='')))"
      ]
     },
     "metadata": {},
     "output_type": "display_data"
    },
    {
     "name": "stdout",
     "output_type": "stream",
     "text": [
      "\n",
      "0.2976078987121582\n",
      "-0.005096446722745895\n",
      "1.0851731300354004\n",
      "0.22593514621257782\n",
      "0.26899614930152893\n",
      "0.35911881923675537\n",
      "0.5063778758049011\n",
      "0.25335928797721863\n",
      "0.3625792860984802\n",
      "0.1751619577407837\n",
      "0.35948511958122253\n",
      "0.2508024275302887\n",
      "0.17701733112335205\n",
      "0.3362533450126648\n"
     ]
    },
    {
     "data": {
      "application/vnd.jupyter.widget-view+json": {
       "model_id": "33cb4c7172394bffa0331fe7e6c0894d",
       "version_major": 2,
       "version_minor": 0
      },
      "text/plain": [
       "HBox(children=(FloatProgress(value=0.0, max=428.0), HTML(value='')))"
      ]
     },
     "metadata": {},
     "output_type": "display_data"
    },
    {
     "name": "stdout",
     "output_type": "stream",
     "text": [
      "\n",
      "0.033439185470342636\n",
      "0.5304275751113892\n",
      "0.04406324401497841\n",
      "0.03019705042243004\n",
      "0.19741946458816528\n",
      "0.19534969329833984\n",
      "0.2490214705467224\n",
      "0.06075934320688248\n",
      "0.34747496247291565\n",
      "0.3229009509086609\n",
      "0.31580156087875366\n",
      "0.286812961101532\n",
      "0.09938842803239822\n"
     ]
    },
    {
     "data": {
      "application/vnd.jupyter.widget-view+json": {
       "model_id": "39704ab6132e438db383994c6d823736",
       "version_major": 2,
       "version_minor": 0
      },
      "text/plain": [
       "HBox(children=(FloatProgress(value=0.0, max=428.0), HTML(value='')))"
      ]
     },
     "metadata": {},
     "output_type": "display_data"
    },
    {
     "name": "stdout",
     "output_type": "stream",
     "text": [
      "\n",
      "0.6139000654220581\n",
      "0.6785433292388916\n",
      "0.017092019319534302\n",
      "0.16681799292564392\n",
      "0.08154319226741791\n",
      "0.4741624593734741\n",
      "0.02652619406580925\n",
      "0.2436477541923523\n",
      "0.49128562211990356\n",
      "0.3840036392211914\n",
      "0.13823625445365906\n",
      "0.042942121624946594\n",
      "0.08984225988388062\n"
     ]
    },
    {
     "data": {
      "application/vnd.jupyter.widget-view+json": {
       "model_id": "3f2a2f593d1f49af999e6c65052a48aa",
       "version_major": 2,
       "version_minor": 0
      },
      "text/plain": [
       "HBox(children=(FloatProgress(value=0.0, max=428.0), HTML(value='')))"
      ]
     },
     "metadata": {},
     "output_type": "display_data"
    },
    {
     "name": "stdout",
     "output_type": "stream",
     "text": [
      "\n",
      "0.17854489386081696\n",
      "0.14755050837993622\n",
      "-0.04437124729156494\n",
      "-0.1936655193567276\n",
      "0.3277369737625122\n",
      "0.09485995769500732\n",
      "0.22184817492961884\n",
      "-0.22911027073860168\n",
      "0.9604953527450562\n",
      "-0.08953160047531128\n",
      "-0.026035301387310028\n",
      "0.5252953767776489\n",
      "-0.7556685209274292\n",
      "\n",
      "starting epoch: 2\n"
     ]
    },
    {
     "data": {
      "application/vnd.jupyter.widget-view+json": {
       "model_id": "9cad34fefa604f4f8c23d47127878efa",
       "version_major": 2,
       "version_minor": 0
      },
      "text/plain": [
       "HBox(children=(FloatProgress(value=0.0, max=3980.0), HTML(value='')))"
      ]
     },
     "metadata": {},
     "output_type": "display_data"
    },
    {
     "name": "stdout",
     "output_type": "stream",
     "text": [
      "4.463578701019287\n",
      "0.7974756956100464\n",
      "0.5785737633705139\n",
      "0.7949084043502808\n",
      "0.5513147711753845\n",
      "0.48526066541671753\n",
      "0.6007698178291321\n",
      "0.395844429731369\n",
      "0.4300820827484131\n",
      "0.3652011752128601\n",
      "0.3906536102294922\n",
      "0.3047419488430023\n",
      "0.4296000599861145\n",
      "0.3328893184661865\n"
     ]
    },
    {
     "data": {
      "application/vnd.jupyter.widget-view+json": {
       "model_id": "8625511feae54a9b862e6a8298848384",
       "version_major": 2,
       "version_minor": 0
      },
      "text/plain": [
       "HBox(children=(FloatProgress(value=0.0, max=428.0), HTML(value='')))"
      ]
     },
     "metadata": {},
     "output_type": "display_data"
    },
    {
     "name": "stdout",
     "output_type": "stream",
     "text": [
      "\n",
      "0.4379192590713501\n",
      "0.6960424184799194\n",
      "0.337399959564209\n",
      "0.635111927986145\n",
      "0.4752110242843628\n",
      "0.3220958709716797\n",
      "0.7231906652450562\n",
      "0.3484245538711548\n",
      "0.5417481064796448\n",
      "0.734129011631012\n",
      "0.4156854748725891\n",
      "0.7457730770111084\n",
      "0.28085434436798096\n"
     ]
    },
    {
     "data": {
      "application/vnd.jupyter.widget-view+json": {
       "model_id": "35318a60827c4772b8b07ae8523705f2",
       "version_major": 2,
       "version_minor": 0
      },
      "text/plain": [
       "HBox(children=(FloatProgress(value=0.0, max=428.0), HTML(value='')))"
      ]
     },
     "metadata": {},
     "output_type": "display_data"
    },
    {
     "name": "stdout",
     "output_type": "stream",
     "text": [
      "\n",
      "0.04770369827747345\n",
      "0.09561123698949814\n",
      "0.31463778018951416\n",
      "0.3386758267879486\n",
      "0.2614305913448334\n",
      "0.19307896494865417\n",
      "0.29901161789894104\n",
      "0.08643928915262222\n",
      "0.25783151388168335\n",
      "0.11621855944395065\n",
      "0.5012878775596619\n",
      "0.23642924427986145\n",
      "0.32931679487228394\n"
     ]
    },
    {
     "data": {
      "application/vnd.jupyter.widget-view+json": {
       "model_id": "c97d4d7f18f4487eb79ec66677cd8a1c",
       "version_major": 2,
       "version_minor": 0
      },
      "text/plain": [
       "HBox(children=(FloatProgress(value=0.0, max=428.0), HTML(value='')))"
      ]
     },
     "metadata": {},
     "output_type": "display_data"
    },
    {
     "name": "stdout",
     "output_type": "stream",
     "text": [
      "\n",
      "0.15241298079490662\n",
      "0.18337620794773102\n",
      "0.29295411705970764\n",
      "0.11346712708473206\n",
      "0.12327247858047485\n",
      "0.7316601872444153\n",
      "0.10536512732505798\n",
      "0.2613980770111084\n",
      "0.11090560257434845\n",
      "0.0008386671543121338\n",
      "1.2382450103759766\n",
      "0.21702586114406586\n",
      "0.5809657573699951\n",
      "0.3288195729255676\n"
     ]
    },
    {
     "data": {
      "application/vnd.jupyter.widget-view+json": {
       "model_id": "838e91c3a37442a499bed6c2c6d73f2e",
       "version_major": 2,
       "version_minor": 0
      },
      "text/plain": [
       "HBox(children=(FloatProgress(value=0.0, max=428.0), HTML(value='')))"
      ]
     },
     "metadata": {},
     "output_type": "display_data"
    },
    {
     "name": "stdout",
     "output_type": "stream",
     "text": [
      "\n",
      "0.0803970992565155\n",
      "0.07526377588510513\n",
      "0.20781123638153076\n",
      "0.116004578769207\n",
      "0.06813737750053406\n",
      "0.061020832508802414\n",
      "0.12772820889949799\n",
      "0.21385297179222107\n",
      "0.3804463744163513\n",
      "0.04496058076620102\n",
      "0.11615493148565292\n",
      "0.22240641713142395\n",
      "0.06994225084781647\n"
     ]
    },
    {
     "data": {
      "application/vnd.jupyter.widget-view+json": {
       "model_id": "13e49105411c47ea8b8623405212a5fe",
       "version_major": 2,
       "version_minor": 0
      },
      "text/plain": [
       "HBox(children=(FloatProgress(value=0.0, max=428.0), HTML(value='')))"
      ]
     },
     "metadata": {},
     "output_type": "display_data"
    },
    {
     "name": "stdout",
     "output_type": "stream",
     "text": [
      "\n",
      "0.1935426890850067\n",
      "0.13154566287994385\n",
      "0.4647471308708191\n",
      "0.46589353680610657\n",
      "0.035117801278829575\n",
      "0.023818952962756157\n",
      "0.12139834463596344\n",
      "-0.06865687668323517\n",
      "0.025846097618341446\n",
      "0.035953618586063385\n",
      "0.8304511904716492\n",
      "0.1886911541223526\n",
      "0.26246631145477295\n"
     ]
    },
    {
     "data": {
      "application/vnd.jupyter.widget-view+json": {
       "model_id": "5646588b326d4bfca7d5e79bcf874163",
       "version_major": 2,
       "version_minor": 0
      },
      "text/plain": [
       "HBox(children=(FloatProgress(value=0.0, max=428.0), HTML(value='')))"
      ]
     },
     "metadata": {},
     "output_type": "display_data"
    },
    {
     "name": "stdout",
     "output_type": "stream",
     "text": [
      "\n",
      "0.09371134638786316\n",
      "-0.0959308072924614\n",
      "0.8856195211410522\n",
      "0.05906844139099121\n",
      "0.1064065471291542\n",
      "0.11203932762145996\n",
      "0.3489956259727478\n",
      "0.2765127718448639\n",
      "0.3168354332447052\n",
      "0.027663011103868484\n",
      "0.5349891781806946\n",
      "0.18768607079982758\n",
      "-0.06016920879483223\n",
      "0.09632454067468643\n"
     ]
    },
    {
     "data": {
      "application/vnd.jupyter.widget-view+json": {
       "model_id": "933db6037c8e4d4a9e58516a6f89377c",
       "version_major": 2,
       "version_minor": 0
      },
      "text/plain": [
       "HBox(children=(FloatProgress(value=0.0, max=428.0), HTML(value='')))"
      ]
     },
     "metadata": {},
     "output_type": "display_data"
    },
    {
     "name": "stdout",
     "output_type": "stream",
     "text": [
      "\n",
      "-0.09462355077266693\n",
      "0.367374986410141\n",
      "0.005201985128223896\n",
      "-0.04610095173120499\n",
      "-0.023119695484638214\n",
      "0.21442186832427979\n",
      "0.0814446285367012\n",
      "-0.02544589899480343\n",
      "0.0026928894221782684\n",
      "0.19394344091415405\n",
      "0.1237117201089859\n",
      "0.061651237308979034\n",
      "0.08715187013149261\n"
     ]
    },
    {
     "data": {
      "application/vnd.jupyter.widget-view+json": {
       "model_id": "00e5968cc82c4da795ffb48328071656",
       "version_major": 2,
       "version_minor": 0
      },
      "text/plain": [
       "HBox(children=(FloatProgress(value=0.0, max=428.0), HTML(value='')))"
      ]
     },
     "metadata": {},
     "output_type": "display_data"
    },
    {
     "name": "stdout",
     "output_type": "stream",
     "text": [
      "\n",
      "0.28652650117874146\n",
      "0.47144076228141785\n",
      "-0.09913342446088791\n",
      "0.0749564915895462\n",
      "-0.01745346561074257\n",
      "0.12572801113128662\n",
      "-0.06400160491466522\n",
      "0.09739304333925247\n",
      "0.7196926474571228\n",
      "0.23354841768741608\n",
      "-0.08882185816764832\n",
      "-0.3095310926437378\n",
      "-0.0447121262550354\n"
     ]
    },
    {
     "data": {
      "application/vnd.jupyter.widget-view+json": {
       "model_id": "74e6313ad0d84bed846edda585de68c8",
       "version_major": 2,
       "version_minor": 0
      },
      "text/plain": [
       "HBox(children=(FloatProgress(value=0.0, max=428.0), HTML(value='')))"
      ]
     },
     "metadata": {},
     "output_type": "display_data"
    },
    {
     "name": "stdout",
     "output_type": "stream",
     "text": [
      "\n",
      "0.07147899270057678\n",
      "-0.1233869418501854\n",
      "-0.08997699618339539\n",
      "-0.3117680549621582\n",
      "0.33026403188705444\n",
      "-0.05776464194059372\n",
      "-0.029502667486667633\n",
      "-0.17123019695281982\n",
      "0.49885955452919006\n",
      "0.1822509616613388\n",
      "-0.19454966485500336\n",
      "0.2665042579174042\n",
      "-0.6769394874572754\n",
      "\n",
      "starting epoch: 3\n"
     ]
    },
    {
     "data": {
      "application/vnd.jupyter.widget-view+json": {
       "model_id": "f05bdd2fe252402284e75799f78df31a",
       "version_major": 2,
       "version_minor": 0
      },
      "text/plain": [
       "HBox(children=(FloatProgress(value=0.0, max=3980.0), HTML(value='')))"
      ]
     },
     "metadata": {},
     "output_type": "display_data"
    },
    {
     "name": "stdout",
     "output_type": "stream",
     "text": [
      "4.341226100921631\n",
      "0.3329543471336365\n",
      "0.5058911442756653\n",
      "0.8592271208763123\n",
      "0.44751209020614624\n",
      "0.3637950122356415\n",
      "0.544418454170227\n",
      "0.40817731618881226\n",
      "0.3218905031681061\n",
      "0.18211598694324493\n",
      "0.24452084302902222\n",
      "0.2516063153743744\n",
      "0.39313507080078125\n",
      "0.2349202036857605\n"
     ]
    },
    {
     "data": {
      "application/vnd.jupyter.widget-view+json": {
       "model_id": "04431b7f71894c8daf01aa969aa1c889",
       "version_major": 2,
       "version_minor": 0
      },
      "text/plain": [
       "HBox(children=(FloatProgress(value=0.0, max=428.0), HTML(value='')))"
      ]
     },
     "metadata": {},
     "output_type": "display_data"
    },
    {
     "name": "stdout",
     "output_type": "stream",
     "text": [
      "\n",
      "0.5120618343353271\n",
      "0.569783091545105\n",
      "0.29691770672798157\n",
      "0.6393551826477051\n",
      "0.38550078868865967\n",
      "0.27971482276916504\n",
      "0.4077602028846741\n",
      "0.3243488371372223\n",
      "0.3958481252193451\n",
      "0.3101550042629242\n",
      "0.2944333553314209\n",
      "0.4891981780529022\n",
      "0.2138185054063797\n"
     ]
    },
    {
     "data": {
      "application/vnd.jupyter.widget-view+json": {
       "model_id": "f7a6c57ebd804b388cc760ef0d403795",
       "version_major": 2,
       "version_minor": 0
      },
      "text/plain": [
       "HBox(children=(FloatProgress(value=0.0, max=428.0), HTML(value='')))"
      ]
     },
     "metadata": {},
     "output_type": "display_data"
    },
    {
     "name": "stdout",
     "output_type": "stream",
     "text": [
      "\n",
      "0.04478813707828522\n",
      "0.06801337003707886\n",
      "0.18492910265922546\n",
      "0.15822744369506836\n",
      "0.1596398502588272\n",
      "0.1396532654762268\n",
      "0.2016482800245285\n",
      "0.1171778067946434\n",
      "0.09110262244939804\n",
      "0.08345123380422592\n",
      "0.2601882219314575\n",
      "0.19740042090415955\n",
      "0.39319393038749695\n"
     ]
    },
    {
     "data": {
      "application/vnd.jupyter.widget-view+json": {
       "model_id": "695558fa949449288ae23b0d6a359333",
       "version_major": 2,
       "version_minor": 0
      },
      "text/plain": [
       "HBox(children=(FloatProgress(value=0.0, max=428.0), HTML(value='')))"
      ]
     },
     "metadata": {},
     "output_type": "display_data"
    },
    {
     "name": "stdout",
     "output_type": "stream",
     "text": [
      "\n",
      "0.15797185897827148\n",
      "0.13781388103961945\n",
      "0.14089590311050415\n",
      "0.05759163573384285\n",
      "0.0291525237262249\n",
      "0.8755197525024414\n",
      "0.16167300939559937\n",
      "0.19624163210391998\n",
      "0.07407920807600021\n",
      "-0.014062155038118362\n",
      "1.298454999923706\n",
      "0.11697643995285034\n",
      "0.5193305015563965\n",
      "0.34838056564331055\n"
     ]
    },
    {
     "data": {
      "application/vnd.jupyter.widget-view+json": {
       "model_id": "1b477fa613b143c9a6f2d72622964107",
       "version_major": 2,
       "version_minor": 0
      },
      "text/plain": [
       "HBox(children=(FloatProgress(value=0.0, max=428.0), HTML(value='')))"
      ]
     },
     "metadata": {},
     "output_type": "display_data"
    },
    {
     "name": "stdout",
     "output_type": "stream",
     "text": [
      "\n",
      "0.06348402798175812\n",
      "0.028690796345472336\n",
      "0.252654492855072\n",
      "0.10950435698032379\n",
      "0.030270855873823166\n",
      "0.08020646870136261\n",
      "0.10802404582500458\n",
      "0.23146896064281464\n",
      "0.08911880850791931\n",
      "-0.004114143550395966\n",
      "0.008193429559469223\n",
      "0.13388068974018097\n",
      "-0.023441404104232788\n"
     ]
    },
    {
     "data": {
      "application/vnd.jupyter.widget-view+json": {
       "model_id": "6dec60f2249b482bab396d7217bbc090",
       "version_major": 2,
       "version_minor": 0
      },
      "text/plain": [
       "HBox(children=(FloatProgress(value=0.0, max=428.0), HTML(value='')))"
      ]
     },
     "metadata": {},
     "output_type": "display_data"
    },
    {
     "name": "stdout",
     "output_type": "stream",
     "text": [
      "\n",
      "0.008387070149183273\n",
      "0.09456557035446167\n",
      "0.24719849228858948\n",
      "0.4302612245082855\n",
      "0.08554226160049438\n",
      "-0.020909827202558517\n",
      "0.029086127877235413\n",
      "-0.12420515716075897\n",
      "0.008802436292171478\n",
      "0.005406521260738373\n",
      "0.7412952184677124\n",
      "0.1767524927854538\n",
      "0.5372858047485352\n"
     ]
    },
    {
     "data": {
      "application/vnd.jupyter.widget-view+json": {
       "model_id": "fd30f68de7e949e1ae3afe26184e0e6d",
       "version_major": 2,
       "version_minor": 0
      },
      "text/plain": [
       "HBox(children=(FloatProgress(value=0.0, max=428.0), HTML(value='')))"
      ]
     },
     "metadata": {},
     "output_type": "display_data"
    },
    {
     "name": "stdout",
     "output_type": "stream",
     "text": [
      "\n",
      "0.030456025153398514\n",
      "-0.09675204753875732\n",
      "0.634823203086853\n",
      "-0.005975597072392702\n",
      "0.06365745514631271\n",
      "0.13061100244522095\n",
      "0.31521502137184143\n",
      "0.13067740201950073\n",
      "0.15508638322353363\n",
      "0.042596485465765\n",
      "0.18199685215950012\n",
      "0.07094181329011917\n",
      "-0.07606494426727295\n",
      "0.036922018975019455\n"
     ]
    },
    {
     "data": {
      "application/vnd.jupyter.widget-view+json": {
       "model_id": "ed76231f13ba4703b46137c0ea56b302",
       "version_major": 2,
       "version_minor": 0
      },
      "text/plain": [
       "HBox(children=(FloatProgress(value=0.0, max=428.0), HTML(value='')))"
      ]
     },
     "metadata": {},
     "output_type": "display_data"
    },
    {
     "name": "stdout",
     "output_type": "stream",
     "text": [
      "\n",
      "-0.10349193215370178\n",
      "0.3544386327266693\n",
      "0.0010245665907859802\n",
      "-0.07416890561580658\n",
      "0.030533283948898315\n",
      "0.13731536269187927\n",
      "-0.03205453231930733\n",
      "-0.12054777890443802\n",
      "-0.005118196830153465\n",
      "0.14357157051563263\n",
      "0.1626220941543579\n",
      "-0.008542388677597046\n",
      "-0.02050788700580597\n"
     ]
    },
    {
     "data": {
      "application/vnd.jupyter.widget-view+json": {
       "model_id": "ca0238cf273741dba7569bb92030f1ea",
       "version_major": 2,
       "version_minor": 0
      },
      "text/plain": [
       "HBox(children=(FloatProgress(value=0.0, max=428.0), HTML(value='')))"
      ]
     },
     "metadata": {},
     "output_type": "display_data"
    },
    {
     "name": "stdout",
     "output_type": "stream",
     "text": [
      "\n",
      "0.21361134946346283\n",
      "0.3967559337615967\n",
      "-0.1926906406879425\n",
      "0.03334175422787666\n",
      "0.09501834958791733\n",
      "0.022963259369134903\n",
      "-0.17553313076496124\n",
      "0.051668085157871246\n",
      "0.6520901322364807\n",
      "0.23078390955924988\n",
      "0.37393125891685486\n",
      "-0.055378176271915436\n",
      "-0.13589945435523987\n"
     ]
    },
    {
     "data": {
      "application/vnd.jupyter.widget-view+json": {
       "model_id": "6661e3926ed441b3897c387883e1c577",
       "version_major": 2,
       "version_minor": 0
      },
      "text/plain": [
       "HBox(children=(FloatProgress(value=0.0, max=428.0), HTML(value='')))"
      ]
     },
     "metadata": {},
     "output_type": "display_data"
    },
    {
     "name": "stdout",
     "output_type": "stream",
     "text": [
      "\n",
      "-0.021098362281918526\n",
      "-0.19357876479625702\n",
      "-0.20666567981243134\n",
      "-0.3445570468902588\n",
      "0.12049897015094757\n",
      "-0.18464922904968262\n",
      "-0.10903272032737732\n",
      "-0.3261335492134094\n",
      "0.4529375433921814\n",
      "-0.07372689247131348\n",
      "-0.27987971901893616\n",
      "0.41000640392303467\n",
      "-0.7271722555160522\n",
      "\n",
      "starting epoch: 4\n"
     ]
    },
    {
     "data": {
      "application/vnd.jupyter.widget-view+json": {
       "model_id": "4fd8352aaa634af5b0a760b824365b18",
       "version_major": 2,
       "version_minor": 0
      },
      "text/plain": [
       "HBox(children=(FloatProgress(value=0.0, max=3980.0), HTML(value='')))"
      ]
     },
     "metadata": {},
     "output_type": "display_data"
    },
    {
     "name": "stdout",
     "output_type": "stream",
     "text": [
      "3.7840194702148438\n",
      "0.40866243839263916\n",
      "0.4735366702079773\n",
      "0.6063088178634644\n",
      "0.44328123331069946\n",
      "0.2839619815349579\n",
      "0.45071789622306824\n",
      "0.3521359860897064\n",
      "0.2739472985267639\n",
      "0.35686102509498596\n",
      "0.23354151844978333\n",
      "0.22208616137504578\n",
      "0.30662497878074646\n",
      "0.2273050844669342\n"
     ]
    },
    {
     "data": {
      "application/vnd.jupyter.widget-view+json": {
       "model_id": "1caac327b4554b90b9cc6c20330f044a",
       "version_major": 2,
       "version_minor": 0
      },
      "text/plain": [
       "HBox(children=(FloatProgress(value=0.0, max=428.0), HTML(value='')))"
      ]
     },
     "metadata": {},
     "output_type": "display_data"
    },
    {
     "name": "stdout",
     "output_type": "stream",
     "text": [
      "\n",
      "0.3218533992767334\n",
      "0.5415292382240295\n",
      "0.23299181461334229\n",
      "0.5289821028709412\n",
      "0.19539454579353333\n",
      "0.2593145966529846\n",
      "0.32639795541763306\n",
      "0.2512257397174835\n",
      "0.37997639179229736\n",
      "0.24699057638645172\n",
      "0.25717946887016296\n",
      "0.436576783657074\n",
      "0.1972925364971161\n"
     ]
    },
    {
     "data": {
      "application/vnd.jupyter.widget-view+json": {
       "model_id": "16341ce9df604d5a93b6a90cba64a73d",
       "version_major": 2,
       "version_minor": 0
      },
      "text/plain": [
       "HBox(children=(FloatProgress(value=0.0, max=428.0), HTML(value='')))"
      ]
     },
     "metadata": {},
     "output_type": "display_data"
    },
    {
     "name": "stdout",
     "output_type": "stream",
     "text": [
      "\n",
      "0.03668845444917679\n",
      "-0.0012203482910990715\n",
      "0.23668408393859863\n",
      "0.2455134093761444\n",
      "0.13063155114650726\n",
      "0.19407477974891663\n",
      "0.19647222757339478\n",
      "0.03547557070851326\n",
      "0.17992377281188965\n",
      "0.07281790673732758\n",
      "0.3892126679420471\n",
      "0.06735792011022568\n",
      "0.3216741979122162\n"
     ]
    },
    {
     "data": {
      "application/vnd.jupyter.widget-view+json": {
       "model_id": "4e21fa4ea2244715b43928cb9213acc2",
       "version_major": 2,
       "version_minor": 0
      },
      "text/plain": [
       "HBox(children=(FloatProgress(value=0.0, max=428.0), HTML(value='')))"
      ]
     },
     "metadata": {},
     "output_type": "display_data"
    },
    {
     "name": "stdout",
     "output_type": "stream",
     "text": [
      "\n",
      "0.11855319142341614\n",
      "0.11840103566646576\n",
      "0.14253517985343933\n",
      "0.04376853257417679\n",
      "0.006720326840877533\n",
      "0.6762596368789673\n",
      "0.05566845089197159\n",
      "0.16281458735466003\n",
      "0.029498694464564323\n",
      "-0.039070628583431244\n",
      "1.0750988721847534\n",
      "0.12366661429405212\n",
      "0.44593316316604614\n",
      "0.21026092767715454\n"
     ]
    },
    {
     "data": {
      "application/vnd.jupyter.widget-view+json": {
       "model_id": "7b32b4d554e347e48661fc448f525ff5",
       "version_major": 2,
       "version_minor": 0
      },
      "text/plain": [
       "HBox(children=(FloatProgress(value=0.0, max=428.0), HTML(value='')))"
      ]
     },
     "metadata": {},
     "output_type": "display_data"
    },
    {
     "name": "stdout",
     "output_type": "stream",
     "text": [
      "\n",
      "0.007299443241208792\n",
      "0.01617482118308544\n",
      "0.08364815264940262\n",
      "0.006071174517273903\n",
      "-0.023493852466344833\n",
      "-0.01153610646724701\n",
      "0.06642630696296692\n",
      "0.16100534796714783\n",
      "-0.028029652312397957\n",
      "-0.05290193110704422\n",
      "-0.034741565585136414\n",
      "-0.046741291880607605\n",
      "-0.02055615931749344\n"
     ]
    },
    {
     "data": {
      "application/vnd.jupyter.widget-view+json": {
       "model_id": "f145d70d20054fb19271a4a609eac93a",
       "version_major": 2,
       "version_minor": 0
      },
      "text/plain": [
       "HBox(children=(FloatProgress(value=0.0, max=428.0), HTML(value='')))"
      ]
     },
     "metadata": {},
     "output_type": "display_data"
    },
    {
     "name": "stdout",
     "output_type": "stream",
     "text": [
      "\n",
      "0.037960465997457504\n",
      "0.07217749953269958\n",
      "0.2683800756931305\n",
      "0.4935219883918762\n",
      "0.09896230697631836\n",
      "-0.07975046336650848\n",
      "-0.04016273468732834\n",
      "-0.14347490668296814\n",
      "-0.08688405156135559\n",
      "-0.013337392359972\n",
      "0.6775747537612915\n",
      "0.15554974973201752\n",
      "0.08734817057847977\n"
     ]
    },
    {
     "data": {
      "application/vnd.jupyter.widget-view+json": {
       "model_id": "4875c459d7fa4779a14d662e69c1d48f",
       "version_major": 2,
       "version_minor": 0
      },
      "text/plain": [
       "HBox(children=(FloatProgress(value=0.0, max=428.0), HTML(value='')))"
      ]
     },
     "metadata": {},
     "output_type": "display_data"
    },
    {
     "name": "stdout",
     "output_type": "stream",
     "text": [
      "\n",
      "-0.0017844266258180141\n",
      "-0.08638279885053635\n",
      "0.6042418479919434\n",
      "-0.019573885947465897\n",
      "0.10840769112110138\n",
      "0.17810676991939545\n",
      "0.1593736708164215\n",
      "0.14569292962551117\n",
      "0.14549973607063293\n",
      "0.013255288824439049\n",
      "0.17691388726234436\n",
      "-0.004390226677060127\n",
      "-0.07739529013633728\n",
      "0.02076072245836258\n"
     ]
    },
    {
     "data": {
      "application/vnd.jupyter.widget-view+json": {
       "model_id": "fee99adbf99540afaee4e5e951c030b6",
       "version_major": 2,
       "version_minor": 0
      },
      "text/plain": [
       "HBox(children=(FloatProgress(value=0.0, max=428.0), HTML(value='')))"
      ]
     },
     "metadata": {},
     "output_type": "display_data"
    },
    {
     "name": "stdout",
     "output_type": "stream",
     "text": [
      "\n",
      "-0.14644239842891693\n",
      "0.2916334867477417\n",
      "-0.01127447746694088\n",
      "-0.08968620002269745\n",
      "-0.08029960095882416\n",
      "-0.052259933203458786\n",
      "-0.0827401876449585\n",
      "-0.11815597116947174\n",
      "-0.07331215590238571\n",
      "0.07494017481803894\n",
      "0.1553768664598465\n",
      "-0.01924402453005314\n",
      "-0.015947021543979645\n"
     ]
    },
    {
     "data": {
      "application/vnd.jupyter.widget-view+json": {
       "model_id": "3ef2d301c9e14236bd5ef91bcee6a14e",
       "version_major": 2,
       "version_minor": 0
      },
      "text/plain": [
       "HBox(children=(FloatProgress(value=0.0, max=428.0), HTML(value='')))"
      ]
     },
     "metadata": {},
     "output_type": "display_data"
    },
    {
     "name": "stdout",
     "output_type": "stream",
     "text": [
      "\n",
      "0.29725420475006104\n",
      "0.4000128507614136\n",
      "-0.196588397026062\n",
      "0.13216234743595123\n",
      "0.06605841219425201\n",
      "0.0007386207580566406\n",
      "-0.19108273088932037\n",
      "0.026141762733459473\n",
      "0.5903323292732239\n",
      "0.03835872560739517\n",
      "-0.15418915450572968\n",
      "-0.3468564450740814\n",
      "-0.2983661890029907\n"
     ]
    },
    {
     "data": {
      "application/vnd.jupyter.widget-view+json": {
       "model_id": "8471ef27d59349b682cb5a4c0a800a72",
       "version_major": 2,
       "version_minor": 0
      },
      "text/plain": [
       "HBox(children=(FloatProgress(value=0.0, max=428.0), HTML(value='')))"
      ]
     },
     "metadata": {},
     "output_type": "display_data"
    },
    {
     "name": "stdout",
     "output_type": "stream",
     "text": [
      "\n",
      "0.02300501987338066\n",
      "-0.1934470534324646\n",
      "-0.12478728592395782\n",
      "-0.36340898275375366\n",
      "0.2507326304912567\n",
      "-0.17093276977539062\n",
      "-0.18124054372310638\n",
      "-0.324947714805603\n",
      "0.21800082921981812\n",
      "-0.057038355618715286\n",
      "-0.3901233673095703\n",
      "0.18480654060840607\n",
      "-0.786037802696228\n",
      "\n",
      "starting epoch: 5\n"
     ]
    },
    {
     "data": {
      "application/vnd.jupyter.widget-view+json": {
       "model_id": "7167e6a8c3804d99854fc3c6de0d2772",
       "version_major": 2,
       "version_minor": 0
      },
      "text/plain": [
       "HBox(children=(FloatProgress(value=0.0, max=3980.0), HTML(value='')))"
      ]
     },
     "metadata": {},
     "output_type": "display_data"
    },
    {
     "name": "stdout",
     "output_type": "stream",
     "text": [
      "3.395339012145996\n",
      "0.2624753415584564\n",
      "0.6878087520599365\n",
      "0.6204136610031128\n",
      "0.3472158908843994\n",
      "0.37228161096572876\n",
      "0.40688449144363403\n",
      "0.3542187511920929\n",
      "0.26912134885787964\n",
      "0.155037522315979\n",
      "0.2819618582725525\n",
      "0.27437183260917664\n",
      "0.35570457577705383\n",
      "0.21757854521274567\n"
     ]
    },
    {
     "data": {
      "application/vnd.jupyter.widget-view+json": {
       "model_id": "c11967b6a2b842ec8afde5bef0ad6da1",
       "version_major": 2,
       "version_minor": 0
      },
      "text/plain": [
       "HBox(children=(FloatProgress(value=0.0, max=428.0), HTML(value='')))"
      ]
     },
     "metadata": {},
     "output_type": "display_data"
    },
    {
     "name": "stdout",
     "output_type": "stream",
     "text": [
      "\n",
      "0.27323728799819946\n",
      "0.6242572069168091\n",
      "0.45821425318717957\n",
      "0.5911746621131897\n",
      "0.21580444276332855\n",
      "0.23140951991081238\n",
      "0.3503333032131195\n",
      "0.26239970326423645\n",
      "0.3306632936000824\n",
      "0.23871853947639465\n",
      "0.26842957735061646\n",
      "0.33001476526260376\n",
      "0.15226605534553528\n"
     ]
    },
    {
     "data": {
      "application/vnd.jupyter.widget-view+json": {
       "model_id": "d78c318867784fb18e15a155e2f0f402",
       "version_major": 2,
       "version_minor": 0
      },
      "text/plain": [
       "HBox(children=(FloatProgress(value=0.0, max=428.0), HTML(value='')))"
      ]
     },
     "metadata": {},
     "output_type": "display_data"
    },
    {
     "name": "stdout",
     "output_type": "stream",
     "text": [
      "\n",
      "-0.012842083349823952\n",
      "0.012110253795981407\n",
      "0.13007596135139465\n",
      "0.0707954615354538\n",
      "0.1309007853269577\n",
      "0.12489241361618042\n",
      "0.22956469655036926\n",
      "0.037209488451480865\n",
      "0.052389997988939285\n",
      "0.08838747441768646\n",
      "0.18500202894210815\n",
      "0.08141198009252548\n",
      "0.2217782586812973\n"
     ]
    },
    {
     "data": {
      "application/vnd.jupyter.widget-view+json": {
       "model_id": "660be4f65fd34b87a67d30bcc4520f7c",
       "version_major": 2,
       "version_minor": 0
      },
      "text/plain": [
       "HBox(children=(FloatProgress(value=0.0, max=428.0), HTML(value='')))"
      ]
     },
     "metadata": {},
     "output_type": "display_data"
    },
    {
     "name": "stdout",
     "output_type": "stream",
     "text": [
      "\n",
      "0.056412238627672195\n",
      "0.07969551533460617\n",
      "0.1372087150812149\n",
      "-0.01449424959719181\n",
      "-0.03399727866053581\n",
      "0.4279378652572632\n",
      "0.1238156333565712\n",
      "0.2242102473974228\n",
      "0.03659976273775101\n",
      "-0.05036604031920433\n",
      "0.9693037867546082\n",
      "0.05700056627392769\n",
      "0.5164126753807068\n",
      "0.1542254239320755\n"
     ]
    },
    {
     "data": {
      "application/vnd.jupyter.widget-view+json": {
       "model_id": "4bb78d080a594ff5b847e0c96026f66c",
       "version_major": 2,
       "version_minor": 0
      },
      "text/plain": [
       "HBox(children=(FloatProgress(value=0.0, max=428.0), HTML(value='')))"
      ]
     },
     "metadata": {},
     "output_type": "display_data"
    },
    {
     "name": "stdout",
     "output_type": "stream",
     "text": [
      "\n",
      "0.023348046466708183\n",
      "0.003522958606481552\n",
      "0.12845423817634583\n",
      "0.016978131607174873\n",
      "-0.0739968791604042\n",
      "0.008998844772577286\n",
      "0.06244003400206566\n",
      "0.1670634150505066\n",
      "-0.023265615105628967\n",
      "-0.012292356230318546\n",
      "-0.05433547496795654\n",
      "-0.0010405052453279495\n",
      "-0.06765381991863251\n"
     ]
    },
    {
     "data": {
      "application/vnd.jupyter.widget-view+json": {
       "model_id": "dafd2aa21db94485b0c1ac1aab4cd99c",
       "version_major": 2,
       "version_minor": 0
      },
      "text/plain": [
       "HBox(children=(FloatProgress(value=0.0, max=428.0), HTML(value='')))"
      ]
     },
     "metadata": {},
     "output_type": "display_data"
    },
    {
     "name": "stdout",
     "output_type": "stream",
     "text": [
      "\n",
      "-0.033617109060287476\n",
      "0.08394694328308105\n",
      "0.26463547348976135\n",
      "0.44814780354499817\n",
      "0.05446327477693558\n",
      "-0.08711986243724823\n",
      "0.09419150650501251\n",
      "-0.07229366153478622\n",
      "-0.004387367516756058\n",
      "-0.04870207607746124\n",
      "0.6637864112854004\n",
      "0.2060806155204773\n",
      "0.04506565257906914\n"
     ]
    },
    {
     "data": {
      "application/vnd.jupyter.widget-view+json": {
       "model_id": "c46494c04af8418d90cdc032f8a740c5",
       "version_major": 2,
       "version_minor": 0
      },
      "text/plain": [
       "HBox(children=(FloatProgress(value=0.0, max=428.0), HTML(value='')))"
      ]
     },
     "metadata": {},
     "output_type": "display_data"
    },
    {
     "name": "stdout",
     "output_type": "stream",
     "text": [
      "\n",
      "0.02342161163687706\n",
      "-0.13571125268936157\n",
      "0.7089574933052063\n",
      "-0.019546769559383392\n",
      "0.021151460707187653\n",
      "0.08792002499103546\n",
      "0.3337456285953522\n",
      "0.2597320079803467\n",
      "0.11769406497478485\n",
      "-0.007912492379546165\n",
      "0.06627896428108215\n",
      "-0.054046422243118286\n",
      "-0.0727754533290863\n",
      "0.05752826854586601\n"
     ]
    },
    {
     "data": {
      "application/vnd.jupyter.widget-view+json": {
       "model_id": "005d864368a54b989f69d9f90fe4f120",
       "version_major": 2,
       "version_minor": 0
      },
      "text/plain": [
       "HBox(children=(FloatProgress(value=0.0, max=428.0), HTML(value='')))"
      ]
     },
     "metadata": {},
     "output_type": "display_data"
    },
    {
     "name": "stdout",
     "output_type": "stream",
     "text": [
      "\n",
      "-0.16221968829631805\n",
      "0.3607677221298218\n",
      "-0.03246752545237541\n",
      "-0.10079409182071686\n",
      "-0.11302365362644196\n",
      "0.007994605228304863\n",
      "-0.10538764297962189\n",
      "-0.09393350034952164\n",
      "0.07230165600776672\n",
      "0.11714273691177368\n",
      "0.132985457777977\n",
      "-0.03370466083288193\n",
      "-0.0726371631026268\n"
     ]
    },
    {
     "data": {
      "application/vnd.jupyter.widget-view+json": {
       "model_id": "0636f354999741879bef6d4917638e6e",
       "version_major": 2,
       "version_minor": 0
      },
      "text/plain": [
       "HBox(children=(FloatProgress(value=0.0, max=428.0), HTML(value='')))"
      ]
     },
     "metadata": {},
     "output_type": "display_data"
    },
    {
     "name": "stdout",
     "output_type": "stream",
     "text": [
      "\n",
      "0.19099172949790955\n",
      "0.3900912404060364\n",
      "-0.2755090594291687\n",
      "-0.03987674415111542\n",
      "-0.005627710372209549\n",
      "-0.1620061695575714\n",
      "-0.24159780144691467\n",
      "0.13630887866020203\n",
      "0.29810258746147156\n",
      "0.11735723912715912\n",
      "-0.08237837255001068\n",
      "-0.3289172649383545\n",
      "-0.38638100028038025\n"
     ]
    },
    {
     "data": {
      "application/vnd.jupyter.widget-view+json": {
       "model_id": "a8b7b136162b4302a04b9c8e5a097605",
       "version_major": 2,
       "version_minor": 0
      },
      "text/plain": [
       "HBox(children=(FloatProgress(value=0.0, max=428.0), HTML(value='')))"
      ]
     },
     "metadata": {},
     "output_type": "display_data"
    },
    {
     "name": "stdout",
     "output_type": "stream",
     "text": [
      "\n",
      "0.2113272100687027\n",
      "-0.05737638100981712\n",
      "-0.1967201828956604\n",
      "-0.3426438570022583\n",
      "0.10933391004800797\n",
      "-0.23631629347801208\n",
      "-0.20163115859031677\n",
      "-0.31007757782936096\n",
      "0.08817136287689209\n",
      "-0.17125332355499268\n",
      "-0.22675904631614685\n",
      "0.010959312319755554\n",
      "-1.0175507068634033\n",
      "\n",
      "starting epoch: 6\n"
     ]
    },
    {
     "data": {
      "application/vnd.jupyter.widget-view+json": {
       "model_id": "1a4ab51c7e4c43c6b756a0d8a2acb534",
       "version_major": 2,
       "version_minor": 0
      },
      "text/plain": [
       "HBox(children=(FloatProgress(value=0.0, max=3980.0), HTML(value='')))"
      ]
     },
     "metadata": {},
     "output_type": "display_data"
    },
    {
     "name": "stdout",
     "output_type": "stream",
     "text": [
      "3.7683286666870117\n",
      "0.3299078345298767\n",
      "0.5244357585906982\n",
      "0.5430790781974792\n",
      "0.4854309558868408\n",
      "0.21502608060836792\n",
      "0.43145623803138733\n",
      "0.33583900332450867\n",
      "0.24035930633544922\n",
      "0.16511982679367065\n",
      "0.16671311855316162\n",
      "0.2791154384613037\n",
      "0.2473793923854828\n",
      "0.1839239001274109\n"
     ]
    },
    {
     "data": {
      "application/vnd.jupyter.widget-view+json": {
       "model_id": "3c1a458e19f14c42abc435a13a4949ed",
       "version_major": 2,
       "version_minor": 0
      },
      "text/plain": [
       "HBox(children=(FloatProgress(value=0.0, max=428.0), HTML(value='')))"
      ]
     },
     "metadata": {},
     "output_type": "display_data"
    },
    {
     "name": "stdout",
     "output_type": "stream",
     "text": [
      "\n",
      "0.28545331954956055\n",
      "0.4104269742965698\n",
      "0.18842804431915283\n",
      "0.39057600498199463\n",
      "0.143044114112854\n",
      "0.20934084057807922\n",
      "0.38995689153671265\n",
      "0.24745354056358337\n",
      "0.4074842929840088\n",
      "0.18634286522865295\n",
      "0.24902129173278809\n",
      "0.5338796377182007\n",
      "0.24580591917037964\n"
     ]
    },
    {
     "data": {
      "application/vnd.jupyter.widget-view+json": {
       "model_id": "105cfec8daa143d79ecf2c02d11cc267",
       "version_major": 2,
       "version_minor": 0
      },
      "text/plain": [
       "HBox(children=(FloatProgress(value=0.0, max=428.0), HTML(value='')))"
      ]
     },
     "metadata": {},
     "output_type": "display_data"
    },
    {
     "name": "stdout",
     "output_type": "stream",
     "text": [
      "\n",
      "0.011178453452885151\n",
      "-0.02633170410990715\n",
      "0.12751440703868866\n",
      "0.20606863498687744\n",
      "0.137472465634346\n",
      "0.10759852081537247\n",
      "0.2438477873802185\n",
      "-0.0088344756513834\n",
      "0.2617359459400177\n",
      "0.03125584125518799\n",
      "0.26721835136413574\n",
      "0.0706082358956337\n",
      "0.17484432458877563\n"
     ]
    },
    {
     "data": {
      "application/vnd.jupyter.widget-view+json": {
       "model_id": "d5dd40742578449f9eb9598e05dd5ad0",
       "version_major": 2,
       "version_minor": 0
      },
      "text/plain": [
       "HBox(children=(FloatProgress(value=0.0, max=428.0), HTML(value='')))"
      ]
     },
     "metadata": {},
     "output_type": "display_data"
    },
    {
     "name": "stdout",
     "output_type": "stream",
     "text": [
      "\n",
      "0.05418563261628151\n",
      "0.2400396466255188\n",
      "0.05304180830717087\n",
      "0.007907439023256302\n",
      "0.05313754826784134\n",
      "0.42493245005607605\n",
      "0.05374058336019516\n",
      "0.19290795922279358\n",
      "0.04651476442813873\n",
      "0.020687878131866455\n",
      "0.8274529576301575\n",
      "0.08637114614248276\n",
      "0.44929763674736023\n",
      "0.21238821744918823\n"
     ]
    },
    {
     "data": {
      "application/vnd.jupyter.widget-view+json": {
       "model_id": "bdd654434cc94f46be87594ab1b2d32b",
       "version_major": 2,
       "version_minor": 0
      },
      "text/plain": [
       "HBox(children=(FloatProgress(value=0.0, max=428.0), HTML(value='')))"
      ]
     },
     "metadata": {},
     "output_type": "display_data"
    },
    {
     "name": "stdout",
     "output_type": "stream",
     "text": [
      "\n",
      "0.004966230131685734\n",
      "0.06191670894622803\n",
      "0.04732256010174751\n",
      "0.03448878973722458\n",
      "-0.07600707560777664\n",
      "-0.021979205310344696\n",
      "0.16721287369728088\n",
      "0.1284838616847992\n",
      "0.003733256831765175\n",
      "-0.052455611526966095\n",
      "-0.08188135176897049\n",
      "-0.03464280068874359\n",
      "-0.09735697507858276\n"
     ]
    },
    {
     "data": {
      "application/vnd.jupyter.widget-view+json": {
       "model_id": "913e67e1a7134474824b154a6e953aaa",
       "version_major": 2,
       "version_minor": 0
      },
      "text/plain": [
       "HBox(children=(FloatProgress(value=0.0, max=428.0), HTML(value='')))"
      ]
     },
     "metadata": {},
     "output_type": "display_data"
    },
    {
     "name": "stdout",
     "output_type": "stream",
     "text": [
      "\n",
      "-0.08475349098443985\n",
      "0.03881661593914032\n",
      "0.17363499104976654\n",
      "0.5001270771026611\n",
      "-0.0036881230771541595\n",
      "-0.04864472150802612\n",
      "-0.0449189655482769\n",
      "-0.1641010046005249\n",
      "-0.08514808118343353\n",
      "-0.028651393949985504\n",
      "0.6279768347740173\n",
      "0.07466156035661697\n",
      "0.06184792518615723\n"
     ]
    },
    {
     "data": {
      "application/vnd.jupyter.widget-view+json": {
       "model_id": "9208b10036ac4a69bfc752c009f72815",
       "version_major": 2,
       "version_minor": 0
      },
      "text/plain": [
       "HBox(children=(FloatProgress(value=0.0, max=428.0), HTML(value='')))"
      ]
     },
     "metadata": {},
     "output_type": "display_data"
    },
    {
     "name": "stdout",
     "output_type": "stream",
     "text": [
      "\n",
      "-0.008060194551944733\n",
      "-0.035180073231458664\n",
      "0.5484451055526733\n",
      "-0.06946411728858948\n",
      "0.05590490996837616\n",
      "-0.07014074921607971\n",
      "0.1851055920124054\n",
      "0.08206672221422195\n",
      "0.07094443589448929\n",
      "0.07306542992591858\n",
      "0.03817904740571976\n",
      "-0.054522544145584106\n",
      "-0.10293753445148468\n",
      "-0.016579994931817055\n"
     ]
    },
    {
     "data": {
      "application/vnd.jupyter.widget-view+json": {
       "model_id": "2fd7708081cf478095debd9853684d85",
       "version_major": 2,
       "version_minor": 0
      },
      "text/plain": [
       "HBox(children=(FloatProgress(value=0.0, max=428.0), HTML(value='')))"
      ]
     },
     "metadata": {},
     "output_type": "display_data"
    },
    {
     "name": "stdout",
     "output_type": "stream",
     "text": [
      "\n",
      "-0.1828804612159729\n",
      "0.16141852736473083\n",
      "-0.011149175465106964\n",
      "-0.058126937597990036\n",
      "-0.083661749958992\n",
      "-0.08419184386730194\n",
      "-0.10332071781158447\n",
      "-0.19133490324020386\n",
      "-0.1388649046421051\n",
      "0.07743873447179794\n",
      "0.1281544417142868\n",
      "-0.0517808236181736\n",
      "-0.03792349994182587\n"
     ]
    },
    {
     "data": {
      "application/vnd.jupyter.widget-view+json": {
       "model_id": "29194937f2544488b376330f4f9a0b57",
       "version_major": 2,
       "version_minor": 0
      },
      "text/plain": [
       "HBox(children=(FloatProgress(value=0.0, max=428.0), HTML(value='')))"
      ]
     },
     "metadata": {},
     "output_type": "display_data"
    },
    {
     "name": "stdout",
     "output_type": "stream",
     "text": [
      "\n",
      "0.148258775472641\n",
      "0.3445694148540497\n",
      "-0.2827302813529968\n",
      "-0.05256076529622078\n",
      "-0.08120202273130417\n",
      "-0.07812225818634033\n",
      "-0.21972712874412537\n",
      "0.05979793518781662\n",
      "0.41577035188674927\n",
      "0.011534709483385086\n",
      "-0.16010035574436188\n",
      "-0.311257541179657\n",
      "-0.2576082944869995\n"
     ]
    },
    {
     "data": {
      "application/vnd.jupyter.widget-view+json": {
       "model_id": "42dead97f39a4cf9a44f09cb9deb62a8",
       "version_major": 2,
       "version_minor": 0
      },
      "text/plain": [
       "HBox(children=(FloatProgress(value=0.0, max=428.0), HTML(value='')))"
      ]
     },
     "metadata": {},
     "output_type": "display_data"
    },
    {
     "name": "stdout",
     "output_type": "stream",
     "text": [
      "\n",
      "0.009078297764062881\n",
      "-0.24876263737678528\n",
      "-0.2532755136489868\n",
      "-0.4110489785671234\n",
      "0.09316439926624298\n",
      "-0.1810794174671173\n",
      "-0.11837723851203918\n",
      "-0.40853849053382874\n",
      "0.25915461778640747\n",
      "-0.13310286402702332\n",
      "-0.3327951431274414\n",
      "0.2126576006412506\n",
      "-1.0602151155471802\n",
      "\n",
      "starting epoch: 7\n"
     ]
    },
    {
     "data": {
      "application/vnd.jupyter.widget-view+json": {
       "model_id": "7d6a2ae72dce420fab9ccc8b668c3edf",
       "version_major": 2,
       "version_minor": 0
      },
      "text/plain": [
       "HBox(children=(FloatProgress(value=0.0, max=3980.0), HTML(value='')))"
      ]
     },
     "metadata": {},
     "output_type": "display_data"
    },
    {
     "name": "stdout",
     "output_type": "stream",
     "text": [
      "3.4463183879852295\n",
      "0.20103926956653595\n",
      "0.31835806369781494\n",
      "0.614292562007904\n",
      "0.401374489068985\n",
      "0.2836058735847473\n",
      "0.36457446217536926\n",
      "0.27771106362342834\n",
      "0.15497195720672607\n",
      "0.16482990980148315\n",
      "0.15249069035053253\n",
      "0.17644371092319489\n",
      "0.43781930208206177\n",
      "0.1651611328125\n"
     ]
    },
    {
     "data": {
      "application/vnd.jupyter.widget-view+json": {
       "model_id": "310a725395c548aa93d0f844985b2a5d",
       "version_major": 2,
       "version_minor": 0
      },
      "text/plain": [
       "HBox(children=(FloatProgress(value=0.0, max=428.0), HTML(value='')))"
      ]
     },
     "metadata": {},
     "output_type": "display_data"
    },
    {
     "name": "stdout",
     "output_type": "stream",
     "text": [
      "\n",
      "0.2879638969898224\n",
      "0.46555274724960327\n",
      "0.14363974332809448\n",
      "0.32661330699920654\n",
      "0.162413090467453\n",
      "0.31334465742111206\n",
      "0.29047536849975586\n",
      "0.2660342752933502\n",
      "0.29792308807373047\n",
      "0.1730434000492096\n",
      "0.21784238517284393\n",
      "0.27873700857162476\n",
      "0.16384944319725037\n"
     ]
    },
    {
     "data": {
      "application/vnd.jupyter.widget-view+json": {
       "model_id": "855402a4b9db40599c1cd2d300272309",
       "version_major": 2,
       "version_minor": 0
      },
      "text/plain": [
       "HBox(children=(FloatProgress(value=0.0, max=428.0), HTML(value='')))"
      ]
     },
     "metadata": {},
     "output_type": "display_data"
    },
    {
     "name": "stdout",
     "output_type": "stream",
     "text": [
      "\n",
      "0.01618102565407753\n",
      "0.0146572794765234\n",
      "0.12316206842660904\n",
      "0.039228249341249466\n",
      "0.07202907651662827\n",
      "0.13501973450183868\n",
      "0.20058627426624298\n",
      "0.0563562735915184\n",
      "0.032841119915246964\n",
      "0.14400812983512878\n",
      "0.16470414400100708\n",
      "0.0292549729347229\n",
      "0.15824584662914276\n"
     ]
    },
    {
     "data": {
      "application/vnd.jupyter.widget-view+json": {
       "model_id": "333a42a4619843639ad7cbe3b989f70e",
       "version_major": 2,
       "version_minor": 0
      },
      "text/plain": [
       "HBox(children=(FloatProgress(value=0.0, max=428.0), HTML(value='')))"
      ]
     },
     "metadata": {},
     "output_type": "display_data"
    },
    {
     "name": "stdout",
     "output_type": "stream",
     "text": [
      "\n",
      "0.19219174981117249\n",
      "0.09007225185632706\n",
      "0.07005438208580017\n",
      "0.01584484800696373\n",
      "-0.025764646008610725\n",
      "0.3454965054988861\n",
      "0.02950301580131054\n",
      "0.15052680671215057\n",
      "-0.002077641896903515\n",
      "-0.0010643303394317627\n",
      "0.6869913935661316\n",
      "0.04073730856180191\n",
      "0.35219961404800415\n",
      "0.15171492099761963\n"
     ]
    },
    {
     "data": {
      "application/vnd.jupyter.widget-view+json": {
       "model_id": "1f162b060ad34ffa8b9b87a7331c86ba",
       "version_major": 2,
       "version_minor": 0
      },
      "text/plain": [
       "HBox(children=(FloatProgress(value=0.0, max=428.0), HTML(value='')))"
      ]
     },
     "metadata": {},
     "output_type": "display_data"
    },
    {
     "name": "stdout",
     "output_type": "stream",
     "text": [
      "\n",
      "0.0034823804162442684\n",
      "-0.015799695625901222\n",
      "0.1512163281440735\n",
      "-0.013305284082889557\n",
      "-0.07526591420173645\n",
      "-0.059420354664325714\n",
      "0.0561496764421463\n",
      "0.09376272559165955\n",
      "-0.039967723190784454\n",
      "0.0038414550945162773\n",
      "-0.050773974508047104\n",
      "-0.09265860915184021\n",
      "-0.0759325698018074\n"
     ]
    },
    {
     "data": {
      "application/vnd.jupyter.widget-view+json": {
       "model_id": "d8c6041292054a139faf5a36a887b8ac",
       "version_major": 2,
       "version_minor": 0
      },
      "text/plain": [
       "HBox(children=(FloatProgress(value=0.0, max=428.0), HTML(value='')))"
      ]
     },
     "metadata": {},
     "output_type": "display_data"
    },
    {
     "name": "stdout",
     "output_type": "stream",
     "text": [
      "\n",
      "-0.04935745894908905\n",
      "0.08015289902687073\n",
      "0.3074882924556732\n",
      "0.45402413606643677\n",
      "0.004599656909704208\n",
      "-0.045457493513822556\n",
      "-0.10156212747097015\n",
      "-0.16737842559814453\n",
      "-0.1346905678510666\n",
      "-0.03456158936023712\n",
      "0.6146731972694397\n",
      "0.11925230175256729\n",
      "0.010528176091611385\n"
     ]
    },
    {
     "data": {
      "application/vnd.jupyter.widget-view+json": {
       "model_id": "8f1bdcc1826943be94ded8c8a1a0144a",
       "version_major": 2,
       "version_minor": 0
      },
      "text/plain": [
       "HBox(children=(FloatProgress(value=0.0, max=428.0), HTML(value='')))"
      ]
     },
     "metadata": {},
     "output_type": "display_data"
    },
    {
     "name": "stdout",
     "output_type": "stream",
     "text": [
      "\n",
      "0.059934355318546295\n",
      "-0.11407097429037094\n",
      "0.575597882270813\n",
      "-0.0480617918074131\n",
      "-0.02107427828013897\n",
      "-0.07308713346719742\n",
      "0.145279660820961\n",
      "0.12486004829406738\n",
      "0.06378885358572006\n",
      "-0.052319325506687164\n",
      "0.0007379204034805298\n",
      "-0.0810113400220871\n",
      "-0.13332049548625946\n",
      "-0.02415412850677967\n"
     ]
    },
    {
     "data": {
      "application/vnd.jupyter.widget-view+json": {
       "model_id": "90394dd8a3bc4155b14641644a3e28dc",
       "version_major": 2,
       "version_minor": 0
      },
      "text/plain": [
       "HBox(children=(FloatProgress(value=0.0, max=428.0), HTML(value='')))"
      ]
     },
     "metadata": {},
     "output_type": "display_data"
    },
    {
     "name": "stdout",
     "output_type": "stream",
     "text": [
      "\n",
      "-0.16654542088508606\n",
      "0.17546910047531128\n",
      "0.07844796031713486\n",
      "-0.11723251640796661\n",
      "-0.10731261223554611\n",
      "-0.03076736256480217\n",
      "-0.05868634581565857\n",
      "-0.0935937687754631\n",
      "-0.12168566137552261\n",
      "0.05551939457654953\n",
      "0.11232106387615204\n",
      "-0.09480945020914078\n",
      "-0.11911490559577942\n"
     ]
    },
    {
     "data": {
      "application/vnd.jupyter.widget-view+json": {
       "model_id": "d92b78fb83114465adaa95caf852198d",
       "version_major": 2,
       "version_minor": 0
      },
      "text/plain": [
       "HBox(children=(FloatProgress(value=0.0, max=428.0), HTML(value='')))"
      ]
     },
     "metadata": {},
     "output_type": "display_data"
    },
    {
     "name": "stdout",
     "output_type": "stream",
     "text": [
      "\n",
      "0.06470119208097458\n",
      "0.31191128492355347\n",
      "-0.30861473083496094\n",
      "-0.03996951878070831\n",
      "0.01685730367898941\n",
      "-0.14100675284862518\n",
      "-0.2647610306739807\n",
      "-0.0522146038711071\n",
      "0.2781272828578949\n",
      "-0.014012835919857025\n",
      "-0.17925770580768585\n",
      "-0.3568266034126282\n",
      "-0.3297158181667328\n"
     ]
    },
    {
     "data": {
      "application/vnd.jupyter.widget-view+json": {
       "model_id": "ec865a31f3ea49658d2d03e7b164ec4c",
       "version_major": 2,
       "version_minor": 0
      },
      "text/plain": [
       "HBox(children=(FloatProgress(value=0.0, max=428.0), HTML(value='')))"
      ]
     },
     "metadata": {},
     "output_type": "display_data"
    },
    {
     "name": "stdout",
     "output_type": "stream",
     "text": [
      "\n",
      "0.03141433000564575\n",
      "-0.20455285906791687\n",
      "-0.2720262110233307\n",
      "-0.30392611026763916\n",
      "0.08646073937416077\n",
      "-0.1112256646156311\n",
      "-0.3131150007247925\n",
      "-0.2964664697647095\n",
      "0.14644619822502136\n",
      "-0.2189001739025116\n",
      "-0.3672955632209778\n",
      "0.09995274990797043\n",
      "-0.9374464154243469\n",
      "\n",
      "starting epoch: 8\n"
     ]
    },
    {
     "data": {
      "application/vnd.jupyter.widget-view+json": {
       "model_id": "2b0becb6ea104e958169de510f7941b3",
       "version_major": 2,
       "version_minor": 0
      },
      "text/plain": [
       "HBox(children=(FloatProgress(value=0.0, max=3980.0), HTML(value='')))"
      ]
     },
     "metadata": {},
     "output_type": "display_data"
    },
    {
     "name": "stdout",
     "output_type": "stream",
     "text": [
      "3.598088026046753\n",
      "0.28554844856262207\n",
      "0.33965930342674255\n",
      "0.5395952463150024\n",
      "0.30853840708732605\n",
      "0.27051907777786255\n",
      "0.349638968706131\n",
      "0.2945331931114197\n",
      "0.1482352614402771\n",
      "0.06513139605522156\n",
      "0.36655741930007935\n",
      "0.1863354742527008\n",
      "0.20896995067596436\n",
      "0.15907613933086395\n"
     ]
    },
    {
     "data": {
      "application/vnd.jupyter.widget-view+json": {
       "model_id": "74b6513d34b0416bbb927f3ad9fb3443",
       "version_major": 2,
       "version_minor": 0
      },
      "text/plain": [
       "HBox(children=(FloatProgress(value=0.0, max=428.0), HTML(value='')))"
      ]
     },
     "metadata": {},
     "output_type": "display_data"
    },
    {
     "name": "stdout",
     "output_type": "stream",
     "text": [
      "\n",
      "0.24493899941444397\n",
      "0.42816784977912903\n",
      "0.15450061857700348\n",
      "0.3133394420146942\n",
      "0.07282967865467072\n",
      "0.24084460735321045\n",
      "0.3323991894721985\n",
      "0.23378682136535645\n",
      "0.396644651889801\n",
      "0.19003184139728546\n",
      "0.2649044394493103\n",
      "0.26407384872436523\n",
      "0.2359165996313095\n"
     ]
    },
    {
     "data": {
      "application/vnd.jupyter.widget-view+json": {
       "model_id": "e71d23d9bd3d49ceb2610e529c424aaa",
       "version_major": 2,
       "version_minor": 0
      },
      "text/plain": [
       "HBox(children=(FloatProgress(value=0.0, max=428.0), HTML(value='')))"
      ]
     },
     "metadata": {},
     "output_type": "display_data"
    },
    {
     "name": "stdout",
     "output_type": "stream",
     "text": [
      "\n",
      "0.025694487616419792\n",
      "0.026723133400082588\n",
      "0.11126603186130524\n",
      "0.016946393996477127\n",
      "0.11898064613342285\n",
      "0.11475564539432526\n",
      "0.16840629279613495\n",
      "-0.029671475291252136\n",
      "0.047887399792671204\n",
      "0.013916725292801857\n",
      "0.09911841154098511\n",
      "0.018620319664478302\n",
      "0.1594756543636322\n"
     ]
    },
    {
     "data": {
      "application/vnd.jupyter.widget-view+json": {
       "model_id": "3897401b93194759964c969b300b4165",
       "version_major": 2,
       "version_minor": 0
      },
      "text/plain": [
       "HBox(children=(FloatProgress(value=0.0, max=428.0), HTML(value='')))"
      ]
     },
     "metadata": {},
     "output_type": "display_data"
    },
    {
     "name": "stdout",
     "output_type": "stream",
     "text": [
      "\n",
      "0.10518952459096909\n",
      "0.04548212140798569\n",
      "0.052675485610961914\n",
      "-0.023220593109726906\n",
      "-0.005549232475459576\n",
      "0.30429738759994507\n",
      "0.0384710319340229\n",
      "0.10551607608795166\n",
      "0.009466677904129028\n",
      "0.04899642616510391\n",
      "0.5238244533538818\n",
      "0.0610148161649704\n",
      "0.3689899146556854\n",
      "0.10082171857357025\n"
     ]
    },
    {
     "data": {
      "application/vnd.jupyter.widget-view+json": {
       "model_id": "17293a0c611d40edb676c0e537b85e21",
       "version_major": 2,
       "version_minor": 0
      },
      "text/plain": [
       "HBox(children=(FloatProgress(value=0.0, max=428.0), HTML(value='')))"
      ]
     },
     "metadata": {},
     "output_type": "display_data"
    },
    {
     "name": "stdout",
     "output_type": "stream",
     "text": [
      "\n",
      "-0.01366778090596199\n",
      "-0.05999847128987312\n",
      "-0.01763129234313965\n",
      "0.01272814255207777\n",
      "-0.10557084530591965\n",
      "-0.0872003436088562\n",
      "0.021402757614850998\n",
      "0.07723024487495422\n",
      "-0.0013738498091697693\n",
      "-0.08362605422735214\n",
      "-0.07961016893386841\n",
      "-0.07613202929496765\n",
      "-0.046095412224531174\n"
     ]
    },
    {
     "data": {
      "application/vnd.jupyter.widget-view+json": {
       "model_id": "f21439469af74f96a9d41c08d95b85cc",
       "version_major": 2,
       "version_minor": 0
      },
      "text/plain": [
       "HBox(children=(FloatProgress(value=0.0, max=428.0), HTML(value='')))"
      ]
     },
     "metadata": {},
     "output_type": "display_data"
    },
    {
     "name": "stdout",
     "output_type": "stream",
     "text": [
      "\n",
      "-0.07407387346029282\n",
      "0.04927030950784683\n",
      "0.1926238238811493\n",
      "0.3521626591682434\n",
      "-0.004054870456457138\n",
      "-0.08391086012125015\n",
      "-0.08162348717451096\n",
      "-0.13298343122005463\n",
      "-0.10348489880561829\n",
      "-0.09282834082841873\n",
      "0.6113987565040588\n",
      "0.03245532885193825\n",
      "0.022658443078398705\n"
     ]
    },
    {
     "data": {
      "application/vnd.jupyter.widget-view+json": {
       "model_id": "a09ac4b32eed40d69bace1bf38c32cb1",
       "version_major": 2,
       "version_minor": 0
      },
      "text/plain": [
       "HBox(children=(FloatProgress(value=0.0, max=428.0), HTML(value='')))"
      ]
     },
     "metadata": {},
     "output_type": "display_data"
    },
    {
     "name": "stdout",
     "output_type": "stream",
     "text": [
      "\n",
      "-0.03049144148826599\n",
      "-0.13281473517417908\n",
      "0.5465767979621887\n",
      "-0.022327668964862823\n",
      "-0.04912756010890007\n",
      "-0.11352642625570297\n",
      "0.09379555284976959\n",
      "0.10850480198860168\n",
      "0.13273480534553528\n",
      "-0.03851182758808136\n",
      "-0.05129121616482735\n",
      "-0.026813507080078125\n",
      "-0.06437928229570389\n",
      "-0.06680186092853546\n"
     ]
    },
    {
     "data": {
      "application/vnd.jupyter.widget-view+json": {
       "model_id": "2df69c7dd4b84ff0820acb99dbd245f1",
       "version_major": 2,
       "version_minor": 0
      },
      "text/plain": [
       "HBox(children=(FloatProgress(value=0.0, max=428.0), HTML(value='')))"
      ]
     },
     "metadata": {},
     "output_type": "display_data"
    },
    {
     "name": "stdout",
     "output_type": "stream",
     "text": [
      "\n",
      "-0.20267567038536072\n",
      "0.16655854880809784\n",
      "-0.0034374184906482697\n",
      "0.0835539847612381\n",
      "-0.14738915860652924\n",
      "-0.10328611731529236\n",
      "-0.09194529056549072\n",
      "-0.20456451177597046\n",
      "-0.20529596507549286\n",
      "0.06275750696659088\n",
      "-0.014547161757946014\n",
      "-0.08803471177816391\n",
      "-0.1199767217040062\n"
     ]
    },
    {
     "data": {
      "application/vnd.jupyter.widget-view+json": {
       "model_id": "6067167bfaac4b90a32e987594487bee",
       "version_major": 2,
       "version_minor": 0
      },
      "text/plain": [
       "HBox(children=(FloatProgress(value=0.0, max=428.0), HTML(value='')))"
      ]
     },
     "metadata": {},
     "output_type": "display_data"
    },
    {
     "name": "stdout",
     "output_type": "stream",
     "text": [
      "\n",
      "0.05068126693367958\n",
      "0.3148282766342163\n",
      "-0.10264937579631805\n",
      "0.07165800034999847\n",
      "-0.08901774883270264\n",
      "-0.1842462420463562\n",
      "-0.2110336720943451\n",
      "-0.01734350621700287\n",
      "0.27811312675476074\n",
      "-0.07687254250049591\n",
      "-0.22190922498703003\n",
      "-0.3557244539260864\n",
      "-0.2728058099746704\n"
     ]
    },
    {
     "data": {
      "application/vnd.jupyter.widget-view+json": {
       "model_id": "a7303ef0a975427e9f8416024d1e90e6",
       "version_major": 2,
       "version_minor": 0
      },
      "text/plain": [
       "HBox(children=(FloatProgress(value=0.0, max=428.0), HTML(value='')))"
      ]
     },
     "metadata": {},
     "output_type": "display_data"
    },
    {
     "name": "stdout",
     "output_type": "stream",
     "text": [
      "\n",
      "-0.04354049637913704\n",
      "-0.24774442613124847\n",
      "-0.2405790090560913\n",
      "-0.3620331287384033\n",
      "0.2590668499469757\n",
      "-0.24846340715885162\n",
      "-0.35098567605018616\n",
      "-0.4304982125759125\n",
      "0.20386682450771332\n",
      "-0.20529389381408691\n",
      "-0.40080976486206055\n",
      "-0.04051950201392174\n",
      "-1.0197439193725586\n",
      "\n",
      "starting epoch: 9\n"
     ]
    },
    {
     "data": {
      "application/vnd.jupyter.widget-view+json": {
       "model_id": "cd7be8c1343a41d6ab2ef1a45b4379a2",
       "version_major": 2,
       "version_minor": 0
      },
      "text/plain": [
       "HBox(children=(FloatProgress(value=0.0, max=3980.0), HTML(value='')))"
      ]
     },
     "metadata": {},
     "output_type": "display_data"
    },
    {
     "name": "stdout",
     "output_type": "stream",
     "text": [
      "3.2461538314819336\n",
      "0.18307146430015564\n",
      "\n"
     ]
    },
    {
     "name": "stderr",
     "output_type": "stream",
     "text": [
      "Traceback (most recent call last):\n",
      "  File \"/home/sampo/anaconda3/lib/python3.8/multiprocessing/queues.py\", line 245, in _feed\n",
      "    send_bytes(obj)\n",
      "  File \"/home/sampo/anaconda3/lib/python3.8/multiprocessing/connection.py\", line 200, in send_bytes\n",
      "    self._send_bytes(m[offset:offset + size])\n",
      "  File \"/home/sampo/anaconda3/lib/python3.8/multiprocessing/connection.py\", line 411, in _send_bytes\n",
      "    self._send(header + buf)\n",
      "  File \"/home/sampo/anaconda3/lib/python3.8/multiprocessing/connection.py\", line 368, in _send\n",
      "    n = write(self._handle, buf)\n",
      "BrokenPipeError: [Errno 32] Broken pipe\n"
     ]
    },
    {
     "ename": "KeyboardInterrupt",
     "evalue": "",
     "output_type": "error",
     "traceback": [
      "\u001b[0;31m---------------------------------------------------------------------------\u001b[0m",
      "\u001b[0;31mKeyboardInterrupt\u001b[0m                         Traceback (most recent call last)",
      "\u001b[0;32m<ipython-input-12-2697dc283b9e>\u001b[0m in \u001b[0;36m<module>\u001b[0;34m\u001b[0m\n\u001b[1;32m     41\u001b[0m             \u001b[0mloss\u001b[0m \u001b[0;34m=\u001b[0m \u001b[0moutput\u001b[0m\u001b[0;34m.\u001b[0m\u001b[0mloss\u001b[0m\u001b[0;34m/\u001b[0m\u001b[0mstep_interval\u001b[0m\u001b[0;34m\u001b[0m\u001b[0;34m\u001b[0m\u001b[0m\n\u001b[1;32m     42\u001b[0m \u001b[0;34m\u001b[0m\u001b[0m\n\u001b[0;32m---> 43\u001b[0;31m         \u001b[0mscaler\u001b[0m\u001b[0;34m.\u001b[0m\u001b[0mscale\u001b[0m\u001b[0;34m(\u001b[0m\u001b[0mloss\u001b[0m\u001b[0;34m)\u001b[0m\u001b[0;34m.\u001b[0m\u001b[0mbackward\u001b[0m\u001b[0;34m(\u001b[0m\u001b[0;34m)\u001b[0m\u001b[0;34m\u001b[0m\u001b[0;34m\u001b[0m\u001b[0m\n\u001b[0m\u001b[1;32m     44\u001b[0m         \u001b[0;31m#accumulate gradients for step_interval batches\u001b[0m\u001b[0;34m\u001b[0m\u001b[0;34m\u001b[0m\u001b[0;34m\u001b[0m\u001b[0m\n\u001b[1;32m     45\u001b[0m         \u001b[0;32mif\u001b[0m \u001b[0;34m(\u001b[0m\u001b[0mi\u001b[0m\u001b[0;34m+\u001b[0m\u001b[0;36m1\u001b[0m\u001b[0;34m)\u001b[0m\u001b[0;34m%\u001b[0m\u001b[0mstep_interval\u001b[0m \u001b[0;34m==\u001b[0m \u001b[0;36m0\u001b[0m\u001b[0;34m:\u001b[0m\u001b[0;34m\u001b[0m\u001b[0;34m\u001b[0m\u001b[0m\n",
      "\u001b[0;32m~/anaconda3/lib/python3.8/site-packages/torch/tensor.py\u001b[0m in \u001b[0;36mbackward\u001b[0;34m(self, gradient, retain_graph, create_graph, inputs)\u001b[0m\n\u001b[1;32m    243\u001b[0m                 \u001b[0mcreate_graph\u001b[0m\u001b[0;34m=\u001b[0m\u001b[0mcreate_graph\u001b[0m\u001b[0;34m,\u001b[0m\u001b[0;34m\u001b[0m\u001b[0;34m\u001b[0m\u001b[0m\n\u001b[1;32m    244\u001b[0m                 inputs=inputs)\n\u001b[0;32m--> 245\u001b[0;31m         \u001b[0mtorch\u001b[0m\u001b[0;34m.\u001b[0m\u001b[0mautograd\u001b[0m\u001b[0;34m.\u001b[0m\u001b[0mbackward\u001b[0m\u001b[0;34m(\u001b[0m\u001b[0mself\u001b[0m\u001b[0;34m,\u001b[0m \u001b[0mgradient\u001b[0m\u001b[0;34m,\u001b[0m \u001b[0mretain_graph\u001b[0m\u001b[0;34m,\u001b[0m \u001b[0mcreate_graph\u001b[0m\u001b[0;34m,\u001b[0m \u001b[0minputs\u001b[0m\u001b[0;34m=\u001b[0m\u001b[0minputs\u001b[0m\u001b[0;34m)\u001b[0m\u001b[0;34m\u001b[0m\u001b[0;34m\u001b[0m\u001b[0m\n\u001b[0m\u001b[1;32m    246\u001b[0m \u001b[0;34m\u001b[0m\u001b[0m\n\u001b[1;32m    247\u001b[0m     \u001b[0;32mdef\u001b[0m \u001b[0mregister_hook\u001b[0m\u001b[0;34m(\u001b[0m\u001b[0mself\u001b[0m\u001b[0;34m,\u001b[0m \u001b[0mhook\u001b[0m\u001b[0;34m)\u001b[0m\u001b[0;34m:\u001b[0m\u001b[0;34m\u001b[0m\u001b[0;34m\u001b[0m\u001b[0m\n",
      "\u001b[0;32m~/anaconda3/lib/python3.8/site-packages/torch/autograd/__init__.py\u001b[0m in \u001b[0;36mbackward\u001b[0;34m(tensors, grad_tensors, retain_graph, create_graph, grad_variables, inputs)\u001b[0m\n\u001b[1;32m    143\u001b[0m         \u001b[0mretain_graph\u001b[0m \u001b[0;34m=\u001b[0m \u001b[0mcreate_graph\u001b[0m\u001b[0;34m\u001b[0m\u001b[0;34m\u001b[0m\u001b[0m\n\u001b[1;32m    144\u001b[0m \u001b[0;34m\u001b[0m\u001b[0m\n\u001b[0;32m--> 145\u001b[0;31m     Variable._execution_engine.run_backward(\n\u001b[0m\u001b[1;32m    146\u001b[0m         \u001b[0mtensors\u001b[0m\u001b[0;34m,\u001b[0m \u001b[0mgrad_tensors_\u001b[0m\u001b[0;34m,\u001b[0m \u001b[0mretain_graph\u001b[0m\u001b[0;34m,\u001b[0m \u001b[0mcreate_graph\u001b[0m\u001b[0;34m,\u001b[0m \u001b[0minputs\u001b[0m\u001b[0;34m,\u001b[0m\u001b[0;34m\u001b[0m\u001b[0;34m\u001b[0m\u001b[0m\n\u001b[1;32m    147\u001b[0m         allow_unreachable=True, accumulate_grad=True)  # allow_unreachable flag\n",
      "\u001b[0;31mKeyboardInterrupt\u001b[0m: "
     ]
    }
   ],
   "source": [
    "import transformers\n",
    "from torch.utils.tensorboard import SummaryWriter\n",
    "writer = SummaryWriter()\n",
    "\n",
    "save_dir = \"test_run1\"\n",
    "device = \"cuda\"\n",
    "losses = []\n",
    "training_losses = []\n",
    "\n",
    "model.to(device)\n",
    "\n",
    "use_amp  = True\n",
    "num_epochs = 20\n",
    "lr = 0.00025\n",
    "step_interval = 2\n",
    "eval_interval = len(trainloader)-1\n",
    "steps = 0\n",
    "\n",
    "#setup optimizer and scheduler\n",
    "optimizer = torch.optim.AdamW(model.parameters(), lr=lr)\n",
    "#scheduler = transformers.get_linear_schedule_with_warmup(optimizer, num_warmup_steps=200, num_training_steps=len(trainloader)*num_epochs/step_interval)\n",
    "scheduler = torch.optim.lr_scheduler.StepLR(optimizer, step_size = 2, gamma=0.5)\n",
    "\n",
    "\n",
    "scaler = torch.cuda.amp.GradScaler(enabled=use_amp)\n",
    "\n",
    "best_wer = 1.0\n",
    "eval_losses = []\n",
    "eval_wers = []\n",
    "eval_step = 0\n",
    "\n",
    "print(\"starting training loop\")\n",
    "for epoch in range(num_epochs):\n",
    "    print(f\"starting epoch: {epoch+1}\")\n",
    "    model.train()\n",
    "    losses = []\n",
    "    i = 0\n",
    "    for batch in tqdm(trainloader):\n",
    "        \n",
    "        inputs, masks, labels = batch\n",
    "        with torch.cuda.amp.autocast(enabled=use_amp):\n",
    "            output = model(inputs.to(device), masks.to(device), labels=labels.to(device))\n",
    "            loss = output.loss/step_interval\n",
    "        \n",
    "        scaler.scale(loss).backward()\n",
    "        #accumulate gradients for step_interval batches\n",
    "        if (i+1)%step_interval == 0:\n",
    "            #optimizer.step()\n",
    "            scaler.step(optimizer)\n",
    "            scaler.update()\n",
    "            #scheduler.step()\n",
    "            optimizer.zero_grad()\n",
    "            steps+=1\n",
    "        losses.append(output.loss.item())\n",
    "        #if i%30==0:\n",
    "        #    print(output.loss.item())\n",
    "        #evaluate model and save best WER\n",
    "        if (i+1)%eval_interval == 0:\n",
    "            eval_loss,eval_loss_amp, wer, wer_amp = evaluation_func(model, testloader, testset.data.sentence, use_amp, device)\n",
    "            \n",
    "            writer.add_scalar('eval/loss', eval_loss, eval_step)\n",
    "            writer.add_scalar('eval/wer', wer, eval_step)\n",
    "            writer.add_scalar('eval/loss_amp', eval_loss_amp, eval_step)\n",
    "            writer.add_scalar('eval/wer_amp', wer_amp, eval_step)\n",
    "            writer.add_scalar('lr', scheduler.get_last_lr()[0], eval_step)\n",
    "            eval_losses.append(eval_loss)\n",
    "            eval_wers.append(wer)\n",
    "            eval_step +=1\n",
    "            if wer < best_wer:\n",
    "                #save model with best test WER\n",
    "                checkpoint_func(model, save_dir)\n",
    "                best_wer = wer\n",
    "            else:\n",
    "                scheduler.step()\n",
    "            model.train()\n",
    "            \n",
    "        i+=1\n",
    "    #end of epoch\n",
    "    epoch_loss = sum(losses)/len(losses)\n",
    "    training_losses.append(epoch_loss)\n",
    "    writer.add_scalar('train/epoch_loss', epoch_loss, epoch)\n",
    "#check for final improvements\n",
    "eval_loss,eval_loss_amp, wer, wer_amp = evaluation_func(model, testloader, testset.data.sentence, use_amp, device)\n",
    "if wer < best_wer:\n",
    "    best_wer = wer\n",
    "    checkpoint_func(model, save_dir)\n",
    "print(f\"training finished, best WER: {best_wer}\")\n",
    "writer.close()"
   ]
  },
  {
   "cell_type": "code",
   "execution_count": 11,
   "id": "dcf64006",
   "metadata": {},
   "outputs": [
    {
     "data": {
      "text/plain": [
       "True"
      ]
     },
     "execution_count": 11,
     "metadata": {},
     "output_type": "execute_result"
    }
   ],
   "source": []
  }
 ],
 "metadata": {
  "kernelspec": {
   "display_name": "Python 3",
   "language": "python",
   "name": "python3"
  },
  "language_info": {
   "codemirror_mode": {
    "name": "ipython",
    "version": 3
   },
   "file_extension": ".py",
   "mimetype": "text/x-python",
   "name": "python",
   "nbconvert_exporter": "python",
   "pygments_lexer": "ipython3",
   "version": "3.8.5"
  }
 },
 "nbformat": 4,
 "nbformat_minor": 5
}
